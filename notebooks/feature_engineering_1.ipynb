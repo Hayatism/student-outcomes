{
 "cells": [
  {
   "cell_type": "code",
   "execution_count": 1,
   "metadata": {},
   "outputs": [],
   "source": [
    "import pandas as pd\n",
    "import numpy as np\n",
    "import seaborn as sns\n",
    "import matplotlib.pyplot as plt\n",
    "from sklearn.model_selection import train_test_split\n",
    "from sklearn.ensemble import RandomForestRegressor\n",
    "from yellowbrick.regressor import residuals_plot\n",
    "%matplotlib inline\n",
    "\n",
    "from sklearn.pipeline import Pipeline\n",
    "from sklearn.preprocessing import StandardScaler,PolynomialFeatures\n",
    "from feature_engine.encoding import OneHotEncoder\n",
    "from feature_engine.wrappers import SklearnTransformerWrapper\n",
    "from sklearn.metrics import mean_squared_error"
   ]
  },
  {
   "cell_type": "code",
   "execution_count": 2,
   "metadata": {},
   "outputs": [],
   "source": [
    "pd.set_option(\"display.max_columns\", 99)\n",
    "df = pd.read_csv(\"../data/mergeB_for_modeling.csv\")\n",
    "df.head(n=3)\n",
    "\n",
    "# Title case the feature for better display and create the visualizer\n",
    "labels = list(map(lambda s: s.title(), df.columns.tolist()))\n",
    "df.columns = labels"
   ]
  },
  {
   "cell_type": "markdown",
   "metadata": {},
   "source": [
    "# New Feature Creation"
   ]
  },
  {
   "cell_type": "code",
   "execution_count": 3,
   "metadata": {},
   "outputs": [],
   "source": [
    "# Create features by dividing one column by another or subtracting one column from another.\n",
    "\n",
    "df[\"Teacher_Ratio1\"] = df.Teachers_Fte / df.Enrollment\n",
    "df[\"Teacher_Ratio2\"] = df.Teachers_Fte / df.All_Cohort_\n",
    "df[\"Num_Grades\"] = df.Highest_Grade_Offered - df.Lowest_Grade_Offered\n"
   ]
  },
  {
   "cell_type": "code",
   "execution_count": 4,
   "metadata": {},
   "outputs": [
    {
     "data": {
      "text/plain": [
       "Year                             int64\n",
       "Stnam                           object\n",
       "Fipst                            int64\n",
       "Leaid                            int64\n",
       "Leanm                           object\n",
       "Ncessch                          int64\n",
       "Schnam                          object\n",
       "All_Cohort_                      int64\n",
       "School_Name                     object\n",
       "Zip_Mailing                    float64\n",
       "Zip_Location                   float64\n",
       "Latitude                       float64\n",
       "Urban_Centric_Locale           float64\n",
       "County_Code                    float64\n",
       "School_Level                   float64\n",
       "School_Type                    float64\n",
       "Lowest_Grade_Offered           float64\n",
       "Highest_Grade_Offered          float64\n",
       "Title_I_Status                 float64\n",
       "Title_I_Eligible               float64\n",
       "Charter                        float64\n",
       "Magnet                         float64\n",
       "Virtual                        float64\n",
       "Teachers_Fte                   float64\n",
       "Free_Lunch                     float64\n",
       "Reduced_Price_Lunch            float64\n",
       "Free_Or_Reduced_Price_Lunch    float64\n",
       "Enrollment                     float64\n",
       "Ungrade_Cedp                   float64\n",
       "Math_Pct_Part                  float64\n",
       "Rla_Pct_Part                   float64\n",
       "All_Rate_                      float64\n",
       "Area_Name                       object\n",
       "Rural_Urban_Continuum_Code     float64\n",
       "Urban_Influence_Code           float64\n",
       "Metro_Or_Not                   float64\n",
       "Civilian_Labor_Force           float64\n",
       "Unemployment_Rate              float64\n",
       "Teacher_Ratio1                 float64\n",
       "Teacher_Ratio2                 float64\n",
       "Num_Grades                     float64\n",
       "dtype: object"
      ]
     },
     "execution_count": 4,
     "metadata": {},
     "output_type": "execute_result"
    }
   ],
   "source": [
    "df.dtypes"
   ]
  },
  {
   "cell_type": "markdown",
   "metadata": {},
   "source": [
    "# Prepare dataframes and train-test split for modeling"
   ]
  },
  {
   "cell_type": "code",
   "execution_count": 5,
   "metadata": {},
   "outputs": [],
   "source": [
    "def Make_X_y(df : pd.DataFrame):\n",
    "    \"\"\"\n",
    "    # Subset to features used in modeling. \n",
    "    # Tag categoricals to the pandas type categorical. \n",
    "    \"\"\"\n",
    "\n",
    "    X = df.copy()\n",
    "\n",
    "    X.drop(\n",
    "        [\n",
    "            \"Stnam\",\n",
    "            \"Leanm\",\n",
    "            \"Ncessch\",\n",
    "            \"Schnam\",\n",
    "            \"School_Name\",\n",
    "            \"Zip_Mailing\",\n",
    "            \"Leaid\",\n",
    "            \"Zip_Location\",\n",
    "            \"County_Code\",\n",
    "            \"Fipst\",\n",
    "            \"Area_Name\",\n",
    "            \"Year\",\n",
    "        ],\n",
    "        inplace=True,\n",
    "        axis=1,\n",
    "    )\n",
    "\n",
    "\n",
    "    y = X.pop(\"All_Rate_\")\n",
    "\n",
    "    # Tag categoricals so that they can be treated properly by the modeling packages\n",
    "    categoricals =['Urban_Centric_Locale', 'School_Level', 'School_Type', 'Title_I_Status', 'Title_I_Eligible', 'Charter', 'Magnet', 'Virtual', 'Ungrade_Cedp', 'Rural_Urban_Continuum_Code', 'Urban_Influence_Code', 'Metro_Or_Not']\n",
    "\n",
    "    # Convert categoricals to the pandas type 'category'\n",
    "    for col in categoricals:\n",
    "        X[col] = X[col].astype(\"category\")\n",
    "\n",
    "    # Create train-test split\n",
    "    Xtrain, Xtest, ytrain, ytest = train_test_split(\n",
    "        X, y, test_size=0.30, stratify=y, random_state=42\n",
    "    )\n",
    "    return X, y, Xtrain, Xtest, ytrain, ytest\n",
    "\n"
   ]
  },
  {
   "cell_type": "code",
   "execution_count": 6,
   "metadata": {},
   "outputs": [
    {
     "data": {
      "text/plain": [
       "All_Cohort_                       int64\n",
       "Latitude                        float64\n",
       "Urban_Centric_Locale           category\n",
       "School_Level                   category\n",
       "School_Type                    category\n",
       "Lowest_Grade_Offered            float64\n",
       "Highest_Grade_Offered           float64\n",
       "Title_I_Status                 category\n",
       "Title_I_Eligible               category\n",
       "Charter                        category\n",
       "Magnet                         category\n",
       "Virtual                        category\n",
       "Teachers_Fte                    float64\n",
       "Free_Lunch                      float64\n",
       "Reduced_Price_Lunch             float64\n",
       "Free_Or_Reduced_Price_Lunch     float64\n",
       "Enrollment                      float64\n",
       "Ungrade_Cedp                   category\n",
       "Math_Pct_Part                   float64\n",
       "Rla_Pct_Part                    float64\n",
       "Rural_Urban_Continuum_Code     category\n",
       "Urban_Influence_Code           category\n",
       "Metro_Or_Not                   category\n",
       "Civilian_Labor_Force            float64\n",
       "Unemployment_Rate               float64\n",
       "Teacher_Ratio1                  float64\n",
       "Teacher_Ratio2                  float64\n",
       "Num_Grades                      float64\n",
       "dtype: object"
      ]
     },
     "execution_count": 6,
     "metadata": {},
     "output_type": "execute_result"
    }
   ],
   "source": [
    "X, y, Xtrain, Xtest, ytrain, ytest = Make_X_y(df)\n",
    "pd.set_option(\"display.max_rows\", 999)\n",
    "X.dtypes"
   ]
  },
  {
   "cell_type": "code",
   "execution_count": 7,
   "metadata": {},
   "outputs": [
    {
     "data": {
      "text/html": [
       "<div>\n",
       "<style scoped>\n",
       "    .dataframe tbody tr th:only-of-type {\n",
       "        vertical-align: middle;\n",
       "    }\n",
       "\n",
       "    .dataframe tbody tr th {\n",
       "        vertical-align: top;\n",
       "    }\n",
       "\n",
       "    .dataframe thead th {\n",
       "        text-align: right;\n",
       "    }\n",
       "</style>\n",
       "<table border=\"1\" class=\"dataframe\">\n",
       "  <thead>\n",
       "    <tr style=\"text-align: right;\">\n",
       "      <th></th>\n",
       "      <th>All_Cohort_</th>\n",
       "      <th>Latitude</th>\n",
       "      <th>Urban_Centric_Locale</th>\n",
       "      <th>School_Level</th>\n",
       "      <th>School_Type</th>\n",
       "      <th>Lowest_Grade_Offered</th>\n",
       "      <th>Highest_Grade_Offered</th>\n",
       "      <th>Title_I_Status</th>\n",
       "      <th>Title_I_Eligible</th>\n",
       "      <th>Charter</th>\n",
       "      <th>Magnet</th>\n",
       "      <th>Virtual</th>\n",
       "      <th>Teachers_Fte</th>\n",
       "      <th>Free_Lunch</th>\n",
       "      <th>Reduced_Price_Lunch</th>\n",
       "      <th>Free_Or_Reduced_Price_Lunch</th>\n",
       "      <th>Enrollment</th>\n",
       "      <th>Ungrade_Cedp</th>\n",
       "      <th>Math_Pct_Part</th>\n",
       "      <th>Rla_Pct_Part</th>\n",
       "      <th>Rural_Urban_Continuum_Code</th>\n",
       "      <th>Urban_Influence_Code</th>\n",
       "      <th>Metro_Or_Not</th>\n",
       "      <th>Civilian_Labor_Force</th>\n",
       "      <th>Unemployment_Rate</th>\n",
       "      <th>Teacher_Ratio1</th>\n",
       "      <th>Teacher_Ratio2</th>\n",
       "      <th>Num_Grades</th>\n",
       "    </tr>\n",
       "  </thead>\n",
       "  <tbody>\n",
       "    <tr>\n",
       "      <th>28263</th>\n",
       "      <td>18</td>\n",
       "      <td>39.80761</td>\n",
       "      <td>43.0</td>\n",
       "      <td>3.0</td>\n",
       "      <td>1.0</td>\n",
       "      <td>7.0</td>\n",
       "      <td>12.0</td>\n",
       "      <td>1.0</td>\n",
       "      <td>1.0</td>\n",
       "      <td>0.0</td>\n",
       "      <td>0.0</td>\n",
       "      <td>0.0</td>\n",
       "      <td>18.000000</td>\n",
       "      <td>58.0</td>\n",
       "      <td>21.0</td>\n",
       "      <td>79.0</td>\n",
       "      <td>146.0</td>\n",
       "      <td>0.0</td>\n",
       "      <td>90.0</td>\n",
       "      <td>90.0</td>\n",
       "      <td>9.0</td>\n",
       "      <td>12.0</td>\n",
       "      <td>0.0</td>\n",
       "      <td>1518.0</td>\n",
       "      <td>2.4</td>\n",
       "      <td>0.123288</td>\n",
       "      <td>1.00000</td>\n",
       "      <td>5.0</td>\n",
       "    </tr>\n",
       "    <tr>\n",
       "      <th>12172</th>\n",
       "      <td>40</td>\n",
       "      <td>35.35770</td>\n",
       "      <td>42.0</td>\n",
       "      <td>3.0</td>\n",
       "      <td>1.0</td>\n",
       "      <td>7.0</td>\n",
       "      <td>12.0</td>\n",
       "      <td>5.0</td>\n",
       "      <td>1.0</td>\n",
       "      <td>0.0</td>\n",
       "      <td>0.0</td>\n",
       "      <td>0.0</td>\n",
       "      <td>32.709999</td>\n",
       "      <td>130.0</td>\n",
       "      <td>49.0</td>\n",
       "      <td>179.0</td>\n",
       "      <td>277.0</td>\n",
       "      <td>0.0</td>\n",
       "      <td>97.5</td>\n",
       "      <td>95.0</td>\n",
       "      <td>4.0</td>\n",
       "      <td>5.0</td>\n",
       "      <td>0.0</td>\n",
       "      <td>35304.0</td>\n",
       "      <td>7.6</td>\n",
       "      <td>0.118087</td>\n",
       "      <td>0.81775</td>\n",
       "      <td>5.0</td>\n",
       "    </tr>\n",
       "  </tbody>\n",
       "</table>\n",
       "</div>"
      ],
      "text/plain": [
       "       All_Cohort_  Latitude Urban_Centric_Locale School_Level School_Type  \\\n",
       "28263           18  39.80761                 43.0          3.0         1.0   \n",
       "12172           40  35.35770                 42.0          3.0         1.0   \n",
       "\n",
       "       Lowest_Grade_Offered  Highest_Grade_Offered Title_I_Status  \\\n",
       "28263                   7.0                   12.0            1.0   \n",
       "12172                   7.0                   12.0            5.0   \n",
       "\n",
       "      Title_I_Eligible Charter Magnet Virtual  Teachers_Fte  Free_Lunch  \\\n",
       "28263              1.0     0.0    0.0     0.0     18.000000        58.0   \n",
       "12172              1.0     0.0    0.0     0.0     32.709999       130.0   \n",
       "\n",
       "       Reduced_Price_Lunch  Free_Or_Reduced_Price_Lunch  Enrollment  \\\n",
       "28263                 21.0                         79.0       146.0   \n",
       "12172                 49.0                        179.0       277.0   \n",
       "\n",
       "      Ungrade_Cedp  Math_Pct_Part  Rla_Pct_Part Rural_Urban_Continuum_Code  \\\n",
       "28263          0.0           90.0          90.0                        9.0   \n",
       "12172          0.0           97.5          95.0                        4.0   \n",
       "\n",
       "      Urban_Influence_Code Metro_Or_Not  Civilian_Labor_Force  \\\n",
       "28263                 12.0          0.0                1518.0   \n",
       "12172                  5.0          0.0               35304.0   \n",
       "\n",
       "       Unemployment_Rate  Teacher_Ratio1  Teacher_Ratio2  Num_Grades  \n",
       "28263                2.4        0.123288         1.00000         5.0  \n",
       "12172                7.6        0.118087         0.81775         5.0  "
      ]
     },
     "execution_count": 7,
     "metadata": {},
     "output_type": "execute_result"
    }
   ],
   "source": [
    "Xtrain.head(n=2)\n"
   ]
  },
  {
   "cell_type": "markdown",
   "metadata": {},
   "source": [
    "# Hyper-parameter tuning of RandomForest models "
   ]
  },
  {
   "cell_type": "code",
   "execution_count": 8,
   "metadata": {},
   "outputs": [],
   "source": [
    "# Create and run hyperparameter tuning pipeline\n",
    "from sklearn.model_selection import GridSearchCV\n",
    "import warnings\n",
    "import joblib\n",
    "import os\n",
    "\n",
    "warnings.simplefilter(action=\"ignore\", category=pd.errors.PerformanceWarning)\n",
    "param_grid = {\n",
    "    \"rf__n_estimators\": [500],\n",
    "    \"rf__max_features\": [55,60,65],\n",
    "    \"rf__max_depth\": [90, 100],\n",
    "    \"rf__ccp_alpha\": [0.0],\n",
    "    \"rf__random_state\": [42],\n",
    "}\n",
    "pipe = Pipeline(\n",
    "    steps=[\n",
    "        (\"onehot\", OneHotEncoder(drop_last=True, variables=Xtrain.select_dtypes(include='category').columns.tolist())),\n",
    "        (\"rf\", RandomForestRegressor()),\n",
    "    ]\n",
    ")\n",
    "\n",
    "# Load model from disk instead of running again.\n",
    "clf = {}\n",
    "local_model_path = (\n",
    "    \"../../student_outcome_saved_models/model_datasetB_random_forest_gridsearch2.pkl\"\n",
    ")\n",
    "if os.path.exists(local_model_path):\n",
    "    clf = joblib.load(local_model_path)\n",
    "else:\n",
    "    clf = GridSearchCV(\n",
    "        pipe,\n",
    "        param_grid,\n",
    "        n_jobs=4,\n",
    "        verbose=3,\n",
    "        cv=4,\n",
    "        scoring=\"r2\",\n",
    "    )\n",
    "    clf.fit(Xtrain, ytrain)\n",
    "    joblib.dump(clf, local_model_path)\n",
    "\n",
    "del clf"
   ]
  },
  {
   "cell_type": "markdown",
   "metadata": {},
   "source": [
    "## Best parameters from GridSearch\n",
    "    * First round: {'rf__ccp_alpha': 0.0, 'rf__max_depth': 100, 'rf__max_features': 60, 'rf__n_estimators': 500, 'rf__random_state': 42}\n",
    "    * Second round: {'rf__ccp_alpha': 0.0, 'rf__max_depth': 90, 'rf__max_features': 55, 'rf__n_estimators': 500, 'rf__random_state': 42}"
   ]
  },
  {
   "cell_type": "markdown",
   "metadata": {},
   "source": [
    "# Convert To Classification Problem"
   ]
  },
  {
   "cell_type": "code",
   "execution_count": 9,
   "metadata": {},
   "outputs": [
    {
     "name": "stdout",
     "output_type": "stream",
     "text": [
      "Bins: [84.5 92. ]\n"
     ]
    },
    {
     "data": {
      "text/plain": [
       "<seaborn.axisgrid.FacetGrid at 0x7feffa865600>"
      ]
     },
     "execution_count": 9,
     "metadata": {},
     "output_type": "execute_result"
    },
    {
     "data": {
      "image/png": "[encoded data removed]",
      "text/plain": [
       "<Figure size 360x360 with 1 Axes>"
      ]
     },
     "metadata": {
      "needs_background": "light"
     },
     "output_type": "display_data"
    },
    {
     "data": {
      "image/png": "[encoded data removed]",
      "text/plain": [
       "<Figure size 360x360 with 1 Axes>"
      ]
     },
     "metadata": {
      "needs_background": "light"
     },
     "output_type": "display_data"
    }
   ],
   "source": [
    "bins = np.percentile(ytrain,[33,66])\n",
    "ytrain_binned = np.digitize(ytrain,bins=bins) \n",
    "ytest_binned = np.digitize(ytest,bins=bins) \n",
    "print(\"Bins:\", bins)\n",
    "sns.displot(ytrain,kind='kde',label=\"continuous\")\n",
    "sns.displot(ytrain_binned,kind='kde',label=\"33,66 bins\")\n"
   ]
  },
  {
   "cell_type": "markdown",
   "metadata": {},
   "source": [
    "# Perform Classification with 3 Classes"
   ]
  },
  {
   "cell_type": "code",
   "execution_count": 10,
   "metadata": {},
   "outputs": [
    {
     "data": {
      "image/png": "[encoded data removed]",
      "text/plain": [
       "<Figure size 432x288 with 1 Axes>"
      ]
     },
     "metadata": {
      "needs_background": "light"
     },
     "output_type": "display_data"
    },
    {
     "name": "stdout",
     "output_type": "stream",
     "text": [
      "0.7494222647222887\n"
     ]
    }
   ],
   "source": [
    "from sklearn.ensemble import RandomForestClassifier\n",
    "from yellowbrick.classifier import ConfusionMatrix\n",
    "\n",
    "pipe = Pipeline(\n",
    "    steps=[\n",
    "        (\"onehot\", OneHotEncoder(drop_last=True, variables=Xtrain.select_dtypes(include='category').columns.tolist())),\n",
    "        (\n",
    "            \"rf\",\n",
    "            RandomForestClassifier(\n",
    "                n_jobs=2,\n",
    "                max_features=55,\n",
    "                n_estimators=500,\n",
    "                max_depth=90,\n",
    "                random_state=42,\n",
    "            ),\n",
    "        ),\n",
    "    ]\n",
    ")\n",
    "conf = ConfusionMatrix(pipe,classes=(0,1,2))\n",
    "conf.fit(Xtrain,ytrain_binned)\n",
    "\n",
    "conf.score(Xtest,ytest_binned)\n",
    "conf.show()\n",
    "print(conf.score_)"
   ]
  },
  {
   "cell_type": "markdown",
   "metadata": {},
   "source": [
    "# Perform classification with 2 classes"
   ]
  },
  {
   "cell_type": "code",
   "execution_count": null,
   "metadata": {},
   "outputs": [
    {
     "name": "stdout",
     "output_type": "stream",
     "text": [
      "Bins: [90.]\n"
     ]
    },
    {
     "data": {
      "text/plain": [
       "<seaborn.axisgrid.FacetGrid at 0x7fef64cf4d30>"
      ]
     },
     "execution_count": 12,
     "metadata": {},
     "output_type": "execute_result"
    },
    {
     "data": {
      "image/png": "[encoded data removed]",
      "text/plain": [
       "<Figure size 360x360 with 1 Axes>"
      ]
     },
     "metadata": {
      "needs_background": "light"
     },
     "output_type": "display_data"
    },
    {
     "data": {
      "image/png": "[encoded data removed]",
      "text/plain": [
       "<Figure size 360x360 with 1 Axes>"
      ]
     },
     "metadata": {
      "needs_background": "light"
     },
     "output_type": "display_data"
    }
   ],
   "source": [
    "bins = np.percentile(ytrain,[50])\n",
    "ytrain_binned = np.digitize(ytrain,bins=bins) \n",
    "ytest_binned = np.digitize(ytest,bins=bins) \n",
    "y_binned = np.digitize(y,bins=bins)\n",
    "print(\"Bins:\", bins)\n",
    "sns.displot(ytrain,kind='kde',label=\"continuous\")\n",
    "sns.displot(ytrain_binned,kind='kde')"
   ]
  },
  {
   "cell_type": "code",
   "execution_count": 13,
   "metadata": {},
   "outputs": [
    {
     "data": {
      "image/png": "[encoded data removed]",
      "text/plain": [
       "<Figure size 432x288 with 1 Axes>"
      ]
     },
     "metadata": {
      "needs_background": "light"
     },
     "output_type": "display_data"
    },
    {
     "name": "stdout",
     "output_type": "stream",
     "text": [
      "0.825364570882142\n"
     ]
    }
   ],
   "source": [
    "from sklearn.ensemble import RandomForestClassifier\n",
    "from yellowbrick.classifier import ConfusionMatrix\n",
    "\n",
    "pipe = Pipeline(\n",
    "    steps=[\n",
    "        (\"onehot\", OneHotEncoder(drop_last=True, variables=Xtrain.select_dtypes(include='category').columns.tolist())),\n",
    "        (\n",
    "            \"rf\",\n",
    "            RandomForestClassifier(\n",
    "                n_jobs=4,\n",
    "                max_features=55,\n",
    "                n_estimators=500,\n",
    "                max_depth=90,\n",
    "                random_state=42,\n",
    "            ),\n",
    "        ),\n",
    "    ]\n",
    ")\n",
    "conf = ConfusionMatrix(pipe,classes=(\"<90\",\">=90\"))\n",
    "conf.fit(Xtrain,ytrain_binned)\n",
    "\n",
    "conf.score(Xtest,ytest_binned)\n",
    "conf.show()\n",
    "print(conf.score_)"
   ]
  },
  {
   "cell_type": "markdown",
   "metadata": {},
   "source": [
    "# Test an SVM model on the 2 class problem"
   ]
  },
  {
   "cell_type": "code",
   "execution_count": 14,
   "metadata": {},
   "outputs": [
    {
     "ename": "KeyboardInterrupt",
     "evalue": "",
     "output_type": "error",
     "traceback": [
      "\u001b[0;31m---------------------------------------------------------------------------\u001b[0m",
      "\u001b[0;31mKeyboardInterrupt\u001b[0m                         Traceback (most recent call last)",
      "\u001b[1;32m/home/bb/wrk/student-outcomes/notebooks/feature_engineering_1.ipynb Cell 21\u001b[0m in \u001b[0;36m<cell line: 23>\u001b[0;34m()\u001b[0m\n\u001b[1;32m     <a href='vscode-notebook-cell:/home/bb/wrk/student-outcomes/notebooks/feature_engineering_1.ipynb#X56sZmlsZQ%3D%3D?line=19'>20</a>\u001b[0m conf \u001b[39m=\u001b[39m ConfusionMatrix(pipe,classes\u001b[39m=\u001b[39m(\u001b[39m\"\u001b[39m\u001b[39m<90\u001b[39m\u001b[39m\"\u001b[39m,\u001b[39m\"\u001b[39m\u001b[39m>=90\u001b[39m\u001b[39m\"\u001b[39m))\n\u001b[1;32m     <a href='vscode-notebook-cell:/home/bb/wrk/student-outcomes/notebooks/feature_engineering_1.ipynb#X56sZmlsZQ%3D%3D?line=20'>21</a>\u001b[0m conf\u001b[39m.\u001b[39mfit(Xtrain,ytrain_binned)\n\u001b[0;32m---> <a href='vscode-notebook-cell:/home/bb/wrk/student-outcomes/notebooks/feature_engineering_1.ipynb#X56sZmlsZQ%3D%3D?line=22'>23</a>\u001b[0m conf\u001b[39m.\u001b[39;49mscore(Xtest,ytest_binned)\n\u001b[1;32m     <a href='vscode-notebook-cell:/home/bb/wrk/student-outcomes/notebooks/feature_engineering_1.ipynb#X56sZmlsZQ%3D%3D?line=23'>24</a>\u001b[0m conf\u001b[39m.\u001b[39mshow()\n\u001b[1;32m     <a href='vscode-notebook-cell:/home/bb/wrk/student-outcomes/notebooks/feature_engineering_1.ipynb#X56sZmlsZQ%3D%3D?line=24'>25</a>\u001b[0m \u001b[39mprint\u001b[39m(conf\u001b[39m.\u001b[39mscore_)\n",
      "File \u001b[0;32m~/miniconda3/envs/my-env/lib/python3.10/site-packages/yellowbrick/classifier/confusion_matrix.py:194\u001b[0m, in \u001b[0;36mConfusionMatrix.score\u001b[0;34m(self, X, y)\u001b[0m\n\u001b[1;32m    174\u001b[0m \u001b[39m\"\"\"\u001b[39;00m\n\u001b[1;32m    175\u001b[0m \u001b[39mDraws a confusion matrix based on the test data supplied by comparing\u001b[39;00m\n\u001b[1;32m    176\u001b[0m \u001b[39mpredictions on instances X with the true values specified by the\u001b[39;00m\n\u001b[0;32m   (...)\u001b[0m\n\u001b[1;32m    191\u001b[0m \u001b[39m    Global accuracy score\u001b[39;00m\n\u001b[1;32m    192\u001b[0m \u001b[39m\"\"\"\u001b[39;00m\n\u001b[1;32m    193\u001b[0m \u001b[39m# Call super to check if fitted and to compute self.score_\u001b[39;00m\n\u001b[0;32m--> 194\u001b[0m \u001b[39msuper\u001b[39;49m(ConfusionMatrix, \u001b[39mself\u001b[39;49m)\u001b[39m.\u001b[39;49mscore(X, y)\n\u001b[1;32m    196\u001b[0m \u001b[39m# Create predictions from X (will raise not fitted error)\u001b[39;00m\n\u001b[1;32m    197\u001b[0m y_pred \u001b[39m=\u001b[39m \u001b[39mself\u001b[39m\u001b[39m.\u001b[39mpredict(X)\n",
      "File \u001b[0;32m~/miniconda3/envs/my-env/lib/python3.10/site-packages/yellowbrick/classifier/base.py:238\u001b[0m, in \u001b[0;36mClassificationScoreVisualizer.score\u001b[0;34m(self, X, y)\u001b[0m\n\u001b[1;32m    232\u001b[0m     warnings\u001b[39m.\u001b[39mwarn(\n\u001b[1;32m    233\u001b[0m         \u001b[39m\"\u001b[39m\u001b[39mcould not determine class_counts_ from previously fitted classifier\u001b[39m\u001b[39m\"\u001b[39m,\n\u001b[1;32m    234\u001b[0m         YellowbrickWarning,\n\u001b[1;32m    235\u001b[0m     )\n\u001b[1;32m    237\u001b[0m \u001b[39m# This method implements ScoreVisualizer (do not call super).\u001b[39;00m\n\u001b[0;32m--> 238\u001b[0m \u001b[39mself\u001b[39m\u001b[39m.\u001b[39mscore_ \u001b[39m=\u001b[39m \u001b[39mself\u001b[39;49m\u001b[39m.\u001b[39;49mestimator\u001b[39m.\u001b[39;49mscore(X, y)\n\u001b[1;32m    239\u001b[0m \u001b[39mreturn\u001b[39;00m \u001b[39mself\u001b[39m\u001b[39m.\u001b[39mscore_\n",
      "File \u001b[0;32m~/miniconda3/envs/my-env/lib/python3.10/site-packages/sklearn/pipeline.py:699\u001b[0m, in \u001b[0;36mPipeline.score\u001b[0;34m(self, X, y, sample_weight)\u001b[0m\n\u001b[1;32m    697\u001b[0m \u001b[39mif\u001b[39;00m sample_weight \u001b[39mis\u001b[39;00m \u001b[39mnot\u001b[39;00m \u001b[39mNone\u001b[39;00m:\n\u001b[1;32m    698\u001b[0m     score_params[\u001b[39m\"\u001b[39m\u001b[39msample_weight\u001b[39m\u001b[39m\"\u001b[39m] \u001b[39m=\u001b[39m sample_weight\n\u001b[0;32m--> 699\u001b[0m \u001b[39mreturn\u001b[39;00m \u001b[39mself\u001b[39;49m\u001b[39m.\u001b[39;49msteps[\u001b[39m-\u001b[39;49m\u001b[39m1\u001b[39;49m][\u001b[39m1\u001b[39;49m]\u001b[39m.\u001b[39;49mscore(Xt, y, \u001b[39m*\u001b[39;49m\u001b[39m*\u001b[39;49mscore_params)\n",
      "File \u001b[0;32m~/miniconda3/envs/my-env/lib/python3.10/site-packages/sklearn/base.py:666\u001b[0m, in \u001b[0;36mClassifierMixin.score\u001b[0;34m(self, X, y, sample_weight)\u001b[0m\n\u001b[1;32m    641\u001b[0m \u001b[39m\"\"\"\u001b[39;00m\n\u001b[1;32m    642\u001b[0m \u001b[39mReturn the mean accuracy on the given test data and labels.\u001b[39;00m\n\u001b[1;32m    643\u001b[0m \n\u001b[0;32m   (...)\u001b[0m\n\u001b[1;32m    662\u001b[0m \u001b[39m    Mean accuracy of ``self.predict(X)`` wrt. `y`.\u001b[39;00m\n\u001b[1;32m    663\u001b[0m \u001b[39m\"\"\"\u001b[39;00m\n\u001b[1;32m    664\u001b[0m \u001b[39mfrom\u001b[39;00m \u001b[39m.\u001b[39;00m\u001b[39mmetrics\u001b[39;00m \u001b[39mimport\u001b[39;00m accuracy_score\n\u001b[0;32m--> 666\u001b[0m \u001b[39mreturn\u001b[39;00m accuracy_score(y, \u001b[39mself\u001b[39;49m\u001b[39m.\u001b[39;49mpredict(X), sample_weight\u001b[39m=\u001b[39msample_weight)\n",
      "File \u001b[0;32m~/miniconda3/envs/my-env/lib/python3.10/site-packages/sklearn/svm/_base.py:810\u001b[0m, in \u001b[0;36mBaseSVC.predict\u001b[0;34m(self, X)\u001b[0m\n\u001b[1;32m    808\u001b[0m     y \u001b[39m=\u001b[39m np\u001b[39m.\u001b[39margmax(\u001b[39mself\u001b[39m\u001b[39m.\u001b[39mdecision_function(X), axis\u001b[39m=\u001b[39m\u001b[39m1\u001b[39m)\n\u001b[1;32m    809\u001b[0m \u001b[39melse\u001b[39;00m:\n\u001b[0;32m--> 810\u001b[0m     y \u001b[39m=\u001b[39m \u001b[39msuper\u001b[39;49m()\u001b[39m.\u001b[39;49mpredict(X)\n\u001b[1;32m    811\u001b[0m \u001b[39mreturn\u001b[39;00m \u001b[39mself\u001b[39m\u001b[39m.\u001b[39mclasses_\u001b[39m.\u001b[39mtake(np\u001b[39m.\u001b[39masarray(y, dtype\u001b[39m=\u001b[39mnp\u001b[39m.\u001b[39mintp))\n",
      "File \u001b[0;32m~/miniconda3/envs/my-env/lib/python3.10/site-packages/sklearn/svm/_base.py:435\u001b[0m, in \u001b[0;36mBaseLibSVM.predict\u001b[0;34m(self, X)\u001b[0m\n\u001b[1;32m    433\u001b[0m X \u001b[39m=\u001b[39m \u001b[39mself\u001b[39m\u001b[39m.\u001b[39m_validate_for_predict(X)\n\u001b[1;32m    434\u001b[0m predict \u001b[39m=\u001b[39m \u001b[39mself\u001b[39m\u001b[39m.\u001b[39m_sparse_predict \u001b[39mif\u001b[39;00m \u001b[39mself\u001b[39m\u001b[39m.\u001b[39m_sparse \u001b[39melse\u001b[39;00m \u001b[39mself\u001b[39m\u001b[39m.\u001b[39m_dense_predict\n\u001b[0;32m--> 435\u001b[0m \u001b[39mreturn\u001b[39;00m predict(X)\n",
      "File \u001b[0;32m~/miniconda3/envs/my-env/lib/python3.10/site-packages/sklearn/svm/_base.py:454\u001b[0m, in \u001b[0;36mBaseLibSVM._dense_predict\u001b[0;34m(self, X)\u001b[0m\n\u001b[1;32m    446\u001b[0m         \u001b[39mraise\u001b[39;00m \u001b[39mValueError\u001b[39;00m(\n\u001b[1;32m    447\u001b[0m             \u001b[39m\"\u001b[39m\u001b[39mX.shape[1] = \u001b[39m\u001b[39m%d\u001b[39;00m\u001b[39m should be equal to \u001b[39m\u001b[39m%d\u001b[39;00m\u001b[39m, \u001b[39m\u001b[39m\"\u001b[39m\n\u001b[1;32m    448\u001b[0m             \u001b[39m\"\u001b[39m\u001b[39mthe number of samples at training time\u001b[39m\u001b[39m\"\u001b[39m\n\u001b[1;32m    449\u001b[0m             \u001b[39m%\u001b[39m (X\u001b[39m.\u001b[39mshape[\u001b[39m1\u001b[39m], \u001b[39mself\u001b[39m\u001b[39m.\u001b[39mshape_fit_[\u001b[39m0\u001b[39m])\n\u001b[1;32m    450\u001b[0m         )\n\u001b[1;32m    452\u001b[0m svm_type \u001b[39m=\u001b[39m LIBSVM_IMPL\u001b[39m.\u001b[39mindex(\u001b[39mself\u001b[39m\u001b[39m.\u001b[39m_impl)\n\u001b[0;32m--> 454\u001b[0m \u001b[39mreturn\u001b[39;00m libsvm\u001b[39m.\u001b[39;49mpredict(\n\u001b[1;32m    455\u001b[0m     X,\n\u001b[1;32m    456\u001b[0m     \u001b[39mself\u001b[39;49m\u001b[39m.\u001b[39;49msupport_,\n\u001b[1;32m    457\u001b[0m     \u001b[39mself\u001b[39;49m\u001b[39m.\u001b[39;49msupport_vectors_,\n\u001b[1;32m    458\u001b[0m     \u001b[39mself\u001b[39;49m\u001b[39m.\u001b[39;49m_n_support,\n\u001b[1;32m    459\u001b[0m     \u001b[39mself\u001b[39;49m\u001b[39m.\u001b[39;49m_dual_coef_,\n\u001b[1;32m    460\u001b[0m     \u001b[39mself\u001b[39;49m\u001b[39m.\u001b[39;49m_intercept_,\n\u001b[1;32m    461\u001b[0m     \u001b[39mself\u001b[39;49m\u001b[39m.\u001b[39;49m_probA,\n\u001b[1;32m    462\u001b[0m     \u001b[39mself\u001b[39;49m\u001b[39m.\u001b[39;49m_probB,\n\u001b[1;32m    463\u001b[0m     svm_type\u001b[39m=\u001b[39;49msvm_type,\n\u001b[1;32m    464\u001b[0m     kernel\u001b[39m=\u001b[39;49mkernel,\n\u001b[1;32m    465\u001b[0m     degree\u001b[39m=\u001b[39;49m\u001b[39mself\u001b[39;49m\u001b[39m.\u001b[39;49mdegree,\n\u001b[1;32m    466\u001b[0m     coef0\u001b[39m=\u001b[39;49m\u001b[39mself\u001b[39;49m\u001b[39m.\u001b[39;49mcoef0,\n\u001b[1;32m    467\u001b[0m     gamma\u001b[39m=\u001b[39;49m\u001b[39mself\u001b[39;49m\u001b[39m.\u001b[39;49m_gamma,\n\u001b[1;32m    468\u001b[0m     cache_size\u001b[39m=\u001b[39;49m\u001b[39mself\u001b[39;49m\u001b[39m.\u001b[39;49mcache_size,\n\u001b[1;32m    469\u001b[0m )\n",
      "\u001b[0;31mKeyboardInterrupt\u001b[0m: "
     ]
    }
   ],
   "source": [
    "from sklearn.svm import SVC\n",
    "from yellowbrick.classifier import ConfusionMatrix\n",
    "\n",
    "scaler = SklearnTransformerWrapper(transformer=StandardScaler(), variables=Xtrain.select_dtypes(include=np.number).columns.tolist())\n",
    "\n",
    "pipe = Pipeline(\n",
    "    steps=[\n",
    "        (\"scaler\", scaler),\n",
    "        (\"onehot\", OneHotEncoder(drop_last=True, variables=Xtrain.select_dtypes(include='category').columns.tolist())),\n",
    "        (\n",
    "            \"rf\",\n",
    "            SVC(\n",
    "                C=1,\n",
    "                kernel=\"rbf\",\n",
    "                random_state=42,\n",
    "            ),\n",
    "        ),\n",
    "    ]\n",
    ")\n",
    "conf = ConfusionMatrix(pipe,classes=(\"<90\",\">=90\"))\n",
    "conf.fit(Xtrain,ytrain_binned)\n",
    "\n",
    "conf.score(Xtest,ytest_binned)\n",
    "conf.show()\n",
    "print(conf.score_)\n",
    "\n",
    "# SVC C=1, kernel=poly score=0.777\n",
    "# SVC C=1, kernel=rbf score=0.78"
   ]
  },
  {
   "cell_type": "markdown",
   "metadata": {},
   "source": [
    "# Recursive Feature Elimination"
   ]
  },
  {
   "cell_type": "code",
   "execution_count": 152,
   "metadata": {},
   "outputs": [
    {
     "name": "stdout",
     "output_type": "stream",
     "text": [
      "Number of features in X_onehotted (83658, 28)\n"
     ]
    }
   ],
   "source": [
    "from sklearn.tree import DecisionTreeRegressor\n",
    "from sklearn.tree import DecisionTreeClassifier\n",
    "\n",
    "from sklearn.model_selection import KFold \n",
    "import joblib\n",
    "import os\n",
    "from yellowbrick.model_selection import rfecv\n",
    "#  recursive_feature_elimination1 - decisiontreeregressor, max_depth 100, took 156 minutes, peaked at 2 features, 0.596\n",
    "#  recursive_feature_elimination2 - decisiontreeclassifier, default params, took 105 minutes, peaked at 54 features, 0.641\n",
    "#  recursive_feature_elimination3 - decisiontreeclassifier with whole X, cv 3, max_features 55, max depth 90, took 5 minutes, peaked at 7   features,  \n",
    "#  recursive_feature_elimination3 - decisiontreeclassifier with whole X, cv 5, default params, took 5 minutes, peaked at 7 features,  \n",
    "cv = KFold(3)\n",
    "\n",
    "onehotter = OneHotEncoder(drop_last=True,variables=X.select_dtypes(include='category').columns.tolist())\n",
    "X_onehotted = onehotter.fit_transform(X)\n",
    "print(\"Number of features in X_onehotted\", X.shape)\n",
    "\n",
    "# Load visualizer from disk instead of running again.\n",
    "visualizer = {}\n",
    "local_file = (\n",
    "    \"../../student_outcome_saved_models/recursive_feature_elimination4.pkl\"\n",
    ")\n",
    "if os.path.exists(local_file):\n",
    "    visualizer = joblib.load(local_file)\n",
    "else:\n",
    "    visualizer = rfecv(DecisionTreeClassifier(max_features=55,max_depth=90),step=2, X=X, y=y_binned, cv=cv,scoring='f1_weighted')\n",
    "    joblib.dump(visualizer, local_file)\n"
   ]
  },
  {
   "cell_type": "markdown",
   "metadata": {},
   "source": [
    "# Remove unhelpful features"
   ]
  },
  {
   "cell_type": "code",
   "execution_count": 139,
   "metadata": {},
   "outputs": [
    {
     "data": {
      "text/plain": [
       "(28, 69)"
      ]
     },
     "execution_count": 139,
     "metadata": {},
     "output_type": "execute_result"
    }
   ],
   "source": []
  },
  {
   "cell_type": "markdown",
   "metadata": {},
   "source": []
  },
  {
   "cell_type": "code",
   "execution_count": null,
   "metadata": {},
   "outputs": [],
   "source": [
    "# Print out best parameters\n",
    "print(clf.best_params_)\n",
    "clf.cv_results_\n",
    "del clf\n"
   ]
  },
  {
   "cell_type": "code",
   "execution_count": null,
   "metadata": {},
   "outputs": [],
   "source": [
    "clf.best_estimator_"
   ]
  },
  {
   "cell_type": "markdown",
   "metadata": {},
   "source": [
    "# Reduce number of features\n",
    "* Reduces modeling time\n",
    "* Improves interpretability\n",
    "* Prevents overfitting to create a more general model"
   ]
  },
  {
   "cell_type": "code",
   "execution_count": null,
   "metadata": {},
   "outputs": [],
   "source": [
    "# Combine top X features from RandomForest and Polynomial Lasso\n",
    "df.columns = labels = list(map(lambda s: s.title(), df.columns.tolist()))\n",
    "\n",
    "top_features_rf = list(dict(sorted(list(zip(viz_rf.feature_importances_,viz_rf.features_)),reverse=True)).values())\n",
    "top_features_rf\n",
    "\n",
    "features_to_drop = []\n",
    "for col in df.columns:\n",
    "    if col not in \" \".join(top_features_rf):\n",
    "        features_to_drop += [col]\n",
    "features_to_drop.remove(\"All_Rate_\")\n",
    "features_to_drop.remove(\"Year\")\n",
    "features_to_drop.remove(\"Ncessch\")\n",
    "features_to_drop.remove(\"Schnam\")\n",
    "print(\"Features dropped:\",features_to_drop)\n",
    "df.drop(features_to_drop,inplace=True,axis=1)\n",
    "df.columns"
   ]
  },
  {
   "cell_type": "markdown",
   "metadata": {},
   "source": [
    "# Feature Visualization "
   ]
  },
  {
   "cell_type": "code",
   "execution_count": null,
   "metadata": {},
   "outputs": [],
   "source": [
    "# Rad viz using equal sized blocked\n",
    "# Rad viz using percentile\n",
    "\n",
    "\n",
    "from yellowbrick.features import Rank2D\n",
    "from yellowbrick.features import RadViz\n",
    "from yellowbrick.features import ParallelCoordinates\n",
    "\n",
    "visualizer = Rank2D(algorithm='covariance', features=(X).columns.tolist(), size=(1080, 720))\n",
    "visualizer.fit(X, y)\n",
    "visualizer.transform(X)\n",
    "visualizer.show()\n",
    "\n",
    "visualizer = RadViz(classes=None,alpha=0.5, features=features, size=(1080, 720))\n",
    "visualizer.fit(Xtrain[features], ytrain_classes)\n",
    "visualizer.transform(Xtrain[features])\n",
    "visualizer.show()"
   ]
  },
  {
   "cell_type": "code",
   "execution_count": null,
   "metadata": {},
   "outputs": [],
   "source": [
    "df.to_csv(\"../data/mergeB_for_modeling_features_engineered.csv\", index=False)"
   ]
  },
  {
   "cell_type": "code",
   "execution_count": null,
   "metadata": {},
   "outputs": [],
   "source": []
  }
 ],
 "metadata": {
  "kernelspec": {
   "display_name": "Python 3.10.5 ('my-env')",
   "language": "python",
   "name": "python3"
  },
  "language_info": {
   "codemirror_mode": {
    "name": "ipython",
    "version": 3
   },
   "file_extension": ".py",
   "mimetype": "text/x-python",
   "name": "python",
   "nbconvert_exporter": "python",
   "pygments_lexer": "ipython3",
   "version": "3.10.5"
  },
  "vscode": {
   "interpreter": {
    "hash": "d474be476f0a6db94789ad08b16ede00cb8654a4c727ed769fba79dc07ed6ebd"
   }
  }
 },
 "nbformat": 4,
 "nbformat_minor": 2
}
