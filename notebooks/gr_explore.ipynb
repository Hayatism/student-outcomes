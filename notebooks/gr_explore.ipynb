{
 "cells": [
  {
   "cell_type": "markdown",
   "metadata": {},
   "source": [
    "### Ingest EDFacts Graduation Rate Data for 2009\n",
    "\n",
    "Data sources:  \n",
    "https://www2.ed.gov/about/inits/ed/edfacts/data-files/acgr-sch-sy2018-19-wide.csv  \n",
    "https://www2.ed.gov/about/inits/ed/edfacts/data-files/acgr-sch-sy2017-18.csv  \n",
    "https://www2.ed.gov/about/inits/ed/edfacts/data-files/acgr-sch-sy2016-17.csv  \n",
    "https://www2.ed.gov/about/inits/ed/edfacts/data-files/acgr-sch-sy2015-16.csv  \n",
    "https://www2.ed.gov/about/inits/ed/edfacts/data-files/acgr-release2-sch-sy2014-15.csv  \n",
    "https://www2.ed.gov/about/inits/ed/edfacts/data-files/acgr-sch-sy2013-14.csv  \n",
    "https://www2.ed.gov/about/inits/ed/edfacts/data-files/acgr-sch-sy2012-13.csv  \n",
    "https://www2.ed.gov/about/inits/ed/edfacts/data-files/acgr-sch-sy2011-12.csv  \n",
    "https://www2.ed.gov/about/inits/ed/edfacts/data-files/acgr-sch-sy2010-11.csv  "
   ]
  },
  {
   "cell_type": "markdown",
   "metadata": {},
   "source": [
    "## What are the features in this data?\n",
    "* Each instance is a school.\n",
    "\n",
    "## Graduation rate is given by two features--Cohort and Rate--for each subpopulation below.\n",
    "* Cohort - Number of students in that subpopulation\n",
    "* Rate - Percentage (or range of percentage) of students in the cohort graduating with a high school diploma within 4 years\n",
    "\n",
    "## School identifiers\n",
    "* STNAM  - State name\n",
    "* FIPST  - 2 digit code for the state\n",
    "* LEANM  - School district name\n",
    "* LEAID  - 7 digit code for school district \n",
    "* SCHNAM - School name\n",
    "* NCESSH - 12 digit school id (only unique identifier for a school)\n",
    "\n",
    "\n",
    "## Subpopulations\n",
    "* ALL \t= All students in the school\n",
    "* MAM \t= American Indian/Alaska   Native students\n",
    "* MAS \t= Asian/Pacific Islander students\n",
    "* MHI \t= Hispanic students\n",
    "* MBL \t= Black students\n",
    "* MWH \t= White students\n",
    "* MTR \t= Two or More Races\n",
    "* CWD \t= Children with Disabilities (IDEA)\n",
    "* ECD \t= Economically Disadvantaged students\n",
    "* LEP \t= Limited English Proficient students\n"
   ]
  },
  {
   "cell_type": "code",
   "execution_count": 26,
   "metadata": {},
   "outputs": [],
   "source": [
    "import pandas as pd\n",
    "import numpy as np\n",
    "import seaborn as sns\n",
    "import sys\n",
    "sys.path.append(\"..\")\n",
    "from ingest import gr\n",
    "# local_dir = \"~/datasets/grad_rate/\"\n",
    "# !ls $local_dir "
   ]
  },
  {
   "cell_type": "code",
   "execution_count": 27,
   "metadata": {},
   "outputs": [
    {
     "data": {
      "text/html": [
       "<div>\n",
       "<style scoped>\n",
       "    .dataframe tbody tr th:only-of-type {\n",
       "        vertical-align: middle;\n",
       "    }\n",
       "\n",
       "    .dataframe tbody tr th {\n",
       "        vertical-align: top;\n",
       "    }\n",
       "\n",
       "    .dataframe thead th {\n",
       "        text-align: right;\n",
       "    }\n",
       "</style>\n",
       "<table border=\"1\" class=\"dataframe\">\n",
       "  <thead>\n",
       "    <tr style=\"text-align: right;\">\n",
       "      <th></th>\n",
       "      <th>NCESSCH</th>\n",
       "      <th>STNAM</th>\n",
       "      <th>LEAID</th>\n",
       "      <th>SCHNAM</th>\n",
       "      <th>ALL_COHORT_1314</th>\n",
       "      <th>ALL_RATE_1314</th>\n",
       "    </tr>\n",
       "  </thead>\n",
       "  <tbody>\n",
       "    <tr>\n",
       "      <th>0</th>\n",
       "      <td>10000500871.0</td>\n",
       "      <td>ALABAMA</td>\n",
       "      <td>100005.0</td>\n",
       "      <td>Albertville High Sch</td>\n",
       "      <td>248.0</td>\n",
       "      <td>94.0</td>\n",
       "    </tr>\n",
       "    <tr>\n",
       "      <th>1</th>\n",
       "      <td>10000600872.0</td>\n",
       "      <td>ALABAMA</td>\n",
       "      <td>100006.0</td>\n",
       "      <td>Asbury Sch</td>\n",
       "      <td>65.0</td>\n",
       "      <td>95.0</td>\n",
       "    </tr>\n",
       "    <tr>\n",
       "      <th>2</th>\n",
       "      <td>10000600878.0</td>\n",
       "      <td>ALABAMA</td>\n",
       "      <td>100006.0</td>\n",
       "      <td>Douglas High Sch</td>\n",
       "      <td>127.0</td>\n",
       "      <td>87.0</td>\n",
       "    </tr>\n",
       "    <tr>\n",
       "      <th>3</th>\n",
       "      <td>10000600883.0</td>\n",
       "      <td>ALABAMA</td>\n",
       "      <td>100006.0</td>\n",
       "      <td>Kate D Smith DAR High Sch</td>\n",
       "      <td>116.0</td>\n",
       "      <td>87.0</td>\n",
       "    </tr>\n",
       "    <tr>\n",
       "      <th>4</th>\n",
       "      <td>10000601585.0</td>\n",
       "      <td>ALABAMA</td>\n",
       "      <td>100006.0</td>\n",
       "      <td>Brindlee Mt High Sch</td>\n",
       "      <td>76.0</td>\n",
       "      <td>87.0</td>\n",
       "    </tr>\n",
       "    <tr>\n",
       "      <th>...</th>\n",
       "      <td>...</td>\n",
       "      <td>...</td>\n",
       "      <td>...</td>\n",
       "      <td>...</td>\n",
       "      <td>...</td>\n",
       "      <td>...</td>\n",
       "    </tr>\n",
       "    <tr>\n",
       "      <th>22380</th>\n",
       "      <td>560582000393.0</td>\n",
       "      <td>WYOMING</td>\n",
       "      <td>5605820.0</td>\n",
       "      <td>Ten Sleep K-12</td>\n",
       "      <td>11.0</td>\n",
       "      <td>50.0</td>\n",
       "    </tr>\n",
       "    <tr>\n",
       "      <th>22381</th>\n",
       "      <td>560583000335.0</td>\n",
       "      <td>WYOMING</td>\n",
       "      <td>5605830.0</td>\n",
       "      <td>Jackson Hole High School</td>\n",
       "      <td>123.0</td>\n",
       "      <td>95.0</td>\n",
       "    </tr>\n",
       "    <tr>\n",
       "      <th>22382</th>\n",
       "      <td>560583000512.0</td>\n",
       "      <td>WYOMING</td>\n",
       "      <td>5605830.0</td>\n",
       "      <td>Summit High School</td>\n",
       "      <td>18.0</td>\n",
       "      <td>69.5</td>\n",
       "    </tr>\n",
       "    <tr>\n",
       "      <th>22383</th>\n",
       "      <td>560609000401.0</td>\n",
       "      <td>WYOMING</td>\n",
       "      <td>5606090.0</td>\n",
       "      <td>Upton High School</td>\n",
       "      <td>14.0</td>\n",
       "      <td>50.0</td>\n",
       "    </tr>\n",
       "    <tr>\n",
       "      <th>22384</th>\n",
       "      <td>560624000343.0</td>\n",
       "      <td>WYOMING</td>\n",
       "      <td>5606240.0</td>\n",
       "      <td>Worland High School</td>\n",
       "      <td>89.0</td>\n",
       "      <td>82.0</td>\n",
       "    </tr>\n",
       "  </tbody>\n",
       "</table>\n",
       "<p>20365 rows × 6 columns</p>\n",
       "</div>"
      ],
      "text/plain": [
       "             NCESSCH    STNAM     LEAID                     SCHNAM  \\\n",
       "0      10000500871.0  ALABAMA  100005.0       Albertville High Sch   \n",
       "1      10000600872.0  ALABAMA  100006.0                 Asbury Sch   \n",
       "2      10000600878.0  ALABAMA  100006.0           Douglas High Sch   \n",
       "3      10000600883.0  ALABAMA  100006.0  Kate D Smith DAR High Sch   \n",
       "4      10000601585.0  ALABAMA  100006.0       Brindlee Mt High Sch   \n",
       "...              ...      ...       ...                        ...   \n",
       "22380 560582000393.0  WYOMING 5605820.0             Ten Sleep K-12   \n",
       "22381 560583000335.0  WYOMING 5605830.0   Jackson Hole High School   \n",
       "22382 560583000512.0  WYOMING 5605830.0         Summit High School   \n",
       "22383 560609000401.0  WYOMING 5606090.0          Upton High School   \n",
       "22384 560624000343.0  WYOMING 5606240.0        Worland High School   \n",
       "\n",
       "       ALL_COHORT_1314  ALL_RATE_1314  \n",
       "0                248.0           94.0  \n",
       "1                 65.0           95.0  \n",
       "2                127.0           87.0  \n",
       "3                116.0           87.0  \n",
       "4                 76.0           87.0  \n",
       "...                ...            ...  \n",
       "22380             11.0           50.0  \n",
       "22381            123.0           95.0  \n",
       "22382             18.0           69.5  \n",
       "22383             14.0           50.0  \n",
       "22384             89.0           82.0  \n",
       "\n",
       "[20365 rows x 6 columns]"
      ]
     },
     "execution_count": 27,
     "metadata": {},
     "output_type": "execute_result"
    }
   ],
   "source": [
    "# This takes about 2 minutes the first time it is run. Raw data is downloaded and \n",
    "# stored in gr_dfs.dat, gr_dfs.bak, and gr_dfs.dir. \n",
    "# Calling it a second and future times is much faster.\n",
    "df = gr.make_total_cohort_frame(2013)\n",
    "# Set the number formating for the pandas dataframe\n",
    "pd.set_option('display.float_format', str)\n",
    "df.style.format(\"{:.1f}\")\n",
    "df"
   ]
  },
  {
   "cell_type": "code",
   "execution_count": 28,
   "metadata": {},
   "outputs": [
    {
     "name": "stdout",
     "output_type": "stream",
     "text": [
      "count              20365.0\n",
      "mean     173.4590228332924\n",
      "std     181.67867753449033\n",
      "min                    6.0\n",
      "25%                   41.0\n",
      "50%                  102.0\n",
      "75%                  262.0\n",
      "max                 4788.0\n",
      "Name: ALL_COHORT_1314, dtype: float64\n"
     ]
    },
    {
     "data": {
      "text/html": [
       "<div>\n",
       "<style scoped>\n",
       "    .dataframe tbody tr th:only-of-type {\n",
       "        vertical-align: middle;\n",
       "    }\n",
       "\n",
       "    .dataframe tbody tr th {\n",
       "        vertical-align: top;\n",
       "    }\n",
       "\n",
       "    .dataframe thead th {\n",
       "        text-align: right;\n",
       "    }\n",
       "</style>\n",
       "<table border=\"1\" class=\"dataframe\">\n",
       "  <thead>\n",
       "    <tr style=\"text-align: right;\">\n",
       "      <th></th>\n",
       "      <th>NCESSCH</th>\n",
       "      <th>STNAM</th>\n",
       "      <th>LEAID</th>\n",
       "      <th>SCHNAM</th>\n",
       "      <th>ALL_COHORT_1314</th>\n",
       "      <th>ALL_RATE_1314</th>\n",
       "    </tr>\n",
       "  </thead>\n",
       "  <tbody>\n",
       "    <tr>\n",
       "      <th>15484</th>\n",
       "      <td>390007903420.0</td>\n",
       "      <td>OHIO</td>\n",
       "      <td>3900079.0</td>\n",
       "      <td>Electronic Classroom Of Tomorrow</td>\n",
       "      <td>4788.0</td>\n",
       "      <td>39.0</td>\n",
       "    </tr>\n",
       "  </tbody>\n",
       "</table>\n",
       "</div>"
      ],
      "text/plain": [
       "             NCESSCH STNAM     LEAID                            SCHNAM  \\\n",
       "15484 390007903420.0  OHIO 3900079.0  Electronic Classroom Of Tomorrow   \n",
       "\n",
       "       ALL_COHORT_1314  ALL_RATE_1314  \n",
       "15484           4788.0           39.0  "
      ]
     },
     "execution_count": 28,
     "metadata": {},
     "output_type": "execute_result"
    }
   ],
   "source": [
    "print(df.ALL_COHORT_1314.describe())\n",
    "df[df.ALL_COHORT_1314 > 4000]"
   ]
  },
  {
   "cell_type": "code",
   "execution_count": 29,
   "metadata": {},
   "outputs": [
    {
     "name": "stdout",
     "output_type": "stream",
     "text": [
      "count             20365.0\n",
      "mean     77.1880432113921\n",
      "std     21.13660094608904\n",
      "min                   1.0\n",
      "25%                  72.0\n",
      "50%                  85.0\n",
      "75%                  92.0\n",
      "max                  99.0\n",
      "Name: ALL_RATE_1314, dtype: float64\n"
     ]
    }
   ],
   "source": [
    "print(df.ALL_RATE_1314.describe())"
   ]
  },
  {
   "cell_type": "markdown",
   "metadata": {},
   "source": [
    "### Questions:\n",
    "* How many schools are there?  \n",
    "* How many schools per state?  \n",
    "* How many schools in the dataset had 5 or less in the cohort?  \n",
    "* What is the missing value distribution?"
   ]
  },
  {
   "cell_type": "code",
   "execution_count": 30,
   "metadata": {},
   "outputs": [
    {
     "data": {
      "text/plain": [
       "TEXAS                   1612\n",
       "CALIFORNIA              1595\n",
       "NEW YORK                1188\n",
       "MICHIGAN                 998\n",
       "OHIO                     897\n",
       "FLORIDA                  844\n",
       "PENNSYLVANIA             680\n",
       "ILLINOIS                 675\n",
       "MINNESOTA                658\n",
       "NORTH CAROLINA           558\n",
       "WASHINGTON               554\n",
       "MISSOURI                 523\n",
       "WISCONSIN                523\n",
       "ARIZONA                  501\n",
       "OKLAHOMA                 458\n",
       "GEORGIA                  450\n",
       "COLORADO                 430\n",
       "NEW JERSEY               414\n",
       "INDIANA                  401\n",
       "MASSACHUSETTS            371\n",
       "ALABAMA                  371\n",
       "TENNESSEE                365\n",
       "IOWA                     352\n",
       "KANSAS                   349\n",
       "LOUISIANA                347\n",
       "VIRGINIA                 327\n",
       "OREGON                   316\n",
       "KENTUCKY                 310\n",
       "ARKANSAS                 300\n",
       "NEBRASKA                 263\n",
       "MARYLAND                 252\n",
       "MISSISSIPPI              251\n",
       "SOUTH CAROLINA           229\n",
       "IDAHO                    198\n",
       "CONNECTICUT              195\n",
       "UTAH                     170\n",
       "ALASKA                   166\n",
       "SOUTH DAKOTA             163\n",
       "NORTH DAKOTA             152\n",
       "MONTANA                  150\n",
       "NEVADA                   141\n",
       "MAINE                    119\n",
       "WEST VIRGINIA            114\n",
       "NEW HAMPSHIRE             90\n",
       "WYOMING                   82\n",
       "VERMONT                   61\n",
       "RHODE ISLAND              58\n",
       "HAWAII                    58\n",
       "DELAWARE                  48\n",
       "DISTRICT OF COLUMBIA      38\n",
       "Name: STNAM, dtype: int64"
      ]
     },
     "execution_count": 30,
     "metadata": {},
     "output_type": "execute_result"
    }
   ],
   "source": [
    "# Number of schools per state\n",
    "df.STNAM.value_counts()"
   ]
  },
  {
   "cell_type": "code",
   "execution_count": 31,
   "metadata": {},
   "outputs": [],
   "source": [
    "# Number of schools with 5 or fewer students in cohort.\n",
    "\"\"\"\n",
    "1468\n",
    "1293\n",
    "1304\n",
    "1456\n",
    "1265\n",
    "1553\n",
    "1350\n",
    "1353\n",
    "1475\n",
    "\"\"\"\n",
    "# Commented out because takes about a minute\n",
    "if False:\n",
    "    for year in range(2010,2019):\n",
    "        df = gr.make_raw_gr_frame(year)\n",
    "        for col in df.columns:\n",
    "            if col.startswith('ALL_RATE'):\n",
    "                print(sum(df[col] == 'PS'))"
   ]
  },
  {
   "cell_type": "code",
   "execution_count": 32,
   "metadata": {},
   "outputs": [
    {
     "data": {
      "text/plain": [
       "<AxesSubplot:>"
      ]
     },
     "execution_count": 32,
     "metadata": {},
     "output_type": "execute_result"
    },
    {
     "data": {
      "image/png": "[encoded data removed]",
      "text/plain": [
       "<Figure size 432x288 with 2 Axes>"
      ]
     },
     "metadata": {
      "needs_background": "light"
     },
     "output_type": "display_data"
    }
   ],
   "source": [
    "# Visualize missing values\n",
    "sns.heatmap(df.isna().transpose(),\n",
    "            cmap=\"YlGnBu\",\n",
    "            cbar_kws={'label': 'Missing Data'})"
   ]
  },
  {
   "cell_type": "code",
   "execution_count": 33,
   "metadata": {},
   "outputs": [
    {
     "name": "stdout",
     "output_type": "stream",
     "text": [
      "20365 19010\n"
     ]
    }
   ],
   "source": [
    "# School names are not unique\n",
    "len(df.SCHNAM) == len(df.SCHNAM.unique())\n",
    "print(len(df.SCHNAM), len(df.SCHNAM.unique()))"
   ]
  },
  {
   "cell_type": "code",
   "execution_count": 34,
   "metadata": {},
   "outputs": [
    {
     "name": "stdout",
     "output_type": "stream",
     "text": [
      "20365 20365\n"
     ]
    }
   ],
   "source": [
    "# NCESSCH 12-digit identifier is unique\n",
    "print(len(df.NCESSCH), len(df.NCESSCH.unique()))"
   ]
  },
  {
   "cell_type": "code",
   "execution_count": 35,
   "metadata": {},
   "outputs": [
    {
     "data": {
      "text/plain": [
       "STNAM       SCHNAM                      \n",
       "WISCONSIN   West High                       8\n",
       "            East High                       7\n",
       "TENNESSEE   Central High School             7\n",
       "CALIFORNIA  Middle College High             6\n",
       "MISSOURI    CENTRAL HIGH                    6\n",
       "                                           ..\n",
       "KANSAS      Rock Creek Jr/Sr High School    1\n",
       "            Riverton High                   1\n",
       "            Riverside High School           1\n",
       "            Riley County High School        1\n",
       "WYOMING     Wyoming Indian High School      1\n",
       "Length: 20011, dtype: int64"
      ]
     },
     "execution_count": 35,
     "metadata": {},
     "output_type": "execute_result"
    }
   ],
   "source": [
    "# Are the state and school name unique?\n",
    "df[['STNAM','SCHNAM']].value_counts()"
   ]
  },
  {
   "cell_type": "code",
   "execution_count": 36,
   "metadata": {},
   "outputs": [
    {
     "data": {
      "text/plain": [
       "LEAID      SCHNAM                       \n",
       "400273.0   Student Choice High School       2\n",
       "400266.0   PACE Preparatory Academy         2\n",
       "4400024.0  Sheila Skip Nowell Leadership    2\n",
       "3704720.0  William G Enloe High             1\n",
       "3704880.0  Charles B Aycock High            1\n",
       "                                           ..\n",
       "2007620.0  Hutchinson High School           1\n",
       "2007590.0  Humboldt High School             1\n",
       "2007560.0  Hugoton Learning Academy         1\n",
       "           Hugoton High                     1\n",
       "5606240.0  Worland High School              1\n",
       "Length: 20362, dtype: int64"
      ]
     },
     "execution_count": 36,
     "metadata": {},
     "output_type": "execute_result"
    }
   ],
   "source": [
    "# Are the LEAID and school name unique?\n",
    "df[['LEAID','SCHNAM']].value_counts()"
   ]
  },
  {
   "cell_type": "code",
   "execution_count": null,
   "metadata": {},
   "outputs": [],
   "source": []
  }
 ],
 "metadata": {
  "kernelspec": {
   "display_name": "Python 3.10.5 ('my-env')",
   "language": "python",
   "name": "python3"
  },
  "language_info": {
   "codemirror_mode": {
    "name": "ipython",
    "version": 3
   },
   "file_extension": ".py",
   "mimetype": "text/x-python",
   "name": "python",
   "nbconvert_exporter": "python",
   "pygments_lexer": "ipython3",
   "version": "3.10.5"
  },
  "orig_nbformat": 4,
  "vscode": {
   "interpreter": {
    "hash": "d474be476f0a6db94789ad08b16ede00cb8654a4c727ed769fba79dc07ed6ebd"
   }
  }
 },
 "nbformat": 4,
 "nbformat_minor": 2
}
