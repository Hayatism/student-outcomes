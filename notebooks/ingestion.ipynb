{
 "cells": [
  {
   "cell_type": "markdown",
   "metadata": {},
   "source": [
    "# Adjusted Cohort Graduation Rate"
   ]
  },
  {
   "cell_type": "code",
   "execution_count": 2,
   "metadata": {},
   "outputs": [],
   "source": [
    "import sys,os\n",
    "import pandas as pd\n",
    "import numpy as np\n",
    "import seaborn as sns\n",
    "import matplotlib.pyplot as plt\n",
    "from swampy import structshape as ss\n",
    "import boto3\n",
    "import shelve"
   ]
  },
  {
   "cell_type": "code",
   "execution_count": 3,
   "metadata": {},
   "outputs": [],
   "source": [
    "def make_raw_gr_frame(year):\n",
    "    \"\"\"Create raw graduation rate dataframe for a given year from S3. It is 'raw' because\n",
    "    no modifications are done and it is cached locally as-is.\"\"\"\n",
    "    conn = boto3.client('s3')\n",
    "\n",
    "    # Graduation rate raw data filenames on S3\n",
    "    year_to_loc = {2018 : \"grad_rate/acgr-sch-sy2018-19-wide.csv\",\n",
    "        2017 : \"grad_rate/acgr-sch-sy2017-18.csv\",\n",
    "        2016 : \"grad_rate/acgr-sch-sy2016-17.csv\", \n",
    "        2015 : \"grad_rate/acgr-sch-sy2015-16.csv\",\n",
    "        2014 : \"grad_rate/acgr-release2-sch-sy2014-15.csv\",\n",
    "        2013 : \"grad_rate/acgr-sch-sy2013-14.csv\",\n",
    "        2012 : \"grad_rate/acgr-sch-sy2012-13.csv\",\n",
    "        2011 : \"grad_rate/acgr-sch-sy2011-12.csv\",\n",
    "        2010 : \"grad_rate/acgr-sch-sy2010-11.csv\"}\n",
    "    \n",
    "    # Verify input parameter is valid\n",
    "    if year not in list(range(2010, 2019)):\n",
    "        raise ValueError(\"input parameter {} is out of range.\".format(year))\n",
    "\n",
    "    # Local storage (cache) for the raw data so that iteration time is faster.\n",
    "    shelf = shelve.open(\"gr_dfs\")\n",
    "\n",
    "    df = pd.DataFrame()\n",
    "    shelf_key = str(year)\n",
    "\n",
    "    if shelf_key in shelf:\n",
    "        df = shelf[shelf_key]\n",
    "    else:\n",
    "        tmp_file_name = 'curr_file.csv.bak' \n",
    "        conn.download_file('edu-data-bucket',year_to_loc[year],tmp_file_name)\n",
    "\n",
    "        df = pd.read_csv(tmp_file_name)\n",
    "        shelf[shelf_key] = df\n",
    "\n",
    "        if os.path.exists(tmp_file_name):\n",
    "            os.remove(tmp_file_name)\n",
    "\n",
    "    # Shelve teardown\n",
    "    shelf.close()\n",
    "    return df\n",
    "\n",
    "def year_string(y: int):\n",
    "    \"\"\"Input an integer year and get a range that matches the column suffixes in the raw data.\n",
    "    e.g. 2011 => 1112 and 2018 => 1819.\"\"\"\n",
    "    return str(y)[-2:] + str(int(str(y)[-2:]) + 1)"
   ]
  },
  {
   "cell_type": "code",
   "execution_count": 4,
   "metadata": {},
   "outputs": [
    {
     "name": "stdout",
     "output_type": "stream",
     "text": [
      "{'INSERT_DATE'}\n",
      "{'ST_SCHID', 'ST_LEAID'}\n",
      "{'HOM_RATE_', 'FCS_RATE_', 'HOM_COHORT_', 'ST_SCHID', 'ST_LEAID', 'FCS_COHORT_'}\n",
      "{'HOM_RATE_', 'FCS_RATE_', 'HOM_COHORT_', 'ST_SCHID', 'ST_LEAID', 'FCS_COHORT_'}\n"
     ]
    }
   ],
   "source": [
    "dfs = [make_raw_gr_frame(year=y) for y in range(2010, 2019)]\n",
    "years = [year_string(y) for y in range(2010, 2019)]\n",
    "\n",
    "# Many of the column names have the school year in them, which presents a challenge for combining all the years\n",
    "# into one large dataframe.\n",
    "\n",
    "\n",
    "shape_data = [(school_year, df.shape) for school_year, df in zip(years, dfs)]\n",
    "shape = pd.DataFrame(shape_data, columns=('school_year', 'shape'))\n",
    "shape\n",
    "\n",
    "# Inspect features that are present in some but not common to all.\n",
    "# Start by removing the years from the column names.\n",
    "# cols_wo_year => Column names without the year\n",
    "cols_wo_year = [list(map(lambda x: x.replace(y, \"\"), df.columns))\n",
    "                for y, df in zip(years, dfs)]\n",
    "print(set(cols_wo_year[3]) - set(cols_wo_year[0]))\n",
    "print(set(cols_wo_year[6]) - set(cols_wo_year[0]))\n",
    "print(set(cols_wo_year[7]) - set(cols_wo_year[0]))\n",
    "print(set(cols_wo_year[8]) - set(cols_wo_year[0]))"
   ]
  },
  {
   "cell_type": "code",
   "execution_count": 5,
   "metadata": {},
   "outputs": [],
   "source": [
    "# INSERT_DATE refers to when the data was inserted and is not relevant for our study.\n",
    "dfs[3].drop(['INSERT_DATE'], axis=1, inplace=True)\n",
    "# ST_SCHID and ST_LEAID are values assigned by the state which are not found in the other years. From the data, it looks like maybe these\n",
    "# started being assigned in 2016. If we need another geographical grouping mechanism in the future we can look into it.\n",
    "dfs[6].drop(['ST_LEAID', 'ST_SCHID'], axis=1, inplace=True)\n",
    "# HOM_COHORT and FCS_COHORT refer to the subpopulation of homeless and foster care students, which was not tracked before school year 2017-2018\n",
    "idx7_sr = shape.school_year[7]\n",
    "idx8_sr = shape.school_year[8]\n",
    "dfs[7].drop(['ST_LEAID', 'ST_SCHID', 'FCS_RATE_'+idx7_sr, 'FCS_COHORT_'+idx7_sr,\n",
    "            'HOM_RATE_'+idx7_sr, 'HOM_COHORT_'+idx7_sr], axis=1, inplace=True)\n",
    "dfs[8].drop(['ST_LEAID', 'ST_SCHID', 'FCS_RATE_'+idx8_sr, 'FCS_COHORT_'+idx8_sr,\n",
    "            'HOM_RATE_'+idx8_sr, 'HOM_COHORT_'+idx8_sr], axis=1, inplace=True)"
   ]
  },
  {
   "cell_type": "code",
   "execution_count": 6,
   "metadata": {},
   "outputs": [
    {
     "name": "stdout",
     "output_type": "stream",
     "text": [
      "big_df_columns Index([], dtype='object')\n"
     ]
    },
    {
     "data": {
      "text/plain": [
       "((201567, 28),\n",
       "    Year    STNAM  FIPST   LEAID             LEANM      NCESSCH  \\\n",
       " 0  2010  ALABAMA      1  100005  Albertville City  10000500871   \n",
       " 1  2010  ALABAMA      1  100006   Marshall County  10000600872   \n",
       " 2  2010  ALABAMA      1  100006   Marshall County  10000600878   \n",
       " \n",
       "                  SCHNAM ALL_COHORT_ ALL_RATE_ MAM_COHORT_  ... MTR_RATE_  \\\n",
       " 0  Albertville High Sch         252        80           .  ...         .   \n",
       " 1            Asbury Sch          57     70-79           .  ...         .   \n",
       " 2      Douglas High Sch         125     65-69           2  ...         .   \n",
       " \n",
       "   MWH_COHORT_ MWH_RATE_ CWD_COHORT_ CWD_RATE_ ECD_COHORT_ ECD_RATE_  \\\n",
       " 0         184     80-84           3        PS         121     65-69   \n",
       " 1          48     70-79           7      GE50          31     60-69   \n",
       " 2         105     70-74          13      GE50          92     60-64   \n",
       " \n",
       "   LEP_COHORT_ LEP_RATE_ DATE_CUR  \n",
       " 0          10      LT50  03OCT15  \n",
       " 1           3        PS  03OCT15  \n",
       " 2           7      LT50  03OCT15  \n",
       " \n",
       " [3 rows x 28 columns])"
      ]
     },
     "execution_count": 6,
     "metadata": {},
     "output_type": "execute_result"
    }
   ],
   "source": [
    "# Create large df of all the years\n",
    "cols_wo_school_year = [list(map(lambda x: x.replace(y, \"\"), df.columns))\n",
    "                       for y, df in zip(years, dfs)]\n",
    "for num1, num2 in zip(range(0, 8), range(1, 9)):\n",
    "    assert cols_wo_school_year[num1] == cols_wo_school_year[num2]\n",
    "\n",
    "big_df = pd.DataFrame()\n",
    "print(\"big_df_columns\", big_df.columns)\n",
    "for idx, df in enumerate(dfs):\n",
    "    df.columns = cols_wo_school_year[0]\n",
    "    df['Year'] = list(range(2010,2019))[idx]\n",
    "    # reorder columns to be how we want\n",
    "    df = df[['Year']+cols_wo_school_year[0]]\n",
    "    big_df = pd.concat([big_df, df], axis=0)\n",
    "\n",
    "\n",
    "big_df.shape, big_df.head(n=3)"
   ]
  },
  {
   "cell_type": "code",
   "execution_count": 7,
   "metadata": {},
   "outputs": [
    {
     "name": "stdout",
     "output_type": "stream",
     "text": [
      "Number of instances after this drop 198654\n",
      "Dropping 12507\n",
      "Number of instances after this drop 186147\n"
     ]
    }
   ],
   "source": [
    "# Missingness\n",
    "big_df.isnull().sum()\n",
    "\n",
    "##### Why doesn’t the summation of the major racial and ethnic groups equal the “ALL” student count?\n",
    "# * Due to flexibilities with states’ implementation of the Elementary and Secondary Education Act,\n",
    "#   there may be instances where not all possible groupings of racial/ethnic identification are reported\n",
    "#   as individual subgroups. Therefore, some information may be missing and these counts by major racial\n",
    "#   and ethnic group will not include every student; however any students not included within an individual\n",
    "#   major racial and ethnic group would be included in the “ALL” student count.\n",
    "# #### Why are the major racial and ethnic groups reported differently by states?\n",
    "# * Under the ESEA, a State educational agency (SEA) has the flexibility to determine the major racial/ethnic\n",
    "#   groups it will use for reporting on the data included in its assessment and accountability system.  The\n",
    "#   subgroups that an SEA uses are approved through its Accountability Workbook (the most recent copy of each\n",
    "#   state’s workbook can be found here:  http://www2.ed.gov/admins/lead/account/stateplans03/index.html).\n",
    "#   As a result, there is some variation in how SEAs report data by race and ethnicity. \n",
    "\n",
    "# Drop population subgroup columns\n",
    "cols_to_keep = ['Year', 'STNAM', 'FIPST', 'LEAID', 'LEANM',\n",
    "                'NCESSCH', 'SCHNAM', 'ALL_COHORT_', 'ALL_RATE_']\n",
    "big_df = big_df[cols_to_keep]\n",
    "\n",
    "\n",
    "# Drop rows where ALL_COHORT_ == '.'\n",
    "instances_after_drop = len(big_df) - 2913\n",
    "# Reindex the dataframe because their are duplicate indexes\n",
    "big_df.index = list(range(len(big_df)))\n",
    "big_df.drop(big_df[big_df.ALL_COHORT_ == '.'].index, axis=0, inplace=True)\n",
    "assert len(big_df) == instances_after_drop\n",
    "print(\"Number of instances after this drop\", len(big_df))\n",
    "# Can convert ALL_COHORT_ column to numeric now\n",
    "big_df.loc[:,'ALL_COHORT_'] = np.int64(big_df.ALL_COHORT_.values)\n",
    "big_df.dtypes\n",
    "\n",
    "# Drop rows where ALL_RATE_ == 'PS'. About 1400 schools per year are dropped.\n",
    "print(\"Dropping\", len(big_df[big_df.ALL_RATE_ == 'PS']))\n",
    "big_df.drop(big_df[big_df.ALL_RATE_ == 'PS'].index, axis=0, inplace=True)\n",
    "print(\"Number of instances after this drop\", len(big_df))\n",
    "\n",
    "\n"
   ]
  },
  {
   "cell_type": "code",
   "execution_count": 8,
   "metadata": {},
   "outputs": [
    {
     "name": "stdout",
     "output_type": "stream",
     "text": [
      "Year            int64\n",
      "STNAM          object\n",
      "FIPST           int64\n",
      "LEAID           int64\n",
      "LEANM          object\n",
      "NCESSCH         int64\n",
      "SCHNAM         object\n",
      "ALL_COHORT_     int64\n",
      "ALL_RATE_      object\n",
      "dtype: object 4 object columns present\n"
     ]
    }
   ],
   "source": [
    "# Several columns are of object type, which means that either text or Nan values are present.\n",
    "def print_object_column_info(df):\n",
    "    \"\"\"\n",
    "    Print column data types and the number of object columns.\n",
    "    \"\"\"\n",
    "    print(big_df.dtypes, \"{} object columns present\". format(\n",
    "        len(big_df.select_dtypes(include=object).count())))\n",
    "\n",
    "\n",
    "print_object_column_info(big_df)\n"
   ]
  },
  {
   "cell_type": "code",
   "execution_count": 9,
   "metadata": {},
   "outputs": [],
   "source": [
    "# Convert year feature to numeric\n",
    "big_df.loc[:, 'Year'] = np.int64(big_df.Year)\n",
    "\n",
    "# THe ALL_RATE_ column has numbers given as ranges, numbers with GE,LE,LT,GT prefixes, and also 'PS'.\n",
    "# The codebook explains that these are to conceal specifics when it would give us the ability to identify individual students. The 'PS' specifically means that the cohort had 5 or fewer students in it.\n",
    "# Drop the ALL_RATE_ rows that have 'PS' and convert the rest to the average meaning of the term. E.g. GT50 => 75, LT50 => 25, 88-92 => 90.\n",
    "\n",
    "# Helper functions to convert ranges given in ALL_RATE_ column to a trivially convertible string \n",
    "def conv_range_to_numeric_string(t: str):\n",
    "    \"\"\"Take in a numeric range given as a string, e.g. \"10-20\" and return the midpoint as a string.\"\"\"\n",
    "    vals = t.split(\"-\")\n",
    "    if len(vals) == 2:\n",
    "        val1, val2 = float(vals[0]), float(vals[1])\n",
    "        new_val = val1 / 2.0 + val2 / 2.0\n",
    "        return str(new_val)\n",
    "    else:\n",
    "        # If a range with a dash in it is not found, return original string unchanged.\n",
    "        return t\n",
    "\n",
    "assert conv_range_to_numeric_string('95-95') == '95.0'\n",
    "assert conv_range_to_numeric_string('105-110') == '107.5'\n",
    "assert conv_range_to_numeric_string('90') == '90'\n",
    "\n",
    "def strip_prefixed_string(t: str):\n",
    "    \"\"\"\n",
    "    Convert prefixed numbers to a string of a number in the midpoint of their range \n",
    "    \"\"\"\n",
    "    if t.startswith('GT'):\n",
    "        t = t.removeprefix('GT')\n",
    "        t = float(t)\n",
    "        t = sum([t, 100.0])/2.0\n",
    "        return str(t)\n",
    "    elif t.startswith('GE'):\n",
    "        t = t.removeprefix('GE')\n",
    "        t = float(t)\n",
    "        t = sum([t, 100.0])/2.0\n",
    "        return str(t)\n",
    "    elif t.startswith('LT'):\n",
    "        t = t.removeprefix('LT')\n",
    "        t = float(t)\n",
    "        t = sum([t, 0])/2.0\n",
    "        return str(t)\n",
    "    elif t.startswith('LE'):\n",
    "        t = t.removeprefix('LE')\n",
    "        t = float(t)\n",
    "        t = sum([t, 0])/2.0\n",
    "        return str(t)\n",
    "    # If one of the prefixes is not found, return original string unchanged\n",
    "    return t\n",
    "\n",
    "assert strip_prefixed_string('GE50') == '75.0'\n",
    "assert strip_prefixed_string('GT50') == '75.0'\n",
    "assert strip_prefixed_string('LE90') == '45.0'\n",
    "assert strip_prefixed_string('LT90') == '45.0'\n",
    "assert strip_prefixed_string('95-95') == '95-95'\n",
    "\n",
    "# Run the above functions on the series to produce a float64 series\n",
    "big_df.loc[:, 'ALL_RATE_'] = big_df.ALL_RATE_.map(strip_prefixed_string, na_action='ignore')\n",
    "big_df.loc[:, 'ALL_RATE_'] = big_df.ALL_RATE_.map(conv_range_to_numeric_string, na_action='ignore')\n",
    "big_df.loc[:, 'ALL_RATE_'] = pd.to_numeric(big_df.ALL_RATE_.tolist()) \n"
   ]
  },
  {
   "cell_type": "code",
   "execution_count": 10,
   "metadata": {},
   "outputs": [
    {
     "data": {
      "image/png": "[encoded data removed]",
      "text/plain": [
       "<Figure size 432x288 with 1 Axes>"
      ]
     },
     "metadata": {
      "needs_background": "light"
     },
     "output_type": "display_data"
    },
    {
     "data": {
      "image/png": "[encoded data removed]",
      "text/plain": [
       "<Figure size 432x288 with 1 Axes>"
      ]
     },
     "metadata": {
      "needs_background": "light"
     },
     "output_type": "display_data"
    }
   ],
   "source": [
    "large_school_indexes = big_df.ALL_COHORT_ > 5000\n",
    "big_df.loc[large_school_indexes,:]\n",
    "\n",
    "# Schools are found with >20,000 students in a cohort. Based on google search, the graduating classes are closer to 100-200 than the extremely large sizes reported.\n",
    "# We drop these schools since they are called into question. Note that we could impute them with the mean school size.\n",
    "\n",
    "big_df.drop(big_df[large_school_indexes].index,axis=0,inplace=True)\n",
    "sns.histplot(big_df.ALL_COHORT_,)\n",
    "plt.show()\n",
    "big_df.ALL_COHORT_.describe()\n",
    "\n",
    "sns.histplot(big_df.ALL_COHORT_,cumulative=True,stat='probability')\n",
    "\n",
    "xlimits = np.percentile(big_df.ALL_COHORT_,[5,95])\n",
    "plt.title(\"Cohort size, x range = 5-95%\")\n",
    "plt.xlim(xlimits)\n",
    "plt.grid(visible=True)"
   ]
  },
  {
   "cell_type": "code",
   "execution_count": 11,
   "metadata": {},
   "outputs": [],
   "source": [
    "# Rename BUREAU OF INDIAN AFFAIRS to BUREAU OF INDIAN EDUCATION\n",
    "indian_affairs_rows = big_df.query(\"STNAM.str.contains('INDIAN AFFAIRS')\").index\n",
    "big_df.loc[indian_affairs_rows,'STNAM'] = 'BUREAU OF INDIAN EDUCATION' "
   ]
  },
  {
   "cell_type": "code",
   "execution_count": 12,
   "metadata": {},
   "outputs": [],
   "source": [
    "big_df.to_csv('grad_rate_intermediate.csv.bak',index=False)"
   ]
  },
  {
   "cell_type": "markdown",
   "metadata": {},
   "source": [
    "# School Directory Dataset"
   ]
  },
  {
   "cell_type": "code",
   "execution_count": 13,
   "metadata": {},
   "outputs": [
    {
     "data": {
      "text/plain": [
       "(3381565, 52)"
      ]
     },
     "execution_count": 13,
     "metadata": {},
     "output_type": "execute_result"
    }
   ],
   "source": [
    "conn = boto3.client('s3')\n",
    "local_dir_filename = 'directory_all.csv.bak'\n",
    "if not os.path.exists('./' + local_dir_filename):\n",
    "    conn.download_file(\n",
    "        'edu-data-bucket', 'directory/schools_ccd_directory.csv', local_dir_filename)\n",
    "\n",
    "df0 = pd.read_csv(local_dir_filename, low_memory=False)\n",
    "\n",
    "df0.shape\n"
   ]
  },
  {
   "cell_type": "code",
   "execution_count": 14,
   "metadata": {},
   "outputs": [
    {
     "name": "stderr",
     "output_type": "stream",
     "text": [
      "/tmp/ipykernel_460836/3042575937.py:23: SettingWithCopyWarning: \n",
      "A value is trying to be set on a copy of a slice from a DataFrame\n",
      "\n",
      "See the caveats in the documentation: https://pandas.pydata.org/pandas-docs/stable/user_guide/indexing.html#returning-a-view-versus-a-copy\n",
      "  our_years.drop(['ncessch_num', 'school_id', 'lea_name',\n"
     ]
    }
   ],
   "source": [
    "# Observations\n",
    "#  There are many years and schools in this dataset that are not in the graduation rate dataset\n",
    "# * Ncessch and ncessch_num appear to be duplicates\n",
    "# * Features shared with the Adjusted Cohort dataset are\n",
    "#     * ncessch\n",
    "#     * school_name\n",
    "#     * leaid\n",
    "#     * lea_name\n",
    "#     * state_location\n",
    "#     * fips\n",
    "\n",
    "# Subset to our years of interest\n",
    "years = list(range(2010, 2019))\n",
    "our_years = df0.query('year in @years')\n",
    "pd.set_option('display.max_columns', 99)\n",
    "our_years.head(n=3)\n",
    "\n",
    "# Remove uninteresting columns\n",
    "# Uninteresting because duplicate: 'school_id', 'ncessch_num', 'leaid','lea_name','school_name', 'state_location','fips', 'phone_string'\n",
    "# Verify ncessch == ncescch_num since we will merge on it later.\n",
    "# Leave school district identifier for verification that the merge worked later.\n",
    "assert all(our_years.ncessch == our_years.ncessch_num)\n",
    "our_years.drop(['ncessch_num', 'school_id', 'lea_name',\n",
    "               'school_name', 'state_location', 'fips','school_status', 'longitude','phone','city_location','street_location','street_mailing', 'state_leaid','state_leg_district_lower','state_leg_district_upper','congress_district_id','csa','cbsa','direct_certification','title_i_schoolwide', 'lunch_program','seasch','city_mailing','state_mailing','elem_cedp','middle_cedp','high_cedp','shared_time','bureau_indian_education'], axis=1, inplace=True)"
   ]
  },
  {
   "cell_type": "code",
   "execution_count": 15,
   "metadata": {},
   "outputs": [
    {
     "name": "stderr",
     "output_type": "stream",
     "text": [
      "/tmp/ipykernel_460836/1767996848.py:21: SettingWithCopyWarning: \n",
      "A value is trying to be set on a copy of a slice from a DataFrame.\n",
      "Try using .loc[row_indexer,col_indexer] = value instead\n",
      "\n",
      "See the caveats in the documentation: https://pandas.pydata.org/pandas-docs/stable/user_guide/indexing.html#returning-a-view-versus-a-copy\n",
      "  our_years.loc[:,str_cols] = our_years[str_cols].where(~str_col_special_nans,other=np.nan)\n",
      "/tmp/ipykernel_460836/1767996848.py:22: SettingWithCopyWarning: \n",
      "A value is trying to be set on a copy of a slice from a DataFrame.\n",
      "Try using .loc[row_indexer,col_indexer] = value instead\n",
      "\n",
      "See the caveats in the documentation: https://pandas.pydata.org/pandas-docs/stable/user_guide/indexing.html#returning-a-view-versus-a-copy\n",
      "  our_years.loc[:,num_cols] = our_years[num_cols].where(~num_col_special_nans,other=np.nan)\n",
      "/tmp/ipykernel_460836/1767996848.py:26: SettingWithCopyWarning: \n",
      "A value is trying to be set on a copy of a slice from a DataFrame\n",
      "\n",
      "See the caveats in the documentation: https://pandas.pydata.org/pandas-docs/stable/user_guide/indexing.html#returning-a-view-versus-a-copy\n",
      "  our_years.drop(non_high_schools.index,axis=0,inplace=True)\n"
     ]
    }
   ],
   "source": [
    "# Missingness\n",
    "\n",
    "# Impute -1,-2,-3 missing values to nans\n",
    "# Find strings equal to -1,-2, or -3\n",
    "special_vals = pd.DataFrame([(our_years.select_dtypes(include=[object]) == \"-1\").sum(), (our_years.select_dtypes(\n",
    "    include=[object]) == \"-2\").sum(), (our_years.select_dtypes(include=[object]) == \"-3\").sum()])\n",
    "special_vals.index = [\"-1\", \"-2\", \"-3\"]\n",
    "special_vals\n",
    "\n",
    "special_vals = pd.DataFrame([(our_years.select_dtypes(include=[np.number]) == -1).sum(), (our_years.select_dtypes(\n",
    "    include=[np.number]) == -2).sum(), (our_years.select_dtypes(include=[np.number]) == -3).sum()])\n",
    "special_vals.index = [\"-1\", \"-2\", \"-3\"]\n",
    "special_vals\n",
    "\n",
    "str_cols = our_years.select_dtypes(include=object).columns.tolist()\n",
    "num_cols = our_years.select_dtypes(include=np.number).columns.tolist()\n",
    "str_col_special_nans = (our_years[str_cols] == \"-1\") | (our_years[str_cols] == \"-2\") \n",
    "num_col_special_nans = (our_years[num_cols] < 0)\n",
    "assert \"highest_grade_offered\" in num_cols\n",
    "\n",
    "our_years.loc[:,str_cols] = our_years[str_cols].where(~str_col_special_nans,other=np.nan)\n",
    "our_years.loc[:,num_cols] = our_years[num_cols].where(~num_col_special_nans,other=np.nan)\n",
    "\n",
    "our_years.highest_grade_offered.value_counts()\n",
    "non_high_schools = our_years.query('highest_grade_offered <= 9')\n",
    "our_years.drop(non_high_schools.index,axis=0,inplace=True)\n",
    "\n"
   ]
  },
  {
   "cell_type": "code",
   "execution_count": 16,
   "metadata": {},
   "outputs": [
    {
     "name": "stderr",
     "output_type": "stream",
     "text": [
      "/tmp/ipykernel_460836/127421010.py:4: SettingWithCopyWarning: \n",
      "A value is trying to be set on a copy of a slice from a DataFrame\n",
      "\n",
      "See the caveats in the documentation: https://pandas.pydata.org/pandas-docs/stable/user_guide/indexing.html#returning-a-view-versus-a-copy\n",
      "  our_years.virtual.replace(np.nan,0,inplace=True)\n"
     ]
    }
   ],
   "source": [
    "# Meaningful Missingness\n",
    "# Use school directory cookbook to make decisions are removing columns that we are uncertain about.\n",
    "\n",
    "our_years.virtual.replace(np.nan,0,inplace=True)\n",
    "assert our_years.virtual.isnull().sum() == 0"
   ]
  },
  {
   "cell_type": "code",
   "execution_count": 17,
   "metadata": {},
   "outputs": [
    {
     "data": {
      "text/plain": [
       "<AxesSubplot:>"
      ]
     },
     "execution_count": 17,
     "metadata": {},
     "output_type": "execute_result"
    },
    {
     "data": {
      "image/png": "[encoded data removed]",
      "text/plain": [
       "<Figure size 1800x720 with 2 Axes>"
      ]
     },
     "metadata": {
      "needs_background": "light"
     },
     "output_type": "display_data"
    }
   ],
   "source": [
    "import missingno\n",
    "missingno.matrix(our_years)"
   ]
  },
  {
   "cell_type": "code",
   "execution_count": 18,
   "metadata": {},
   "outputs": [
    {
     "data": {
      "text/plain": [
       "2252826    NaN\n",
       "2252827    NaN\n",
       "2252828    NaN\n",
       "2252829    NaN\n",
       "2252830    NaN\n",
       "          ... \n",
       "3178199    0.0\n",
       "3178201    0.0\n",
       "3178203    NaN\n",
       "3178204    0.0\n",
       "3178210    NaN\n",
       "Length: 287272, dtype: float64"
      ]
     },
     "execution_count": 18,
     "metadata": {},
     "output_type": "execute_result"
    }
   ],
   "source": [
    "# Examine reduced_price_lunch to see how similar it is to free_or_reduced_price_lunch\n",
    "np.subtract(our_years.free_lunch,our_years.free_or_reduced_price_lunch)\n",
    "# It looks like there is some additional information in both columns so we'll keep them both."
   ]
  },
  {
   "cell_type": "code",
   "execution_count": 19,
   "metadata": {},
   "outputs": [
    {
     "name": "stderr",
     "output_type": "stream",
     "text": [
      "/tmp/ipykernel_460836/3339393172.py:2: SettingWithCopyWarning: \n",
      "A value is trying to be set on a copy of a slice from a DataFrame\n",
      "\n",
      "See the caveats in the documentation: https://pandas.pydata.org/pandas-docs/stable/user_guide/indexing.html#returning-a-view-versus-a-copy\n",
      "  our_years.dropna(inplace=True)\n"
     ]
    }
   ],
   "source": [
    "# Drop all rows with a missing feature, the simplest way to get rid of our nans\n",
    "our_years.dropna(inplace=True)\n",
    "our_years = our_years.convert_dtypes(convert_string=False)"
   ]
  },
  {
   "cell_type": "code",
   "execution_count": 20,
   "metadata": {},
   "outputs": [
    {
     "data": {
      "text/html": [
       "<div>\n",
       "<style scoped>\n",
       "    .dataframe tbody tr th:only-of-type {\n",
       "        vertical-align: middle;\n",
       "    }\n",
       "\n",
       "    .dataframe tbody tr th {\n",
       "        vertical-align: top;\n",
       "    }\n",
       "\n",
       "    .dataframe thead th {\n",
       "        text-align: right;\n",
       "    }\n",
       "</style>\n",
       "<table border=\"1\" class=\"dataframe\">\n",
       "  <thead>\n",
       "    <tr style=\"text-align: right;\">\n",
       "      <th></th>\n",
       "      <th>year</th>\n",
       "      <th>ncessch</th>\n",
       "      <th>leaid</th>\n",
       "      <th>zip_mailing</th>\n",
       "      <th>zip_location</th>\n",
       "      <th>latitude</th>\n",
       "      <th>urban_centric_locale</th>\n",
       "      <th>county_code</th>\n",
       "      <th>school_level</th>\n",
       "      <th>school_type</th>\n",
       "      <th>lowest_grade_offered</th>\n",
       "      <th>highest_grade_offered</th>\n",
       "      <th>title_i_status</th>\n",
       "      <th>title_i_eligible</th>\n",
       "      <th>charter</th>\n",
       "      <th>magnet</th>\n",
       "      <th>virtual</th>\n",
       "      <th>teachers_fte</th>\n",
       "      <th>free_lunch</th>\n",
       "      <th>reduced_price_lunch</th>\n",
       "      <th>free_or_reduced_price_lunch</th>\n",
       "      <th>enrollment</th>\n",
       "      <th>ungrade_cedp</th>\n",
       "    </tr>\n",
       "  </thead>\n",
       "  <tbody>\n",
       "    <tr>\n",
       "      <th>0</th>\n",
       "      <td>Int64</td>\n",
       "      <td>Int64</td>\n",
       "      <td>Int64</td>\n",
       "      <td>object</td>\n",
       "      <td>Int64</td>\n",
       "      <td>Float64</td>\n",
       "      <td>Int64</td>\n",
       "      <td>Int64</td>\n",
       "      <td>Int64</td>\n",
       "      <td>Int64</td>\n",
       "      <td>Int64</td>\n",
       "      <td>Int64</td>\n",
       "      <td>Int64</td>\n",
       "      <td>Int64</td>\n",
       "      <td>Int64</td>\n",
       "      <td>Int64</td>\n",
       "      <td>Int64</td>\n",
       "      <td>Float64</td>\n",
       "      <td>Int64</td>\n",
       "      <td>Int64</td>\n",
       "      <td>Int64</td>\n",
       "      <td>Int64</td>\n",
       "      <td>Int64</td>\n",
       "    </tr>\n",
       "  </tbody>\n",
       "</table>\n",
       "</div>"
      ],
      "text/plain": [
       "    year ncessch  leaid zip_mailing zip_location latitude  \\\n",
       "0  Int64   Int64  Int64      object        Int64  Float64   \n",
       "\n",
       "  urban_centric_locale county_code school_level school_type  \\\n",
       "0                Int64       Int64        Int64       Int64   \n",
       "\n",
       "  lowest_grade_offered highest_grade_offered title_i_status title_i_eligible  \\\n",
       "0                Int64                 Int64          Int64            Int64   \n",
       "\n",
       "  charter magnet virtual teachers_fte free_lunch reduced_price_lunch  \\\n",
       "0   Int64  Int64   Int64      Float64      Int64               Int64   \n",
       "\n",
       "  free_or_reduced_price_lunch enrollment ungrade_cedp  \n",
       "0                       Int64      Int64        Int64  "
      ]
     },
     "execution_count": 20,
     "metadata": {},
     "output_type": "execute_result"
    }
   ],
   "source": [
    "# Examine features that are still objects \n",
    "pd.DataFrame(our_years.dtypes).T"
   ]
  },
  {
   "cell_type": "code",
   "execution_count": 21,
   "metadata": {},
   "outputs": [
    {
     "data": {
      "text/plain": [
       "<AxesSubplot:>"
      ]
     },
     "execution_count": 21,
     "metadata": {},
     "output_type": "execute_result"
    },
    {
     "data": {
      "image/png": "[encoded data removed]",
      "text/plain": [
       "<Figure size 1800x720 with 2 Axes>"
      ]
     },
     "metadata": {
      "needs_background": "light"
     },
     "output_type": "display_data"
    }
   ],
   "source": [
    "our_years.shape\n",
    "missingno.matrix(our_years)"
   ]
  },
  {
   "cell_type": "code",
   "execution_count": 22,
   "metadata": {},
   "outputs": [
    {
     "data": {
      "text/plain": [
       "(109989, 23)"
      ]
     },
     "execution_count": 22,
     "metadata": {},
     "output_type": "execute_result"
    }
   ],
   "source": [
    "# Noting down how many instances we'll have when we trim off 2010 and 2011\n",
    "our_years.query('year >= 2012').shape"
   ]
  },
  {
   "cell_type": "code",
   "execution_count": 23,
   "metadata": {},
   "outputs": [
    {
     "name": "stdout",
     "output_type": "stream",
     "text": [
      "<class 'pandas.core.frame.DataFrame'>\n",
      "Int64Index: 136367 entries, 2254443 to 3176837\n",
      "Data columns (total 23 columns):\n",
      " #   Column                       Non-Null Count   Dtype  \n",
      "---  ------                       --------------   -----  \n",
      " 0   year                         136367 non-null  Int64  \n",
      " 1   ncessch                      136367 non-null  Int64  \n",
      " 2   leaid                        136367 non-null  Int64  \n",
      " 3   zip_mailing                  136367 non-null  object \n",
      " 4   zip_location                 136367 non-null  Int64  \n",
      " 5   latitude                     136367 non-null  Float64\n",
      " 6   urban_centric_locale         136367 non-null  Int64  \n",
      " 7   county_code                  136367 non-null  Int64  \n",
      " 8   school_level                 136367 non-null  Int64  \n",
      " 9   school_type                  136367 non-null  Int64  \n",
      " 10  lowest_grade_offered         136367 non-null  Int64  \n",
      " 11  highest_grade_offered        136367 non-null  Int64  \n",
      " 12  title_i_status               136367 non-null  Int64  \n",
      " 13  title_i_eligible             136367 non-null  Int64  \n",
      " 14  charter                      136367 non-null  Int64  \n",
      " 15  magnet                       136367 non-null  Int64  \n",
      " 16  virtual                      136367 non-null  Int64  \n",
      " 17  teachers_fte                 136367 non-null  Float64\n",
      " 18  free_lunch                   136367 non-null  Int64  \n",
      " 19  reduced_price_lunch          136367 non-null  Int64  \n",
      " 20  free_or_reduced_price_lunch  136367 non-null  Int64  \n",
      " 21  enrollment                   136367 non-null  Int64  \n",
      " 22  ungrade_cedp                 136367 non-null  Int64  \n",
      "dtypes: Float64(2), Int64(20), object(1)\n",
      "memory usage: 27.8+ MB\n"
     ]
    },
    {
     "data": {
      "text/html": [
       "<div>\n",
       "<style scoped>\n",
       "    .dataframe tbody tr th:only-of-type {\n",
       "        vertical-align: middle;\n",
       "    }\n",
       "\n",
       "    .dataframe tbody tr th {\n",
       "        vertical-align: top;\n",
       "    }\n",
       "\n",
       "    .dataframe thead th {\n",
       "        text-align: right;\n",
       "    }\n",
       "</style>\n",
       "<table border=\"1\" class=\"dataframe\">\n",
       "  <thead>\n",
       "    <tr style=\"text-align: right;\">\n",
       "      <th></th>\n",
       "      <th>year</th>\n",
       "      <th>ncessch</th>\n",
       "      <th>leaid</th>\n",
       "      <th>zip_mailing</th>\n",
       "      <th>zip_location</th>\n",
       "      <th>latitude</th>\n",
       "      <th>urban_centric_locale</th>\n",
       "      <th>county_code</th>\n",
       "      <th>school_level</th>\n",
       "      <th>school_type</th>\n",
       "      <th>lowest_grade_offered</th>\n",
       "      <th>highest_grade_offered</th>\n",
       "      <th>title_i_status</th>\n",
       "      <th>title_i_eligible</th>\n",
       "      <th>charter</th>\n",
       "      <th>magnet</th>\n",
       "      <th>virtual</th>\n",
       "      <th>teachers_fte</th>\n",
       "      <th>free_lunch</th>\n",
       "      <th>reduced_price_lunch</th>\n",
       "      <th>free_or_reduced_price_lunch</th>\n",
       "      <th>enrollment</th>\n",
       "      <th>ungrade_cedp</th>\n",
       "    </tr>\n",
       "  </thead>\n",
       "  <tbody>\n",
       "    <tr>\n",
       "      <th>2254443</th>\n",
       "      <td>2010</td>\n",
       "      <td>20000100208</td>\n",
       "      <td>200001</td>\n",
       "      <td>99559</td>\n",
       "      <td>99559</td>\n",
       "      <td>60.802525</td>\n",
       "      <td>41</td>\n",
       "      <td>2050</td>\n",
       "      <td>4</td>\n",
       "      <td>1</td>\n",
       "      <td>6</td>\n",
       "      <td>12</td>\n",
       "      <td>3</td>\n",
       "      <td>1</td>\n",
       "      <td>0</td>\n",
       "      <td>0</td>\n",
       "      <td>0</td>\n",
       "      <td>31.5</td>\n",
       "      <td>170</td>\n",
       "      <td>14</td>\n",
       "      <td>184</td>\n",
       "      <td>482</td>\n",
       "      <td>0</td>\n",
       "    </tr>\n",
       "    <tr>\n",
       "      <th>2254450</th>\n",
       "      <td>2010</td>\n",
       "      <td>20000100215</td>\n",
       "      <td>200001</td>\n",
       "      <td>99651</td>\n",
       "      <td>99651</td>\n",
       "      <td>59.0103</td>\n",
       "      <td>43</td>\n",
       "      <td>2050</td>\n",
       "      <td>4</td>\n",
       "      <td>1</td>\n",
       "      <td>0</td>\n",
       "      <td>12</td>\n",
       "      <td>3</td>\n",
       "      <td>1</td>\n",
       "      <td>0</td>\n",
       "      <td>0</td>\n",
       "      <td>0</td>\n",
       "      <td>1.2</td>\n",
       "      <td>9</td>\n",
       "      <td>0</td>\n",
       "      <td>9</td>\n",
       "      <td>12</td>\n",
       "      <td>0</td>\n",
       "    </tr>\n",
       "    <tr>\n",
       "      <th>2254451</th>\n",
       "      <td>2010</td>\n",
       "      <td>20000100318</td>\n",
       "      <td>200001</td>\n",
       "      <td>99559</td>\n",
       "      <td>99559</td>\n",
       "      <td>60.79596</td>\n",
       "      <td>33</td>\n",
       "      <td>2050</td>\n",
       "      <td>3</td>\n",
       "      <td>4</td>\n",
       "      <td>8</td>\n",
       "      <td>12</td>\n",
       "      <td>3</td>\n",
       "      <td>1</td>\n",
       "      <td>0</td>\n",
       "      <td>0</td>\n",
       "      <td>0</td>\n",
       "      <td>4.0</td>\n",
       "      <td>33</td>\n",
       "      <td>1</td>\n",
       "      <td>34</td>\n",
       "      <td>42</td>\n",
       "      <td>0</td>\n",
       "    </tr>\n",
       "  </tbody>\n",
       "</table>\n",
       "</div>"
      ],
      "text/plain": [
       "         year      ncessch   leaid zip_mailing  zip_location   latitude  \\\n",
       "2254443  2010  20000100208  200001       99559         99559  60.802525   \n",
       "2254450  2010  20000100215  200001       99651         99651    59.0103   \n",
       "2254451  2010  20000100318  200001       99559         99559   60.79596   \n",
       "\n",
       "         urban_centric_locale  county_code  school_level  school_type  \\\n",
       "2254443                    41         2050             4            1   \n",
       "2254450                    43         2050             4            1   \n",
       "2254451                    33         2050             3            4   \n",
       "\n",
       "         lowest_grade_offered  highest_grade_offered  title_i_status  \\\n",
       "2254443                     6                     12               3   \n",
       "2254450                     0                     12               3   \n",
       "2254451                     8                     12               3   \n",
       "\n",
       "         title_i_eligible  charter  magnet  virtual  teachers_fte  free_lunch  \\\n",
       "2254443                 1        0       0        0          31.5         170   \n",
       "2254450                 1        0       0        0           1.2           9   \n",
       "2254451                 1        0       0        0           4.0          33   \n",
       "\n",
       "         reduced_price_lunch  free_or_reduced_price_lunch  enrollment  \\\n",
       "2254443                   14                          184         482   \n",
       "2254450                    0                            9          12   \n",
       "2254451                    1                           34          42   \n",
       "\n",
       "         ungrade_cedp  \n",
       "2254443             0  \n",
       "2254450             0  \n",
       "2254451             0  "
      ]
     },
     "execution_count": 23,
     "metadata": {},
     "output_type": "execute_result"
    }
   ],
   "source": [
    "our_years.info()\n",
    "our_years.to_csv('directory_intermediate_dataframe.csv.bak',index=False)\n",
    "our_years.head(n=3)"
   ]
  },
  {
   "cell_type": "markdown",
   "metadata": {},
   "source": [
    "# Math and Reading / Language Arts Assessment Participation"
   ]
  },
  {
   "cell_type": "code",
   "execution_count": 24,
   "metadata": {},
   "outputs": [
    {
     "name": "stdout",
     "output_type": "stream",
     "text": [
      "<class 'pandas.core.frame.DataFrame'>\n",
      "RangeIndex: 160367 entries, 0 to 160366\n",
      "Data columns (total 4 columns):\n",
      " #   Column         Non-Null Count   Dtype \n",
      "---  ------         --------------   ----- \n",
      " 0   Year           160367 non-null  int64 \n",
      " 1   NCESSCH        160367 non-null  int64 \n",
      " 2   Math_Pct_Part  160367 non-null  object\n",
      " 3   Rla_Pct_Part   160367 non-null  object\n",
      "dtypes: int64(2), object(2)\n",
      "memory usage: 4.9+ MB\n"
     ]
    }
   ],
   "source": [
    "# @TODO for completeness. Upload assessment participation for math and rla, the raw data, to S3\n",
    "# Ingest from S3 \n",
    "conn = boto3.client('s3')\n",
    "local_dir_filename = 'math_rla_percent_participation_prefiltered.csv.bak'\n",
    "if not os.path.exists('./' + local_dir_filename):\n",
    "    conn.download_file(\n",
    "        'edu-data-bucket', 'percent_participation/math_rla_percent_participation_prefiltered.csv', local_dir_filename)\n",
    "\n",
    "\n",
    "perc_part = pd.read_csv(local_dir_filename, low_memory=False)\n",
    "perc_part.shape, perc_part.info()\n",
    "\n",
    "# Save intermediate file locally\n",
    "perc_part.to_csv(\"percent_participation_intermediate.csv.bak\",index=False)"
   ]
  },
  {
   "cell_type": "markdown",
   "metadata": {},
   "source": [
    "# Merge datasets and output for exploration and modeling "
   ]
  },
  {
   "cell_type": "code",
   "execution_count": 25,
   "metadata": {},
   "outputs": [
    {
     "data": {
      "text/html": [
       "<div>\n",
       "<style scoped>\n",
       "    .dataframe tbody tr th:only-of-type {\n",
       "        vertical-align: middle;\n",
       "    }\n",
       "\n",
       "    .dataframe tbody tr th {\n",
       "        vertical-align: top;\n",
       "    }\n",
       "\n",
       "    .dataframe thead th {\n",
       "        text-align: right;\n",
       "    }\n",
       "</style>\n",
       "<table border=\"1\" class=\"dataframe\">\n",
       "  <thead>\n",
       "    <tr style=\"text-align: right;\">\n",
       "      <th></th>\n",
       "      <th>Year</th>\n",
       "      <th>NCESSCH</th>\n",
       "      <th>Math_Pct_Part</th>\n",
       "      <th>Rla_Pct_Part</th>\n",
       "    </tr>\n",
       "  </thead>\n",
       "  <tbody>\n",
       "    <tr>\n",
       "      <th>0</th>\n",
       "      <td>2018</td>\n",
       "      <td>10000500871</td>\n",
       "      <td>98</td>\n",
       "      <td>98</td>\n",
       "    </tr>\n",
       "    <tr>\n",
       "      <th>1</th>\n",
       "      <td>2018</td>\n",
       "      <td>10000600872</td>\n",
       "      <td>GE95</td>\n",
       "      <td>GE95</td>\n",
       "    </tr>\n",
       "    <tr>\n",
       "      <th>2</th>\n",
       "      <td>2018</td>\n",
       "      <td>10000600878</td>\n",
       "      <td>GE95</td>\n",
       "      <td>GE95</td>\n",
       "    </tr>\n",
       "    <tr>\n",
       "      <th>3</th>\n",
       "      <td>2018</td>\n",
       "      <td>10000600883</td>\n",
       "      <td>GE95</td>\n",
       "      <td>GE95</td>\n",
       "    </tr>\n",
       "    <tr>\n",
       "      <th>4</th>\n",
       "      <td>2018</td>\n",
       "      <td>10000601585</td>\n",
       "      <td>GE95</td>\n",
       "      <td>GE95</td>\n",
       "    </tr>\n",
       "    <tr>\n",
       "      <th>...</th>\n",
       "      <td>...</td>\n",
       "      <td>...</td>\n",
       "      <td>...</td>\n",
       "      <td>...</td>\n",
       "    </tr>\n",
       "    <tr>\n",
       "      <th>160362</th>\n",
       "      <td>2017</td>\n",
       "      <td>560582000393</td>\n",
       "      <td>GE80</td>\n",
       "      <td>GE80</td>\n",
       "    </tr>\n",
       "    <tr>\n",
       "      <th>160363</th>\n",
       "      <td>2017</td>\n",
       "      <td>560583000335</td>\n",
       "      <td>GE99</td>\n",
       "      <td>GE99</td>\n",
       "    </tr>\n",
       "    <tr>\n",
       "      <th>160364</th>\n",
       "      <td>2017</td>\n",
       "      <td>560583000512</td>\n",
       "      <td>GE80</td>\n",
       "      <td>GE80</td>\n",
       "    </tr>\n",
       "    <tr>\n",
       "      <th>160365</th>\n",
       "      <td>2017</td>\n",
       "      <td>560609000401</td>\n",
       "      <td>GE90</td>\n",
       "      <td>GE90</td>\n",
       "    </tr>\n",
       "    <tr>\n",
       "      <th>160366</th>\n",
       "      <td>2017</td>\n",
       "      <td>560624000343</td>\n",
       "      <td>GE95</td>\n",
       "      <td>GE95</td>\n",
       "    </tr>\n",
       "  </tbody>\n",
       "</table>\n",
       "<p>160367 rows × 4 columns</p>\n",
       "</div>"
      ],
      "text/plain": [
       "        Year       NCESSCH Math_Pct_Part Rla_Pct_Part\n",
       "0       2018   10000500871            98           98\n",
       "1       2018   10000600872          GE95         GE95\n",
       "2       2018   10000600878          GE95         GE95\n",
       "3       2018   10000600883          GE95         GE95\n",
       "4       2018   10000601585          GE95         GE95\n",
       "...      ...           ...           ...          ...\n",
       "160362  2017  560582000393          GE80         GE80\n",
       "160363  2017  560583000335          GE99         GE99\n",
       "160364  2017  560583000512          GE80         GE80\n",
       "160365  2017  560609000401          GE90         GE90\n",
       "160366  2017  560624000343          GE95         GE95\n",
       "\n",
       "[160367 rows x 4 columns]"
      ]
     },
     "execution_count": 25,
     "metadata": {},
     "output_type": "execute_result"
    }
   ],
   "source": [
    "\"\"\"\n",
    "Merge intermediate dataframes \n",
    "\"\"\"\n",
    "gr = pd.read_csv('grad_rate_intermediate.csv.bak')\n",
    "directory = pd.read_csv('directory_intermediate_dataframe.csv.bak')\n",
    "perc_part = pd.read_csv('percent_participation_intermediate.csv.bak')\n",
    "\n",
    "perc_part"
   ]
  },
  {
   "cell_type": "code",
   "execution_count": 26,
   "metadata": {},
   "outputs": [
    {
     "data": {
      "text/html": [
       "<div>\n",
       "<style scoped>\n",
       "    .dataframe tbody tr th:only-of-type {\n",
       "        vertical-align: middle;\n",
       "    }\n",
       "\n",
       "    .dataframe tbody tr th {\n",
       "        vertical-align: top;\n",
       "    }\n",
       "\n",
       "    .dataframe thead th {\n",
       "        text-align: right;\n",
       "    }\n",
       "</style>\n",
       "<table border=\"1\" class=\"dataframe\">\n",
       "  <thead>\n",
       "    <tr style=\"text-align: right;\">\n",
       "      <th></th>\n",
       "      <th>Year</th>\n",
       "      <th>STNAM</th>\n",
       "      <th>FIPST</th>\n",
       "      <th>LEAID</th>\n",
       "      <th>LEANM</th>\n",
       "      <th>NCESSCH</th>\n",
       "      <th>SCHNAM</th>\n",
       "      <th>ALL_COHORT_</th>\n",
       "      <th>ALL_RATE_</th>\n",
       "      <th>year</th>\n",
       "      <th>ncessch</th>\n",
       "      <th>leaid</th>\n",
       "      <th>zip_mailing</th>\n",
       "      <th>zip_location</th>\n",
       "      <th>latitude</th>\n",
       "      <th>urban_centric_locale</th>\n",
       "      <th>county_code</th>\n",
       "      <th>school_level</th>\n",
       "      <th>school_type</th>\n",
       "      <th>lowest_grade_offered</th>\n",
       "      <th>highest_grade_offered</th>\n",
       "      <th>title_i_status</th>\n",
       "      <th>title_i_eligible</th>\n",
       "      <th>charter</th>\n",
       "      <th>magnet</th>\n",
       "      <th>virtual</th>\n",
       "      <th>teachers_fte</th>\n",
       "      <th>free_lunch</th>\n",
       "      <th>reduced_price_lunch</th>\n",
       "      <th>free_or_reduced_price_lunch</th>\n",
       "      <th>enrollment</th>\n",
       "      <th>ungrade_cedp</th>\n",
       "      <th>Math_Pct_Part</th>\n",
       "      <th>Rla_Pct_Part</th>\n",
       "    </tr>\n",
       "  </thead>\n",
       "  <tbody>\n",
       "    <tr>\n",
       "      <th>0</th>\n",
       "      <td>2010</td>\n",
       "      <td>ALABAMA</td>\n",
       "      <td>1</td>\n",
       "      <td>100005</td>\n",
       "      <td>Albertville City</td>\n",
       "      <td>10000500871</td>\n",
       "      <td>Albertville High Sch</td>\n",
       "      <td>252</td>\n",
       "      <td>80.0</td>\n",
       "      <td>NaN</td>\n",
       "      <td>NaN</td>\n",
       "      <td>NaN</td>\n",
       "      <td>NaN</td>\n",
       "      <td>NaN</td>\n",
       "      <td>NaN</td>\n",
       "      <td>NaN</td>\n",
       "      <td>NaN</td>\n",
       "      <td>NaN</td>\n",
       "      <td>NaN</td>\n",
       "      <td>NaN</td>\n",
       "      <td>NaN</td>\n",
       "      <td>NaN</td>\n",
       "      <td>NaN</td>\n",
       "      <td>NaN</td>\n",
       "      <td>NaN</td>\n",
       "      <td>NaN</td>\n",
       "      <td>NaN</td>\n",
       "      <td>NaN</td>\n",
       "      <td>NaN</td>\n",
       "      <td>NaN</td>\n",
       "      <td>NaN</td>\n",
       "      <td>NaN</td>\n",
       "      <td>NaN</td>\n",
       "      <td>NaN</td>\n",
       "    </tr>\n",
       "    <tr>\n",
       "      <th>1</th>\n",
       "      <td>2010</td>\n",
       "      <td>ALABAMA</td>\n",
       "      <td>1</td>\n",
       "      <td>100006</td>\n",
       "      <td>Marshall County</td>\n",
       "      <td>10000600872</td>\n",
       "      <td>Asbury Sch</td>\n",
       "      <td>57</td>\n",
       "      <td>74.5</td>\n",
       "      <td>NaN</td>\n",
       "      <td>NaN</td>\n",
       "      <td>NaN</td>\n",
       "      <td>NaN</td>\n",
       "      <td>NaN</td>\n",
       "      <td>NaN</td>\n",
       "      <td>NaN</td>\n",
       "      <td>NaN</td>\n",
       "      <td>NaN</td>\n",
       "      <td>NaN</td>\n",
       "      <td>NaN</td>\n",
       "      <td>NaN</td>\n",
       "      <td>NaN</td>\n",
       "      <td>NaN</td>\n",
       "      <td>NaN</td>\n",
       "      <td>NaN</td>\n",
       "      <td>NaN</td>\n",
       "      <td>NaN</td>\n",
       "      <td>NaN</td>\n",
       "      <td>NaN</td>\n",
       "      <td>NaN</td>\n",
       "      <td>NaN</td>\n",
       "      <td>NaN</td>\n",
       "      <td>NaN</td>\n",
       "      <td>NaN</td>\n",
       "    </tr>\n",
       "    <tr>\n",
       "      <th>2</th>\n",
       "      <td>2010</td>\n",
       "      <td>ALABAMA</td>\n",
       "      <td>1</td>\n",
       "      <td>100006</td>\n",
       "      <td>Marshall County</td>\n",
       "      <td>10000600878</td>\n",
       "      <td>Douglas High Sch</td>\n",
       "      <td>125</td>\n",
       "      <td>67.0</td>\n",
       "      <td>NaN</td>\n",
       "      <td>NaN</td>\n",
       "      <td>NaN</td>\n",
       "      <td>NaN</td>\n",
       "      <td>NaN</td>\n",
       "      <td>NaN</td>\n",
       "      <td>NaN</td>\n",
       "      <td>NaN</td>\n",
       "      <td>NaN</td>\n",
       "      <td>NaN</td>\n",
       "      <td>NaN</td>\n",
       "      <td>NaN</td>\n",
       "      <td>NaN</td>\n",
       "      <td>NaN</td>\n",
       "      <td>NaN</td>\n",
       "      <td>NaN</td>\n",
       "      <td>NaN</td>\n",
       "      <td>NaN</td>\n",
       "      <td>NaN</td>\n",
       "      <td>NaN</td>\n",
       "      <td>NaN</td>\n",
       "      <td>NaN</td>\n",
       "      <td>NaN</td>\n",
       "      <td>NaN</td>\n",
       "      <td>NaN</td>\n",
       "    </tr>\n",
       "    <tr>\n",
       "      <th>3</th>\n",
       "      <td>2010</td>\n",
       "      <td>ALABAMA</td>\n",
       "      <td>1</td>\n",
       "      <td>100006</td>\n",
       "      <td>Marshall County</td>\n",
       "      <td>10000600883</td>\n",
       "      <td>Kate D Smith DAR High Sch</td>\n",
       "      <td>121</td>\n",
       "      <td>82.0</td>\n",
       "      <td>NaN</td>\n",
       "      <td>NaN</td>\n",
       "      <td>NaN</td>\n",
       "      <td>NaN</td>\n",
       "      <td>NaN</td>\n",
       "      <td>NaN</td>\n",
       "      <td>NaN</td>\n",
       "      <td>NaN</td>\n",
       "      <td>NaN</td>\n",
       "      <td>NaN</td>\n",
       "      <td>NaN</td>\n",
       "      <td>NaN</td>\n",
       "      <td>NaN</td>\n",
       "      <td>NaN</td>\n",
       "      <td>NaN</td>\n",
       "      <td>NaN</td>\n",
       "      <td>NaN</td>\n",
       "      <td>NaN</td>\n",
       "      <td>NaN</td>\n",
       "      <td>NaN</td>\n",
       "      <td>NaN</td>\n",
       "      <td>NaN</td>\n",
       "      <td>NaN</td>\n",
       "      <td>NaN</td>\n",
       "      <td>NaN</td>\n",
       "    </tr>\n",
       "    <tr>\n",
       "      <th>4</th>\n",
       "      <td>2010</td>\n",
       "      <td>ALABAMA</td>\n",
       "      <td>1</td>\n",
       "      <td>100006</td>\n",
       "      <td>Marshall County</td>\n",
       "      <td>10000601585</td>\n",
       "      <td>Brindlee Mt High Sch</td>\n",
       "      <td>94</td>\n",
       "      <td>77.0</td>\n",
       "      <td>NaN</td>\n",
       "      <td>NaN</td>\n",
       "      <td>NaN</td>\n",
       "      <td>NaN</td>\n",
       "      <td>NaN</td>\n",
       "      <td>NaN</td>\n",
       "      <td>NaN</td>\n",
       "      <td>NaN</td>\n",
       "      <td>NaN</td>\n",
       "      <td>NaN</td>\n",
       "      <td>NaN</td>\n",
       "      <td>NaN</td>\n",
       "      <td>NaN</td>\n",
       "      <td>NaN</td>\n",
       "      <td>NaN</td>\n",
       "      <td>NaN</td>\n",
       "      <td>NaN</td>\n",
       "      <td>NaN</td>\n",
       "      <td>NaN</td>\n",
       "      <td>NaN</td>\n",
       "      <td>NaN</td>\n",
       "      <td>NaN</td>\n",
       "      <td>NaN</td>\n",
       "      <td>NaN</td>\n",
       "      <td>NaN</td>\n",
       "    </tr>\n",
       "  </tbody>\n",
       "</table>\n",
       "</div>"
      ],
      "text/plain": [
       "   Year    STNAM  FIPST   LEAID             LEANM      NCESSCH  \\\n",
       "0  2010  ALABAMA      1  100005  Albertville City  10000500871   \n",
       "1  2010  ALABAMA      1  100006   Marshall County  10000600872   \n",
       "2  2010  ALABAMA      1  100006   Marshall County  10000600878   \n",
       "3  2010  ALABAMA      1  100006   Marshall County  10000600883   \n",
       "4  2010  ALABAMA      1  100006   Marshall County  10000601585   \n",
       "\n",
       "                      SCHNAM  ALL_COHORT_  ALL_RATE_  year  ncessch  leaid  \\\n",
       "0       Albertville High Sch          252       80.0   NaN      NaN    NaN   \n",
       "1                 Asbury Sch           57       74.5   NaN      NaN    NaN   \n",
       "2           Douglas High Sch          125       67.0   NaN      NaN    NaN   \n",
       "3  Kate D Smith DAR High Sch          121       82.0   NaN      NaN    NaN   \n",
       "4       Brindlee Mt High Sch           94       77.0   NaN      NaN    NaN   \n",
       "\n",
       "   zip_mailing  zip_location  latitude  urban_centric_locale  county_code  \\\n",
       "0          NaN           NaN       NaN                   NaN          NaN   \n",
       "1          NaN           NaN       NaN                   NaN          NaN   \n",
       "2          NaN           NaN       NaN                   NaN          NaN   \n",
       "3          NaN           NaN       NaN                   NaN          NaN   \n",
       "4          NaN           NaN       NaN                   NaN          NaN   \n",
       "\n",
       "   school_level  school_type  lowest_grade_offered  highest_grade_offered  \\\n",
       "0           NaN          NaN                   NaN                    NaN   \n",
       "1           NaN          NaN                   NaN                    NaN   \n",
       "2           NaN          NaN                   NaN                    NaN   \n",
       "3           NaN          NaN                   NaN                    NaN   \n",
       "4           NaN          NaN                   NaN                    NaN   \n",
       "\n",
       "   title_i_status  title_i_eligible  charter  magnet  virtual  teachers_fte  \\\n",
       "0             NaN               NaN      NaN     NaN      NaN           NaN   \n",
       "1             NaN               NaN      NaN     NaN      NaN           NaN   \n",
       "2             NaN               NaN      NaN     NaN      NaN           NaN   \n",
       "3             NaN               NaN      NaN     NaN      NaN           NaN   \n",
       "4             NaN               NaN      NaN     NaN      NaN           NaN   \n",
       "\n",
       "   free_lunch  reduced_price_lunch  free_or_reduced_price_lunch  enrollment  \\\n",
       "0         NaN                  NaN                          NaN         NaN   \n",
       "1         NaN                  NaN                          NaN         NaN   \n",
       "2         NaN                  NaN                          NaN         NaN   \n",
       "3         NaN                  NaN                          NaN         NaN   \n",
       "4         NaN                  NaN                          NaN         NaN   \n",
       "\n",
       "   ungrade_cedp Math_Pct_Part Rla_Pct_Part  \n",
       "0           NaN           NaN          NaN  \n",
       "1           NaN           NaN          NaN  \n",
       "2           NaN           NaN          NaN  \n",
       "3           NaN           NaN          NaN  \n",
       "4           NaN           NaN          NaN  "
      ]
     },
     "execution_count": 26,
     "metadata": {},
     "output_type": "execute_result"
    }
   ],
   "source": [
    "\n",
    "merge0 = gr.merge(directory,how='left', left_on=('Year','NCESSCH'),right_on=('year','ncessch'))\n",
    "merge1 = merge0.merge(perc_part,how='left',left_on=('Year','NCESSCH'),right_on=('Year','NCESSCH'))\n",
    "merge1.head()"
   ]
  },
  {
   "cell_type": "code",
   "execution_count": 27,
   "metadata": {},
   "outputs": [
    {
     "data": {
      "text/plain": [
       "(89683, 31)"
      ]
     },
     "execution_count": 27,
     "metadata": {},
     "output_type": "execute_result"
    }
   ],
   "source": [
    "# Drop redundant columns seen after merging\n",
    "merge1.drop(['year','ncessch','leaid'],axis=1,inplace=True)\n",
    "merge1.dropna(inplace=True)\n",
    "merge1.shape"
   ]
  },
  {
   "cell_type": "code",
   "execution_count": 28,
   "metadata": {},
   "outputs": [
    {
     "data": {
      "text/plain": [
       "<AxesSubplot:>"
      ]
     },
     "execution_count": 28,
     "metadata": {},
     "output_type": "execute_result"
    },
    {
     "data": {
      "image/png": "[encoded data removed]",
      "text/plain": [
       "<Figure size 1800x720 with 2 Axes>"
      ]
     },
     "metadata": {
      "needs_background": "light"
     },
     "output_type": "display_data"
    }
   ],
   "source": [
    "missingno.matrix(merge1)"
   ]
  },
  {
   "cell_type": "code",
   "execution_count": 29,
   "metadata": {},
   "outputs": [
    {
     "data": {
      "text/html": [
       "<div>\n",
       "<style scoped>\n",
       "    .dataframe tbody tr th:only-of-type {\n",
       "        vertical-align: middle;\n",
       "    }\n",
       "\n",
       "    .dataframe tbody tr th {\n",
       "        vertical-align: top;\n",
       "    }\n",
       "\n",
       "    .dataframe thead th {\n",
       "        text-align: right;\n",
       "    }\n",
       "</style>\n",
       "<table border=\"1\" class=\"dataframe\">\n",
       "  <thead>\n",
       "    <tr style=\"text-align: right;\">\n",
       "      <th></th>\n",
       "      <th>Year</th>\n",
       "      <th>FIPST</th>\n",
       "      <th>LEAID</th>\n",
       "      <th>NCESSCH</th>\n",
       "      <th>ALL_COHORT_</th>\n",
       "      <th>ALL_RATE_</th>\n",
       "      <th>zip_mailing</th>\n",
       "      <th>zip_location</th>\n",
       "      <th>latitude</th>\n",
       "      <th>urban_centric_locale</th>\n",
       "      <th>county_code</th>\n",
       "      <th>school_level</th>\n",
       "      <th>school_type</th>\n",
       "      <th>lowest_grade_offered</th>\n",
       "      <th>highest_grade_offered</th>\n",
       "      <th>title_i_status</th>\n",
       "      <th>title_i_eligible</th>\n",
       "      <th>charter</th>\n",
       "      <th>magnet</th>\n",
       "      <th>virtual</th>\n",
       "      <th>teachers_fte</th>\n",
       "      <th>free_lunch</th>\n",
       "      <th>reduced_price_lunch</th>\n",
       "      <th>free_or_reduced_price_lunch</th>\n",
       "      <th>enrollment</th>\n",
       "      <th>ungrade_cedp</th>\n",
       "    </tr>\n",
       "  </thead>\n",
       "  <tbody>\n",
       "    <tr>\n",
       "      <th>0</th>\n",
       "      <td>1</td>\n",
       "      <td>4</td>\n",
       "      <td>4</td>\n",
       "      <td>4</td>\n",
       "      <td>8</td>\n",
       "      <td>3</td>\n",
       "      <td>2</td>\n",
       "      <td>2</td>\n",
       "      <td>1</td>\n",
       "      <td>6</td>\n",
       "      <td>4</td>\n",
       "      <td>2</td>\n",
       "      <td>4</td>\n",
       "      <td>3</td>\n",
       "      <td>2</td>\n",
       "      <td>2</td>\n",
       "      <td>2</td>\n",
       "      <td>1</td>\n",
       "      <td>1</td>\n",
       "      <td>1</td>\n",
       "      <td>9</td>\n",
       "      <td>7</td>\n",
       "      <td>6</td>\n",
       "      <td>7</td>\n",
       "      <td>8</td>\n",
       "      <td>2</td>\n",
       "    </tr>\n",
       "  </tbody>\n",
       "</table>\n",
       "</div>"
      ],
      "text/plain": [
       "   Year  FIPST  LEAID  NCESSCH  ALL_COHORT_  ALL_RATE_  zip_mailing  \\\n",
       "0     1      4      4        4            8          3            2   \n",
       "\n",
       "   zip_location  latitude  urban_centric_locale  county_code  school_level  \\\n",
       "0             2         1                     6            4             2   \n",
       "\n",
       "   school_type  lowest_grade_offered  highest_grade_offered  title_i_status  \\\n",
       "0            4                     3                      2               2   \n",
       "\n",
       "   title_i_eligible  charter  magnet  virtual  teachers_fte  free_lunch  \\\n",
       "0                 2        1       1        1             9           7   \n",
       "\n",
       "   reduced_price_lunch  free_or_reduced_price_lunch  enrollment  ungrade_cedp  \n",
       "0                    6                            7           8             2  "
      ]
     },
     "execution_count": 29,
     "metadata": {},
     "output_type": "execute_result"
    }
   ],
   "source": [
    "# View column pairs with minimal positive correlation or above\n",
    "pd.DataFrame((np.abs(merge1.corr()) > 0.3).sum()).T"
   ]
  },
  {
   "cell_type": "code",
   "execution_count": 30,
   "metadata": {},
   "outputs": [],
   "source": [
    "# Save out dataset A to disk\n",
    "merge1.to_csv('mergeA.csv.bak',index=False)"
   ]
  },
  {
   "cell_type": "code",
   "execution_count": null,
   "metadata": {},
   "outputs": [],
   "source": []
  }
 ],
 "metadata": {
  "kernelspec": {
   "display_name": "Python 3.10.5 ('my-env')",
   "language": "python",
   "name": "python3"
  },
  "language_info": {
   "codemirror_mode": {
    "name": "ipython",
    "version": 3
   },
   "file_extension": ".py",
   "mimetype": "text/x-python",
   "name": "python",
   "nbconvert_exporter": "python",
   "pygments_lexer": "ipython3",
   "version": "3.10.5"
  },
  "orig_nbformat": 4,
  "vscode": {
   "interpreter": {
    "hash": "d474be476f0a6db94789ad08b16ede00cb8654a4c727ed769fba79dc07ed6ebd"
   }
  }
 },
 "nbformat": 4,
 "nbformat_minor": 2
}
