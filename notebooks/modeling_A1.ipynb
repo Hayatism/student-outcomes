{
 "cells": [
  {
   "cell_type": "code",
   "execution_count": null,
   "metadata": {},
   "outputs": [],
   "source": []
  }
 ],
 "metadata": {
  "kernelspec": {
   "display_name": "Python 3.10.5 64-bit ('my-env')",
   "language": "python",
   "name": "python3"
  },
  "language_info": {
   "name": "python",
   "version": "3.10.5"
  },
  "orig_nbformat": 4,
  "vscode": {
   "interpreter": {
    "hash": "99d54f2eaddc1d9e974041688193e185cda7240b6008a35a2aa07d456f1ae6ca"
   }
  }
 },
 "nbformat": 4,
 "nbformat_minor": 2
}
