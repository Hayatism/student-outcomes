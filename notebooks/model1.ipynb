{
 "cells": [
  {
   "cell_type": "markdown",
   "metadata": {},
   "source": [
    "# Regression modeling "
   ]
  },
  {
   "cell_type": "code",
   "execution_count": 69,
   "metadata": {},
   "outputs": [],
   "source": [
    "import warnings\n",
    "import joblib\n",
    "import os\n",
    "import pandas as pd\n",
    "import numpy as np\n",
    "import matplotlib.pyplot as plt\n",
    "from sklearn.model_selection import train_test_split, GridSearchCV\n",
    "from yellowbrick.regressor import residuals_plot, ResidualsPlot\n",
    "from sklearn.pipeline import Pipeline\n",
    "from sklearn.preprocessing import StandardScaler, MinMaxScaler, PolynomialFeatures\n",
    "from feature_engine.wrappers import SklearnTransformerWrapper\n",
    "from sklearn.metrics import mean_squared_error\n",
    "from sklearn.ensemble import AdaBoostRegressor\n",
    "from sklearn.linear_model import ElasticNetCV, ElasticNet\n",
    "import json\n",
    "from sklearn.svm import SVR\n",
    "from sklearn.neural_network import MLPRegressor\n",
    "from sklearn.tree import DecisionTreeRegressor\n",
    "from sklearn.ensemble import RandomForestRegressor\n",
    "%matplotlib inline\n"
   ]
  },
  {
   "cell_type": "markdown",
   "metadata": {},
   "source": [
    "# Minimal Features Dataset\n",
    "    * ElasticNet\n",
    "    * SVM\n",
    "    * RandomForest\n",
    "    * AdaBoost\n",
    "    * Multilayer Perceptron"
   ]
  },
  {
   "cell_type": "code",
   "execution_count": 22,
   "metadata": {},
   "outputs": [
    {
     "name": "stdout",
     "output_type": "stream",
     "text": [
      "(83658, 40)\n"
     ]
    },
    {
     "data": {
      "text/html": [
       "<div>\n",
       "<style scoped>\n",
       "    .dataframe tbody tr th:only-of-type {\n",
       "        vertical-align: middle;\n",
       "    }\n",
       "\n",
       "    .dataframe tbody tr th {\n",
       "        vertical-align: top;\n",
       "    }\n",
       "\n",
       "    .dataframe thead th {\n",
       "        text-align: right;\n",
       "    }\n",
       "</style>\n",
       "<table border=\"1\" class=\"dataframe\">\n",
       "  <thead>\n",
       "    <tr style=\"text-align: right;\">\n",
       "      <th></th>\n",
       "      <th>School_Type_1.0</th>\n",
       "      <th>School_Type_4.0</th>\n",
       "      <th>Enrollment Teacher_Ratio2</th>\n",
       "      <th>Highest_Grade_Offered Rla_Pct_Part</th>\n",
       "      <th>Rla_Pct_Part</th>\n",
       "      <th>Rla_Pct_Part^2</th>\n",
       "      <th>Reduced_Price_Lunch Teacher_Ratio2</th>\n",
       "      <th>Teacher_Ratio2</th>\n",
       "      <th>Math_Pct_Part Rla_Pct_Part</th>\n",
       "      <th>Teacher_Ratio1</th>\n",
       "      <th>...</th>\n",
       "      <th>School_Level_4.0</th>\n",
       "      <th>Urban_Centric_Locale_12.0</th>\n",
       "      <th>School_Level_3.0</th>\n",
       "      <th>Virtual_0.0</th>\n",
       "      <th>School_Type_3.0</th>\n",
       "      <th>Grad_Rate</th>\n",
       "      <th>Ncessch</th>\n",
       "      <th>Year</th>\n",
       "      <th>Schnam</th>\n",
       "      <th>Stnam</th>\n",
       "    </tr>\n",
       "  </thead>\n",
       "  <tbody>\n",
       "    <tr>\n",
       "      <th>0</th>\n",
       "      <td>1</td>\n",
       "      <td>0</td>\n",
       "      <td>221.627990</td>\n",
       "      <td>1170.0</td>\n",
       "      <td>97.5</td>\n",
       "      <td>9506.25</td>\n",
       "      <td>12.263999</td>\n",
       "      <td>0.438000</td>\n",
       "      <td>9506.25</td>\n",
       "      <td>0.064921</td>\n",
       "      <td>...</td>\n",
       "      <td>1</td>\n",
       "      <td>0</td>\n",
       "      <td>0</td>\n",
       "      <td>1</td>\n",
       "      <td>0</td>\n",
       "      <td>52.0</td>\n",
       "      <td>20000100208</td>\n",
       "      <td>2012</td>\n",
       "      <td>Bethel Regional High School</td>\n",
       "      <td>ALASKA</td>\n",
       "    </tr>\n",
       "    <tr>\n",
       "      <th>1</th>\n",
       "      <td>0</td>\n",
       "      <td>1</td>\n",
       "      <td>8.714286</td>\n",
       "      <td>1080.0</td>\n",
       "      <td>90.0</td>\n",
       "      <td>8100.00</td>\n",
       "      <td>0.000000</td>\n",
       "      <td>0.142857</td>\n",
       "      <td>8100.00</td>\n",
       "      <td>0.065574</td>\n",
       "      <td>...</td>\n",
       "      <td>0</td>\n",
       "      <td>0</td>\n",
       "      <td>1</td>\n",
       "      <td>1</td>\n",
       "      <td>0</td>\n",
       "      <td>10.0</td>\n",
       "      <td>20000100318</td>\n",
       "      <td>2012</td>\n",
       "      <td>Bethel Alternative Boarding School</td>\n",
       "      <td>ALASKA</td>\n",
       "    </tr>\n",
       "  </tbody>\n",
       "</table>\n",
       "<p>2 rows × 40 columns</p>\n",
       "</div>"
      ],
      "text/plain": [
       "   School_Type_1.0  School_Type_4.0  Enrollment Teacher_Ratio2  \\\n",
       "0                1                0                 221.627990   \n",
       "1                0                1                   8.714286   \n",
       "\n",
       "   Highest_Grade_Offered Rla_Pct_Part  Rla_Pct_Part  Rla_Pct_Part^2  \\\n",
       "0                              1170.0          97.5         9506.25   \n",
       "1                              1080.0          90.0         8100.00   \n",
       "\n",
       "   Reduced_Price_Lunch Teacher_Ratio2  Teacher_Ratio2  \\\n",
       "0                           12.263999        0.438000   \n",
       "1                            0.000000        0.142857   \n",
       "\n",
       "   Math_Pct_Part Rla_Pct_Part  Teacher_Ratio1  ...  School_Level_4.0  \\\n",
       "0                     9506.25        0.064921  ...                 1   \n",
       "1                     8100.00        0.065574  ...                 0   \n",
       "\n",
       "   Urban_Centric_Locale_12.0  School_Level_3.0  Virtual_0.0  School_Type_3.0  \\\n",
       "0                          0                 0            1                0   \n",
       "1                          0                 1            1                0   \n",
       "\n",
       "   Grad_Rate      Ncessch  Year                              Schnam   Stnam  \n",
       "0       52.0  20000100208  2012         Bethel Regional High School  ALASKA  \n",
       "1       10.0  20000100318  2012  Bethel Alternative Boarding School  ALASKA  \n",
       "\n",
       "[2 rows x 40 columns]"
      ]
     },
     "execution_count": 22,
     "metadata": {},
     "output_type": "execute_result"
    }
   ],
   "source": [
    "df_min = pd.read_csv(\"../data/dataset_minimal_features_for_modeling.csv\")\n",
    "print(df_min.shape)\n",
    "df_min.head(n=2)\n"
   ]
  },
  {
   "cell_type": "code",
   "execution_count": 23,
   "metadata": {},
   "outputs": [],
   "source": [
    "# Split data into test & train\n",
    "y = df_min.pop('Grad_Rate')\n",
    "X = df_min\n",
    "X.drop([\"Ncessch\", \"Year\", \"Schnam\", \"Stnam\"], axis=1, inplace=True)\n",
    "\n",
    "Xtrain, Xtest, ytrain, ytest = train_test_split(\n",
    "    X, y, test_size=0.30, stratify=y, random_state=42)\n"
   ]
  },
  {
   "cell_type": "code",
   "execution_count": 24,
   "metadata": {},
   "outputs": [
    {
     "data": {
      "text/plain": [
       "School_Type_1.0                         int64\n",
       "School_Type_4.0                         int64\n",
       "Enrollment Teacher_Ratio2             float64\n",
       "Highest_Grade_Offered Rla_Pct_Part    float64\n",
       "Rla_Pct_Part                          float64\n",
       "Rla_Pct_Part^2                        float64\n",
       "Reduced_Price_Lunch Teacher_Ratio2    float64\n",
       "Teacher_Ratio2                        float64\n",
       "Math_Pct_Part Rla_Pct_Part            float64\n",
       "Teacher_Ratio1                        float64\n",
       "Free_Lunch                            float64\n",
       "Civilian_Labor_Force                  float64\n",
       "All_Cohort                              int64\n",
       "Enrollment                            float64\n",
       "Free_Or_Reduced_Price_Lunch           float64\n",
       "Teachers_Fte                          float64\n",
       "Reduced_Price_Lunch                   float64\n",
       "Math_Pct_Part                         float64\n",
       "Unemployment_Rate                     float64\n",
       "Title_I_Status_5.0                      int64\n",
       "Charter_0.0                             int64\n",
       "Urban_Centric_Locale_11.0               int64\n",
       "Num_Grades                            float64\n",
       "Lowest_Grade_Offered                  float64\n",
       "Virtual_1.0                             int64\n",
       "Metro_Or_Not_0.0                        int64\n",
       "Rural_Urban_Continuum_Code_1.0          int64\n",
       "Title_I_Eligible_1.0                    int64\n",
       "Title_I_Status_6.0                      int64\n",
       "Urban_Influence_Code_1.0                int64\n",
       "School_Level_4.0                        int64\n",
       "Urban_Centric_Locale_12.0               int64\n",
       "School_Level_3.0                        int64\n",
       "Virtual_0.0                             int64\n",
       "School_Type_3.0                         int64\n",
       "dtype: object"
      ]
     },
     "execution_count": 24,
     "metadata": {},
     "output_type": "execute_result"
    }
   ],
   "source": [
    "X.dtypes\n"
   ]
  },
  {
   "cell_type": "code",
   "execution_count": null,
   "metadata": {},
   "outputs": [],
   "source": [
    "def display_grid_results(results):\n",
    "    \"\"\" Print out the GridSearchCV results \"\"\"\n",
    "    print(f'Best parameters are: {results.best_params_}')\n",
    "    mean_score = results.cv_results_['mean_test_score']\n",
    "    std_score = results.cv_results_['std_test_score']\n",
    "    params = results.cv_results_['params']\n",
    "    for mean, std, params in zip(mean_score, std_score, params):\n",
    "        print(f'{round(mean,2)} + or -{round(std,2)} for the {params}')\n"
   ]
  },
  {
   "cell_type": "code",
   "execution_count": 26,
   "metadata": {},
   "outputs": [],
   "source": [
    "def append_to_model_params_log(string_id, obj):\n",
    "    \"\"\" Save data as json to the model_best_parameters log file\"\"\"\n",
    "    json.dump(string_id, open(\n",
    "        \"../logs/model_best_parameters.json\", mode='a'))\n",
    "    json.dump(obj, open(\n",
    "        \"../logs/model_best_parameters.json\", mode='a'))\n"
   ]
  },
  {
   "cell_type": "markdown",
   "metadata": {},
   "source": [
    "## ElasticNet (Generalized Linear Model)"
   ]
  },
  {
   "cell_type": "code",
   "execution_count": 27,
   "metadata": {},
   "outputs": [],
   "source": [
    "std_scaler = SklearnTransformerWrapper(transformer=StandardScaler(),\n",
    "                                       variables=Xtrain.columns.to_list())\n",
    "min_max_scaler = SklearnTransformerWrapper(transformer=MinMaxScaler(),\n",
    "                                           variables=Xtrain.columns.to_list())\n",
    "\n",
    "pipe_elastic = Pipeline(steps=[(\"scale\", std_scaler),\n",
    "                               (\"general_linear\",\n",
    "                               ElasticNetCV(\n",
    "                                l1_ratio=[0.1, 0.4, 0.7, 1.0],\n",
    "                                random_state=42,\n",
    "                                max_iter=2000,\n",
    "                                n_jobs=4,\n",
    "                                cv=10))\n",
    "                               ])\n"
   ]
  },
  {
   "cell_type": "code",
   "execution_count": 28,
   "metadata": {},
   "outputs": [
    {
     "data": {
      "image/png": "[encoded data removed]",
      "text/plain": [
       "<Figure size 648x432 with 2 Axes>"
      ]
     },
     "metadata": {
      "needs_background": "light"
     },
     "output_type": "display_data"
    },
    {
     "name": "stdout",
     "output_type": "stream",
     "text": [
      "RMSE 12.994430473370663\n"
     ]
    }
   ],
   "source": [
    "def make_residual_plot_and_print_rmse(Xtrain, ytrain, Xtest, ytest, pipe):\n",
    "    grid_results = pipe.fit(Xtrain, ytrain)\n",
    "    plt.rcParams['figure.figsize'] = (9, 6)\n",
    "    visualizer = ResidualsPlot(pipe, hist=False, qqplot=True)\n",
    "    visualizer.fit(Xtrain, ytrain)\n",
    "    visualizer.score(Xtest, ytest)\n",
    "    visualizer.show()\n",
    "    print(\"RMSE\", mean_squared_error(\n",
    "        ytest, visualizer.estimator.predict(Xtest), squared=False))\n",
    "    return grid_results\n",
    "\n",
    "\n",
    "elastic_grid_results = make_residual_plot_and_print_rmse(\n",
    "    Xtrain, ytrain, Xtest, ytest, pipe_elastic)\n"
   ]
  },
  {
   "cell_type": "markdown",
   "metadata": {},
   "source": [
    "# Support Vector Machine (SVR)"
   ]
  },
  {
   "cell_type": "code",
   "execution_count": 29,
   "metadata": {},
   "outputs": [],
   "source": [
    "pipe_svm = Pipeline(steps=[(\"scale\", std_scaler), (\"svr\", SVR())])\n",
    "\n",
    "param_grid = {\n",
    "    \"mlpr__epsilon\": [0.2, 0.4, 0.6],\n",
    "    \"mlpr__C\": [3, 5, 7],\n",
    "    \"mlpr__kernel\": [\"rbf\"],\n",
    "}\n",
    "\n",
    "\n",
    "local_model_path = (\n",
    "    \"../../student_outcome_saved_models/model_minimal_features_svr_gridsearch2.pkl\"\n",
    ")\n",
    "clf = {}\n",
    "if os.path.exists(local_model_path):\n",
    "    clf = joblib.load(local_model_path)\n",
    "else:\n",
    "    clf = GridSearchCV(\n",
    "        pipe_svm,\n",
    "        param_grid,\n",
    "        n_jobs=4,\n",
    "        verbose=3,\n",
    "        cv=10,\n",
    "        scoring=\"r2\",\n",
    "    )\n",
    "    clf.fit(Xtrain, ytrain)\n",
    "    joblib.dump(clf, local_model_path)\n",
    "    append_to_model_params_log(\"Minimal Features\", clf.best_params_)\n"
   ]
  },
  {
   "cell_type": "code",
   "execution_count": 30,
   "metadata": {},
   "outputs": [
    {
     "name": "stdout",
     "output_type": "stream",
     "text": [
      "{'svr__C': 7, 'svr__epsilon': 0.6, 'svr__kernel': 'rbf'}\n",
      "Best parameters are: {'svr__C': 7, 'svr__epsilon': 0.6, 'svr__kernel': 'rbf'}\n",
      "0.64 + or -0.01 for the {'svr__C': 3, 'svr__epsilon': 0.2, 'svr__kernel': 'rbf'}\n",
      "0.64 + or -0.01 for the {'svr__C': 3, 'svr__epsilon': 0.4, 'svr__kernel': 'rbf'}\n",
      "0.64 + or -0.01 for the {'svr__C': 3, 'svr__epsilon': 0.6, 'svr__kernel': 'rbf'}\n",
      "0.65 + or -0.01 for the {'svr__C': 5, 'svr__epsilon': 0.2, 'svr__kernel': 'rbf'}\n",
      "0.65 + or -0.01 for the {'svr__C': 5, 'svr__epsilon': 0.4, 'svr__kernel': 'rbf'}\n",
      "0.65 + or -0.01 for the {'svr__C': 5, 'svr__epsilon': 0.6, 'svr__kernel': 'rbf'}\n",
      "0.66 + or -0.01 for the {'svr__C': 7, 'svr__epsilon': 0.2, 'svr__kernel': 'rbf'}\n",
      "0.66 + or -0.01 for the {'svr__C': 7, 'svr__epsilon': 0.4, 'svr__kernel': 'rbf'}\n",
      "0.66 + or -0.01 for the {'svr__C': 7, 'svr__epsilon': 0.6, 'svr__kernel': 'rbf'}\n"
     ]
    }
   ],
   "source": [
    "print(clf.best_params_)\n",
    "display_grid_results(clf)\n"
   ]
  },
  {
   "cell_type": "code",
   "execution_count": 31,
   "metadata": {},
   "outputs": [
    {
     "data": {
      "image/png": "[encoded data removed]",
      "text/plain": [
       "<Figure size 648x432 with 2 Axes>"
      ]
     },
     "metadata": {
      "needs_background": "light"
     },
     "output_type": "display_data"
    },
    {
     "name": "stdout",
     "output_type": "stream",
     "text": [
      "RMSE 11.335943720599575\n"
     ]
    },
    {
     "data": {
      "text/html": [
       "<style>#sk-container-id-2 {color: black;background-color: white;}#sk-container-id-2 pre{padding: 0;}#sk-container-id-2 div.sk-toggleable {background-color: white;}#sk-container-id-2 label.sk-toggleable__label {cursor: pointer;display: block;width: 100%;margin-bottom: 0;padding: 0.3em;box-sizing: border-box;text-align: center;}#sk-container-id-2 label.sk-toggleable__label-arrow:before {content: \"▸\";float: left;margin-right: 0.25em;color: #696969;}#sk-container-id-2 label.sk-toggleable__label-arrow:hover:before {color: black;}#sk-container-id-2 div.sk-estimator:hover label.sk-toggleable__label-arrow:before {color: black;}#sk-container-id-2 div.sk-toggleable__content {max-height: 0;max-width: 0;overflow: hidden;text-align: left;background-color: #f0f8ff;}#sk-container-id-2 div.sk-toggleable__content pre {margin: 0.2em;color: black;border-radius: 0.25em;background-color: #f0f8ff;}#sk-container-id-2 input.sk-toggleable__control:checked~div.sk-toggleable__content {max-height: 200px;max-width: 100%;overflow: auto;}#sk-container-id-2 input.sk-toggleable__control:checked~label.sk-toggleable__label-arrow:before {content: \"▾\";}#sk-container-id-2 div.sk-estimator input.sk-toggleable__control:checked~label.sk-toggleable__label {background-color: #d4ebff;}#sk-container-id-2 div.sk-label input.sk-toggleable__control:checked~label.sk-toggleable__label {background-color: #d4ebff;}#sk-container-id-2 input.sk-hidden--visually {border: 0;clip: rect(1px 1px 1px 1px);clip: rect(1px, 1px, 1px, 1px);height: 1px;margin: -1px;overflow: hidden;padding: 0;position: absolute;width: 1px;}#sk-container-id-2 div.sk-estimator {font-family: monospace;background-color: #f0f8ff;border: 1px dotted black;border-radius: 0.25em;box-sizing: border-box;margin-bottom: 0.5em;}#sk-container-id-2 div.sk-estimator:hover {background-color: #d4ebff;}#sk-container-id-2 div.sk-parallel-item::after {content: \"\";width: 100%;border-bottom: 1px solid gray;flex-grow: 1;}#sk-container-id-2 div.sk-label:hover label.sk-toggleable__label {background-color: #d4ebff;}#sk-container-id-2 div.sk-serial::before {content: \"\";position: absolute;border-left: 1px solid gray;box-sizing: border-box;top: 0;bottom: 0;left: 50%;z-index: 0;}#sk-container-id-2 div.sk-serial {display: flex;flex-direction: column;align-items: center;background-color: white;padding-right: 0.2em;padding-left: 0.2em;position: relative;}#sk-container-id-2 div.sk-item {position: relative;z-index: 1;}#sk-container-id-2 div.sk-parallel {display: flex;align-items: stretch;justify-content: center;background-color: white;position: relative;}#sk-container-id-2 div.sk-item::before, #sk-container-id-2 div.sk-parallel-item::before {content: \"\";position: absolute;border-left: 1px solid gray;box-sizing: border-box;top: 0;bottom: 0;left: 50%;z-index: -1;}#sk-container-id-2 div.sk-parallel-item {display: flex;flex-direction: column;z-index: 1;position: relative;background-color: white;}#sk-container-id-2 div.sk-parallel-item:first-child::after {align-self: flex-end;width: 50%;}#sk-container-id-2 div.sk-parallel-item:last-child::after {align-self: flex-start;width: 50%;}#sk-container-id-2 div.sk-parallel-item:only-child::after {width: 0;}#sk-container-id-2 div.sk-dashed-wrapped {border: 1px dashed gray;margin: 0 0.4em 0.5em 0.4em;box-sizing: border-box;padding-bottom: 0.4em;background-color: white;}#sk-container-id-2 div.sk-label label {font-family: monospace;font-weight: bold;display: inline-block;line-height: 1.2em;}#sk-container-id-2 div.sk-label-container {text-align: center;}#sk-container-id-2 div.sk-container {/* jupyter's `normalize.less` sets `[hidden] { display: none; }` but bootstrap.min.css set `[hidden] { display: none !important; }` so we also need the `!important` here to be able to override the default hidden behavior on the sphinx rendered scikit-learn.org. See: https://github.com/scikit-learn/scikit-learn/issues/21755 */display: inline-block !important;position: relative;}#sk-container-id-2 div.sk-text-repr-fallback {display: none;}</style><div id=\"sk-container-id-2\" class=\"sk-top-container\"><div class=\"sk-text-repr-fallback\"><pre>Pipeline(steps=[(&#x27;scale&#x27;,\n",
       "                 SklearnTransformerWrapper(transformer=StandardScaler(),\n",
       "                                           variables=[&#x27;School_Type_1.0&#x27;,\n",
       "                                                      &#x27;School_Type_4.0&#x27;,\n",
       "                                                      &#x27;Enrollment &#x27;\n",
       "                                                      &#x27;Teacher_Ratio2&#x27;,\n",
       "                                                      &#x27;Highest_Grade_Offered &#x27;\n",
       "                                                      &#x27;Rla_Pct_Part&#x27;,\n",
       "                                                      &#x27;Rla_Pct_Part&#x27;,\n",
       "                                                      &#x27;Rla_Pct_Part^2&#x27;,\n",
       "                                                      &#x27;Reduced_Price_Lunch &#x27;\n",
       "                                                      &#x27;Teacher_Ratio2&#x27;,\n",
       "                                                      &#x27;Teacher_Ratio2&#x27;,\n",
       "                                                      &#x27;Math_Pct_Part &#x27;\n",
       "                                                      &#x27;Rla_Pct_Part&#x27;,\n",
       "                                                      &#x27;Teacher_Ratio1&#x27;,\n",
       "                                                      &#x27;Free_Lunch&#x27;,\n",
       "                                                      &#x27;Civilian...\n",
       "                                                      &#x27;Free_Or_Reduced_Price_Lunch&#x27;,\n",
       "                                                      &#x27;Teachers_Fte&#x27;,\n",
       "                                                      &#x27;Reduced_Price_Lunch&#x27;,\n",
       "                                                      &#x27;Math_Pct_Part&#x27;,\n",
       "                                                      &#x27;Unemployment_Rate&#x27;,\n",
       "                                                      &#x27;Title_I_Status_5.0&#x27;,\n",
       "                                                      &#x27;Charter_0.0&#x27;,\n",
       "                                                      &#x27;Urban_Centric_Locale_11.0&#x27;,\n",
       "                                                      &#x27;Num_Grades&#x27;,\n",
       "                                                      &#x27;Lowest_Grade_Offered&#x27;,\n",
       "                                                      &#x27;Virtual_1.0&#x27;,\n",
       "                                                      &#x27;Metro_Or_Not_0.0&#x27;,\n",
       "                                                      &#x27;Rural_Urban_Continuum_Code_1.0&#x27;,\n",
       "                                                      &#x27;Title_I_Eligible_1.0&#x27;,\n",
       "                                                      &#x27;Title_I_Status_6.0&#x27;,\n",
       "                                                      &#x27;Urban_Influence_Code_1.0&#x27;, ...])),\n",
       "                (&#x27;svr&#x27;, SVR(C=7, epsilon=0.6))])</pre><b>In a Jupyter environment, please rerun this cell to show the HTML representation or trust the notebook. <br />On GitHub, the HTML representation is unable to render, please try loading this page with nbviewer.org.</b></div><div class=\"sk-container\" hidden><div class=\"sk-item sk-dashed-wrapped\"><div class=\"sk-label-container\"><div class=\"sk-label sk-toggleable\"><input class=\"sk-toggleable__control sk-hidden--visually\" id=\"sk-estimator-id-6\" type=\"checkbox\" ><label for=\"sk-estimator-id-6\" class=\"sk-toggleable__label sk-toggleable__label-arrow\">Pipeline</label><div class=\"sk-toggleable__content\"><pre>Pipeline(steps=[(&#x27;scale&#x27;,\n",
       "                 SklearnTransformerWrapper(transformer=StandardScaler(),\n",
       "                                           variables=[&#x27;School_Type_1.0&#x27;,\n",
       "                                                      &#x27;School_Type_4.0&#x27;,\n",
       "                                                      &#x27;Enrollment &#x27;\n",
       "                                                      &#x27;Teacher_Ratio2&#x27;,\n",
       "                                                      &#x27;Highest_Grade_Offered &#x27;\n",
       "                                                      &#x27;Rla_Pct_Part&#x27;,\n",
       "                                                      &#x27;Rla_Pct_Part&#x27;,\n",
       "                                                      &#x27;Rla_Pct_Part^2&#x27;,\n",
       "                                                      &#x27;Reduced_Price_Lunch &#x27;\n",
       "                                                      &#x27;Teacher_Ratio2&#x27;,\n",
       "                                                      &#x27;Teacher_Ratio2&#x27;,\n",
       "                                                      &#x27;Math_Pct_Part &#x27;\n",
       "                                                      &#x27;Rla_Pct_Part&#x27;,\n",
       "                                                      &#x27;Teacher_Ratio1&#x27;,\n",
       "                                                      &#x27;Free_Lunch&#x27;,\n",
       "                                                      &#x27;Civilian...\n",
       "                                                      &#x27;Free_Or_Reduced_Price_Lunch&#x27;,\n",
       "                                                      &#x27;Teachers_Fte&#x27;,\n",
       "                                                      &#x27;Reduced_Price_Lunch&#x27;,\n",
       "                                                      &#x27;Math_Pct_Part&#x27;,\n",
       "                                                      &#x27;Unemployment_Rate&#x27;,\n",
       "                                                      &#x27;Title_I_Status_5.0&#x27;,\n",
       "                                                      &#x27;Charter_0.0&#x27;,\n",
       "                                                      &#x27;Urban_Centric_Locale_11.0&#x27;,\n",
       "                                                      &#x27;Num_Grades&#x27;,\n",
       "                                                      &#x27;Lowest_Grade_Offered&#x27;,\n",
       "                                                      &#x27;Virtual_1.0&#x27;,\n",
       "                                                      &#x27;Metro_Or_Not_0.0&#x27;,\n",
       "                                                      &#x27;Rural_Urban_Continuum_Code_1.0&#x27;,\n",
       "                                                      &#x27;Title_I_Eligible_1.0&#x27;,\n",
       "                                                      &#x27;Title_I_Status_6.0&#x27;,\n",
       "                                                      &#x27;Urban_Influence_Code_1.0&#x27;, ...])),\n",
       "                (&#x27;svr&#x27;, SVR(C=7, epsilon=0.6))])</pre></div></div></div><div class=\"sk-serial\"><div class=\"sk-item sk-dashed-wrapped\"><div class=\"sk-label-container\"><div class=\"sk-label sk-toggleable\"><input class=\"sk-toggleable__control sk-hidden--visually\" id=\"sk-estimator-id-7\" type=\"checkbox\" ><label for=\"sk-estimator-id-7\" class=\"sk-toggleable__label sk-toggleable__label-arrow\">scale: SklearnTransformerWrapper</label><div class=\"sk-toggleable__content\"><pre>SklearnTransformerWrapper(transformer=StandardScaler(),\n",
       "                          variables=[&#x27;School_Type_1.0&#x27;, &#x27;School_Type_4.0&#x27;,\n",
       "                                     &#x27;Enrollment Teacher_Ratio2&#x27;,\n",
       "                                     &#x27;Highest_Grade_Offered Rla_Pct_Part&#x27;,\n",
       "                                     &#x27;Rla_Pct_Part&#x27;, &#x27;Rla_Pct_Part^2&#x27;,\n",
       "                                     &#x27;Reduced_Price_Lunch Teacher_Ratio2&#x27;,\n",
       "                                     &#x27;Teacher_Ratio2&#x27;,\n",
       "                                     &#x27;Math_Pct_Part Rla_Pct_Part&#x27;,\n",
       "                                     &#x27;Teacher_Ratio1&#x27;, &#x27;Free_Lunch&#x27;,\n",
       "                                     &#x27;Civilian_Labor_Force&#x27;, &#x27;All_Cohort&#x27;,\n",
       "                                     &#x27;Enrollment&#x27;,\n",
       "                                     &#x27;Free_Or_Reduced_Price_Lunch&#x27;,\n",
       "                                     &#x27;Teachers_Fte&#x27;, &#x27;Reduced_Price_Lunch&#x27;,\n",
       "                                     &#x27;Math_Pct_Part&#x27;, &#x27;Unemployment_Rate&#x27;,\n",
       "                                     &#x27;Title_I_Status_5.0&#x27;, &#x27;Charter_0.0&#x27;,\n",
       "                                     &#x27;Urban_Centric_Locale_11.0&#x27;, &#x27;Num_Grades&#x27;,\n",
       "                                     &#x27;Lowest_Grade_Offered&#x27;, &#x27;Virtual_1.0&#x27;,\n",
       "                                     &#x27;Metro_Or_Not_0.0&#x27;,\n",
       "                                     &#x27;Rural_Urban_Continuum_Code_1.0&#x27;,\n",
       "                                     &#x27;Title_I_Eligible_1.0&#x27;,\n",
       "                                     &#x27;Title_I_Status_6.0&#x27;,\n",
       "                                     &#x27;Urban_Influence_Code_1.0&#x27;, ...])</pre></div></div></div><div class=\"sk-parallel\"><div class=\"sk-parallel-item\"><div class=\"sk-item\"><div class=\"sk-label-container\"><div class=\"sk-label sk-toggleable\"><input class=\"sk-toggleable__control sk-hidden--visually\" id=\"sk-estimator-id-8\" type=\"checkbox\" ><label for=\"sk-estimator-id-8\" class=\"sk-toggleable__label sk-toggleable__label-arrow\">transformer: StandardScaler</label><div class=\"sk-toggleable__content\"><pre>StandardScaler()</pre></div></div></div><div class=\"sk-serial\"><div class=\"sk-item\"><div class=\"sk-estimator sk-toggleable\"><input class=\"sk-toggleable__control sk-hidden--visually\" id=\"sk-estimator-id-9\" type=\"checkbox\" ><label for=\"sk-estimator-id-9\" class=\"sk-toggleable__label sk-toggleable__label-arrow\">StandardScaler</label><div class=\"sk-toggleable__content\"><pre>StandardScaler()</pre></div></div></div></div></div></div></div></div><div class=\"sk-item\"><div class=\"sk-estimator sk-toggleable\"><input class=\"sk-toggleable__control sk-hidden--visually\" id=\"sk-estimator-id-10\" type=\"checkbox\" ><label for=\"sk-estimator-id-10\" class=\"sk-toggleable__label sk-toggleable__label-arrow\">SVR</label><div class=\"sk-toggleable__content\"><pre>SVR(C=7, epsilon=0.6)</pre></div></div></div></div></div></div></div>"
      ],
      "text/plain": [
       "Pipeline(steps=[('scale',\n",
       "                 SklearnTransformerWrapper(transformer=StandardScaler(),\n",
       "                                           variables=['School_Type_1.0',\n",
       "                                                      'School_Type_4.0',\n",
       "                                                      'Enrollment '\n",
       "                                                      'Teacher_Ratio2',\n",
       "                                                      'Highest_Grade_Offered '\n",
       "                                                      'Rla_Pct_Part',\n",
       "                                                      'Rla_Pct_Part',\n",
       "                                                      'Rla_Pct_Part^2',\n",
       "                                                      'Reduced_Price_Lunch '\n",
       "                                                      'Teacher_Ratio2',\n",
       "                                                      'Teacher_Ratio2',\n",
       "                                                      'Math_Pct_Part '\n",
       "                                                      'Rla_Pct_Part',\n",
       "                                                      'Teacher_Ratio1',\n",
       "                                                      'Free_Lunch',\n",
       "                                                      'Civilian...\n",
       "                                                      'Free_Or_Reduced_Price_Lunch',\n",
       "                                                      'Teachers_Fte',\n",
       "                                                      'Reduced_Price_Lunch',\n",
       "                                                      'Math_Pct_Part',\n",
       "                                                      'Unemployment_Rate',\n",
       "                                                      'Title_I_Status_5.0',\n",
       "                                                      'Charter_0.0',\n",
       "                                                      'Urban_Centric_Locale_11.0',\n",
       "                                                      'Num_Grades',\n",
       "                                                      'Lowest_Grade_Offered',\n",
       "                                                      'Virtual_1.0',\n",
       "                                                      'Metro_Or_Not_0.0',\n",
       "                                                      'Rural_Urban_Continuum_Code_1.0',\n",
       "                                                      'Title_I_Eligible_1.0',\n",
       "                                                      'Title_I_Status_6.0',\n",
       "                                                      'Urban_Influence_Code_1.0', ...])),\n",
       "                ('svr', SVR(C=7, epsilon=0.6))])"
      ]
     },
     "execution_count": 31,
     "metadata": {},
     "output_type": "execute_result"
    }
   ],
   "source": [
    "pipe_svm = Pipeline(steps=[(\"scale\", std_scaler),\n",
    "                    (\"svr\", SVR(C=7, epsilon=0.6, kernel=\"rbf\"))])\n",
    "make_residual_plot_and_print_rmse(Xtrain, ytrain, Xtest, ytest, pipe_svm)\n"
   ]
  },
  {
   "cell_type": "markdown",
   "metadata": {},
   "source": [
    "# Multilayer Perceptron "
   ]
  },
  {
   "cell_type": "code",
   "execution_count": 33,
   "metadata": {},
   "outputs": [
    {
     "name": "stdout",
     "output_type": "stream",
     "text": [
      "Fitting 10 folds for each of 24 candidates, totalling 240 fits\n",
      "[CV 5/10] END mlpr__activation=logistic, mlpr__alpha=0.0001, mlpr__hidden_layer_sizes=(50,), mlpr__solver=sgd;, score=0.683 total time=  44.4s\n"
     ]
    },
    {
     "name": "stderr",
     "output_type": "stream",
     "text": [
      "/home/bb/miniconda3/envs/my-env/lib/python3.10/site-packages/sklearn/neural_network/_multilayer_perceptron.py:702: ConvergenceWarning: Stochastic Optimizer: Maximum iterations (400) reached and the optimization hasn't converged yet.\n",
      "  warnings.warn(\n"
     ]
    },
    {
     "name": "stdout",
     "output_type": "stream",
     "text": [
      "[CV 3/10] END mlpr__activation=logistic, mlpr__alpha=0.0001, mlpr__hidden_layer_sizes=(50,), mlpr__solver=sgd;, score=0.687 total time=  45.6s\n"
     ]
    },
    {
     "name": "stderr",
     "output_type": "stream",
     "text": [
      "/home/bb/miniconda3/envs/my-env/lib/python3.10/site-packages/sklearn/neural_network/_multilayer_perceptron.py:702: ConvergenceWarning: Stochastic Optimizer: Maximum iterations (400) reached and the optimization hasn't converged yet.\n",
      "  warnings.warn(\n"
     ]
    },
    {
     "name": "stdout",
     "output_type": "stream",
     "text": [
      "[CV 4/10] END mlpr__activation=logistic, mlpr__alpha=0.0001, mlpr__hidden_layer_sizes=(50,), mlpr__solver=sgd;, score=0.690 total time=  47.9s\n"
     ]
    },
    {
     "name": "stderr",
     "output_type": "stream",
     "text": [
      "/home/bb/miniconda3/envs/my-env/lib/python3.10/site-packages/sklearn/neural_network/_multilayer_perceptron.py:702: ConvergenceWarning: Stochastic Optimizer: Maximum iterations (400) reached and the optimization hasn't converged yet.\n",
      "  warnings.warn(\n",
      "/home/bb/miniconda3/envs/my-env/lib/python3.10/site-packages/sklearn/neural_network/_multilayer_perceptron.py:702: ConvergenceWarning: Stochastic Optimizer: Maximum iterations (400) reached and the optimization hasn't converged yet.\n",
      "  warnings.warn(\n"
     ]
    },
    {
     "name": "stdout",
     "output_type": "stream",
     "text": [
      "[CV 1/10] END mlpr__activation=logistic, mlpr__alpha=0.0001, mlpr__hidden_layer_sizes=(50,), mlpr__solver=sgd;, score=0.686 total time=  49.1s\n",
      "[CV 2/10] END mlpr__activation=logistic, mlpr__alpha=0.0001, mlpr__hidden_layer_sizes=(50,), mlpr__solver=sgd;, score=0.698 total time=  49.2s\n",
      "[CV 7/10] END mlpr__activation=logistic, mlpr__alpha=0.0001, mlpr__hidden_layer_sizes=(50,), mlpr__solver=sgd;, score=0.692 total time=  45.9s\n"
     ]
    },
    {
     "name": "stderr",
     "output_type": "stream",
     "text": [
      "/home/bb/miniconda3/envs/my-env/lib/python3.10/site-packages/sklearn/neural_network/_multilayer_perceptron.py:702: ConvergenceWarning: Stochastic Optimizer: Maximum iterations (400) reached and the optimization hasn't converged yet.\n",
      "  warnings.warn(\n"
     ]
    },
    {
     "name": "stdout",
     "output_type": "stream",
     "text": [
      "[CV 8/10] END mlpr__activation=logistic, mlpr__alpha=0.0001, mlpr__hidden_layer_sizes=(50,), mlpr__solver=sgd;, score=0.703 total time=  50.7s\n"
     ]
    },
    {
     "name": "stderr",
     "output_type": "stream",
     "text": [
      "/home/bb/miniconda3/envs/my-env/lib/python3.10/site-packages/sklearn/neural_network/_multilayer_perceptron.py:702: ConvergenceWarning: Stochastic Optimizer: Maximum iterations (400) reached and the optimization hasn't converged yet.\n",
      "  warnings.warn(\n"
     ]
    },
    {
     "name": "stdout",
     "output_type": "stream",
     "text": [
      "[CV 10/10] END mlpr__activation=logistic, mlpr__alpha=0.0001, mlpr__hidden_layer_sizes=(50,), mlpr__solver=sgd;, score=0.660 total time=  50.5s\n"
     ]
    },
    {
     "name": "stderr",
     "output_type": "stream",
     "text": [
      "/home/bb/miniconda3/envs/my-env/lib/python3.10/site-packages/sklearn/neural_network/_multilayer_perceptron.py:702: ConvergenceWarning: Stochastic Optimizer: Maximum iterations (400) reached and the optimization hasn't converged yet.\n",
      "  warnings.warn(\n"
     ]
    },
    {
     "name": "stdout",
     "output_type": "stream",
     "text": [
      "[CV 9/10] END mlpr__activation=logistic, mlpr__alpha=0.0001, mlpr__hidden_layer_sizes=(50,), mlpr__solver=sgd;, score=0.685 total time=  51.6s\n"
     ]
    },
    {
     "name": "stderr",
     "output_type": "stream",
     "text": [
      "/home/bb/miniconda3/envs/my-env/lib/python3.10/site-packages/sklearn/neural_network/_multilayer_perceptron.py:702: ConvergenceWarning: Stochastic Optimizer: Maximum iterations (400) reached and the optimization hasn't converged yet.\n",
      "  warnings.warn(\n"
     ]
    },
    {
     "name": "stdout",
     "output_type": "stream",
     "text": [
      "[CV 6/10] END mlpr__activation=logistic, mlpr__alpha=0.0001, mlpr__hidden_layer_sizes=(50,), mlpr__solver=sgd;, score=0.697 total time= 1.0min\n"
     ]
    },
    {
     "name": "stderr",
     "output_type": "stream",
     "text": [
      "/home/bb/miniconda3/envs/my-env/lib/python3.10/site-packages/sklearn/neural_network/_multilayer_perceptron.py:702: ConvergenceWarning: Stochastic Optimizer: Maximum iterations (400) reached and the optimization hasn't converged yet.\n",
      "  warnings.warn(\n"
     ]
    },
    {
     "name": "stdout",
     "output_type": "stream",
     "text": [
      "[CV 4/10] END mlpr__activation=logistic, mlpr__alpha=0.0001, mlpr__hidden_layer_sizes=(50,), mlpr__solver=adam;, score=0.667 total time=  54.8s\n"
     ]
    },
    {
     "name": "stderr",
     "output_type": "stream",
     "text": [
      "/home/bb/miniconda3/envs/my-env/lib/python3.10/site-packages/sklearn/neural_network/_multilayer_perceptron.py:702: ConvergenceWarning: Stochastic Optimizer: Maximum iterations (400) reached and the optimization hasn't converged yet.\n",
      "  warnings.warn(\n"
     ]
    },
    {
     "name": "stdout",
     "output_type": "stream",
     "text": [
      "[CV 1/10] END mlpr__activation=logistic, mlpr__alpha=0.0001, mlpr__hidden_layer_sizes=(50,), mlpr__solver=adam;, score=0.668 total time= 1.1min\n"
     ]
    },
    {
     "name": "stderr",
     "output_type": "stream",
     "text": [
      "/home/bb/miniconda3/envs/my-env/lib/python3.10/site-packages/sklearn/neural_network/_multilayer_perceptron.py:702: ConvergenceWarning: Stochastic Optimizer: Maximum iterations (400) reached and the optimization hasn't converged yet.\n",
      "  warnings.warn(\n"
     ]
    },
    {
     "name": "stdout",
     "output_type": "stream",
     "text": [
      "[CV 2/10] END mlpr__activation=logistic, mlpr__alpha=0.0001, mlpr__hidden_layer_sizes=(50,), mlpr__solver=adam;, score=0.675 total time= 1.1min\n"
     ]
    },
    {
     "name": "stderr",
     "output_type": "stream",
     "text": [
      "/home/bb/miniconda3/envs/my-env/lib/python3.10/site-packages/sklearn/neural_network/_multilayer_perceptron.py:702: ConvergenceWarning: Stochastic Optimizer: Maximum iterations (400) reached and the optimization hasn't converged yet.\n",
      "  warnings.warn(\n"
     ]
    },
    {
     "name": "stdout",
     "output_type": "stream",
     "text": [
      "[CV 3/10] END mlpr__activation=logistic, mlpr__alpha=0.0001, mlpr__hidden_layer_sizes=(50,), mlpr__solver=adam;, score=0.666 total time= 1.1min\n"
     ]
    },
    {
     "name": "stderr",
     "output_type": "stream",
     "text": [
      "/home/bb/miniconda3/envs/my-env/lib/python3.10/site-packages/sklearn/neural_network/_multilayer_perceptron.py:702: ConvergenceWarning: Stochastic Optimizer: Maximum iterations (400) reached and the optimization hasn't converged yet.\n",
      "  warnings.warn(\n"
     ]
    },
    {
     "name": "stdout",
     "output_type": "stream",
     "text": [
      "[CV 5/10] END mlpr__activation=logistic, mlpr__alpha=0.0001, mlpr__hidden_layer_sizes=(50,), mlpr__solver=adam;, score=0.666 total time= 1.1min\n"
     ]
    },
    {
     "name": "stderr",
     "output_type": "stream",
     "text": [
      "/home/bb/miniconda3/envs/my-env/lib/python3.10/site-packages/sklearn/neural_network/_multilayer_perceptron.py:702: ConvergenceWarning: Stochastic Optimizer: Maximum iterations (400) reached and the optimization hasn't converged yet.\n",
      "  warnings.warn(\n"
     ]
    },
    {
     "name": "stdout",
     "output_type": "stream",
     "text": [
      "[CV 6/10] END mlpr__activation=logistic, mlpr__alpha=0.0001, mlpr__hidden_layer_sizes=(50,), mlpr__solver=adam;, score=0.684 total time=  57.0s\n"
     ]
    },
    {
     "name": "stderr",
     "output_type": "stream",
     "text": [
      "/home/bb/miniconda3/envs/my-env/lib/python3.10/site-packages/sklearn/neural_network/_multilayer_perceptron.py:702: ConvergenceWarning: Stochastic Optimizer: Maximum iterations (400) reached and the optimization hasn't converged yet.\n",
      "  warnings.warn(\n"
     ]
    },
    {
     "name": "stdout",
     "output_type": "stream",
     "text": [
      "[CV 7/10] END mlpr__activation=logistic, mlpr__alpha=0.0001, mlpr__hidden_layer_sizes=(50,), mlpr__solver=adam;, score=0.672 total time=  57.9s\n"
     ]
    },
    {
     "name": "stderr",
     "output_type": "stream",
     "text": [
      "/home/bb/miniconda3/envs/my-env/lib/python3.10/site-packages/sklearn/neural_network/_multilayer_perceptron.py:702: ConvergenceWarning: Stochastic Optimizer: Maximum iterations (400) reached and the optimization hasn't converged yet.\n",
      "  warnings.warn(\n"
     ]
    },
    {
     "name": "stdout",
     "output_type": "stream",
     "text": [
      "[CV 8/10] END mlpr__activation=logistic, mlpr__alpha=0.0001, mlpr__hidden_layer_sizes=(50,), mlpr__solver=adam;, score=0.680 total time=  59.5s\n"
     ]
    },
    {
     "name": "stderr",
     "output_type": "stream",
     "text": [
      "/home/bb/miniconda3/envs/my-env/lib/python3.10/site-packages/sklearn/neural_network/_multilayer_perceptron.py:702: ConvergenceWarning: Stochastic Optimizer: Maximum iterations (400) reached and the optimization hasn't converged yet.\n",
      "  warnings.warn(\n",
      "/home/bb/miniconda3/envs/my-env/lib/python3.10/site-packages/sklearn/neural_network/_multilayer_perceptron.py:702: ConvergenceWarning: Stochastic Optimizer: Maximum iterations (400) reached and the optimization hasn't converged yet.\n",
      "  warnings.warn(\n"
     ]
    },
    {
     "name": "stdout",
     "output_type": "stream",
     "text": [
      "[CV 10/10] END mlpr__activation=logistic, mlpr__alpha=0.0001, mlpr__hidden_layer_sizes=(50,), mlpr__solver=adam;, score=0.655 total time=  55.1s\n",
      "[CV 9/10] END mlpr__activation=logistic, mlpr__alpha=0.0001, mlpr__hidden_layer_sizes=(50,), mlpr__solver=adam;, score=0.670 total time= 1.0min\n"
     ]
    },
    {
     "name": "stderr",
     "output_type": "stream",
     "text": [
      "/home/bb/miniconda3/envs/my-env/lib/python3.10/site-packages/sklearn/neural_network/_multilayer_perceptron.py:702: ConvergenceWarning: Stochastic Optimizer: Maximum iterations (400) reached and the optimization hasn't converged yet.\n",
      "  warnings.warn(\n",
      "/home/bb/miniconda3/envs/my-env/lib/python3.10/site-packages/sklearn/neural_network/_multilayer_perceptron.py:702: ConvergenceWarning: Stochastic Optimizer: Maximum iterations (400) reached and the optimization hasn't converged yet.\n",
      "  warnings.warn(\n"
     ]
    },
    {
     "name": "stdout",
     "output_type": "stream",
     "text": [
      "[CV 2/10] END mlpr__activation=logistic, mlpr__alpha=0.0001, mlpr__hidden_layer_sizes=(100,), mlpr__solver=sgd;, score=0.700 total time= 1.2min\n",
      "[CV 1/10] END mlpr__activation=logistic, mlpr__alpha=0.0001, mlpr__hidden_layer_sizes=(100,), mlpr__solver=sgd;, score=0.696 total time= 1.3min\n"
     ]
    },
    {
     "name": "stderr",
     "output_type": "stream",
     "text": [
      "/home/bb/miniconda3/envs/my-env/lib/python3.10/site-packages/sklearn/neural_network/_multilayer_perceptron.py:702: ConvergenceWarning: Stochastic Optimizer: Maximum iterations (400) reached and the optimization hasn't converged yet.\n",
      "  warnings.warn(\n"
     ]
    },
    {
     "name": "stdout",
     "output_type": "stream",
     "text": [
      "[CV 3/10] END mlpr__activation=logistic, mlpr__alpha=0.0001, mlpr__hidden_layer_sizes=(100,), mlpr__solver=sgd;, score=0.697 total time= 1.2min\n"
     ]
    },
    {
     "name": "stderr",
     "output_type": "stream",
     "text": [
      "/home/bb/miniconda3/envs/my-env/lib/python3.10/site-packages/sklearn/neural_network/_multilayer_perceptron.py:702: ConvergenceWarning: Stochastic Optimizer: Maximum iterations (400) reached and the optimization hasn't converged yet.\n",
      "  warnings.warn(\n"
     ]
    },
    {
     "name": "stdout",
     "output_type": "stream",
     "text": [
      "[CV 4/10] END mlpr__activation=logistic, mlpr__alpha=0.0001, mlpr__hidden_layer_sizes=(100,), mlpr__solver=sgd;, score=0.702 total time= 1.2min\n"
     ]
    },
    {
     "name": "stderr",
     "output_type": "stream",
     "text": [
      "/home/bb/miniconda3/envs/my-env/lib/python3.10/site-packages/sklearn/neural_network/_multilayer_perceptron.py:702: ConvergenceWarning: Stochastic Optimizer: Maximum iterations (400) reached and the optimization hasn't converged yet.\n",
      "  warnings.warn(\n"
     ]
    },
    {
     "name": "stdout",
     "output_type": "stream",
     "text": [
      "[CV 5/10] END mlpr__activation=logistic, mlpr__alpha=0.0001, mlpr__hidden_layer_sizes=(100,), mlpr__solver=sgd;, score=0.698 total time= 1.3min\n"
     ]
    },
    {
     "name": "stderr",
     "output_type": "stream",
     "text": [
      "/home/bb/miniconda3/envs/my-env/lib/python3.10/site-packages/sklearn/neural_network/_multilayer_perceptron.py:702: ConvergenceWarning: Stochastic Optimizer: Maximum iterations (400) reached and the optimization hasn't converged yet.\n",
      "  warnings.warn(\n"
     ]
    },
    {
     "name": "stdout",
     "output_type": "stream",
     "text": [
      "[CV 7/10] END mlpr__activation=logistic, mlpr__alpha=0.0001, mlpr__hidden_layer_sizes=(100,), mlpr__solver=sgd;, score=0.694 total time= 1.2min\n"
     ]
    },
    {
     "name": "stderr",
     "output_type": "stream",
     "text": [
      "/home/bb/miniconda3/envs/my-env/lib/python3.10/site-packages/sklearn/neural_network/_multilayer_perceptron.py:702: ConvergenceWarning: Stochastic Optimizer: Maximum iterations (400) reached and the optimization hasn't converged yet.\n",
      "  warnings.warn(\n"
     ]
    },
    {
     "name": "stdout",
     "output_type": "stream",
     "text": [
      "[CV 6/10] END mlpr__activation=logistic, mlpr__alpha=0.0001, mlpr__hidden_layer_sizes=(100,), mlpr__solver=sgd;, score=0.712 total time= 1.4min\n"
     ]
    },
    {
     "name": "stderr",
     "output_type": "stream",
     "text": [
      "/home/bb/miniconda3/envs/my-env/lib/python3.10/site-packages/sklearn/neural_network/_multilayer_perceptron.py:702: ConvergenceWarning: Stochastic Optimizer: Maximum iterations (400) reached and the optimization hasn't converged yet.\n",
      "  warnings.warn(\n"
     ]
    },
    {
     "name": "stdout",
     "output_type": "stream",
     "text": [
      "[CV 8/10] END mlpr__activation=logistic, mlpr__alpha=0.0001, mlpr__hidden_layer_sizes=(100,), mlpr__solver=sgd;, score=0.713 total time= 1.4min\n"
     ]
    },
    {
     "name": "stderr",
     "output_type": "stream",
     "text": [
      "/home/bb/miniconda3/envs/my-env/lib/python3.10/site-packages/sklearn/neural_network/_multilayer_perceptron.py:702: ConvergenceWarning: Stochastic Optimizer: Maximum iterations (400) reached and the optimization hasn't converged yet.\n",
      "  warnings.warn(\n"
     ]
    },
    {
     "name": "stdout",
     "output_type": "stream",
     "text": [
      "[CV 9/10] END mlpr__activation=logistic, mlpr__alpha=0.0001, mlpr__hidden_layer_sizes=(100,), mlpr__solver=sgd;, score=0.698 total time= 1.4min\n"
     ]
    },
    {
     "name": "stderr",
     "output_type": "stream",
     "text": [
      "/home/bb/miniconda3/envs/my-env/lib/python3.10/site-packages/sklearn/neural_network/_multilayer_perceptron.py:702: ConvergenceWarning: Stochastic Optimizer: Maximum iterations (400) reached and the optimization hasn't converged yet.\n",
      "  warnings.warn(\n"
     ]
    },
    {
     "name": "stdout",
     "output_type": "stream",
     "text": [
      "[CV 10/10] END mlpr__activation=logistic, mlpr__alpha=0.0001, mlpr__hidden_layer_sizes=(100,), mlpr__solver=sgd;, score=0.669 total time= 1.4min\n"
     ]
    },
    {
     "name": "stderr",
     "output_type": "stream",
     "text": [
      "/home/bb/miniconda3/envs/my-env/lib/python3.10/site-packages/sklearn/neural_network/_multilayer_perceptron.py:702: ConvergenceWarning: Stochastic Optimizer: Maximum iterations (400) reached and the optimization hasn't converged yet.\n",
      "  warnings.warn(\n"
     ]
    },
    {
     "name": "stdout",
     "output_type": "stream",
     "text": [
      "[CV 1/10] END mlpr__activation=logistic, mlpr__alpha=0.0001, mlpr__hidden_layer_sizes=(100,), mlpr__solver=adam;, score=0.683 total time= 1.5min\n"
     ]
    },
    {
     "name": "stderr",
     "output_type": "stream",
     "text": [
      "/home/bb/miniconda3/envs/my-env/lib/python3.10/site-packages/sklearn/neural_network/_multilayer_perceptron.py:702: ConvergenceWarning: Stochastic Optimizer: Maximum iterations (400) reached and the optimization hasn't converged yet.\n",
      "  warnings.warn(\n"
     ]
    },
    {
     "name": "stdout",
     "output_type": "stream",
     "text": [
      "[CV 2/10] END mlpr__activation=logistic, mlpr__alpha=0.0001, mlpr__hidden_layer_sizes=(100,), mlpr__solver=adam;, score=0.694 total time= 1.3min\n"
     ]
    },
    {
     "name": "stderr",
     "output_type": "stream",
     "text": [
      "/home/bb/miniconda3/envs/my-env/lib/python3.10/site-packages/sklearn/neural_network/_multilayer_perceptron.py:702: ConvergenceWarning: Stochastic Optimizer: Maximum iterations (400) reached and the optimization hasn't converged yet.\n",
      "  warnings.warn(\n"
     ]
    },
    {
     "name": "stdout",
     "output_type": "stream",
     "text": [
      "[CV 3/10] END mlpr__activation=logistic, mlpr__alpha=0.0001, mlpr__hidden_layer_sizes=(100,), mlpr__solver=adam;, score=0.677 total time= 1.5min\n"
     ]
    },
    {
     "name": "stderr",
     "output_type": "stream",
     "text": [
      "/home/bb/miniconda3/envs/my-env/lib/python3.10/site-packages/sklearn/neural_network/_multilayer_perceptron.py:702: ConvergenceWarning: Stochastic Optimizer: Maximum iterations (400) reached and the optimization hasn't converged yet.\n",
      "  warnings.warn(\n"
     ]
    },
    {
     "name": "stdout",
     "output_type": "stream",
     "text": [
      "[CV 5/10] END mlpr__activation=logistic, mlpr__alpha=0.0001, mlpr__hidden_layer_sizes=(100,), mlpr__solver=adam;, score=0.675 total time= 1.5min\n"
     ]
    },
    {
     "name": "stderr",
     "output_type": "stream",
     "text": [
      "/home/bb/miniconda3/envs/my-env/lib/python3.10/site-packages/sklearn/neural_network/_multilayer_perceptron.py:702: ConvergenceWarning: Stochastic Optimizer: Maximum iterations (400) reached and the optimization hasn't converged yet.\n",
      "  warnings.warn(\n"
     ]
    },
    {
     "name": "stdout",
     "output_type": "stream",
     "text": [
      "[CV 4/10] END mlpr__activation=logistic, mlpr__alpha=0.0001, mlpr__hidden_layer_sizes=(100,), mlpr__solver=adam;, score=0.686 total time= 1.6min\n"
     ]
    },
    {
     "name": "stderr",
     "output_type": "stream",
     "text": [
      "/home/bb/miniconda3/envs/my-env/lib/python3.10/site-packages/sklearn/neural_network/_multilayer_perceptron.py:702: ConvergenceWarning: Stochastic Optimizer: Maximum iterations (400) reached and the optimization hasn't converged yet.\n",
      "  warnings.warn(\n"
     ]
    },
    {
     "name": "stdout",
     "output_type": "stream",
     "text": [
      "[CV 6/10] END mlpr__activation=logistic, mlpr__alpha=0.0001, mlpr__hidden_layer_sizes=(100,), mlpr__solver=adam;, score=0.698 total time= 1.3min\n"
     ]
    },
    {
     "name": "stderr",
     "output_type": "stream",
     "text": [
      "/home/bb/miniconda3/envs/my-env/lib/python3.10/site-packages/sklearn/neural_network/_multilayer_perceptron.py:702: ConvergenceWarning: Stochastic Optimizer: Maximum iterations (400) reached and the optimization hasn't converged yet.\n",
      "  warnings.warn(\n"
     ]
    },
    {
     "name": "stdout",
     "output_type": "stream",
     "text": [
      "[CV 7/10] END mlpr__activation=logistic, mlpr__alpha=0.0001, mlpr__hidden_layer_sizes=(100,), mlpr__solver=adam;, score=0.690 total time= 1.2min\n"
     ]
    },
    {
     "name": "stderr",
     "output_type": "stream",
     "text": [
      "/home/bb/miniconda3/envs/my-env/lib/python3.10/site-packages/sklearn/neural_network/_multilayer_perceptron.py:702: ConvergenceWarning: Stochastic Optimizer: Maximum iterations (400) reached and the optimization hasn't converged yet.\n",
      "  warnings.warn(\n"
     ]
    },
    {
     "name": "stdout",
     "output_type": "stream",
     "text": [
      "[CV 8/10] END mlpr__activation=logistic, mlpr__alpha=0.0001, mlpr__hidden_layer_sizes=(100,), mlpr__solver=adam;, score=0.696 total time= 1.3min\n"
     ]
    },
    {
     "name": "stderr",
     "output_type": "stream",
     "text": [
      "/home/bb/miniconda3/envs/my-env/lib/python3.10/site-packages/sklearn/neural_network/_multilayer_perceptron.py:702: ConvergenceWarning: Stochastic Optimizer: Maximum iterations (400) reached and the optimization hasn't converged yet.\n",
      "  warnings.warn(\n"
     ]
    },
    {
     "name": "stdout",
     "output_type": "stream",
     "text": [
      "[CV 10/10] END mlpr__activation=logistic, mlpr__alpha=0.0001, mlpr__hidden_layer_sizes=(100,), mlpr__solver=adam;, score=0.669 total time= 1.3min\n"
     ]
    },
    {
     "name": "stderr",
     "output_type": "stream",
     "text": [
      "/home/bb/miniconda3/envs/my-env/lib/python3.10/site-packages/sklearn/neural_network/_multilayer_perceptron.py:702: ConvergenceWarning: Stochastic Optimizer: Maximum iterations (400) reached and the optimization hasn't converged yet.\n",
      "  warnings.warn(\n"
     ]
    },
    {
     "name": "stdout",
     "output_type": "stream",
     "text": [
      "[CV 9/10] END mlpr__activation=logistic, mlpr__alpha=0.0001, mlpr__hidden_layer_sizes=(100,), mlpr__solver=adam;, score=0.685 total time= 1.4min\n"
     ]
    },
    {
     "name": "stderr",
     "output_type": "stream",
     "text": [
      "/home/bb/miniconda3/envs/my-env/lib/python3.10/site-packages/sklearn/neural_network/_multilayer_perceptron.py:702: ConvergenceWarning: Stochastic Optimizer: Maximum iterations (400) reached and the optimization hasn't converged yet.\n",
      "  warnings.warn(\n"
     ]
    },
    {
     "name": "stdout",
     "output_type": "stream",
     "text": [
      "[CV 1/10] END mlpr__activation=logistic, mlpr__alpha=0.0002, mlpr__hidden_layer_sizes=(50,), mlpr__solver=sgd;, score=0.686 total time=  47.1s\n"
     ]
    },
    {
     "name": "stderr",
     "output_type": "stream",
     "text": [
      "/home/bb/miniconda3/envs/my-env/lib/python3.10/site-packages/sklearn/neural_network/_multilayer_perceptron.py:702: ConvergenceWarning: Stochastic Optimizer: Maximum iterations (400) reached and the optimization hasn't converged yet.\n",
      "  warnings.warn(\n"
     ]
    },
    {
     "name": "stdout",
     "output_type": "stream",
     "text": [
      "[CV 2/10] END mlpr__activation=logistic, mlpr__alpha=0.0002, mlpr__hidden_layer_sizes=(50,), mlpr__solver=sgd;, score=0.691 total time=  49.7s\n",
      "[CV 3/10] END mlpr__activation=logistic, mlpr__alpha=0.0002, mlpr__hidden_layer_sizes=(50,), mlpr__solver=sgd;, score=0.684 total time=  44.6s\n"
     ]
    },
    {
     "name": "stderr",
     "output_type": "stream",
     "text": [
      "/home/bb/miniconda3/envs/my-env/lib/python3.10/site-packages/sklearn/neural_network/_multilayer_perceptron.py:702: ConvergenceWarning: Stochastic Optimizer: Maximum iterations (400) reached and the optimization hasn't converged yet.\n",
      "  warnings.warn(\n"
     ]
    },
    {
     "name": "stdout",
     "output_type": "stream",
     "text": [
      "[CV 4/10] END mlpr__activation=logistic, mlpr__alpha=0.0002, mlpr__hidden_layer_sizes=(50,), mlpr__solver=sgd;, score=0.692 total time=  54.0s\n"
     ]
    },
    {
     "name": "stderr",
     "output_type": "stream",
     "text": [
      "/home/bb/miniconda3/envs/my-env/lib/python3.10/site-packages/sklearn/neural_network/_multilayer_perceptron.py:702: ConvergenceWarning: Stochastic Optimizer: Maximum iterations (400) reached and the optimization hasn't converged yet.\n",
      "  warnings.warn(\n"
     ]
    },
    {
     "name": "stdout",
     "output_type": "stream",
     "text": [
      "[CV 7/10] END mlpr__activation=logistic, mlpr__alpha=0.0002, mlpr__hidden_layer_sizes=(50,), mlpr__solver=sgd;, score=0.689 total time=  40.3s\n"
     ]
    },
    {
     "name": "stderr",
     "output_type": "stream",
     "text": [
      "/home/bb/miniconda3/envs/my-env/lib/python3.10/site-packages/sklearn/neural_network/_multilayer_perceptron.py:702: ConvergenceWarning: Stochastic Optimizer: Maximum iterations (400) reached and the optimization hasn't converged yet.\n",
      "  warnings.warn(\n"
     ]
    },
    {
     "name": "stdout",
     "output_type": "stream",
     "text": [
      "[CV 5/10] END mlpr__activation=logistic, mlpr__alpha=0.0002, mlpr__hidden_layer_sizes=(50,), mlpr__solver=sgd;, score=0.690 total time=  57.6s\n"
     ]
    },
    {
     "name": "stderr",
     "output_type": "stream",
     "text": [
      "/home/bb/miniconda3/envs/my-env/lib/python3.10/site-packages/sklearn/neural_network/_multilayer_perceptron.py:702: ConvergenceWarning: Stochastic Optimizer: Maximum iterations (400) reached and the optimization hasn't converged yet.\n",
      "  warnings.warn(\n"
     ]
    },
    {
     "name": "stdout",
     "output_type": "stream",
     "text": [
      "[CV 6/10] END mlpr__activation=logistic, mlpr__alpha=0.0002, mlpr__hidden_layer_sizes=(50,), mlpr__solver=sgd;, score=0.698 total time=  47.8s\n"
     ]
    },
    {
     "name": "stderr",
     "output_type": "stream",
     "text": [
      "/home/bb/miniconda3/envs/my-env/lib/python3.10/site-packages/sklearn/neural_network/_multilayer_perceptron.py:702: ConvergenceWarning: Stochastic Optimizer: Maximum iterations (400) reached and the optimization hasn't converged yet.\n",
      "  warnings.warn(\n"
     ]
    },
    {
     "name": "stdout",
     "output_type": "stream",
     "text": [
      "[CV 8/10] END mlpr__activation=logistic, mlpr__alpha=0.0002, mlpr__hidden_layer_sizes=(50,), mlpr__solver=sgd;, score=0.703 total time=  40.7s\n"
     ]
    },
    {
     "name": "stderr",
     "output_type": "stream",
     "text": [
      "/home/bb/miniconda3/envs/my-env/lib/python3.10/site-packages/sklearn/neural_network/_multilayer_perceptron.py:702: ConvergenceWarning: Stochastic Optimizer: Maximum iterations (400) reached and the optimization hasn't converged yet.\n",
      "  warnings.warn(\n"
     ]
    },
    {
     "name": "stdout",
     "output_type": "stream",
     "text": [
      "[CV 10/10] END mlpr__activation=logistic, mlpr__alpha=0.0002, mlpr__hidden_layer_sizes=(50,), mlpr__solver=sgd;, score=0.662 total time=  47.0s\n"
     ]
    },
    {
     "name": "stderr",
     "output_type": "stream",
     "text": [
      "/home/bb/miniconda3/envs/my-env/lib/python3.10/site-packages/sklearn/neural_network/_multilayer_perceptron.py:702: ConvergenceWarning: Stochastic Optimizer: Maximum iterations (400) reached and the optimization hasn't converged yet.\n",
      "  warnings.warn(\n",
      "/home/bb/miniconda3/envs/my-env/lib/python3.10/site-packages/sklearn/neural_network/_multilayer_perceptron.py:702: ConvergenceWarning: Stochastic Optimizer: Maximum iterations (400) reached and the optimization hasn't converged yet.\n",
      "  warnings.warn(\n"
     ]
    },
    {
     "name": "stdout",
     "output_type": "stream",
     "text": [
      "[CV 1/10] END mlpr__activation=logistic, mlpr__alpha=0.0002, mlpr__hidden_layer_sizes=(50,), mlpr__solver=adam;, score=0.663 total time=  46.7s\n",
      "[CV 9/10] END mlpr__activation=logistic, mlpr__alpha=0.0002, mlpr__hidden_layer_sizes=(50,), mlpr__solver=sgd;, score=0.685 total time=  56.2s\n"
     ]
    },
    {
     "name": "stderr",
     "output_type": "stream",
     "text": [
      "/home/bb/miniconda3/envs/my-env/lib/python3.10/site-packages/sklearn/neural_network/_multilayer_perceptron.py:702: ConvergenceWarning: Stochastic Optimizer: Maximum iterations (400) reached and the optimization hasn't converged yet.\n",
      "  warnings.warn(\n"
     ]
    },
    {
     "name": "stdout",
     "output_type": "stream",
     "text": [
      "[CV 2/10] END mlpr__activation=logistic, mlpr__alpha=0.0002, mlpr__hidden_layer_sizes=(50,), mlpr__solver=adam;, score=0.674 total time=  56.7s\n"
     ]
    },
    {
     "name": "stderr",
     "output_type": "stream",
     "text": [
      "/home/bb/miniconda3/envs/my-env/lib/python3.10/site-packages/sklearn/neural_network/_multilayer_perceptron.py:702: ConvergenceWarning: Stochastic Optimizer: Maximum iterations (400) reached and the optimization hasn't converged yet.\n",
      "  warnings.warn(\n"
     ]
    },
    {
     "name": "stdout",
     "output_type": "stream",
     "text": [
      "[CV 3/10] END mlpr__activation=logistic, mlpr__alpha=0.0002, mlpr__hidden_layer_sizes=(50,), mlpr__solver=adam;, score=0.664 total time=  52.2s\n"
     ]
    },
    {
     "name": "stderr",
     "output_type": "stream",
     "text": [
      "/home/bb/miniconda3/envs/my-env/lib/python3.10/site-packages/sklearn/neural_network/_multilayer_perceptron.py:702: ConvergenceWarning: Stochastic Optimizer: Maximum iterations (400) reached and the optimization hasn't converged yet.\n",
      "  warnings.warn(\n"
     ]
    },
    {
     "name": "stdout",
     "output_type": "stream",
     "text": [
      "[CV 6/10] END mlpr__activation=logistic, mlpr__alpha=0.0002, mlpr__hidden_layer_sizes=(50,), mlpr__solver=adam;, score=0.684 total time=  36.8s\n"
     ]
    },
    {
     "name": "stderr",
     "output_type": "stream",
     "text": [
      "/home/bb/miniconda3/envs/my-env/lib/python3.10/site-packages/sklearn/neural_network/_multilayer_perceptron.py:702: ConvergenceWarning: Stochastic Optimizer: Maximum iterations (400) reached and the optimization hasn't converged yet.\n",
      "  warnings.warn(\n"
     ]
    },
    {
     "name": "stdout",
     "output_type": "stream",
     "text": [
      "[CV 4/10] END mlpr__activation=logistic, mlpr__alpha=0.0002, mlpr__hidden_layer_sizes=(50,), mlpr__solver=adam;, score=0.673 total time= 1.1min\n"
     ]
    },
    {
     "name": "stderr",
     "output_type": "stream",
     "text": [
      "/home/bb/miniconda3/envs/my-env/lib/python3.10/site-packages/sklearn/neural_network/_multilayer_perceptron.py:702: ConvergenceWarning: Stochastic Optimizer: Maximum iterations (400) reached and the optimization hasn't converged yet.\n",
      "  warnings.warn(\n"
     ]
    },
    {
     "name": "stdout",
     "output_type": "stream",
     "text": [
      "[CV 5/10] END mlpr__activation=logistic, mlpr__alpha=0.0002, mlpr__hidden_layer_sizes=(50,), mlpr__solver=adam;, score=0.664 total time= 1.1min\n"
     ]
    },
    {
     "name": "stderr",
     "output_type": "stream",
     "text": [
      "/home/bb/miniconda3/envs/my-env/lib/python3.10/site-packages/sklearn/neural_network/_multilayer_perceptron.py:702: ConvergenceWarning: Stochastic Optimizer: Maximum iterations (400) reached and the optimization hasn't converged yet.\n",
      "  warnings.warn(\n"
     ]
    },
    {
     "name": "stdout",
     "output_type": "stream",
     "text": [
      "[CV 7/10] END mlpr__activation=logistic, mlpr__alpha=0.0002, mlpr__hidden_layer_sizes=(50,), mlpr__solver=adam;, score=0.675 total time=  52.3s\n"
     ]
    },
    {
     "name": "stderr",
     "output_type": "stream",
     "text": [
      "/home/bb/miniconda3/envs/my-env/lib/python3.10/site-packages/sklearn/neural_network/_multilayer_perceptron.py:702: ConvergenceWarning: Stochastic Optimizer: Maximum iterations (400) reached and the optimization hasn't converged yet.\n",
      "  warnings.warn(\n"
     ]
    },
    {
     "name": "stdout",
     "output_type": "stream",
     "text": [
      "[CV 8/10] END mlpr__activation=logistic, mlpr__alpha=0.0002, mlpr__hidden_layer_sizes=(50,), mlpr__solver=adam;, score=0.680 total time=  52.1s\n"
     ]
    },
    {
     "name": "stderr",
     "output_type": "stream",
     "text": [
      "/home/bb/miniconda3/envs/my-env/lib/python3.10/site-packages/sklearn/neural_network/_multilayer_perceptron.py:702: ConvergenceWarning: Stochastic Optimizer: Maximum iterations (400) reached and the optimization hasn't converged yet.\n",
      "  warnings.warn(\n"
     ]
    },
    {
     "name": "stdout",
     "output_type": "stream",
     "text": [
      "[CV 9/10] END mlpr__activation=logistic, mlpr__alpha=0.0002, mlpr__hidden_layer_sizes=(50,), mlpr__solver=adam;, score=0.666 total time=  43.2s\n"
     ]
    },
    {
     "name": "stderr",
     "output_type": "stream",
     "text": [
      "/home/bb/miniconda3/envs/my-env/lib/python3.10/site-packages/sklearn/neural_network/_multilayer_perceptron.py:702: ConvergenceWarning: Stochastic Optimizer: Maximum iterations (400) reached and the optimization hasn't converged yet.\n",
      "  warnings.warn(\n"
     ]
    },
    {
     "name": "stdout",
     "output_type": "stream",
     "text": [
      "[CV 10/10] END mlpr__activation=logistic, mlpr__alpha=0.0002, mlpr__hidden_layer_sizes=(50,), mlpr__solver=adam;, score=0.652 total time=  51.4s\n"
     ]
    },
    {
     "name": "stderr",
     "output_type": "stream",
     "text": [
      "/home/bb/miniconda3/envs/my-env/lib/python3.10/site-packages/sklearn/neural_network/_multilayer_perceptron.py:702: ConvergenceWarning: Stochastic Optimizer: Maximum iterations (400) reached and the optimization hasn't converged yet.\n",
      "  warnings.warn(\n"
     ]
    },
    {
     "name": "stdout",
     "output_type": "stream",
     "text": [
      "[CV 2/10] END mlpr__activation=logistic, mlpr__alpha=0.0002, mlpr__hidden_layer_sizes=(100,), mlpr__solver=sgd;, score=0.703 total time= 1.2min\n"
     ]
    },
    {
     "name": "stderr",
     "output_type": "stream",
     "text": [
      "/home/bb/miniconda3/envs/my-env/lib/python3.10/site-packages/sklearn/neural_network/_multilayer_perceptron.py:702: ConvergenceWarning: Stochastic Optimizer: Maximum iterations (400) reached and the optimization hasn't converged yet.\n",
      "  warnings.warn(\n"
     ]
    },
    {
     "name": "stdout",
     "output_type": "stream",
     "text": [
      "[CV 1/10] END mlpr__activation=logistic, mlpr__alpha=0.0002, mlpr__hidden_layer_sizes=(100,), mlpr__solver=sgd;, score=0.706 total time= 1.3min\n"
     ]
    },
    {
     "name": "stderr",
     "output_type": "stream",
     "text": [
      "/home/bb/miniconda3/envs/my-env/lib/python3.10/site-packages/sklearn/neural_network/_multilayer_perceptron.py:702: ConvergenceWarning: Stochastic Optimizer: Maximum iterations (400) reached and the optimization hasn't converged yet.\n",
      "  warnings.warn(\n"
     ]
    },
    {
     "name": "stdout",
     "output_type": "stream",
     "text": [
      "[CV 3/10] END mlpr__activation=logistic, mlpr__alpha=0.0002, mlpr__hidden_layer_sizes=(100,), mlpr__solver=sgd;, score=0.705 total time= 1.2min\n"
     ]
    },
    {
     "name": "stderr",
     "output_type": "stream",
     "text": [
      "/home/bb/miniconda3/envs/my-env/lib/python3.10/site-packages/sklearn/neural_network/_multilayer_perceptron.py:702: ConvergenceWarning: Stochastic Optimizer: Maximum iterations (400) reached and the optimization hasn't converged yet.\n",
      "  warnings.warn(\n"
     ]
    },
    {
     "name": "stdout",
     "output_type": "stream",
     "text": [
      "[CV 4/10] END mlpr__activation=logistic, mlpr__alpha=0.0002, mlpr__hidden_layer_sizes=(100,), mlpr__solver=sgd;, score=0.700 total time= 1.3min\n"
     ]
    },
    {
     "name": "stderr",
     "output_type": "stream",
     "text": [
      "/home/bb/miniconda3/envs/my-env/lib/python3.10/site-packages/sklearn/neural_network/_multilayer_perceptron.py:702: ConvergenceWarning: Stochastic Optimizer: Maximum iterations (400) reached and the optimization hasn't converged yet.\n",
      "  warnings.warn(\n"
     ]
    },
    {
     "name": "stdout",
     "output_type": "stream",
     "text": [
      "[CV 5/10] END mlpr__activation=logistic, mlpr__alpha=0.0002, mlpr__hidden_layer_sizes=(100,), mlpr__solver=sgd;, score=0.694 total time= 1.0min\n"
     ]
    },
    {
     "name": "stderr",
     "output_type": "stream",
     "text": [
      "/home/bb/miniconda3/envs/my-env/lib/python3.10/site-packages/sklearn/neural_network/_multilayer_perceptron.py:702: ConvergenceWarning: Stochastic Optimizer: Maximum iterations (400) reached and the optimization hasn't converged yet.\n",
      "  warnings.warn(\n"
     ]
    },
    {
     "name": "stdout",
     "output_type": "stream",
     "text": [
      "[CV 7/10] END mlpr__activation=logistic, mlpr__alpha=0.0002, mlpr__hidden_layer_sizes=(100,), mlpr__solver=sgd;, score=0.697 total time= 1.2min\n"
     ]
    },
    {
     "name": "stderr",
     "output_type": "stream",
     "text": [
      "/home/bb/miniconda3/envs/my-env/lib/python3.10/site-packages/sklearn/neural_network/_multilayer_perceptron.py:702: ConvergenceWarning: Stochastic Optimizer: Maximum iterations (400) reached and the optimization hasn't converged yet.\n",
      "  warnings.warn(\n"
     ]
    },
    {
     "name": "stdout",
     "output_type": "stream",
     "text": [
      "[CV 6/10] END mlpr__activation=logistic, mlpr__alpha=0.0002, mlpr__hidden_layer_sizes=(100,), mlpr__solver=sgd;, score=0.713 total time= 1.3min\n"
     ]
    },
    {
     "name": "stderr",
     "output_type": "stream",
     "text": [
      "/home/bb/miniconda3/envs/my-env/lib/python3.10/site-packages/sklearn/neural_network/_multilayer_perceptron.py:702: ConvergenceWarning: Stochastic Optimizer: Maximum iterations (400) reached and the optimization hasn't converged yet.\n",
      "  warnings.warn(\n"
     ]
    },
    {
     "name": "stdout",
     "output_type": "stream",
     "text": [
      "[CV 9/10] END mlpr__activation=logistic, mlpr__alpha=0.0002, mlpr__hidden_layer_sizes=(100,), mlpr__solver=sgd;, score=0.705 total time= 1.1min\n"
     ]
    },
    {
     "name": "stderr",
     "output_type": "stream",
     "text": [
      "/home/bb/miniconda3/envs/my-env/lib/python3.10/site-packages/sklearn/neural_network/_multilayer_perceptron.py:702: ConvergenceWarning: Stochastic Optimizer: Maximum iterations (400) reached and the optimization hasn't converged yet.\n",
      "  warnings.warn(\n"
     ]
    },
    {
     "name": "stdout",
     "output_type": "stream",
     "text": [
      "[CV 8/10] END mlpr__activation=logistic, mlpr__alpha=0.0002, mlpr__hidden_layer_sizes=(100,), mlpr__solver=sgd;, score=0.712 total time= 1.3min\n"
     ]
    },
    {
     "name": "stderr",
     "output_type": "stream",
     "text": [
      "/home/bb/miniconda3/envs/my-env/lib/python3.10/site-packages/sklearn/neural_network/_multilayer_perceptron.py:702: ConvergenceWarning: Stochastic Optimizer: Maximum iterations (400) reached and the optimization hasn't converged yet.\n",
      "  warnings.warn(\n"
     ]
    },
    {
     "name": "stdout",
     "output_type": "stream",
     "text": [
      "[CV 10/10] END mlpr__activation=logistic, mlpr__alpha=0.0002, mlpr__hidden_layer_sizes=(100,), mlpr__solver=sgd;, score=0.678 total time= 1.0min\n"
     ]
    },
    {
     "name": "stderr",
     "output_type": "stream",
     "text": [
      "/home/bb/miniconda3/envs/my-env/lib/python3.10/site-packages/sklearn/neural_network/_multilayer_perceptron.py:702: ConvergenceWarning: Stochastic Optimizer: Maximum iterations (400) reached and the optimization hasn't converged yet.\n",
      "  warnings.warn(\n"
     ]
    },
    {
     "name": "stdout",
     "output_type": "stream",
     "text": [
      "[CV 1/10] END mlpr__activation=logistic, mlpr__alpha=0.0002, mlpr__hidden_layer_sizes=(100,), mlpr__solver=adam;, score=0.680 total time= 1.2min\n"
     ]
    },
    {
     "name": "stderr",
     "output_type": "stream",
     "text": [
      "/home/bb/miniconda3/envs/my-env/lib/python3.10/site-packages/sklearn/neural_network/_multilayer_perceptron.py:702: ConvergenceWarning: Stochastic Optimizer: Maximum iterations (400) reached and the optimization hasn't converged yet.\n",
      "  warnings.warn(\n"
     ]
    },
    {
     "name": "stdout",
     "output_type": "stream",
     "text": [
      "[CV 4/10] END mlpr__activation=logistic, mlpr__alpha=0.0002, mlpr__hidden_layer_sizes=(100,), mlpr__solver=adam;, score=0.687 total time= 1.1min\n"
     ]
    },
    {
     "name": "stderr",
     "output_type": "stream",
     "text": [
      "/home/bb/miniconda3/envs/my-env/lib/python3.10/site-packages/sklearn/neural_network/_multilayer_perceptron.py:702: ConvergenceWarning: Stochastic Optimizer: Maximum iterations (400) reached and the optimization hasn't converged yet.\n",
      "  warnings.warn(\n"
     ]
    },
    {
     "name": "stdout",
     "output_type": "stream",
     "text": [
      "[CV 2/10] END mlpr__activation=logistic, mlpr__alpha=0.0002, mlpr__hidden_layer_sizes=(100,), mlpr__solver=adam;, score=0.695 total time= 1.3min\n"
     ]
    },
    {
     "name": "stderr",
     "output_type": "stream",
     "text": [
      "/home/bb/miniconda3/envs/my-env/lib/python3.10/site-packages/sklearn/neural_network/_multilayer_perceptron.py:702: ConvergenceWarning: Stochastic Optimizer: Maximum iterations (400) reached and the optimization hasn't converged yet.\n",
      "  warnings.warn(\n"
     ]
    },
    {
     "name": "stdout",
     "output_type": "stream",
     "text": [
      "[CV 3/10] END mlpr__activation=logistic, mlpr__alpha=0.0002, mlpr__hidden_layer_sizes=(100,), mlpr__solver=adam;, score=0.678 total time= 1.3min\n"
     ]
    },
    {
     "name": "stderr",
     "output_type": "stream",
     "text": [
      "/home/bb/miniconda3/envs/my-env/lib/python3.10/site-packages/sklearn/neural_network/_multilayer_perceptron.py:702: ConvergenceWarning: Stochastic Optimizer: Maximum iterations (400) reached and the optimization hasn't converged yet.\n",
      "  warnings.warn(\n"
     ]
    },
    {
     "name": "stdout",
     "output_type": "stream",
     "text": [
      "[CV 5/10] END mlpr__activation=logistic, mlpr__alpha=0.0002, mlpr__hidden_layer_sizes=(100,), mlpr__solver=adam;, score=0.677 total time= 1.3min\n"
     ]
    },
    {
     "name": "stderr",
     "output_type": "stream",
     "text": [
      "/home/bb/miniconda3/envs/my-env/lib/python3.10/site-packages/sklearn/neural_network/_multilayer_perceptron.py:702: ConvergenceWarning: Stochastic Optimizer: Maximum iterations (400) reached and the optimization hasn't converged yet.\n",
      "  warnings.warn(\n",
      "/home/bb/miniconda3/envs/my-env/lib/python3.10/site-packages/sklearn/neural_network/_multilayer_perceptron.py:702: ConvergenceWarning: Stochastic Optimizer: Maximum iterations (400) reached and the optimization hasn't converged yet.\n",
      "  warnings.warn(\n"
     ]
    },
    {
     "name": "stdout",
     "output_type": "stream",
     "text": [
      "[CV 8/10] END mlpr__activation=logistic, mlpr__alpha=0.0002, mlpr__hidden_layer_sizes=(100,), mlpr__solver=adam;, score=0.694 total time= 1.2min\n",
      "[CV 7/10] END mlpr__activation=logistic, mlpr__alpha=0.0002, mlpr__hidden_layer_sizes=(100,), mlpr__solver=adam;, score=0.684 total time= 1.3min\n"
     ]
    },
    {
     "name": "stderr",
     "output_type": "stream",
     "text": [
      "/home/bb/miniconda3/envs/my-env/lib/python3.10/site-packages/sklearn/neural_network/_multilayer_perceptron.py:702: ConvergenceWarning: Stochastic Optimizer: Maximum iterations (400) reached and the optimization hasn't converged yet.\n",
      "  warnings.warn(\n"
     ]
    },
    {
     "name": "stdout",
     "output_type": "stream",
     "text": [
      "[CV 9/10] END mlpr__activation=logistic, mlpr__alpha=0.0002, mlpr__hidden_layer_sizes=(100,), mlpr__solver=adam;, score=0.683 total time= 1.2min\n"
     ]
    },
    {
     "name": "stderr",
     "output_type": "stream",
     "text": [
      "/home/bb/miniconda3/envs/my-env/lib/python3.10/site-packages/sklearn/neural_network/_multilayer_perceptron.py:702: ConvergenceWarning: Stochastic Optimizer: Maximum iterations (400) reached and the optimization hasn't converged yet.\n",
      "  warnings.warn(\n"
     ]
    },
    {
     "name": "stdout",
     "output_type": "stream",
     "text": [
      "[CV 6/10] END mlpr__activation=logistic, mlpr__alpha=0.0002, mlpr__hidden_layer_sizes=(100,), mlpr__solver=adam;, score=0.696 total time= 1.5min\n",
      "[CV 2/10] END mlpr__activation=tanh, mlpr__alpha=0.0001, mlpr__hidden_layer_sizes=(50,), mlpr__solver=sgd;, score=0.686 total time=  18.9s\n",
      "[CV 1/10] END mlpr__activation=tanh, mlpr__alpha=0.0001, mlpr__hidden_layer_sizes=(50,), mlpr__solver=sgd;, score=0.684 total time=  27.6s\n",
      "[CV 4/10] END mlpr__activation=tanh, mlpr__alpha=0.0001, mlpr__hidden_layer_sizes=(50,), mlpr__solver=sgd;, score=0.680 total time=  20.8s\n",
      "[CV 3/10] END mlpr__activation=tanh, mlpr__alpha=0.0001, mlpr__hidden_layer_sizes=(50,), mlpr__solver=sgd;, score=0.681 total time=  25.6s\n",
      "[CV 5/10] END mlpr__activation=tanh, mlpr__alpha=0.0001, mlpr__hidden_layer_sizes=(50,), mlpr__solver=sgd;, score=0.679 total time=  15.4s\n"
     ]
    },
    {
     "name": "stderr",
     "output_type": "stream",
     "text": [
      "/home/bb/miniconda3/envs/my-env/lib/python3.10/site-packages/sklearn/neural_network/_multilayer_perceptron.py:702: ConvergenceWarning: Stochastic Optimizer: Maximum iterations (400) reached and the optimization hasn't converged yet.\n",
      "  warnings.warn(\n"
     ]
    },
    {
     "name": "stdout",
     "output_type": "stream",
     "text": [
      "[CV 10/10] END mlpr__activation=logistic, mlpr__alpha=0.0002, mlpr__hidden_layer_sizes=(100,), mlpr__solver=adam;, score=0.667 total time= 1.5min\n",
      "[CV 9/10] END mlpr__activation=tanh, mlpr__alpha=0.0001, mlpr__hidden_layer_sizes=(50,), mlpr__solver=sgd;, score=0.675 total time=   9.7s\n",
      "[CV 6/10] END mlpr__activation=tanh, mlpr__alpha=0.0001, mlpr__hidden_layer_sizes=(50,), mlpr__solver=sgd;, score=0.691 total time=  19.5s\n",
      "[CV 8/10] END mlpr__activation=tanh, mlpr__alpha=0.0001, mlpr__hidden_layer_sizes=(50,), mlpr__solver=sgd;, score=0.698 total time=  17.7s\n",
      "[CV 7/10] END mlpr__activation=tanh, mlpr__alpha=0.0001, mlpr__hidden_layer_sizes=(50,), mlpr__solver=sgd;, score=0.678 total time=  23.5s\n",
      "[CV 10/10] END mlpr__activation=tanh, mlpr__alpha=0.0001, mlpr__hidden_layer_sizes=(50,), mlpr__solver=sgd;, score=0.665 total time=  21.3s\n"
     ]
    },
    {
     "name": "stderr",
     "output_type": "stream",
     "text": [
      "/home/bb/miniconda3/envs/my-env/lib/python3.10/site-packages/sklearn/neural_network/_multilayer_perceptron.py:702: ConvergenceWarning: Stochastic Optimizer: Maximum iterations (400) reached and the optimization hasn't converged yet.\n",
      "  warnings.warn(\n"
     ]
    },
    {
     "name": "stdout",
     "output_type": "stream",
     "text": [
      "[CV 1/10] END mlpr__activation=tanh, mlpr__alpha=0.0001, mlpr__hidden_layer_sizes=(50,), mlpr__solver=adam;, score=0.684 total time=  41.9s\n"
     ]
    },
    {
     "name": "stderr",
     "output_type": "stream",
     "text": [
      "/home/bb/miniconda3/envs/my-env/lib/python3.10/site-packages/sklearn/neural_network/_multilayer_perceptron.py:702: ConvergenceWarning: Stochastic Optimizer: Maximum iterations (400) reached and the optimization hasn't converged yet.\n",
      "  warnings.warn(\n"
     ]
    },
    {
     "name": "stdout",
     "output_type": "stream",
     "text": [
      "[CV 2/10] END mlpr__activation=tanh, mlpr__alpha=0.0001, mlpr__hidden_layer_sizes=(50,), mlpr__solver=adam;, score=0.685 total time=  43.2s\n"
     ]
    },
    {
     "name": "stderr",
     "output_type": "stream",
     "text": [
      "/home/bb/miniconda3/envs/my-env/lib/python3.10/site-packages/sklearn/neural_network/_multilayer_perceptron.py:702: ConvergenceWarning: Stochastic Optimizer: Maximum iterations (400) reached and the optimization hasn't converged yet.\n",
      "  warnings.warn(\n"
     ]
    },
    {
     "name": "stdout",
     "output_type": "stream",
     "text": [
      "[CV 3/10] END mlpr__activation=tanh, mlpr__alpha=0.0001, mlpr__hidden_layer_sizes=(50,), mlpr__solver=adam;, score=0.684 total time=  42.8s\n"
     ]
    },
    {
     "name": "stderr",
     "output_type": "stream",
     "text": [
      "/home/bb/miniconda3/envs/my-env/lib/python3.10/site-packages/sklearn/neural_network/_multilayer_perceptron.py:702: ConvergenceWarning: Stochastic Optimizer: Maximum iterations (400) reached and the optimization hasn't converged yet.\n",
      "  warnings.warn(\n"
     ]
    },
    {
     "name": "stdout",
     "output_type": "stream",
     "text": [
      "[CV 4/10] END mlpr__activation=tanh, mlpr__alpha=0.0001, mlpr__hidden_layer_sizes=(50,), mlpr__solver=adam;, score=0.681 total time=  44.3s\n"
     ]
    },
    {
     "name": "stderr",
     "output_type": "stream",
     "text": [
      "/home/bb/miniconda3/envs/my-env/lib/python3.10/site-packages/sklearn/neural_network/_multilayer_perceptron.py:702: ConvergenceWarning: Stochastic Optimizer: Maximum iterations (400) reached and the optimization hasn't converged yet.\n",
      "  warnings.warn(\n"
     ]
    },
    {
     "name": "stdout",
     "output_type": "stream",
     "text": [
      "[CV 5/10] END mlpr__activation=tanh, mlpr__alpha=0.0001, mlpr__hidden_layer_sizes=(50,), mlpr__solver=adam;, score=0.687 total time=  45.4s\n"
     ]
    },
    {
     "name": "stderr",
     "output_type": "stream",
     "text": [
      "/home/bb/miniconda3/envs/my-env/lib/python3.10/site-packages/sklearn/neural_network/_multilayer_perceptron.py:702: ConvergenceWarning: Stochastic Optimizer: Maximum iterations (400) reached and the optimization hasn't converged yet.\n",
      "  warnings.warn(\n"
     ]
    },
    {
     "name": "stdout",
     "output_type": "stream",
     "text": [
      "[CV 6/10] END mlpr__activation=tanh, mlpr__alpha=0.0001, mlpr__hidden_layer_sizes=(50,), mlpr__solver=adam;, score=0.696 total time=  43.0s\n"
     ]
    },
    {
     "name": "stderr",
     "output_type": "stream",
     "text": [
      "/home/bb/miniconda3/envs/my-env/lib/python3.10/site-packages/sklearn/neural_network/_multilayer_perceptron.py:702: ConvergenceWarning: Stochastic Optimizer: Maximum iterations (400) reached and the optimization hasn't converged yet.\n",
      "  warnings.warn(\n"
     ]
    },
    {
     "name": "stdout",
     "output_type": "stream",
     "text": [
      "[CV 8/10] END mlpr__activation=tanh, mlpr__alpha=0.0001, mlpr__hidden_layer_sizes=(50,), mlpr__solver=adam;, score=0.694 total time=  43.1s\n"
     ]
    },
    {
     "name": "stderr",
     "output_type": "stream",
     "text": [
      "/home/bb/miniconda3/envs/my-env/lib/python3.10/site-packages/sklearn/neural_network/_multilayer_perceptron.py:702: ConvergenceWarning: Stochastic Optimizer: Maximum iterations (400) reached and the optimization hasn't converged yet.\n",
      "  warnings.warn(\n"
     ]
    },
    {
     "name": "stdout",
     "output_type": "stream",
     "text": [
      "[CV 7/10] END mlpr__activation=tanh, mlpr__alpha=0.0001, mlpr__hidden_layer_sizes=(50,), mlpr__solver=adam;, score=0.691 total time=  46.1s\n"
     ]
    },
    {
     "name": "stderr",
     "output_type": "stream",
     "text": [
      "/home/bb/miniconda3/envs/my-env/lib/python3.10/site-packages/sklearn/neural_network/_multilayer_perceptron.py:702: ConvergenceWarning: Stochastic Optimizer: Maximum iterations (400) reached and the optimization hasn't converged yet.\n",
      "  warnings.warn(\n"
     ]
    },
    {
     "name": "stdout",
     "output_type": "stream",
     "text": [
      "[CV 9/10] END mlpr__activation=tanh, mlpr__alpha=0.0001, mlpr__hidden_layer_sizes=(50,), mlpr__solver=adam;, score=0.675 total time=  42.7s\n"
     ]
    },
    {
     "name": "stderr",
     "output_type": "stream",
     "text": [
      "/home/bb/miniconda3/envs/my-env/lib/python3.10/site-packages/sklearn/neural_network/_multilayer_perceptron.py:702: ConvergenceWarning: Stochastic Optimizer: Maximum iterations (400) reached and the optimization hasn't converged yet.\n",
      "  warnings.warn(\n"
     ]
    },
    {
     "name": "stdout",
     "output_type": "stream",
     "text": [
      "[CV 10/10] END mlpr__activation=tanh, mlpr__alpha=0.0001, mlpr__hidden_layer_sizes=(50,), mlpr__solver=adam;, score=0.667 total time=  53.3s\n",
      "[CV 4/10] END mlpr__activation=tanh, mlpr__alpha=0.0001, mlpr__hidden_layer_sizes=(100,), mlpr__solver=sgd;, score=0.690 total time=  33.0s\n",
      "[CV 3/10] END mlpr__activation=tanh, mlpr__alpha=0.0001, mlpr__hidden_layer_sizes=(100,), mlpr__solver=sgd;, score=0.691 total time=  42.0s\n"
     ]
    },
    {
     "name": "stderr",
     "output_type": "stream",
     "text": [
      "/home/bb/miniconda3/envs/my-env/lib/python3.10/site-packages/sklearn/neural_network/_multilayer_perceptron.py:702: ConvergenceWarning: Stochastic Optimizer: Maximum iterations (400) reached and the optimization hasn't converged yet.\n",
      "  warnings.warn(\n"
     ]
    },
    {
     "name": "stdout",
     "output_type": "stream",
     "text": [
      "[CV 1/10] END mlpr__activation=tanh, mlpr__alpha=0.0001, mlpr__hidden_layer_sizes=(100,), mlpr__solver=sgd;, score=0.685 total time=  51.0s\n",
      "[CV 2/10] END mlpr__activation=tanh, mlpr__alpha=0.0001, mlpr__hidden_layer_sizes=(100,), mlpr__solver=sgd;, score=0.684 total time=  50.5s\n",
      "[CV 5/10] END mlpr__activation=tanh, mlpr__alpha=0.0001, mlpr__hidden_layer_sizes=(100,), mlpr__solver=sgd;, score=0.681 total time=  37.1s\n",
      "[CV 6/10] END mlpr__activation=tanh, mlpr__alpha=0.0001, mlpr__hidden_layer_sizes=(100,), mlpr__solver=sgd;, score=0.685 total time=  45.4s\n",
      "[CV 8/10] END mlpr__activation=tanh, mlpr__alpha=0.0001, mlpr__hidden_layer_sizes=(100,), mlpr__solver=sgd;, score=0.685 total time=  44.1s\n",
      "[CV 10/10] END mlpr__activation=tanh, mlpr__alpha=0.0001, mlpr__hidden_layer_sizes=(100,), mlpr__solver=sgd;, score=0.646 total time=  30.4s\n",
      "[CV 7/10] END mlpr__activation=tanh, mlpr__alpha=0.0001, mlpr__hidden_layer_sizes=(100,), mlpr__solver=sgd;, score=0.683 total time=  51.2s\n",
      "[CV 9/10] END mlpr__activation=tanh, mlpr__alpha=0.0001, mlpr__hidden_layer_sizes=(100,), mlpr__solver=sgd;, score=0.675 total time=  51.6s\n"
     ]
    },
    {
     "name": "stderr",
     "output_type": "stream",
     "text": [
      "/home/bb/miniconda3/envs/my-env/lib/python3.10/site-packages/sklearn/neural_network/_multilayer_perceptron.py:702: ConvergenceWarning: Stochastic Optimizer: Maximum iterations (400) reached and the optimization hasn't converged yet.\n",
      "  warnings.warn(\n"
     ]
    },
    {
     "name": "stdout",
     "output_type": "stream",
     "text": [
      "[CV 5/10] END mlpr__activation=tanh, mlpr__alpha=0.0001, mlpr__hidden_layer_sizes=(100,), mlpr__solver=adam;, score=0.692 total time=  42.7s\n"
     ]
    },
    {
     "name": "stderr",
     "output_type": "stream",
     "text": [
      "/home/bb/miniconda3/envs/my-env/lib/python3.10/site-packages/sklearn/neural_network/_multilayer_perceptron.py:702: ConvergenceWarning: Stochastic Optimizer: Maximum iterations (400) reached and the optimization hasn't converged yet.\n",
      "  warnings.warn(\n"
     ]
    },
    {
     "name": "stdout",
     "output_type": "stream",
     "text": [
      "[CV 3/10] END mlpr__activation=tanh, mlpr__alpha=0.0001, mlpr__hidden_layer_sizes=(100,), mlpr__solver=adam;, score=0.685 total time=  55.3s\n"
     ]
    },
    {
     "name": "stderr",
     "output_type": "stream",
     "text": [
      "/home/bb/miniconda3/envs/my-env/lib/python3.10/site-packages/sklearn/neural_network/_multilayer_perceptron.py:702: ConvergenceWarning: Stochastic Optimizer: Maximum iterations (400) reached and the optimization hasn't converged yet.\n",
      "  warnings.warn(\n"
     ]
    },
    {
     "name": "stdout",
     "output_type": "stream",
     "text": [
      "[CV 4/10] END mlpr__activation=tanh, mlpr__alpha=0.0001, mlpr__hidden_layer_sizes=(100,), mlpr__solver=adam;, score=0.695 total time=  56.5s\n"
     ]
    },
    {
     "name": "stderr",
     "output_type": "stream",
     "text": [
      "/home/bb/miniconda3/envs/my-env/lib/python3.10/site-packages/sklearn/neural_network/_multilayer_perceptron.py:702: ConvergenceWarning: Stochastic Optimizer: Maximum iterations (400) reached and the optimization hasn't converged yet.\n",
      "  warnings.warn(\n"
     ]
    },
    {
     "name": "stdout",
     "output_type": "stream",
     "text": [
      "[CV 1/10] END mlpr__activation=tanh, mlpr__alpha=0.0001, mlpr__hidden_layer_sizes=(100,), mlpr__solver=adam;, score=0.688 total time= 1.1min\n"
     ]
    },
    {
     "name": "stderr",
     "output_type": "stream",
     "text": [
      "/home/bb/miniconda3/envs/my-env/lib/python3.10/site-packages/sklearn/neural_network/_multilayer_perceptron.py:702: ConvergenceWarning: Stochastic Optimizer: Maximum iterations (400) reached and the optimization hasn't converged yet.\n",
      "  warnings.warn(\n"
     ]
    },
    {
     "name": "stdout",
     "output_type": "stream",
     "text": [
      "[CV 2/10] END mlpr__activation=tanh, mlpr__alpha=0.0001, mlpr__hidden_layer_sizes=(100,), mlpr__solver=adam;, score=0.698 total time= 1.2min\n"
     ]
    },
    {
     "name": "stderr",
     "output_type": "stream",
     "text": [
      "/home/bb/miniconda3/envs/my-env/lib/python3.10/site-packages/sklearn/neural_network/_multilayer_perceptron.py:702: ConvergenceWarning: Stochastic Optimizer: Maximum iterations (400) reached and the optimization hasn't converged yet.\n",
      "  warnings.warn(\n"
     ]
    },
    {
     "name": "stdout",
     "output_type": "stream",
     "text": [
      "[CV 6/10] END mlpr__activation=tanh, mlpr__alpha=0.0001, mlpr__hidden_layer_sizes=(100,), mlpr__solver=adam;, score=0.703 total time=  53.6s\n"
     ]
    },
    {
     "name": "stderr",
     "output_type": "stream",
     "text": [
      "/home/bb/miniconda3/envs/my-env/lib/python3.10/site-packages/sklearn/neural_network/_multilayer_perceptron.py:702: ConvergenceWarning: Stochastic Optimizer: Maximum iterations (400) reached and the optimization hasn't converged yet.\n",
      "  warnings.warn(\n"
     ]
    },
    {
     "name": "stdout",
     "output_type": "stream",
     "text": [
      "[CV 7/10] END mlpr__activation=tanh, mlpr__alpha=0.0001, mlpr__hidden_layer_sizes=(100,), mlpr__solver=adam;, score=0.696 total time=  55.5s\n"
     ]
    },
    {
     "name": "stderr",
     "output_type": "stream",
     "text": [
      "/home/bb/miniconda3/envs/my-env/lib/python3.10/site-packages/sklearn/neural_network/_multilayer_perceptron.py:702: ConvergenceWarning: Stochastic Optimizer: Maximum iterations (400) reached and the optimization hasn't converged yet.\n",
      "  warnings.warn(\n"
     ]
    },
    {
     "name": "stdout",
     "output_type": "stream",
     "text": [
      "[CV 8/10] END mlpr__activation=tanh, mlpr__alpha=0.0001, mlpr__hidden_layer_sizes=(100,), mlpr__solver=adam;, score=0.701 total time=  56.3s\n",
      "[CV 1/10] END mlpr__activation=tanh, mlpr__alpha=0.0002, mlpr__hidden_layer_sizes=(50,), mlpr__solver=sgd;, score=0.678 total time=  16.5s\n"
     ]
    },
    {
     "name": "stderr",
     "output_type": "stream",
     "text": [
      "/home/bb/miniconda3/envs/my-env/lib/python3.10/site-packages/sklearn/neural_network/_multilayer_perceptron.py:702: ConvergenceWarning: Stochastic Optimizer: Maximum iterations (400) reached and the optimization hasn't converged yet.\n",
      "  warnings.warn(\n"
     ]
    },
    {
     "name": "stdout",
     "output_type": "stream",
     "text": [
      "[CV 9/10] END mlpr__activation=tanh, mlpr__alpha=0.0001, mlpr__hidden_layer_sizes=(100,), mlpr__solver=adam;, score=0.691 total time= 1.2min\n",
      "[CV 2/10] END mlpr__activation=tanh, mlpr__alpha=0.0002, mlpr__hidden_layer_sizes=(50,), mlpr__solver=sgd;, score=0.686 total time=  22.8s\n"
     ]
    },
    {
     "name": "stderr",
     "output_type": "stream",
     "text": [
      "/home/bb/miniconda3/envs/my-env/lib/python3.10/site-packages/sklearn/neural_network/_multilayer_perceptron.py:702: ConvergenceWarning: Stochastic Optimizer: Maximum iterations (400) reached and the optimization hasn't converged yet.\n",
      "  warnings.warn(\n"
     ]
    },
    {
     "name": "stdout",
     "output_type": "stream",
     "text": [
      "[CV 10/10] END mlpr__activation=tanh, mlpr__alpha=0.0001, mlpr__hidden_layer_sizes=(100,), mlpr__solver=adam;, score=0.670 total time= 1.2min\n",
      "[CV 3/10] END mlpr__activation=tanh, mlpr__alpha=0.0002, mlpr__hidden_layer_sizes=(50,), mlpr__solver=sgd;, score=0.682 total time=  24.5s\n",
      "[CV 4/10] END mlpr__activation=tanh, mlpr__alpha=0.0002, mlpr__hidden_layer_sizes=(50,), mlpr__solver=sgd;, score=0.685 total time=  24.4s\n",
      "[CV 7/10] END mlpr__activation=tanh, mlpr__alpha=0.0002, mlpr__hidden_layer_sizes=(50,), mlpr__solver=sgd;, score=0.692 total time=  14.0s\n",
      "[CV 6/10] END mlpr__activation=tanh, mlpr__alpha=0.0002, mlpr__hidden_layer_sizes=(50,), mlpr__solver=sgd;, score=0.689 total time=  20.2s\n",
      "[CV 5/10] END mlpr__activation=tanh, mlpr__alpha=0.0002, mlpr__hidden_layer_sizes=(50,), mlpr__solver=sgd;, score=0.666 total time=  25.2s\n",
      "[CV 9/10] END mlpr__activation=tanh, mlpr__alpha=0.0002, mlpr__hidden_layer_sizes=(50,), mlpr__solver=sgd;, score=0.674 total time=  16.3s\n",
      "[CV 8/10] END mlpr__activation=tanh, mlpr__alpha=0.0002, mlpr__hidden_layer_sizes=(50,), mlpr__solver=sgd;, score=0.698 total time=  24.3s\n",
      "[CV 10/10] END mlpr__activation=tanh, mlpr__alpha=0.0002, mlpr__hidden_layer_sizes=(50,), mlpr__solver=sgd;, score=0.665 total time=  11.9s\n"
     ]
    },
    {
     "name": "stderr",
     "output_type": "stream",
     "text": [
      "/home/bb/miniconda3/envs/my-env/lib/python3.10/site-packages/sklearn/neural_network/_multilayer_perceptron.py:702: ConvergenceWarning: Stochastic Optimizer: Maximum iterations (400) reached and the optimization hasn't converged yet.\n",
      "  warnings.warn(\n"
     ]
    },
    {
     "name": "stdout",
     "output_type": "stream",
     "text": [
      "[CV 4/10] END mlpr__activation=tanh, mlpr__alpha=0.0002, mlpr__hidden_layer_sizes=(50,), mlpr__solver=adam;, score=0.690 total time=  32.4s\n"
     ]
    },
    {
     "name": "stderr",
     "output_type": "stream",
     "text": [
      "/home/bb/miniconda3/envs/my-env/lib/python3.10/site-packages/sklearn/neural_network/_multilayer_perceptron.py:702: ConvergenceWarning: Stochastic Optimizer: Maximum iterations (400) reached and the optimization hasn't converged yet.\n",
      "  warnings.warn(\n"
     ]
    },
    {
     "name": "stdout",
     "output_type": "stream",
     "text": [
      "[CV 1/10] END mlpr__activation=tanh, mlpr__alpha=0.0002, mlpr__hidden_layer_sizes=(50,), mlpr__solver=adam;, score=0.687 total time=  43.6s\n"
     ]
    },
    {
     "name": "stderr",
     "output_type": "stream",
     "text": [
      "/home/bb/miniconda3/envs/my-env/lib/python3.10/site-packages/sklearn/neural_network/_multilayer_perceptron.py:702: ConvergenceWarning: Stochastic Optimizer: Maximum iterations (400) reached and the optimization hasn't converged yet.\n",
      "  warnings.warn(\n"
     ]
    },
    {
     "name": "stdout",
     "output_type": "stream",
     "text": [
      "[CV 2/10] END mlpr__activation=tanh, mlpr__alpha=0.0002, mlpr__hidden_layer_sizes=(50,), mlpr__solver=adam;, score=0.683 total time=  43.6s\n"
     ]
    },
    {
     "name": "stderr",
     "output_type": "stream",
     "text": [
      "/home/bb/miniconda3/envs/my-env/lib/python3.10/site-packages/sklearn/neural_network/_multilayer_perceptron.py:702: ConvergenceWarning: Stochastic Optimizer: Maximum iterations (400) reached and the optimization hasn't converged yet.\n",
      "  warnings.warn(\n"
     ]
    },
    {
     "name": "stdout",
     "output_type": "stream",
     "text": [
      "[CV 5/10] END mlpr__activation=tanh, mlpr__alpha=0.0002, mlpr__hidden_layer_sizes=(50,), mlpr__solver=adam;, score=0.685 total time=  43.3s\n"
     ]
    },
    {
     "name": "stderr",
     "output_type": "stream",
     "text": [
      "/home/bb/miniconda3/envs/my-env/lib/python3.10/site-packages/sklearn/neural_network/_multilayer_perceptron.py:702: ConvergenceWarning: Stochastic Optimizer: Maximum iterations (400) reached and the optimization hasn't converged yet.\n",
      "  warnings.warn(\n"
     ]
    },
    {
     "name": "stdout",
     "output_type": "stream",
     "text": [
      "[CV 3/10] END mlpr__activation=tanh, mlpr__alpha=0.0002, mlpr__hidden_layer_sizes=(50,), mlpr__solver=adam;, score=0.683 total time=  45.4s\n"
     ]
    },
    {
     "name": "stderr",
     "output_type": "stream",
     "text": [
      "/home/bb/miniconda3/envs/my-env/lib/python3.10/site-packages/sklearn/neural_network/_multilayer_perceptron.py:702: ConvergenceWarning: Stochastic Optimizer: Maximum iterations (400) reached and the optimization hasn't converged yet.\n",
      "  warnings.warn(\n"
     ]
    },
    {
     "name": "stdout",
     "output_type": "stream",
     "text": [
      "[CV 7/10] END mlpr__activation=tanh, mlpr__alpha=0.0002, mlpr__hidden_layer_sizes=(50,), mlpr__solver=adam;, score=0.689 total time=  37.0s\n",
      "[CV 6/10] END mlpr__activation=tanh, mlpr__alpha=0.0002, mlpr__hidden_layer_sizes=(50,), mlpr__solver=adam;, score=0.702 total time=  42.0s\n"
     ]
    },
    {
     "name": "stderr",
     "output_type": "stream",
     "text": [
      "/home/bb/miniconda3/envs/my-env/lib/python3.10/site-packages/sklearn/neural_network/_multilayer_perceptron.py:702: ConvergenceWarning: Stochastic Optimizer: Maximum iterations (400) reached and the optimization hasn't converged yet.\n",
      "  warnings.warn(\n"
     ]
    },
    {
     "name": "stdout",
     "output_type": "stream",
     "text": [
      "[CV 8/10] END mlpr__activation=tanh, mlpr__alpha=0.0002, mlpr__hidden_layer_sizes=(50,), mlpr__solver=adam;, score=0.694 total time=  43.5s\n"
     ]
    },
    {
     "name": "stderr",
     "output_type": "stream",
     "text": [
      "/home/bb/miniconda3/envs/my-env/lib/python3.10/site-packages/sklearn/neural_network/_multilayer_perceptron.py:702: ConvergenceWarning: Stochastic Optimizer: Maximum iterations (400) reached and the optimization hasn't converged yet.\n",
      "  warnings.warn(\n"
     ]
    },
    {
     "name": "stdout",
     "output_type": "stream",
     "text": [
      "[CV 9/10] END mlpr__activation=tanh, mlpr__alpha=0.0002, mlpr__hidden_layer_sizes=(50,), mlpr__solver=adam;, score=0.683 total time=  43.5s\n"
     ]
    },
    {
     "name": "stderr",
     "output_type": "stream",
     "text": [
      "/home/bb/miniconda3/envs/my-env/lib/python3.10/site-packages/sklearn/neural_network/_multilayer_perceptron.py:702: ConvergenceWarning: Stochastic Optimizer: Maximum iterations (400) reached and the optimization hasn't converged yet.\n",
      "  warnings.warn(\n"
     ]
    },
    {
     "name": "stdout",
     "output_type": "stream",
     "text": [
      "[CV 10/10] END mlpr__activation=tanh, mlpr__alpha=0.0002, mlpr__hidden_layer_sizes=(50,), mlpr__solver=adam;, score=0.669 total time=  44.1s\n",
      "[CV 3/10] END mlpr__activation=tanh, mlpr__alpha=0.0002, mlpr__hidden_layer_sizes=(100,), mlpr__solver=sgd;, score=0.680 total time=  33.1s\n",
      "[CV 2/10] END mlpr__activation=tanh, mlpr__alpha=0.0002, mlpr__hidden_layer_sizes=(100,), mlpr__solver=sgd;, score=0.688 total time=  43.0s\n",
      "[CV 5/10] END mlpr__activation=tanh, mlpr__alpha=0.0002, mlpr__hidden_layer_sizes=(100,), mlpr__solver=sgd;, score=0.680 total time=  36.5s\n"
     ]
    },
    {
     "name": "stderr",
     "output_type": "stream",
     "text": [
      "/home/bb/miniconda3/envs/my-env/lib/python3.10/site-packages/sklearn/neural_network/_multilayer_perceptron.py:702: ConvergenceWarning: Stochastic Optimizer: Maximum iterations (400) reached and the optimization hasn't converged yet.\n",
      "  warnings.warn(\n"
     ]
    },
    {
     "name": "stdout",
     "output_type": "stream",
     "text": [
      "[CV 1/10] END mlpr__activation=tanh, mlpr__alpha=0.0002, mlpr__hidden_layer_sizes=(100,), mlpr__solver=sgd;, score=0.690 total time=  56.5s\n"
     ]
    },
    {
     "name": "stderr",
     "output_type": "stream",
     "text": [
      "/home/bb/miniconda3/envs/my-env/lib/python3.10/site-packages/sklearn/neural_network/_multilayer_perceptron.py:702: ConvergenceWarning: Stochastic Optimizer: Maximum iterations (400) reached and the optimization hasn't converged yet.\n",
      "  warnings.warn(\n"
     ]
    },
    {
     "name": "stdout",
     "output_type": "stream",
     "text": [
      "[CV 4/10] END mlpr__activation=tanh, mlpr__alpha=0.0002, mlpr__hidden_layer_sizes=(100,), mlpr__solver=sgd;, score=0.673 total time=  51.6s\n",
      "[CV 6/10] END mlpr__activation=tanh, mlpr__alpha=0.0002, mlpr__hidden_layer_sizes=(100,), mlpr__solver=sgd;, score=0.698 total time=  35.0s\n",
      "[CV 8/10] END mlpr__activation=tanh, mlpr__alpha=0.0002, mlpr__hidden_layer_sizes=(100,), mlpr__solver=sgd;, score=0.698 total time=  38.2s\n",
      "[CV 7/10] END mlpr__activation=tanh, mlpr__alpha=0.0002, mlpr__hidden_layer_sizes=(100,), mlpr__solver=sgd;, score=0.687 total time=  47.8s\n",
      "[CV 9/10] END mlpr__activation=tanh, mlpr__alpha=0.0002, mlpr__hidden_layer_sizes=(100,), mlpr__solver=sgd;, score=0.674 total time=  38.3s\n",
      "[CV 10/10] END mlpr__activation=tanh, mlpr__alpha=0.0002, mlpr__hidden_layer_sizes=(100,), mlpr__solver=sgd;, score=0.658 total time=  37.2s\n"
     ]
    },
    {
     "name": "stderr",
     "output_type": "stream",
     "text": [
      "/home/bb/miniconda3/envs/my-env/lib/python3.10/site-packages/sklearn/neural_network/_multilayer_perceptron.py:702: ConvergenceWarning: Stochastic Optimizer: Maximum iterations (400) reached and the optimization hasn't converged yet.\n",
      "  warnings.warn(\n"
     ]
    },
    {
     "name": "stdout",
     "output_type": "stream",
     "text": [
      "[CV 1/10] END mlpr__activation=tanh, mlpr__alpha=0.0002, mlpr__hidden_layer_sizes=(100,), mlpr__solver=adam;, score=0.692 total time=  55.8s\n"
     ]
    },
    {
     "name": "stderr",
     "output_type": "stream",
     "text": [
      "/home/bb/miniconda3/envs/my-env/lib/python3.10/site-packages/sklearn/neural_network/_multilayer_perceptron.py:702: ConvergenceWarning: Stochastic Optimizer: Maximum iterations (400) reached and the optimization hasn't converged yet.\n",
      "  warnings.warn(\n"
     ]
    },
    {
     "name": "stdout",
     "output_type": "stream",
     "text": [
      "[CV 2/10] END mlpr__activation=tanh, mlpr__alpha=0.0002, mlpr__hidden_layer_sizes=(100,), mlpr__solver=adam;, score=0.699 total time=  56.2s\n"
     ]
    },
    {
     "name": "stderr",
     "output_type": "stream",
     "text": [
      "/home/bb/miniconda3/envs/my-env/lib/python3.10/site-packages/sklearn/neural_network/_multilayer_perceptron.py:702: ConvergenceWarning: Stochastic Optimizer: Maximum iterations (400) reached and the optimization hasn't converged yet.\n",
      "  warnings.warn(\n"
     ]
    },
    {
     "name": "stdout",
     "output_type": "stream",
     "text": [
      "[CV 3/10] END mlpr__activation=tanh, mlpr__alpha=0.0002, mlpr__hidden_layer_sizes=(100,), mlpr__solver=adam;, score=0.699 total time=  56.2s\n"
     ]
    },
    {
     "name": "stderr",
     "output_type": "stream",
     "text": [
      "/home/bb/miniconda3/envs/my-env/lib/python3.10/site-packages/sklearn/neural_network/_multilayer_perceptron.py:702: ConvergenceWarning: Stochastic Optimizer: Maximum iterations (400) reached and the optimization hasn't converged yet.\n",
      "  warnings.warn(\n"
     ]
    },
    {
     "name": "stdout",
     "output_type": "stream",
     "text": [
      "[CV 4/10] END mlpr__activation=tanh, mlpr__alpha=0.0002, mlpr__hidden_layer_sizes=(100,), mlpr__solver=adam;, score=0.697 total time= 1.2min\n"
     ]
    },
    {
     "name": "stderr",
     "output_type": "stream",
     "text": [
      "/home/bb/miniconda3/envs/my-env/lib/python3.10/site-packages/sklearn/neural_network/_multilayer_perceptron.py:702: ConvergenceWarning: Stochastic Optimizer: Maximum iterations (400) reached and the optimization hasn't converged yet.\n",
      "  warnings.warn(\n"
     ]
    },
    {
     "name": "stdout",
     "output_type": "stream",
     "text": [
      "[CV 5/10] END mlpr__activation=tanh, mlpr__alpha=0.0002, mlpr__hidden_layer_sizes=(100,), mlpr__solver=adam;, score=0.692 total time= 1.2min\n"
     ]
    },
    {
     "name": "stderr",
     "output_type": "stream",
     "text": [
      "/home/bb/miniconda3/envs/my-env/lib/python3.10/site-packages/sklearn/neural_network/_multilayer_perceptron.py:702: ConvergenceWarning: Stochastic Optimizer: Maximum iterations (400) reached and the optimization hasn't converged yet.\n",
      "  warnings.warn(\n"
     ]
    },
    {
     "name": "stdout",
     "output_type": "stream",
     "text": [
      "[CV 6/10] END mlpr__activation=tanh, mlpr__alpha=0.0002, mlpr__hidden_layer_sizes=(100,), mlpr__solver=adam;, score=0.703 total time=  55.7s\n",
      "[CV 1/10] END mlpr__activation=relu, mlpr__alpha=0.0001, mlpr__hidden_layer_sizes=(50,), mlpr__solver=sgd;, score=0.664 total time=   7.9s\n"
     ]
    },
    {
     "name": "stderr",
     "output_type": "stream",
     "text": [
      "/home/bb/miniconda3/envs/my-env/lib/python3.10/site-packages/sklearn/neural_network/_multilayer_perceptron.py:702: ConvergenceWarning: Stochastic Optimizer: Maximum iterations (400) reached and the optimization hasn't converged yet.\n",
      "  warnings.warn(\n"
     ]
    },
    {
     "name": "stdout",
     "output_type": "stream",
     "text": [
      "[CV 7/10] END mlpr__activation=tanh, mlpr__alpha=0.0002, mlpr__hidden_layer_sizes=(100,), mlpr__solver=adam;, score=0.695 total time=  56.1s\n"
     ]
    },
    {
     "name": "stderr",
     "output_type": "stream",
     "text": [
      "/home/bb/miniconda3/envs/my-env/lib/python3.10/site-packages/sklearn/neural_network/_multilayer_perceptron.py:702: ConvergenceWarning: Stochastic Optimizer: Maximum iterations (400) reached and the optimization hasn't converged yet.\n",
      "  warnings.warn(\n"
     ]
    },
    {
     "name": "stdout",
     "output_type": "stream",
     "text": [
      "[CV 8/10] END mlpr__activation=tanh, mlpr__alpha=0.0002, mlpr__hidden_layer_sizes=(100,), mlpr__solver=adam;, score=0.706 total time=  56.1s\n",
      "[CV 2/10] END mlpr__activation=relu, mlpr__alpha=0.0001, mlpr__hidden_layer_sizes=(50,), mlpr__solver=sgd;, score=0.654 total time=  16.4s\n",
      "[CV 4/10] END mlpr__activation=relu, mlpr__alpha=0.0001, mlpr__hidden_layer_sizes=(50,), mlpr__solver=sgd;, score=0.632 total time=  13.7s\n",
      "[CV 3/10] END mlpr__activation=relu, mlpr__alpha=0.0001, mlpr__hidden_layer_sizes=(50,), mlpr__solver=sgd;, score=0.682 total time=  15.9s\n",
      "[CV 5/10] END mlpr__activation=relu, mlpr__alpha=0.0001, mlpr__hidden_layer_sizes=(50,), mlpr__solver=sgd;, score=0.655 total time=  14.8s\n"
     ]
    },
    {
     "name": "stderr",
     "output_type": "stream",
     "text": [
      "/home/bb/miniconda3/envs/my-env/lib/python3.10/site-packages/sklearn/neural_network/_multilayer_perceptron.py:702: ConvergenceWarning: Stochastic Optimizer: Maximum iterations (400) reached and the optimization hasn't converged yet.\n",
      "  warnings.warn(\n"
     ]
    },
    {
     "name": "stdout",
     "output_type": "stream",
     "text": [
      "[CV 9/10] END mlpr__activation=tanh, mlpr__alpha=0.0002, mlpr__hidden_layer_sizes=(100,), mlpr__solver=adam;, score=0.690 total time= 1.2min\n",
      "[CV 7/10] END mlpr__activation=relu, mlpr__alpha=0.0001, mlpr__hidden_layer_sizes=(50,), mlpr__solver=sgd;, score=0.643 total time=  19.7s\n",
      "[CV 6/10] END mlpr__activation=relu, mlpr__alpha=0.0001, mlpr__hidden_layer_sizes=(50,), mlpr__solver=sgd;, score=0.669 total time=  24.0s\n",
      "[CV 8/10] END mlpr__activation=relu, mlpr__alpha=0.0001, mlpr__hidden_layer_sizes=(50,), mlpr__solver=sgd;, score=0.654 total time=  15.6s\n"
     ]
    },
    {
     "name": "stderr",
     "output_type": "stream",
     "text": [
      "/home/bb/miniconda3/envs/my-env/lib/python3.10/site-packages/sklearn/neural_network/_multilayer_perceptron.py:702: ConvergenceWarning: Stochastic Optimizer: Maximum iterations (400) reached and the optimization hasn't converged yet.\n",
      "  warnings.warn(\n"
     ]
    },
    {
     "name": "stdout",
     "output_type": "stream",
     "text": [
      "[CV 10/10] END mlpr__activation=tanh, mlpr__alpha=0.0002, mlpr__hidden_layer_sizes=(100,), mlpr__solver=adam;, score=0.672 total time= 1.2min\n",
      "[CV 9/10] END mlpr__activation=relu, mlpr__alpha=0.0001, mlpr__hidden_layer_sizes=(50,), mlpr__solver=sgd;, score=0.632 total time=  18.7s\n",
      "[CV 10/10] END mlpr__activation=relu, mlpr__alpha=0.0001, mlpr__hidden_layer_sizes=(50,), mlpr__solver=sgd;, score=0.625 total time=  24.6s\n"
     ]
    },
    {
     "name": "stderr",
     "output_type": "stream",
     "text": [
      "/home/bb/miniconda3/envs/my-env/lib/python3.10/site-packages/sklearn/neural_network/_multilayer_perceptron.py:702: ConvergenceWarning: Stochastic Optimizer: Maximum iterations (400) reached and the optimization hasn't converged yet.\n",
      "  warnings.warn(\n"
     ]
    },
    {
     "name": "stdout",
     "output_type": "stream",
     "text": [
      "[CV 1/10] END mlpr__activation=relu, mlpr__alpha=0.0001, mlpr__hidden_layer_sizes=(50,), mlpr__solver=adam;, score=0.682 total time=  47.0s\n"
     ]
    },
    {
     "name": "stderr",
     "output_type": "stream",
     "text": [
      "/home/bb/miniconda3/envs/my-env/lib/python3.10/site-packages/sklearn/neural_network/_multilayer_perceptron.py:702: ConvergenceWarning: Stochastic Optimizer: Maximum iterations (400) reached and the optimization hasn't converged yet.\n",
      "  warnings.warn(\n"
     ]
    },
    {
     "name": "stdout",
     "output_type": "stream",
     "text": [
      "[CV 2/10] END mlpr__activation=relu, mlpr__alpha=0.0001, mlpr__hidden_layer_sizes=(50,), mlpr__solver=adam;, score=0.678 total time=  46.4s\n"
     ]
    },
    {
     "name": "stderr",
     "output_type": "stream",
     "text": [
      "/home/bb/miniconda3/envs/my-env/lib/python3.10/site-packages/sklearn/neural_network/_multilayer_perceptron.py:702: ConvergenceWarning: Stochastic Optimizer: Maximum iterations (400) reached and the optimization hasn't converged yet.\n",
      "  warnings.warn(\n"
     ]
    },
    {
     "name": "stdout",
     "output_type": "stream",
     "text": [
      "[CV 3/10] END mlpr__activation=relu, mlpr__alpha=0.0001, mlpr__hidden_layer_sizes=(50,), mlpr__solver=adam;, score=0.676 total time=  52.9s\n"
     ]
    },
    {
     "name": "stderr",
     "output_type": "stream",
     "text": [
      "/home/bb/miniconda3/envs/my-env/lib/python3.10/site-packages/sklearn/neural_network/_multilayer_perceptron.py:702: ConvergenceWarning: Stochastic Optimizer: Maximum iterations (400) reached and the optimization hasn't converged yet.\n",
      "  warnings.warn(\n"
     ]
    },
    {
     "name": "stdout",
     "output_type": "stream",
     "text": [
      "[CV 5/10] END mlpr__activation=relu, mlpr__alpha=0.0001, mlpr__hidden_layer_sizes=(50,), mlpr__solver=adam;, score=0.677 total time=  46.5s\n"
     ]
    },
    {
     "name": "stderr",
     "output_type": "stream",
     "text": [
      "/home/bb/miniconda3/envs/my-env/lib/python3.10/site-packages/sklearn/neural_network/_multilayer_perceptron.py:702: ConvergenceWarning: Stochastic Optimizer: Maximum iterations (400) reached and the optimization hasn't converged yet.\n",
      "  warnings.warn(\n"
     ]
    },
    {
     "name": "stdout",
     "output_type": "stream",
     "text": [
      "[CV 4/10] END mlpr__activation=relu, mlpr__alpha=0.0001, mlpr__hidden_layer_sizes=(50,), mlpr__solver=adam;, score=0.653 total time=  53.4s\n"
     ]
    },
    {
     "name": "stderr",
     "output_type": "stream",
     "text": [
      "/home/bb/miniconda3/envs/my-env/lib/python3.10/site-packages/sklearn/neural_network/_multilayer_perceptron.py:702: ConvergenceWarning: Stochastic Optimizer: Maximum iterations (400) reached and the optimization hasn't converged yet.\n",
      "  warnings.warn(\n"
     ]
    },
    {
     "name": "stdout",
     "output_type": "stream",
     "text": [
      "[CV 7/10] END mlpr__activation=relu, mlpr__alpha=0.0001, mlpr__hidden_layer_sizes=(50,), mlpr__solver=adam;, score=0.683 total time=  46.6s\n"
     ]
    },
    {
     "name": "stderr",
     "output_type": "stream",
     "text": [
      "/home/bb/miniconda3/envs/my-env/lib/python3.10/site-packages/sklearn/neural_network/_multilayer_perceptron.py:702: ConvergenceWarning: Stochastic Optimizer: Maximum iterations (400) reached and the optimization hasn't converged yet.\n",
      "  warnings.warn(\n"
     ]
    },
    {
     "name": "stdout",
     "output_type": "stream",
     "text": [
      "[CV 6/10] END mlpr__activation=relu, mlpr__alpha=0.0001, mlpr__hidden_layer_sizes=(50,), mlpr__solver=adam;, score=0.683 total time=  53.1s\n"
     ]
    },
    {
     "name": "stderr",
     "output_type": "stream",
     "text": [
      "/home/bb/miniconda3/envs/my-env/lib/python3.10/site-packages/sklearn/neural_network/_multilayer_perceptron.py:702: ConvergenceWarning: Stochastic Optimizer: Maximum iterations (400) reached and the optimization hasn't converged yet.\n",
      "  warnings.warn(\n"
     ]
    },
    {
     "name": "stdout",
     "output_type": "stream",
     "text": [
      "[CV 8/10] END mlpr__activation=relu, mlpr__alpha=0.0001, mlpr__hidden_layer_sizes=(50,), mlpr__solver=adam;, score=0.693 total time=  46.4s\n"
     ]
    },
    {
     "name": "stderr",
     "output_type": "stream",
     "text": [
      "/home/bb/miniconda3/envs/my-env/lib/python3.10/site-packages/sklearn/neural_network/_multilayer_perceptron.py:702: ConvergenceWarning: Stochastic Optimizer: Maximum iterations (400) reached and the optimization hasn't converged yet.\n",
      "  warnings.warn(\n"
     ]
    },
    {
     "name": "stdout",
     "output_type": "stream",
     "text": [
      "[CV 9/10] END mlpr__activation=relu, mlpr__alpha=0.0001, mlpr__hidden_layer_sizes=(50,), mlpr__solver=adam;, score=0.679 total time=  46.8s\n"
     ]
    },
    {
     "name": "stderr",
     "output_type": "stream",
     "text": [
      "/home/bb/miniconda3/envs/my-env/lib/python3.10/site-packages/sklearn/neural_network/_multilayer_perceptron.py:702: ConvergenceWarning: Stochastic Optimizer: Maximum iterations (400) reached and the optimization hasn't converged yet.\n",
      "  warnings.warn(\n"
     ]
    },
    {
     "name": "stdout",
     "output_type": "stream",
     "text": [
      "[CV 10/10] END mlpr__activation=relu, mlpr__alpha=0.0001, mlpr__hidden_layer_sizes=(50,), mlpr__solver=adam;, score=0.659 total time=  51.5s\n",
      "[CV 1/10] END mlpr__activation=relu, mlpr__alpha=0.0001, mlpr__hidden_layer_sizes=(100,), mlpr__solver=sgd;, score=0.660 total time=  27.1s\n",
      "[CV 2/10] END mlpr__activation=relu, mlpr__alpha=0.0001, mlpr__hidden_layer_sizes=(100,), mlpr__solver=sgd;, score=0.665 total time=  36.5s\n",
      "[CV 5/10] END mlpr__activation=relu, mlpr__alpha=0.0001, mlpr__hidden_layer_sizes=(100,), mlpr__solver=sgd;, score=0.656 total time=  23.8s\n",
      "[CV 3/10] END mlpr__activation=relu, mlpr__alpha=0.0001, mlpr__hidden_layer_sizes=(100,), mlpr__solver=sgd;, score=0.663 total time=  43.9s\n",
      "[CV 6/10] END mlpr__activation=relu, mlpr__alpha=0.0001, mlpr__hidden_layer_sizes=(100,), mlpr__solver=sgd;, score=0.677 total time=  27.9s\n",
      "[CV 4/10] END mlpr__activation=relu, mlpr__alpha=0.0001, mlpr__hidden_layer_sizes=(100,), mlpr__solver=sgd;, score=0.651 total time=  37.0s\n",
      "[CV 7/10] END mlpr__activation=relu, mlpr__alpha=0.0001, mlpr__hidden_layer_sizes=(100,), mlpr__solver=sgd;, score=0.671 total time=  26.7s\n",
      "[CV 8/10] END mlpr__activation=relu, mlpr__alpha=0.0001, mlpr__hidden_layer_sizes=(100,), mlpr__solver=sgd;, score=0.686 total time=  25.6s\n",
      "[CV 9/10] END mlpr__activation=relu, mlpr__alpha=0.0001, mlpr__hidden_layer_sizes=(100,), mlpr__solver=sgd;, score=0.667 total time=  26.9s\n",
      "[CV 10/10] END mlpr__activation=relu, mlpr__alpha=0.0001, mlpr__hidden_layer_sizes=(100,), mlpr__solver=sgd;, score=0.655 total time=  37.0s\n",
      "[CV 1/10] END mlpr__activation=relu, mlpr__alpha=0.0001, mlpr__hidden_layer_sizes=(100,), mlpr__solver=adam;, score=0.693 total time= 1.0min\n"
     ]
    },
    {
     "name": "stderr",
     "output_type": "stream",
     "text": [
      "/home/bb/miniconda3/envs/my-env/lib/python3.10/site-packages/sklearn/neural_network/_multilayer_perceptron.py:702: ConvergenceWarning: Stochastic Optimizer: Maximum iterations (400) reached and the optimization hasn't converged yet.\n",
      "  warnings.warn(\n"
     ]
    },
    {
     "name": "stdout",
     "output_type": "stream",
     "text": [
      "[CV 2/10] END mlpr__activation=relu, mlpr__alpha=0.0001, mlpr__hidden_layer_sizes=(100,), mlpr__solver=adam;, score=0.689 total time= 1.1min\n",
      "[CV 4/10] END mlpr__activation=relu, mlpr__alpha=0.0001, mlpr__hidden_layer_sizes=(100,), mlpr__solver=adam;, score=0.662 total time= 1.0min\n"
     ]
    },
    {
     "name": "stderr",
     "output_type": "stream",
     "text": [
      "/home/bb/miniconda3/envs/my-env/lib/python3.10/site-packages/sklearn/neural_network/_multilayer_perceptron.py:702: ConvergenceWarning: Stochastic Optimizer: Maximum iterations (400) reached and the optimization hasn't converged yet.\n",
      "  warnings.warn(\n"
     ]
    },
    {
     "name": "stdout",
     "output_type": "stream",
     "text": [
      "[CV 3/10] END mlpr__activation=relu, mlpr__alpha=0.0001, mlpr__hidden_layer_sizes=(100,), mlpr__solver=adam;, score=0.681 total time= 1.2min\n"
     ]
    },
    {
     "name": "stderr",
     "output_type": "stream",
     "text": [
      "/home/bb/miniconda3/envs/my-env/lib/python3.10/site-packages/sklearn/neural_network/_multilayer_perceptron.py:702: ConvergenceWarning: Stochastic Optimizer: Maximum iterations (400) reached and the optimization hasn't converged yet.\n",
      "  warnings.warn(\n"
     ]
    },
    {
     "name": "stdout",
     "output_type": "stream",
     "text": [
      "[CV 5/10] END mlpr__activation=relu, mlpr__alpha=0.0001, mlpr__hidden_layer_sizes=(100,), mlpr__solver=adam;, score=0.682 total time=  59.6s\n",
      "[CV 6/10] END mlpr__activation=relu, mlpr__alpha=0.0001, mlpr__hidden_layer_sizes=(100,), mlpr__solver=adam;, score=0.698 total time=  57.6s\n",
      "[CV 1/10] END mlpr__activation=relu, mlpr__alpha=0.0002, mlpr__hidden_layer_sizes=(50,), mlpr__solver=sgd;, score=0.660 total time=  15.7s\n"
     ]
    },
    {
     "name": "stderr",
     "output_type": "stream",
     "text": [
      "/home/bb/miniconda3/envs/my-env/lib/python3.10/site-packages/sklearn/neural_network/_multilayer_perceptron.py:702: ConvergenceWarning: Stochastic Optimizer: Maximum iterations (400) reached and the optimization hasn't converged yet.\n",
      "  warnings.warn(\n"
     ]
    },
    {
     "name": "stdout",
     "output_type": "stream",
     "text": [
      "[CV 9/10] END mlpr__activation=relu, mlpr__alpha=0.0001, mlpr__hidden_layer_sizes=(100,), mlpr__solver=adam;, score=0.685 total time=  51.1s\n"
     ]
    },
    {
     "name": "stderr",
     "output_type": "stream",
     "text": [
      "/home/bb/miniconda3/envs/my-env/lib/python3.10/site-packages/sklearn/neural_network/_multilayer_perceptron.py:702: ConvergenceWarning: Stochastic Optimizer: Maximum iterations (400) reached and the optimization hasn't converged yet.\n",
      "  warnings.warn(\n"
     ]
    },
    {
     "name": "stdout",
     "output_type": "stream",
     "text": [
      "[CV 7/10] END mlpr__activation=relu, mlpr__alpha=0.0001, mlpr__hidden_layer_sizes=(100,), mlpr__solver=adam;, score=0.688 total time= 1.1min\n",
      "[CV 2/10] END mlpr__activation=relu, mlpr__alpha=0.0002, mlpr__hidden_layer_sizes=(50,), mlpr__solver=sgd;, score=0.651 total time=  12.5s\n",
      "[CV 3/10] END mlpr__activation=relu, mlpr__alpha=0.0002, mlpr__hidden_layer_sizes=(50,), mlpr__solver=sgd;, score=0.679 total time=  10.8s\n"
     ]
    },
    {
     "name": "stderr",
     "output_type": "stream",
     "text": [
      "/home/bb/miniconda3/envs/my-env/lib/python3.10/site-packages/sklearn/neural_network/_multilayer_perceptron.py:702: ConvergenceWarning: Stochastic Optimizer: Maximum iterations (400) reached and the optimization hasn't converged yet.\n",
      "  warnings.warn(\n"
     ]
    },
    {
     "name": "stdout",
     "output_type": "stream",
     "text": [
      "[CV 8/10] END mlpr__activation=relu, mlpr__alpha=0.0001, mlpr__hidden_layer_sizes=(100,), mlpr__solver=adam;, score=0.702 total time= 1.1min\n"
     ]
    },
    {
     "name": "stderr",
     "output_type": "stream",
     "text": [
      "/home/bb/miniconda3/envs/my-env/lib/python3.10/site-packages/sklearn/neural_network/_multilayer_perceptron.py:702: ConvergenceWarning: Stochastic Optimizer: Maximum iterations (400) reached and the optimization hasn't converged yet.\n",
      "  warnings.warn(\n"
     ]
    },
    {
     "name": "stdout",
     "output_type": "stream",
     "text": [
      "[CV 10/10] END mlpr__activation=relu, mlpr__alpha=0.0001, mlpr__hidden_layer_sizes=(100,), mlpr__solver=adam;, score=0.667 total time= 1.1min\n",
      "[CV 4/10] END mlpr__activation=relu, mlpr__alpha=0.0002, mlpr__hidden_layer_sizes=(50,), mlpr__solver=sgd;, score=0.631 total time=  18.1s\n",
      "[CV 8/10] END mlpr__activation=relu, mlpr__alpha=0.0002, mlpr__hidden_layer_sizes=(50,), mlpr__solver=sgd;, score=0.661 total time=   8.2s\n",
      "[CV 6/10] END mlpr__activation=relu, mlpr__alpha=0.0002, mlpr__hidden_layer_sizes=(50,), mlpr__solver=sgd;, score=0.668 total time=  16.9s\n",
      "[CV 7/10] END mlpr__activation=relu, mlpr__alpha=0.0002, mlpr__hidden_layer_sizes=(50,), mlpr__solver=sgd;, score=0.646 total time=  20.0s\n",
      "[CV 5/10] END mlpr__activation=relu, mlpr__alpha=0.0002, mlpr__hidden_layer_sizes=(50,), mlpr__solver=sgd;, score=0.629 total time=  26.1s\n",
      "[CV 9/10] END mlpr__activation=relu, mlpr__alpha=0.0002, mlpr__hidden_layer_sizes=(50,), mlpr__solver=sgd;, score=0.662 total time=  15.8s\n",
      "[CV 10/10] END mlpr__activation=relu, mlpr__alpha=0.0002, mlpr__hidden_layer_sizes=(50,), mlpr__solver=sgd;, score=0.625 total time=  33.9s\n",
      "[CV 3/10] END mlpr__activation=relu, mlpr__alpha=0.0002, mlpr__hidden_layer_sizes=(50,), mlpr__solver=adam;, score=0.678 total time=  37.7s\n"
     ]
    },
    {
     "name": "stderr",
     "output_type": "stream",
     "text": [
      "/home/bb/miniconda3/envs/my-env/lib/python3.10/site-packages/sklearn/neural_network/_multilayer_perceptron.py:702: ConvergenceWarning: Stochastic Optimizer: Maximum iterations (400) reached and the optimization hasn't converged yet.\n",
      "  warnings.warn(\n"
     ]
    },
    {
     "name": "stdout",
     "output_type": "stream",
     "text": [
      "[CV 2/10] END mlpr__activation=relu, mlpr__alpha=0.0002, mlpr__hidden_layer_sizes=(50,), mlpr__solver=adam;, score=0.683 total time=  44.2s\n"
     ]
    },
    {
     "name": "stderr",
     "output_type": "stream",
     "text": [
      "/home/bb/miniconda3/envs/my-env/lib/python3.10/site-packages/sklearn/neural_network/_multilayer_perceptron.py:702: ConvergenceWarning: Stochastic Optimizer: Maximum iterations (400) reached and the optimization hasn't converged yet.\n",
      "  warnings.warn(\n"
     ]
    },
    {
     "name": "stdout",
     "output_type": "stream",
     "text": [
      "[CV 1/10] END mlpr__activation=relu, mlpr__alpha=0.0002, mlpr__hidden_layer_sizes=(50,), mlpr__solver=adam;, score=0.678 total time=  51.9s\n"
     ]
    },
    {
     "name": "stderr",
     "output_type": "stream",
     "text": [
      "/home/bb/miniconda3/envs/my-env/lib/python3.10/site-packages/sklearn/neural_network/_multilayer_perceptron.py:702: ConvergenceWarning: Stochastic Optimizer: Maximum iterations (400) reached and the optimization hasn't converged yet.\n",
      "  warnings.warn(\n"
     ]
    },
    {
     "name": "stdout",
     "output_type": "stream",
     "text": [
      "[CV 4/10] END mlpr__activation=relu, mlpr__alpha=0.0002, mlpr__hidden_layer_sizes=(50,), mlpr__solver=adam;, score=0.645 total time=  55.3s\n"
     ]
    },
    {
     "name": "stderr",
     "output_type": "stream",
     "text": [
      "/home/bb/miniconda3/envs/my-env/lib/python3.10/site-packages/sklearn/neural_network/_multilayer_perceptron.py:702: ConvergenceWarning: Stochastic Optimizer: Maximum iterations (400) reached and the optimization hasn't converged yet.\n",
      "  warnings.warn(\n"
     ]
    },
    {
     "name": "stdout",
     "output_type": "stream",
     "text": [
      "[CV 5/10] END mlpr__activation=relu, mlpr__alpha=0.0002, mlpr__hidden_layer_sizes=(50,), mlpr__solver=adam;, score=0.677 total time=  47.1s\n"
     ]
    },
    {
     "name": "stderr",
     "output_type": "stream",
     "text": [
      "/home/bb/miniconda3/envs/my-env/lib/python3.10/site-packages/sklearn/neural_network/_multilayer_perceptron.py:702: ConvergenceWarning: Stochastic Optimizer: Maximum iterations (400) reached and the optimization hasn't converged yet.\n",
      "  warnings.warn(\n"
     ]
    },
    {
     "name": "stdout",
     "output_type": "stream",
     "text": [
      "[CV 8/10] END mlpr__activation=relu, mlpr__alpha=0.0002, mlpr__hidden_layer_sizes=(50,), mlpr__solver=adam;, score=0.686 total time=  35.2s\n"
     ]
    },
    {
     "name": "stderr",
     "output_type": "stream",
     "text": [
      "/home/bb/miniconda3/envs/my-env/lib/python3.10/site-packages/sklearn/neural_network/_multilayer_perceptron.py:702: ConvergenceWarning: Stochastic Optimizer: Maximum iterations (400) reached and the optimization hasn't converged yet.\n",
      "  warnings.warn(\n"
     ]
    },
    {
     "name": "stdout",
     "output_type": "stream",
     "text": [
      "[CV 6/10] END mlpr__activation=relu, mlpr__alpha=0.0002, mlpr__hidden_layer_sizes=(50,), mlpr__solver=adam;, score=0.688 total time=  46.9s\n"
     ]
    },
    {
     "name": "stderr",
     "output_type": "stream",
     "text": [
      "/home/bb/miniconda3/envs/my-env/lib/python3.10/site-packages/sklearn/neural_network/_multilayer_perceptron.py:702: ConvergenceWarning: Stochastic Optimizer: Maximum iterations (400) reached and the optimization hasn't converged yet.\n",
      "  warnings.warn(\n"
     ]
    },
    {
     "name": "stdout",
     "output_type": "stream",
     "text": [
      "[CV 7/10] END mlpr__activation=relu, mlpr__alpha=0.0002, mlpr__hidden_layer_sizes=(50,), mlpr__solver=adam;, score=0.685 total time=  59.3s\n",
      "[CV 1/10] END mlpr__activation=relu, mlpr__alpha=0.0002, mlpr__hidden_layer_sizes=(100,), mlpr__solver=sgd;, score=0.669 total time=  34.4s\n"
     ]
    },
    {
     "name": "stderr",
     "output_type": "stream",
     "text": [
      "/home/bb/miniconda3/envs/my-env/lib/python3.10/site-packages/sklearn/neural_network/_multilayer_perceptron.py:702: ConvergenceWarning: Stochastic Optimizer: Maximum iterations (400) reached and the optimization hasn't converged yet.\n",
      "  warnings.warn(\n"
     ]
    },
    {
     "name": "stdout",
     "output_type": "stream",
     "text": [
      "[CV 9/10] END mlpr__activation=relu, mlpr__alpha=0.0002, mlpr__hidden_layer_sizes=(50,), mlpr__solver=adam;, score=0.667 total time=  58.8s\n",
      "[CV 2/10] END mlpr__activation=relu, mlpr__alpha=0.0002, mlpr__hidden_layer_sizes=(100,), mlpr__solver=sgd;, score=0.688 total time=  32.8s\n"
     ]
    },
    {
     "name": "stderr",
     "output_type": "stream",
     "text": [
      "/home/bb/miniconda3/envs/my-env/lib/python3.10/site-packages/sklearn/neural_network/_multilayer_perceptron.py:702: ConvergenceWarning: Stochastic Optimizer: Maximum iterations (400) reached and the optimization hasn't converged yet.\n",
      "  warnings.warn(\n"
     ]
    },
    {
     "name": "stdout",
     "output_type": "stream",
     "text": [
      "[CV 10/10] END mlpr__activation=relu, mlpr__alpha=0.0002, mlpr__hidden_layer_sizes=(50,), mlpr__solver=adam;, score=0.659 total time=  46.8s\n",
      "[CV 3/10] END mlpr__activation=relu, mlpr__alpha=0.0002, mlpr__hidden_layer_sizes=(100,), mlpr__solver=sgd;, score=0.666 total time=  28.0s\n",
      "[CV 7/10] END mlpr__activation=relu, mlpr__alpha=0.0002, mlpr__hidden_layer_sizes=(100,), mlpr__solver=sgd;, score=0.669 total time=  13.8s\n",
      "[CV 6/10] END mlpr__activation=relu, mlpr__alpha=0.0002, mlpr__hidden_layer_sizes=(100,), mlpr__solver=sgd;, score=0.687 total time=  23.4s\n",
      "[CV 5/10] END mlpr__activation=relu, mlpr__alpha=0.0002, mlpr__hidden_layer_sizes=(100,), mlpr__solver=sgd;, score=0.644 total time=  28.5s\n",
      "[CV 9/10] END mlpr__activation=relu, mlpr__alpha=0.0002, mlpr__hidden_layer_sizes=(100,), mlpr__solver=sgd;, score=0.646 total time=  25.4s\n",
      "[CV 8/10] END mlpr__activation=relu, mlpr__alpha=0.0002, mlpr__hidden_layer_sizes=(100,), mlpr__solver=sgd;, score=0.670 total time=  32.7s\n",
      "[CV 4/10] END mlpr__activation=relu, mlpr__alpha=0.0002, mlpr__hidden_layer_sizes=(100,), mlpr__solver=sgd;, score=0.307 total time=  52.6s\n",
      "[CV 10/10] END mlpr__activation=relu, mlpr__alpha=0.0002, mlpr__hidden_layer_sizes=(100,), mlpr__solver=sgd;, score=0.622 total time=  28.2s\n"
     ]
    },
    {
     "name": "stderr",
     "output_type": "stream",
     "text": [
      "/home/bb/miniconda3/envs/my-env/lib/python3.10/site-packages/sklearn/neural_network/_multilayer_perceptron.py:702: ConvergenceWarning: Stochastic Optimizer: Maximum iterations (400) reached and the optimization hasn't converged yet.\n",
      "  warnings.warn(\n"
     ]
    },
    {
     "name": "stdout",
     "output_type": "stream",
     "text": [
      "[CV 1/10] END mlpr__activation=relu, mlpr__alpha=0.0002, mlpr__hidden_layer_sizes=(100,), mlpr__solver=adam;, score=0.687 total time= 1.1min\n"
     ]
    },
    {
     "name": "stderr",
     "output_type": "stream",
     "text": [
      "/home/bb/miniconda3/envs/my-env/lib/python3.10/site-packages/sklearn/neural_network/_multilayer_perceptron.py:702: ConvergenceWarning: Stochastic Optimizer: Maximum iterations (400) reached and the optimization hasn't converged yet.\n",
      "  warnings.warn(\n"
     ]
    },
    {
     "name": "stdout",
     "output_type": "stream",
     "text": [
      "[CV 2/10] END mlpr__activation=relu, mlpr__alpha=0.0002, mlpr__hidden_layer_sizes=(100,), mlpr__solver=adam;, score=0.694 total time= 1.0min\n"
     ]
    },
    {
     "name": "stderr",
     "output_type": "stream",
     "text": [
      "/home/bb/miniconda3/envs/my-env/lib/python3.10/site-packages/sklearn/neural_network/_multilayer_perceptron.py:702: ConvergenceWarning: Stochastic Optimizer: Maximum iterations (400) reached and the optimization hasn't converged yet.\n",
      "  warnings.warn(\n"
     ]
    },
    {
     "name": "stdout",
     "output_type": "stream",
     "text": [
      "[CV 3/10] END mlpr__activation=relu, mlpr__alpha=0.0002, mlpr__hidden_layer_sizes=(100,), mlpr__solver=adam;, score=0.686 total time= 1.1min\n"
     ]
    },
    {
     "name": "stderr",
     "output_type": "stream",
     "text": [
      "/home/bb/miniconda3/envs/my-env/lib/python3.10/site-packages/sklearn/neural_network/_multilayer_perceptron.py:702: ConvergenceWarning: Stochastic Optimizer: Maximum iterations (400) reached and the optimization hasn't converged yet.\n",
      "  warnings.warn(\n",
      "/home/bb/miniconda3/envs/my-env/lib/python3.10/site-packages/sklearn/neural_network/_multilayer_perceptron.py:702: ConvergenceWarning: Stochastic Optimizer: Maximum iterations (400) reached and the optimization hasn't converged yet.\n",
      "  warnings.warn(\n"
     ]
    },
    {
     "name": "stdout",
     "output_type": "stream",
     "text": [
      "[CV 4/10] END mlpr__activation=relu, mlpr__alpha=0.0002, mlpr__hidden_layer_sizes=(100,), mlpr__solver=adam;, score=0.688 total time= 1.1min\n",
      "[CV 5/10] END mlpr__activation=relu, mlpr__alpha=0.0002, mlpr__hidden_layer_sizes=(100,), mlpr__solver=adam;, score=0.685 total time= 1.1min\n"
     ]
    },
    {
     "name": "stderr",
     "output_type": "stream",
     "text": [
      "/home/bb/miniconda3/envs/my-env/lib/python3.10/site-packages/sklearn/neural_network/_multilayer_perceptron.py:702: ConvergenceWarning: Stochastic Optimizer: Maximum iterations (400) reached and the optimization hasn't converged yet.\n",
      "  warnings.warn(\n"
     ]
    },
    {
     "name": "stdout",
     "output_type": "stream",
     "text": [
      "[CV 6/10] END mlpr__activation=relu, mlpr__alpha=0.0002, mlpr__hidden_layer_sizes=(100,), mlpr__solver=adam;, score=0.700 total time= 1.2min\n"
     ]
    },
    {
     "name": "stderr",
     "output_type": "stream",
     "text": [
      "/home/bb/miniconda3/envs/my-env/lib/python3.10/site-packages/sklearn/neural_network/_multilayer_perceptron.py:702: ConvergenceWarning: Stochastic Optimizer: Maximum iterations (400) reached and the optimization hasn't converged yet.\n",
      "  warnings.warn(\n"
     ]
    },
    {
     "name": "stdout",
     "output_type": "stream",
     "text": [
      "[CV 8/10] END mlpr__activation=relu, mlpr__alpha=0.0002, mlpr__hidden_layer_sizes=(100,), mlpr__solver=adam;, score=0.697 total time= 1.1min\n"
     ]
    },
    {
     "name": "stderr",
     "output_type": "stream",
     "text": [
      "/home/bb/miniconda3/envs/my-env/lib/python3.10/site-packages/sklearn/neural_network/_multilayer_perceptron.py:702: ConvergenceWarning: Stochastic Optimizer: Maximum iterations (400) reached and the optimization hasn't converged yet.\n",
      "  warnings.warn(\n"
     ]
    },
    {
     "name": "stdout",
     "output_type": "stream",
     "text": [
      "[CV 7/10] END mlpr__activation=relu, mlpr__alpha=0.0002, mlpr__hidden_layer_sizes=(100,), mlpr__solver=adam;, score=0.687 total time= 1.2min\n",
      "[CV 10/10] END mlpr__activation=relu, mlpr__alpha=0.0002, mlpr__hidden_layer_sizes=(100,), mlpr__solver=adam;, score=0.667 total time=  58.7s\n"
     ]
    },
    {
     "name": "stderr",
     "output_type": "stream",
     "text": [
      "/home/bb/miniconda3/envs/my-env/lib/python3.10/site-packages/sklearn/neural_network/_multilayer_perceptron.py:702: ConvergenceWarning: Stochastic Optimizer: Maximum iterations (400) reached and the optimization hasn't converged yet.\n",
      "  warnings.warn(\n"
     ]
    },
    {
     "name": "stdout",
     "output_type": "stream",
     "text": [
      "[CV 9/10] END mlpr__activation=relu, mlpr__alpha=0.0002, mlpr__hidden_layer_sizes=(100,), mlpr__solver=adam;, score=0.682 total time=  60.0s\n"
     ]
    },
    {
     "name": "stderr",
     "output_type": "stream",
     "text": [
      "/home/bb/miniconda3/envs/my-env/lib/python3.10/site-packages/sklearn/neural_network/_multilayer_perceptron.py:702: ConvergenceWarning: Stochastic Optimizer: Maximum iterations (400) reached and the optimization hasn't converged yet.\n",
      "  warnings.warn(\n"
     ]
    }
   ],
   "source": [
    "pipe_mlpr = Pipeline(steps=[(\"scale\", std_scaler),\n",
    "                     (\"mlpr\", MLPRegressor(max_iter=400))])\n",
    "\n",
    "param_grid = {\"mlpr__hidden_layer_sizes\": [(50,), (100,)], \"mlpr__activation\": [\n",
    "    \"logistic\", \"tanh\", \"relu\"], \"mlpr__solver\": [\"sgd\", \"adam\"], \"mlpr__alpha\": [0.0001, 0.0002]}\n",
    "\n",
    "local_model_path = (\n",
    "    \"../../student_outcome_saved_models/model_minimal_features_mlpr_gridsearch1.pkl\"\n",
    ")\n",
    "clf = {}\n",
    "if os.path.exists(local_model_path):\n",
    "    clf = joblib.load(local_model_path)\n",
    "else:\n",
    "    clf = GridSearchCV(\n",
    "        pipe_mlpr,\n",
    "        param_grid,\n",
    "        n_jobs=5,\n",
    "        verbose=3,\n",
    "        cv=10,\n",
    "        scoring=\"r2\",\n",
    "    )\n",
    "    clf.fit(Xtrain, ytrain)\n",
    "    joblib.dump(clf, local_model_path)\n",
    "    append_to_model_params_log(\"Minimal Features\", clf.best_params_)\n"
   ]
  },
  {
   "cell_type": "code",
   "execution_count": 35,
   "metadata": {},
   "outputs": [
    {
     "name": "stdout",
     "output_type": "stream",
     "text": [
      "Best parameters are: {'mlpr__activation': 'logistic', 'mlpr__alpha': 0.0002, 'mlpr__hidden_layer_sizes': (100,), 'mlpr__solver': 'sgd'}\n",
      "0.69 + or -0.01 for the {'mlpr__activation': 'logistic', 'mlpr__alpha': 0.0001, 'mlpr__hidden_layer_sizes': (50,), 'mlpr__solver': 'sgd'}\n",
      "0.67 + or -0.01 for the {'mlpr__activation': 'logistic', 'mlpr__alpha': 0.0001, 'mlpr__hidden_layer_sizes': (50,), 'mlpr__solver': 'adam'}\n",
      "0.7 + or -0.01 for the {'mlpr__activation': 'logistic', 'mlpr__alpha': 0.0001, 'mlpr__hidden_layer_sizes': (100,), 'mlpr__solver': 'sgd'}\n",
      "0.69 + or -0.01 for the {'mlpr__activation': 'logistic', 'mlpr__alpha': 0.0001, 'mlpr__hidden_layer_sizes': (100,), 'mlpr__solver': 'adam'}\n",
      "0.69 + or -0.01 for the {'mlpr__activation': 'logistic', 'mlpr__alpha': 0.0002, 'mlpr__hidden_layer_sizes': (50,), 'mlpr__solver': 'sgd'}\n",
      "0.67 + or -0.01 for the {'mlpr__activation': 'logistic', 'mlpr__alpha': 0.0002, 'mlpr__hidden_layer_sizes': (50,), 'mlpr__solver': 'adam'}\n",
      "0.7 + or -0.01 for the {'mlpr__activation': 'logistic', 'mlpr__alpha': 0.0002, 'mlpr__hidden_layer_sizes': (100,), 'mlpr__solver': 'sgd'}\n",
      "0.68 + or -0.01 for the {'mlpr__activation': 'logistic', 'mlpr__alpha': 0.0002, 'mlpr__hidden_layer_sizes': (100,), 'mlpr__solver': 'adam'}\n",
      "0.68 + or -0.01 for the {'mlpr__activation': 'tanh', 'mlpr__alpha': 0.0001, 'mlpr__hidden_layer_sizes': (50,), 'mlpr__solver': 'sgd'}\n",
      "0.68 + or -0.01 for the {'mlpr__activation': 'tanh', 'mlpr__alpha': 0.0001, 'mlpr__hidden_layer_sizes': (50,), 'mlpr__solver': 'adam'}\n",
      "0.68 + or -0.01 for the {'mlpr__activation': 'tanh', 'mlpr__alpha': 0.0001, 'mlpr__hidden_layer_sizes': (100,), 'mlpr__solver': 'sgd'}\n",
      "0.69 + or -0.01 for the {'mlpr__activation': 'tanh', 'mlpr__alpha': 0.0001, 'mlpr__hidden_layer_sizes': (100,), 'mlpr__solver': 'adam'}\n",
      "0.68 + or -0.01 for the {'mlpr__activation': 'tanh', 'mlpr__alpha': 0.0002, 'mlpr__hidden_layer_sizes': (50,), 'mlpr__solver': 'sgd'}\n",
      "0.69 + or -0.01 for the {'mlpr__activation': 'tanh', 'mlpr__alpha': 0.0002, 'mlpr__hidden_layer_sizes': (50,), 'mlpr__solver': 'adam'}\n",
      "0.68 + or -0.01 for the {'mlpr__activation': 'tanh', 'mlpr__alpha': 0.0002, 'mlpr__hidden_layer_sizes': (100,), 'mlpr__solver': 'sgd'}\n",
      "0.69 + or -0.01 for the {'mlpr__activation': 'tanh', 'mlpr__alpha': 0.0002, 'mlpr__hidden_layer_sizes': (100,), 'mlpr__solver': 'adam'}\n",
      "0.65 + or -0.02 for the {'mlpr__activation': 'relu', 'mlpr__alpha': 0.0001, 'mlpr__hidden_layer_sizes': (50,), 'mlpr__solver': 'sgd'}\n",
      "0.68 + or -0.01 for the {'mlpr__activation': 'relu', 'mlpr__alpha': 0.0001, 'mlpr__hidden_layer_sizes': (50,), 'mlpr__solver': 'adam'}\n",
      "0.67 + or -0.01 for the {'mlpr__activation': 'relu', 'mlpr__alpha': 0.0001, 'mlpr__hidden_layer_sizes': (100,), 'mlpr__solver': 'sgd'}\n",
      "0.68 + or -0.01 for the {'mlpr__activation': 'relu', 'mlpr__alpha': 0.0001, 'mlpr__hidden_layer_sizes': (100,), 'mlpr__solver': 'adam'}\n",
      "0.65 + or -0.02 for the {'mlpr__activation': 'relu', 'mlpr__alpha': 0.0002, 'mlpr__hidden_layer_sizes': (50,), 'mlpr__solver': 'sgd'}\n",
      "0.67 + or -0.01 for the {'mlpr__activation': 'relu', 'mlpr__alpha': 0.0002, 'mlpr__hidden_layer_sizes': (50,), 'mlpr__solver': 'adam'}\n",
      "0.63 + or -0.11 for the {'mlpr__activation': 'relu', 'mlpr__alpha': 0.0002, 'mlpr__hidden_layer_sizes': (100,), 'mlpr__solver': 'sgd'}\n",
      "0.69 + or -0.01 for the {'mlpr__activation': 'relu', 'mlpr__alpha': 0.0002, 'mlpr__hidden_layer_sizes': (100,), 'mlpr__solver': 'adam'}\n"
     ]
    }
   ],
   "source": [
    "display_grid_results(clf)\n"
   ]
  },
  {
   "cell_type": "code",
   "execution_count": 37,
   "metadata": {},
   "outputs": [
    {
     "data": {
      "image/png": "[encoded data removed]",
      "text/plain": [
       "<Figure size 648x432 with 2 Axes>"
      ]
     },
     "metadata": {
      "needs_background": "light"
     },
     "output_type": "display_data"
    },
    {
     "name": "stdout",
     "output_type": "stream",
     "text": [
      "RMSE 10.775434636352303\n"
     ]
    },
    {
     "data": {
      "text/html": [
       "<style>#sk-container-id-4 {color: black;background-color: white;}#sk-container-id-4 pre{padding: 0;}#sk-container-id-4 div.sk-toggleable {background-color: white;}#sk-container-id-4 label.sk-toggleable__label {cursor: pointer;display: block;width: 100%;margin-bottom: 0;padding: 0.3em;box-sizing: border-box;text-align: center;}#sk-container-id-4 label.sk-toggleable__label-arrow:before {content: \"▸\";float: left;margin-right: 0.25em;color: #696969;}#sk-container-id-4 label.sk-toggleable__label-arrow:hover:before {color: black;}#sk-container-id-4 div.sk-estimator:hover label.sk-toggleable__label-arrow:before {color: black;}#sk-container-id-4 div.sk-toggleable__content {max-height: 0;max-width: 0;overflow: hidden;text-align: left;background-color: #f0f8ff;}#sk-container-id-4 div.sk-toggleable__content pre {margin: 0.2em;color: black;border-radius: 0.25em;background-color: #f0f8ff;}#sk-container-id-4 input.sk-toggleable__control:checked~div.sk-toggleable__content {max-height: 200px;max-width: 100%;overflow: auto;}#sk-container-id-4 input.sk-toggleable__control:checked~label.sk-toggleable__label-arrow:before {content: \"▾\";}#sk-container-id-4 div.sk-estimator input.sk-toggleable__control:checked~label.sk-toggleable__label {background-color: #d4ebff;}#sk-container-id-4 div.sk-label input.sk-toggleable__control:checked~label.sk-toggleable__label {background-color: #d4ebff;}#sk-container-id-4 input.sk-hidden--visually {border: 0;clip: rect(1px 1px 1px 1px);clip: rect(1px, 1px, 1px, 1px);height: 1px;margin: -1px;overflow: hidden;padding: 0;position: absolute;width: 1px;}#sk-container-id-4 div.sk-estimator {font-family: monospace;background-color: #f0f8ff;border: 1px dotted black;border-radius: 0.25em;box-sizing: border-box;margin-bottom: 0.5em;}#sk-container-id-4 div.sk-estimator:hover {background-color: #d4ebff;}#sk-container-id-4 div.sk-parallel-item::after {content: \"\";width: 100%;border-bottom: 1px solid gray;flex-grow: 1;}#sk-container-id-4 div.sk-label:hover label.sk-toggleable__label {background-color: #d4ebff;}#sk-container-id-4 div.sk-serial::before {content: \"\";position: absolute;border-left: 1px solid gray;box-sizing: border-box;top: 0;bottom: 0;left: 50%;z-index: 0;}#sk-container-id-4 div.sk-serial {display: flex;flex-direction: column;align-items: center;background-color: white;padding-right: 0.2em;padding-left: 0.2em;position: relative;}#sk-container-id-4 div.sk-item {position: relative;z-index: 1;}#sk-container-id-4 div.sk-parallel {display: flex;align-items: stretch;justify-content: center;background-color: white;position: relative;}#sk-container-id-4 div.sk-item::before, #sk-container-id-4 div.sk-parallel-item::before {content: \"\";position: absolute;border-left: 1px solid gray;box-sizing: border-box;top: 0;bottom: 0;left: 50%;z-index: -1;}#sk-container-id-4 div.sk-parallel-item {display: flex;flex-direction: column;z-index: 1;position: relative;background-color: white;}#sk-container-id-4 div.sk-parallel-item:first-child::after {align-self: flex-end;width: 50%;}#sk-container-id-4 div.sk-parallel-item:last-child::after {align-self: flex-start;width: 50%;}#sk-container-id-4 div.sk-parallel-item:only-child::after {width: 0;}#sk-container-id-4 div.sk-dashed-wrapped {border: 1px dashed gray;margin: 0 0.4em 0.5em 0.4em;box-sizing: border-box;padding-bottom: 0.4em;background-color: white;}#sk-container-id-4 div.sk-label label {font-family: monospace;font-weight: bold;display: inline-block;line-height: 1.2em;}#sk-container-id-4 div.sk-label-container {text-align: center;}#sk-container-id-4 div.sk-container {/* jupyter's `normalize.less` sets `[hidden] { display: none; }` but bootstrap.min.css set `[hidden] { display: none !important; }` so we also need the `!important` here to be able to override the default hidden behavior on the sphinx rendered scikit-learn.org. See: https://github.com/scikit-learn/scikit-learn/issues/21755 */display: inline-block !important;position: relative;}#sk-container-id-4 div.sk-text-repr-fallback {display: none;}</style><div id=\"sk-container-id-4\" class=\"sk-top-container\"><div class=\"sk-text-repr-fallback\"><pre>Pipeline(steps=[(&#x27;scale&#x27;,\n",
       "                 SklearnTransformerWrapper(transformer=StandardScaler(),\n",
       "                                           variables=[&#x27;School_Type_1.0&#x27;,\n",
       "                                                      &#x27;School_Type_4.0&#x27;,\n",
       "                                                      &#x27;Enrollment &#x27;\n",
       "                                                      &#x27;Teacher_Ratio2&#x27;,\n",
       "                                                      &#x27;Highest_Grade_Offered &#x27;\n",
       "                                                      &#x27;Rla_Pct_Part&#x27;,\n",
       "                                                      &#x27;Rla_Pct_Part&#x27;,\n",
       "                                                      &#x27;Rla_Pct_Part^2&#x27;,\n",
       "                                                      &#x27;Reduced_Price_Lunch &#x27;\n",
       "                                                      &#x27;Teacher_Ratio2&#x27;,\n",
       "                                                      &#x27;Teacher_Ratio2&#x27;,\n",
       "                                                      &#x27;Math_Pct_Part &#x27;\n",
       "                                                      &#x27;Rla_Pct_Part&#x27;,\n",
       "                                                      &#x27;Teacher_Ratio1&#x27;,\n",
       "                                                      &#x27;Free_Lunch&#x27;,\n",
       "                                                      &#x27;Civilian...\n",
       "                                                      &#x27;Math_Pct_Part&#x27;,\n",
       "                                                      &#x27;Unemployment_Rate&#x27;,\n",
       "                                                      &#x27;Title_I_Status_5.0&#x27;,\n",
       "                                                      &#x27;Charter_0.0&#x27;,\n",
       "                                                      &#x27;Urban_Centric_Locale_11.0&#x27;,\n",
       "                                                      &#x27;Num_Grades&#x27;,\n",
       "                                                      &#x27;Lowest_Grade_Offered&#x27;,\n",
       "                                                      &#x27;Virtual_1.0&#x27;,\n",
       "                                                      &#x27;Metro_Or_Not_0.0&#x27;,\n",
       "                                                      &#x27;Rural_Urban_Continuum_Code_1.0&#x27;,\n",
       "                                                      &#x27;Title_I_Eligible_1.0&#x27;,\n",
       "                                                      &#x27;Title_I_Status_6.0&#x27;,\n",
       "                                                      &#x27;Urban_Influence_Code_1.0&#x27;, ...])),\n",
       "                (&#x27;mlpr&#x27;,\n",
       "                 MLPRegressor(activation=&#x27;logistic&#x27;, alpha=0.0002,\n",
       "                              max_iter=1000, solver=&#x27;sgd&#x27;))])</pre><b>In a Jupyter environment, please rerun this cell to show the HTML representation or trust the notebook. <br />On GitHub, the HTML representation is unable to render, please try loading this page with nbviewer.org.</b></div><div class=\"sk-container\" hidden><div class=\"sk-item sk-dashed-wrapped\"><div class=\"sk-label-container\"><div class=\"sk-label sk-toggleable\"><input class=\"sk-toggleable__control sk-hidden--visually\" id=\"sk-estimator-id-16\" type=\"checkbox\" ><label for=\"sk-estimator-id-16\" class=\"sk-toggleable__label sk-toggleable__label-arrow\">Pipeline</label><div class=\"sk-toggleable__content\"><pre>Pipeline(steps=[(&#x27;scale&#x27;,\n",
       "                 SklearnTransformerWrapper(transformer=StandardScaler(),\n",
       "                                           variables=[&#x27;School_Type_1.0&#x27;,\n",
       "                                                      &#x27;School_Type_4.0&#x27;,\n",
       "                                                      &#x27;Enrollment &#x27;\n",
       "                                                      &#x27;Teacher_Ratio2&#x27;,\n",
       "                                                      &#x27;Highest_Grade_Offered &#x27;\n",
       "                                                      &#x27;Rla_Pct_Part&#x27;,\n",
       "                                                      &#x27;Rla_Pct_Part&#x27;,\n",
       "                                                      &#x27;Rla_Pct_Part^2&#x27;,\n",
       "                                                      &#x27;Reduced_Price_Lunch &#x27;\n",
       "                                                      &#x27;Teacher_Ratio2&#x27;,\n",
       "                                                      &#x27;Teacher_Ratio2&#x27;,\n",
       "                                                      &#x27;Math_Pct_Part &#x27;\n",
       "                                                      &#x27;Rla_Pct_Part&#x27;,\n",
       "                                                      &#x27;Teacher_Ratio1&#x27;,\n",
       "                                                      &#x27;Free_Lunch&#x27;,\n",
       "                                                      &#x27;Civilian...\n",
       "                                                      &#x27;Math_Pct_Part&#x27;,\n",
       "                                                      &#x27;Unemployment_Rate&#x27;,\n",
       "                                                      &#x27;Title_I_Status_5.0&#x27;,\n",
       "                                                      &#x27;Charter_0.0&#x27;,\n",
       "                                                      &#x27;Urban_Centric_Locale_11.0&#x27;,\n",
       "                                                      &#x27;Num_Grades&#x27;,\n",
       "                                                      &#x27;Lowest_Grade_Offered&#x27;,\n",
       "                                                      &#x27;Virtual_1.0&#x27;,\n",
       "                                                      &#x27;Metro_Or_Not_0.0&#x27;,\n",
       "                                                      &#x27;Rural_Urban_Continuum_Code_1.0&#x27;,\n",
       "                                                      &#x27;Title_I_Eligible_1.0&#x27;,\n",
       "                                                      &#x27;Title_I_Status_6.0&#x27;,\n",
       "                                                      &#x27;Urban_Influence_Code_1.0&#x27;, ...])),\n",
       "                (&#x27;mlpr&#x27;,\n",
       "                 MLPRegressor(activation=&#x27;logistic&#x27;, alpha=0.0002,\n",
       "                              max_iter=1000, solver=&#x27;sgd&#x27;))])</pre></div></div></div><div class=\"sk-serial\"><div class=\"sk-item sk-dashed-wrapped\"><div class=\"sk-label-container\"><div class=\"sk-label sk-toggleable\"><input class=\"sk-toggleable__control sk-hidden--visually\" id=\"sk-estimator-id-17\" type=\"checkbox\" ><label for=\"sk-estimator-id-17\" class=\"sk-toggleable__label sk-toggleable__label-arrow\">scale: SklearnTransformerWrapper</label><div class=\"sk-toggleable__content\"><pre>SklearnTransformerWrapper(transformer=StandardScaler(),\n",
       "                          variables=[&#x27;School_Type_1.0&#x27;, &#x27;School_Type_4.0&#x27;,\n",
       "                                     &#x27;Enrollment Teacher_Ratio2&#x27;,\n",
       "                                     &#x27;Highest_Grade_Offered Rla_Pct_Part&#x27;,\n",
       "                                     &#x27;Rla_Pct_Part&#x27;, &#x27;Rla_Pct_Part^2&#x27;,\n",
       "                                     &#x27;Reduced_Price_Lunch Teacher_Ratio2&#x27;,\n",
       "                                     &#x27;Teacher_Ratio2&#x27;,\n",
       "                                     &#x27;Math_Pct_Part Rla_Pct_Part&#x27;,\n",
       "                                     &#x27;Teacher_Ratio1&#x27;, &#x27;Free_Lunch&#x27;,\n",
       "                                     &#x27;Civilian_Labor_Force&#x27;, &#x27;All_Cohort&#x27;,\n",
       "                                     &#x27;Enrollment&#x27;,\n",
       "                                     &#x27;Free_Or_Reduced_Price_Lunch&#x27;,\n",
       "                                     &#x27;Teachers_Fte&#x27;, &#x27;Reduced_Price_Lunch&#x27;,\n",
       "                                     &#x27;Math_Pct_Part&#x27;, &#x27;Unemployment_Rate&#x27;,\n",
       "                                     &#x27;Title_I_Status_5.0&#x27;, &#x27;Charter_0.0&#x27;,\n",
       "                                     &#x27;Urban_Centric_Locale_11.0&#x27;, &#x27;Num_Grades&#x27;,\n",
       "                                     &#x27;Lowest_Grade_Offered&#x27;, &#x27;Virtual_1.0&#x27;,\n",
       "                                     &#x27;Metro_Or_Not_0.0&#x27;,\n",
       "                                     &#x27;Rural_Urban_Continuum_Code_1.0&#x27;,\n",
       "                                     &#x27;Title_I_Eligible_1.0&#x27;,\n",
       "                                     &#x27;Title_I_Status_6.0&#x27;,\n",
       "                                     &#x27;Urban_Influence_Code_1.0&#x27;, ...])</pre></div></div></div><div class=\"sk-parallel\"><div class=\"sk-parallel-item\"><div class=\"sk-item\"><div class=\"sk-label-container\"><div class=\"sk-label sk-toggleable\"><input class=\"sk-toggleable__control sk-hidden--visually\" id=\"sk-estimator-id-18\" type=\"checkbox\" ><label for=\"sk-estimator-id-18\" class=\"sk-toggleable__label sk-toggleable__label-arrow\">transformer: StandardScaler</label><div class=\"sk-toggleable__content\"><pre>StandardScaler()</pre></div></div></div><div class=\"sk-serial\"><div class=\"sk-item\"><div class=\"sk-estimator sk-toggleable\"><input class=\"sk-toggleable__control sk-hidden--visually\" id=\"sk-estimator-id-19\" type=\"checkbox\" ><label for=\"sk-estimator-id-19\" class=\"sk-toggleable__label sk-toggleable__label-arrow\">StandardScaler</label><div class=\"sk-toggleable__content\"><pre>StandardScaler()</pre></div></div></div></div></div></div></div></div><div class=\"sk-item\"><div class=\"sk-estimator sk-toggleable\"><input class=\"sk-toggleable__control sk-hidden--visually\" id=\"sk-estimator-id-20\" type=\"checkbox\" ><label for=\"sk-estimator-id-20\" class=\"sk-toggleable__label sk-toggleable__label-arrow\">MLPRegressor</label><div class=\"sk-toggleable__content\"><pre>MLPRegressor(activation=&#x27;logistic&#x27;, alpha=0.0002, max_iter=1000, solver=&#x27;sgd&#x27;)</pre></div></div></div></div></div></div></div>"
      ],
      "text/plain": [
       "Pipeline(steps=[('scale',\n",
       "                 SklearnTransformerWrapper(transformer=StandardScaler(),\n",
       "                                           variables=['School_Type_1.0',\n",
       "                                                      'School_Type_4.0',\n",
       "                                                      'Enrollment '\n",
       "                                                      'Teacher_Ratio2',\n",
       "                                                      'Highest_Grade_Offered '\n",
       "                                                      'Rla_Pct_Part',\n",
       "                                                      'Rla_Pct_Part',\n",
       "                                                      'Rla_Pct_Part^2',\n",
       "                                                      'Reduced_Price_Lunch '\n",
       "                                                      'Teacher_Ratio2',\n",
       "                                                      'Teacher_Ratio2',\n",
       "                                                      'Math_Pct_Part '\n",
       "                                                      'Rla_Pct_Part',\n",
       "                                                      'Teacher_Ratio1',\n",
       "                                                      'Free_Lunch',\n",
       "                                                      'Civilian...\n",
       "                                                      'Math_Pct_Part',\n",
       "                                                      'Unemployment_Rate',\n",
       "                                                      'Title_I_Status_5.0',\n",
       "                                                      'Charter_0.0',\n",
       "                                                      'Urban_Centric_Locale_11.0',\n",
       "                                                      'Num_Grades',\n",
       "                                                      'Lowest_Grade_Offered',\n",
       "                                                      'Virtual_1.0',\n",
       "                                                      'Metro_Or_Not_0.0',\n",
       "                                                      'Rural_Urban_Continuum_Code_1.0',\n",
       "                                                      'Title_I_Eligible_1.0',\n",
       "                                                      'Title_I_Status_6.0',\n",
       "                                                      'Urban_Influence_Code_1.0', ...])),\n",
       "                ('mlpr',\n",
       "                 MLPRegressor(activation='logistic', alpha=0.0002,\n",
       "                              max_iter=1000, solver='sgd'))])"
      ]
     },
     "execution_count": 37,
     "metadata": {},
     "output_type": "execute_result"
    }
   ],
   "source": [
    "pipe_mlpr = Pipeline(steps=[(\"scale\", std_scaler),\n",
    "                            (\"mlpr\", MLPRegressor(activation='logistic', alpha=0.0002, hidden_layer_sizes=(100,), solver='sgd', max_iter=1000))])\n",
    "make_residual_plot_and_print_rmse(Xtrain, ytrain, Xtest, ytest, pipe_mlpr)\n"
   ]
  },
  {
   "cell_type": "markdown",
   "metadata": {},
   "source": [
    "# Adaboost"
   ]
  },
  {
   "cell_type": "code",
   "execution_count": 61,
   "metadata": {},
   "outputs": [
    {
     "name": "stdout",
     "output_type": "stream",
     "text": [
      "Fitting 10 folds for each of 8 candidates, totalling 80 fits\n",
      "[CV 1/10] END base_estimator__max_depth=9, base_estimator__max_features=0.3, learning_rate=0.1, loss=exponential, n_estimators=800;, score=0.549 total time= 1.4min\n",
      "[CV 2/10] END base_estimator__max_depth=9, base_estimator__max_features=0.3, learning_rate=0.1, loss=exponential, n_estimators=800;, score=0.564 total time= 1.4min\n",
      "[CV 3/10] END base_estimator__max_depth=9, base_estimator__max_features=0.3, learning_rate=0.1, loss=exponential, n_estimators=800;, score=0.559 total time= 1.4min\n",
      "[CV 5/10] END base_estimator__max_depth=9, base_estimator__max_features=0.3, learning_rate=0.1, loss=exponential, n_estimators=800;, score=0.554 total time= 1.4min\n",
      "[CV 4/10] END base_estimator__max_depth=9, base_estimator__max_features=0.3, learning_rate=0.1, loss=exponential, n_estimators=800;, score=0.541 total time= 1.4min\n",
      "[CV 6/10] END base_estimator__max_depth=9, base_estimator__max_features=0.3, learning_rate=0.1, loss=exponential, n_estimators=800;, score=0.571 total time= 1.4min\n",
      "[CV 10/10] END base_estimator__max_depth=9, base_estimator__max_features=0.3, learning_rate=0.1, loss=exponential, n_estimators=800;, score=0.509 total time= 1.4min\n",
      "[CV 8/10] END base_estimator__max_depth=9, base_estimator__max_features=0.3, learning_rate=0.1, loss=exponential, n_estimators=800;, score=0.563 total time= 1.4min\n",
      "[CV 9/10] END base_estimator__max_depth=9, base_estimator__max_features=0.3, learning_rate=0.1, loss=exponential, n_estimators=800;, score=0.541 total time= 1.4min\n",
      "[CV 7/10] END base_estimator__max_depth=9, base_estimator__max_features=0.3, learning_rate=0.1, loss=exponential, n_estimators=800;, score=0.563 total time= 1.4min\n",
      "[CV 1/10] END base_estimator__max_depth=9, base_estimator__max_features=0.3, learning_rate=0.2, loss=exponential, n_estimators=800;, score=0.481 total time= 1.3min\n",
      "[CV 2/10] END base_estimator__max_depth=9, base_estimator__max_features=0.3, learning_rate=0.2, loss=exponential, n_estimators=800;, score=0.478 total time= 1.3min\n",
      "[CV 3/10] END base_estimator__max_depth=9, base_estimator__max_features=0.3, learning_rate=0.2, loss=exponential, n_estimators=800;, score=0.486 total time= 1.3min\n",
      "[CV 5/10] END base_estimator__max_depth=9, base_estimator__max_features=0.3, learning_rate=0.2, loss=exponential, n_estimators=800;, score=0.495 total time= 1.3min\n",
      "[CV 4/10] END base_estimator__max_depth=9, base_estimator__max_features=0.3, learning_rate=0.2, loss=exponential, n_estimators=800;, score=0.467 total time= 1.3min\n",
      "[CV 6/10] END base_estimator__max_depth=9, base_estimator__max_features=0.3, learning_rate=0.2, loss=exponential, n_estimators=800;, score=0.501 total time= 1.3min\n",
      "[CV 7/10] END base_estimator__max_depth=9, base_estimator__max_features=0.3, learning_rate=0.2, loss=exponential, n_estimators=800;, score=0.510 total time= 1.3min\n",
      "[CV 8/10] END base_estimator__max_depth=9, base_estimator__max_features=0.3, learning_rate=0.2, loss=exponential, n_estimators=800;, score=0.482 total time= 1.3min\n",
      "[CV 10/10] END base_estimator__max_depth=9, base_estimator__max_features=0.3, learning_rate=0.2, loss=exponential, n_estimators=800;, score=0.408 total time= 1.3min\n",
      "[CV 9/10] END base_estimator__max_depth=9, base_estimator__max_features=0.3, learning_rate=0.2, loss=exponential, n_estimators=800;, score=0.455 total time= 1.3min\n",
      "[CV 1/10] END base_estimator__max_depth=9, base_estimator__max_features=0.9, learning_rate=0.1, loss=exponential, n_estimators=800;, score=0.576 total time= 3.3min\n",
      "[CV 2/10] END base_estimator__max_depth=9, base_estimator__max_features=0.9, learning_rate=0.1, loss=exponential, n_estimators=800;, score=0.594 total time= 3.2min\n",
      "[CV 4/10] END base_estimator__max_depth=9, base_estimator__max_features=0.9, learning_rate=0.1, loss=exponential, n_estimators=800;, score=0.582 total time= 3.3min\n",
      "[CV 5/10] END base_estimator__max_depth=9, base_estimator__max_features=0.9, learning_rate=0.1, loss=exponential, n_estimators=800;, score=0.586 total time= 3.3min\n",
      "[CV 3/10] END base_estimator__max_depth=9, base_estimator__max_features=0.9, learning_rate=0.1, loss=exponential, n_estimators=800;, score=0.591 total time= 3.3min\n",
      "[CV 6/10] END base_estimator__max_depth=9, base_estimator__max_features=0.9, learning_rate=0.1, loss=exponential, n_estimators=800;, score=0.600 total time= 3.3min\n",
      "[CV 7/10] END base_estimator__max_depth=9, base_estimator__max_features=0.9, learning_rate=0.1, loss=exponential, n_estimators=800;, score=0.598 total time= 3.3min\n",
      "[CV 8/10] END base_estimator__max_depth=9, base_estimator__max_features=0.9, learning_rate=0.1, loss=exponential, n_estimators=800;, score=0.594 total time= 3.3min\n",
      "[CV 9/10] END base_estimator__max_depth=9, base_estimator__max_features=0.9, learning_rate=0.1, loss=exponential, n_estimators=800;, score=0.566 total time= 3.3min\n",
      "[CV 10/10] END base_estimator__max_depth=9, base_estimator__max_features=0.9, learning_rate=0.1, loss=exponential, n_estimators=800;, score=0.541 total time= 3.3min\n",
      "[CV 1/10] END base_estimator__max_depth=9, base_estimator__max_features=0.9, learning_rate=0.2, loss=exponential, n_estimators=800;, score=0.525 total time= 3.1min\n",
      "[CV 2/10] END base_estimator__max_depth=9, base_estimator__max_features=0.9, learning_rate=0.2, loss=exponential, n_estimators=800;, score=0.537 total time= 3.1min\n",
      "[CV 3/10] END base_estimator__max_depth=9, base_estimator__max_features=0.9, learning_rate=0.2, loss=exponential, n_estimators=800;, score=0.530 total time= 3.1min\n",
      "[CV 4/10] END base_estimator__max_depth=9, base_estimator__max_features=0.9, learning_rate=0.2, loss=exponential, n_estimators=800;, score=0.514 total time= 3.1min\n",
      "[CV 5/10] END base_estimator__max_depth=9, base_estimator__max_features=0.9, learning_rate=0.2, loss=exponential, n_estimators=800;, score=0.532 total time= 3.1min\n",
      "[CV 6/10] END base_estimator__max_depth=9, base_estimator__max_features=0.9, learning_rate=0.2, loss=exponential, n_estimators=800;, score=0.551 total time= 3.0min\n",
      "[CV 7/10] END base_estimator__max_depth=9, base_estimator__max_features=0.9, learning_rate=0.2, loss=exponential, n_estimators=800;, score=0.548 total time= 3.0min\n",
      "[CV 10/10] END base_estimator__max_depth=9, base_estimator__max_features=0.9, learning_rate=0.2, loss=exponential, n_estimators=800;, score=0.466 total time= 3.0min\n",
      "[CV 8/10] END base_estimator__max_depth=9, base_estimator__max_features=0.9, learning_rate=0.2, loss=exponential, n_estimators=800;, score=0.540 total time= 3.1min\n",
      "[CV 9/10] END base_estimator__max_depth=9, base_estimator__max_features=0.9, learning_rate=0.2, loss=exponential, n_estimators=800;, score=0.509 total time= 3.1min\n",
      "[CV 1/10] END base_estimator__max_depth=11, base_estimator__max_features=0.3, learning_rate=0.1, loss=exponential, n_estimators=800;, score=0.671 total time= 1.6min\n",
      "[CV 2/10] END base_estimator__max_depth=11, base_estimator__max_features=0.3, learning_rate=0.1, loss=exponential, n_estimators=800;, score=0.692 total time= 1.6min\n",
      "[CV 3/10] END base_estimator__max_depth=11, base_estimator__max_features=0.3, learning_rate=0.1, loss=exponential, n_estimators=800;, score=0.676 total time= 1.6min\n",
      "[CV 5/10] END base_estimator__max_depth=11, base_estimator__max_features=0.3, learning_rate=0.1, loss=exponential, n_estimators=800;, score=0.674 total time= 1.6min\n",
      "[CV 4/10] END base_estimator__max_depth=11, base_estimator__max_features=0.3, learning_rate=0.1, loss=exponential, n_estimators=800;, score=0.682 total time= 1.6min\n",
      "[CV 6/10] END base_estimator__max_depth=11, base_estimator__max_features=0.3, learning_rate=0.1, loss=exponential, n_estimators=800;, score=0.686 total time= 1.6min\n",
      "[CV 7/10] END base_estimator__max_depth=11, base_estimator__max_features=0.3, learning_rate=0.1, loss=exponential, n_estimators=800;, score=0.680 total time= 1.6min\n",
      "[CV 8/10] END base_estimator__max_depth=11, base_estimator__max_features=0.3, learning_rate=0.1, loss=exponential, n_estimators=800;, score=0.682 total time= 1.6min\n",
      "[CV 10/10] END base_estimator__max_depth=11, base_estimator__max_features=0.3, learning_rate=0.1, loss=exponential, n_estimators=800;, score=0.648 total time= 1.6min\n",
      "[CV 9/10] END base_estimator__max_depth=11, base_estimator__max_features=0.3, learning_rate=0.1, loss=exponential, n_estimators=800;, score=0.674 total time= 1.6min\n",
      "[CV 1/10] END base_estimator__max_depth=11, base_estimator__max_features=0.3, learning_rate=0.2, loss=exponential, n_estimators=800;, score=0.655 total time= 1.5min\n",
      "[CV 2/10] END base_estimator__max_depth=11, base_estimator__max_features=0.3, learning_rate=0.2, loss=exponential, n_estimators=800;, score=0.675 total time= 1.5min\n",
      "[CV 3/10] END base_estimator__max_depth=11, base_estimator__max_features=0.3, learning_rate=0.2, loss=exponential, n_estimators=800;, score=0.662 total time= 1.5min\n",
      "[CV 4/10] END base_estimator__max_depth=11, base_estimator__max_features=0.3, learning_rate=0.2, loss=exponential, n_estimators=800;, score=0.666 total time= 1.5min\n",
      "[CV 5/10] END base_estimator__max_depth=11, base_estimator__max_features=0.3, learning_rate=0.2, loss=exponential, n_estimators=800;, score=0.657 total time= 1.5min\n",
      "[CV 6/10] END base_estimator__max_depth=11, base_estimator__max_features=0.3, learning_rate=0.2, loss=exponential, n_estimators=800;, score=0.673 total time= 1.5min\n",
      "[CV 7/10] END base_estimator__max_depth=11, base_estimator__max_features=0.3, learning_rate=0.2, loss=exponential, n_estimators=800;, score=0.667 total time= 1.5min\n",
      "[CV 8/10] END base_estimator__max_depth=11, base_estimator__max_features=0.3, learning_rate=0.2, loss=exponential, n_estimators=800;, score=0.667 total time= 1.5min\n",
      "[CV 9/10] END base_estimator__max_depth=11, base_estimator__max_features=0.3, learning_rate=0.2, loss=exponential, n_estimators=800;, score=0.657 total time= 1.5min\n",
      "[CV 10/10] END base_estimator__max_depth=11, base_estimator__max_features=0.3, learning_rate=0.2, loss=exponential, n_estimators=800;, score=0.625 total time= 1.5min\n",
      "[CV 2/10] END base_estimator__max_depth=11, base_estimator__max_features=0.9, learning_rate=0.1, loss=exponential, n_estimators=800;, score=0.707 total time= 3.9min\n",
      "[CV 1/10] END base_estimator__max_depth=11, base_estimator__max_features=0.9, learning_rate=0.1, loss=exponential, n_estimators=800;, score=0.685 total time= 4.0min\n",
      "[CV 3/10] END base_estimator__max_depth=11, base_estimator__max_features=0.9, learning_rate=0.1, loss=exponential, n_estimators=800;, score=0.684 total time= 4.0min\n",
      "[CV 4/10] END base_estimator__max_depth=11, base_estimator__max_features=0.9, learning_rate=0.1, loss=exponential, n_estimators=800;, score=0.698 total time= 4.0min\n",
      "[CV 5/10] END base_estimator__max_depth=11, base_estimator__max_features=0.9, learning_rate=0.1, loss=exponential, n_estimators=800;, score=0.683 total time= 4.0min\n",
      "[CV 6/10] END base_estimator__max_depth=11, base_estimator__max_features=0.9, learning_rate=0.1, loss=exponential, n_estimators=800;, score=0.694 total time= 3.9min\n",
      "[CV 7/10] END base_estimator__max_depth=11, base_estimator__max_features=0.9, learning_rate=0.1, loss=exponential, n_estimators=800;, score=0.694 total time= 3.9min\n",
      "[CV 8/10] END base_estimator__max_depth=11, base_estimator__max_features=0.9, learning_rate=0.1, loss=exponential, n_estimators=800;, score=0.693 total time= 3.9min\n",
      "[CV 10/10] END base_estimator__max_depth=11, base_estimator__max_features=0.9, learning_rate=0.1, loss=exponential, n_estimators=800;, score=0.660 total time= 3.9min\n",
      "[CV 9/10] END base_estimator__max_depth=11, base_estimator__max_features=0.9, learning_rate=0.1, loss=exponential, n_estimators=800;, score=0.684 total time= 3.9min\n",
      "[CV 1/10] END base_estimator__max_depth=11, base_estimator__max_features=0.9, learning_rate=0.2, loss=exponential, n_estimators=800;, score=0.671 total time= 3.6min\n",
      "[CV 2/10] END base_estimator__max_depth=11, base_estimator__max_features=0.9, learning_rate=0.2, loss=exponential, n_estimators=800;, score=0.695 total time= 3.5min\n",
      "[CV 3/10] END base_estimator__max_depth=11, base_estimator__max_features=0.9, learning_rate=0.2, loss=exponential, n_estimators=800;, score=0.674 total time= 3.5min\n",
      "[CV 4/10] END base_estimator__max_depth=11, base_estimator__max_features=0.9, learning_rate=0.2, loss=exponential, n_estimators=800;, score=0.686 total time= 3.6min\n",
      "[CV 5/10] END base_estimator__max_depth=11, base_estimator__max_features=0.9, learning_rate=0.2, loss=exponential, n_estimators=800;, score=0.670 total time= 3.6min\n",
      "[CV 7/10] END base_estimator__max_depth=11, base_estimator__max_features=0.9, learning_rate=0.2, loss=exponential, n_estimators=800;, score=0.682 total time= 3.5min\n",
      "[CV 6/10] END base_estimator__max_depth=11, base_estimator__max_features=0.9, learning_rate=0.2, loss=exponential, n_estimators=800;, score=0.686 total time= 3.6min\n",
      "[CV 8/10] END base_estimator__max_depth=11, base_estimator__max_features=0.9, learning_rate=0.2, loss=exponential, n_estimators=800;, score=0.683 total time= 3.5min\n",
      "[CV 9/10] END base_estimator__max_depth=11, base_estimator__max_features=0.9, learning_rate=0.2, loss=exponential, n_estimators=800;, score=0.674 total time= 3.5min\n",
      "[CV 10/10] END base_estimator__max_depth=11, base_estimator__max_features=0.9, learning_rate=0.2, loss=exponential, n_estimators=800;, score=0.644 total time= 3.5min\n"
     ]
    }
   ],
   "source": [
    "pipe_adar = AdaBoostRegressor(base_estimator=DecisionTreeRegressor(random_state=42))\n",
    "\n",
    "param_grid = {'n_estimators': [800],\n",
    "              'base_estimator__max_features': [0.3,0.9],\n",
    "               'base_estimator__max_depth': [9,11],\n",
    "              'learning_rate': [0.1,0.2],\n",
    "              'loss': ['exponential']}\n",
    "\n",
    "\n",
    "local_model_path = (\n",
    "    \"../../student_outcome_saved_models/model_minimal_features_adar_gridsearch2.pkl\"\n",
    ")\n",
    "\n",
    "clf = {}\n",
    "if os.path.exists(local_model_path):\n",
    "    clf = joblib.load(local_model_path)\n",
    "else:\n",
    "    clf = GridSearchCV(\n",
    "        pipe_adar,\n",
    "        param_grid,\n",
    "        n_jobs=5,\n",
    "        verbose=3,\n",
    "        cv=10,\n",
    "        scoring=\"r2\",\n",
    "    )\n",
    "    clf.fit(Xtrain, ytrain)\n",
    "    joblib.dump(clf, local_model_path)\n",
    "    append_to_model_params_log(\"Minimal Features - AdaBoostRegressor\", clf.best_params_)\n"
   ]
  },
  {
   "cell_type": "code",
   "execution_count": 62,
   "metadata": {},
   "outputs": [
    {
     "name": "stdout",
     "output_type": "stream",
     "text": [
      "Best parameters are: {'base_estimator__max_depth': 11, 'base_estimator__max_features': 0.9, 'learning_rate': 0.1, 'loss': 'exponential', 'n_estimators': 800}\n",
      "0.55 + or -0.02 for the {'base_estimator__max_depth': 9, 'base_estimator__max_features': 0.3, 'learning_rate': 0.1, 'loss': 'exponential', 'n_estimators': 800}\n",
      "0.48 + or -0.03 for the {'base_estimator__max_depth': 9, 'base_estimator__max_features': 0.3, 'learning_rate': 0.2, 'loss': 'exponential', 'n_estimators': 800}\n",
      "0.58 + or -0.02 for the {'base_estimator__max_depth': 9, 'base_estimator__max_features': 0.9, 'learning_rate': 0.1, 'loss': 'exponential', 'n_estimators': 800}\n",
      "0.53 + or -0.02 for the {'base_estimator__max_depth': 9, 'base_estimator__max_features': 0.9, 'learning_rate': 0.2, 'loss': 'exponential', 'n_estimators': 800}\n",
      "0.68 + or -0.01 for the {'base_estimator__max_depth': 11, 'base_estimator__max_features': 0.3, 'learning_rate': 0.1, 'loss': 'exponential', 'n_estimators': 800}\n",
      "0.66 + or -0.01 for the {'base_estimator__max_depth': 11, 'base_estimator__max_features': 0.3, 'learning_rate': 0.2, 'loss': 'exponential', 'n_estimators': 800}\n",
      "0.69 + or -0.01 for the {'base_estimator__max_depth': 11, 'base_estimator__max_features': 0.9, 'learning_rate': 0.1, 'loss': 'exponential', 'n_estimators': 800}\n",
      "0.68 + or -0.01 for the {'base_estimator__max_depth': 11, 'base_estimator__max_features': 0.9, 'learning_rate': 0.2, 'loss': 'exponential', 'n_estimators': 800}\n"
     ]
    }
   ],
   "source": [
    "display_grid_results(clf)"
   ]
  },
  {
   "cell_type": "code",
   "execution_count": 68,
   "metadata": {},
   "outputs": [
    {
     "name": "stderr",
     "output_type": "stream",
     "text": [
      "/home/bb/miniconda3/envs/my-env/lib/python3.10/site-packages/sklearn/base.py:450: UserWarning: X does not have valid feature names, but AdaBoostRegressor was fitted with feature names\n",
      "  warnings.warn(\n"
     ]
    },
    {
     "data": {
      "image/png": "[encoded data removed]",
      "text/plain": [
       "<Figure size 648x432 with 2 Axes>"
      ]
     },
     "metadata": {
      "needs_background": "light"
     },
     "output_type": "display_data"
    },
    {
     "name": "stdout",
     "output_type": "stream",
     "text": [
      "RMSE 11.006898924441657\n"
     ]
    },
    {
     "data": {
      "text/html": [
       "<style>#sk-container-id-11 {color: black;background-color: white;}#sk-container-id-11 pre{padding: 0;}#sk-container-id-11 div.sk-toggleable {background-color: white;}#sk-container-id-11 label.sk-toggleable__label {cursor: pointer;display: block;width: 100%;margin-bottom: 0;padding: 0.3em;box-sizing: border-box;text-align: center;}#sk-container-id-11 label.sk-toggleable__label-arrow:before {content: \"▸\";float: left;margin-right: 0.25em;color: #696969;}#sk-container-id-11 label.sk-toggleable__label-arrow:hover:before {color: black;}#sk-container-id-11 div.sk-estimator:hover label.sk-toggleable__label-arrow:before {color: black;}#sk-container-id-11 div.sk-toggleable__content {max-height: 0;max-width: 0;overflow: hidden;text-align: left;background-color: #f0f8ff;}#sk-container-id-11 div.sk-toggleable__content pre {margin: 0.2em;color: black;border-radius: 0.25em;background-color: #f0f8ff;}#sk-container-id-11 input.sk-toggleable__control:checked~div.sk-toggleable__content {max-height: 200px;max-width: 100%;overflow: auto;}#sk-container-id-11 input.sk-toggleable__control:checked~label.sk-toggleable__label-arrow:before {content: \"▾\";}#sk-container-id-11 div.sk-estimator input.sk-toggleable__control:checked~label.sk-toggleable__label {background-color: #d4ebff;}#sk-container-id-11 div.sk-label input.sk-toggleable__control:checked~label.sk-toggleable__label {background-color: #d4ebff;}#sk-container-id-11 input.sk-hidden--visually {border: 0;clip: rect(1px 1px 1px 1px);clip: rect(1px, 1px, 1px, 1px);height: 1px;margin: -1px;overflow: hidden;padding: 0;position: absolute;width: 1px;}#sk-container-id-11 div.sk-estimator {font-family: monospace;background-color: #f0f8ff;border: 1px dotted black;border-radius: 0.25em;box-sizing: border-box;margin-bottom: 0.5em;}#sk-container-id-11 div.sk-estimator:hover {background-color: #d4ebff;}#sk-container-id-11 div.sk-parallel-item::after {content: \"\";width: 100%;border-bottom: 1px solid gray;flex-grow: 1;}#sk-container-id-11 div.sk-label:hover label.sk-toggleable__label {background-color: #d4ebff;}#sk-container-id-11 div.sk-serial::before {content: \"\";position: absolute;border-left: 1px solid gray;box-sizing: border-box;top: 0;bottom: 0;left: 50%;z-index: 0;}#sk-container-id-11 div.sk-serial {display: flex;flex-direction: column;align-items: center;background-color: white;padding-right: 0.2em;padding-left: 0.2em;position: relative;}#sk-container-id-11 div.sk-item {position: relative;z-index: 1;}#sk-container-id-11 div.sk-parallel {display: flex;align-items: stretch;justify-content: center;background-color: white;position: relative;}#sk-container-id-11 div.sk-item::before, #sk-container-id-11 div.sk-parallel-item::before {content: \"\";position: absolute;border-left: 1px solid gray;box-sizing: border-box;top: 0;bottom: 0;left: 50%;z-index: -1;}#sk-container-id-11 div.sk-parallel-item {display: flex;flex-direction: column;z-index: 1;position: relative;background-color: white;}#sk-container-id-11 div.sk-parallel-item:first-child::after {align-self: flex-end;width: 50%;}#sk-container-id-11 div.sk-parallel-item:last-child::after {align-self: flex-start;width: 50%;}#sk-container-id-11 div.sk-parallel-item:only-child::after {width: 0;}#sk-container-id-11 div.sk-dashed-wrapped {border: 1px dashed gray;margin: 0 0.4em 0.5em 0.4em;box-sizing: border-box;padding-bottom: 0.4em;background-color: white;}#sk-container-id-11 div.sk-label label {font-family: monospace;font-weight: bold;display: inline-block;line-height: 1.2em;}#sk-container-id-11 div.sk-label-container {text-align: center;}#sk-container-id-11 div.sk-container {/* jupyter's `normalize.less` sets `[hidden] { display: none; }` but bootstrap.min.css set `[hidden] { display: none !important; }` so we also need the `!important` here to be able to override the default hidden behavior on the sphinx rendered scikit-learn.org. See: https://github.com/scikit-learn/scikit-learn/issues/21755 */display: inline-block !important;position: relative;}#sk-container-id-11 div.sk-text-repr-fallback {display: none;}</style><div id=\"sk-container-id-11\" class=\"sk-top-container\"><div class=\"sk-text-repr-fallback\"><pre>Pipeline(steps=[(&#x27;ada&#x27;,\n",
       "                 AdaBoostRegressor(base_estimator=DecisionTreeRegressor(max_depth=11,\n",
       "                                                                        max_features=0.9,\n",
       "                                                                        random_state=42),\n",
       "                                   learning_rate=0.1, loss=&#x27;exponential&#x27;,\n",
       "                                   n_estimators=800))])</pre><b>In a Jupyter environment, please rerun this cell to show the HTML representation or trust the notebook. <br />On GitHub, the HTML representation is unable to render, please try loading this page with nbviewer.org.</b></div><div class=\"sk-container\" hidden><div class=\"sk-item sk-dashed-wrapped\"><div class=\"sk-label-container\"><div class=\"sk-label sk-toggleable\"><input class=\"sk-toggleable__control sk-hidden--visually\" id=\"sk-estimator-id-44\" type=\"checkbox\" ><label for=\"sk-estimator-id-44\" class=\"sk-toggleable__label sk-toggleable__label-arrow\">Pipeline</label><div class=\"sk-toggleable__content\"><pre>Pipeline(steps=[(&#x27;ada&#x27;,\n",
       "                 AdaBoostRegressor(base_estimator=DecisionTreeRegressor(max_depth=11,\n",
       "                                                                        max_features=0.9,\n",
       "                                                                        random_state=42),\n",
       "                                   learning_rate=0.1, loss=&#x27;exponential&#x27;,\n",
       "                                   n_estimators=800))])</pre></div></div></div><div class=\"sk-serial\"><div class=\"sk-item sk-dashed-wrapped\"><div class=\"sk-label-container\"><div class=\"sk-label sk-toggleable\"><input class=\"sk-toggleable__control sk-hidden--visually\" id=\"sk-estimator-id-45\" type=\"checkbox\" ><label for=\"sk-estimator-id-45\" class=\"sk-toggleable__label sk-toggleable__label-arrow\">ada: AdaBoostRegressor</label><div class=\"sk-toggleable__content\"><pre>AdaBoostRegressor(base_estimator=DecisionTreeRegressor(max_depth=11,\n",
       "                                                       max_features=0.9,\n",
       "                                                       random_state=42),\n",
       "                  learning_rate=0.1, loss=&#x27;exponential&#x27;, n_estimators=800)</pre></div></div></div><div class=\"sk-parallel\"><div class=\"sk-parallel-item\"><div class=\"sk-item\"><div class=\"sk-label-container\"><div class=\"sk-label sk-toggleable\"><input class=\"sk-toggleable__control sk-hidden--visually\" id=\"sk-estimator-id-46\" type=\"checkbox\" ><label for=\"sk-estimator-id-46\" class=\"sk-toggleable__label sk-toggleable__label-arrow\">base_estimator: DecisionTreeRegressor</label><div class=\"sk-toggleable__content\"><pre>DecisionTreeRegressor(max_depth=11, max_features=0.9, random_state=42)</pre></div></div></div><div class=\"sk-serial\"><div class=\"sk-item\"><div class=\"sk-estimator sk-toggleable\"><input class=\"sk-toggleable__control sk-hidden--visually\" id=\"sk-estimator-id-47\" type=\"checkbox\" ><label for=\"sk-estimator-id-47\" class=\"sk-toggleable__label sk-toggleable__label-arrow\">DecisionTreeRegressor</label><div class=\"sk-toggleable__content\"><pre>DecisionTreeRegressor(max_depth=11, max_features=0.9, random_state=42)</pre></div></div></div></div></div></div></div></div></div></div></div></div>"
      ],
      "text/plain": [
       "Pipeline(steps=[('ada',\n",
       "                 AdaBoostRegressor(base_estimator=DecisionTreeRegressor(max_depth=11,\n",
       "                                                                        max_features=0.9,\n",
       "                                                                        random_state=42),\n",
       "                                   learning_rate=0.1, loss='exponential',\n",
       "                                   n_estimators=800))])"
      ]
     },
     "execution_count": 68,
     "metadata": {},
     "output_type": "execute_result"
    }
   ],
   "source": [
    "pipe_adar = Pipeline(steps=[(\"ada\", AdaBoostRegressor(learning_rate=0.1, loss='exponential',n_estimators=800, base_estimator=DecisionTreeRegressor(max_features=0.9, max_depth=11, random_state=42)))])\n",
    "make_residual_plot_and_print_rmse(Xtrain, ytrain, Xtest, ytest, pipe_adar)"
   ]
  },
  {
   "cell_type": "markdown",
   "metadata": {},
   "source": [
    "# Random Forest"
   ]
  },
  {
   "cell_type": "code",
   "execution_count": 72,
   "metadata": {},
   "outputs": [
    {
     "name": "stdout",
     "output_type": "stream",
     "text": [
      "Fitting 10 folds for each of 18 candidates, totalling 180 fits\n",
      "[CV 3/10] END max_depth=11, max_features=0.1, n_estimators=500;, score=0.663 total time=  18.5s\n",
      "[CV 4/10] END max_depth=11, max_features=0.1, n_estimators=500;, score=0.670 total time=  18.5s\n",
      "[CV 6/10] END max_depth=11, max_features=0.1, n_estimators=500;, score=0.678 total time=  18.5s\n",
      "[CV 5/10] END max_depth=11, max_features=0.1, n_estimators=500;, score=0.658 total time=  18.6s\n",
      "[CV 8/10] END max_depth=11, max_features=0.1, n_estimators=500;, score=0.671 total time=  18.6s\n",
      "[CV 7/10] END max_depth=11, max_features=0.1, n_estimators=500;, score=0.668 total time=  18.6s\n",
      "[CV 1/10] END max_depth=11, max_features=0.1, n_estimators=500;, score=0.663 total time=  26.0s\n",
      "[CV 2/10] END max_depth=11, max_features=0.1, n_estimators=500;, score=0.681 total time=  26.0s\n",
      "[CV 10/10] END max_depth=11, max_features=0.1, n_estimators=500;, score=0.654 total time=  26.2s\n",
      "[CV 9/10] END max_depth=11, max_features=0.1, n_estimators=500;, score=0.665 total time=  26.3s\n",
      "[CV 2/10] END max_depth=11, max_features=0.1, n_estimators=1000;, score=0.681 total time=  38.3s\n",
      "[CV 1/10] END max_depth=11, max_features=0.1, n_estimators=1000;, score=0.663 total time=  38.5s\n",
      "[CV 3/10] END max_depth=11, max_features=0.1, n_estimators=1000;, score=0.663 total time=  38.7s\n",
      "[CV 4/10] END max_depth=11, max_features=0.1, n_estimators=1000;, score=0.670 total time=  38.8s\n",
      "[CV 5/10] END max_depth=11, max_features=0.1, n_estimators=1000;, score=0.658 total time=  38.7s\n",
      "[CV 10/10] END max_depth=11, max_features=0.1, n_estimators=1000;, score=0.654 total time=  38.9s\n",
      "[CV 6/10] END max_depth=11, max_features=0.1, n_estimators=1000;, score=0.679 total time=  51.5s\n",
      "[CV 7/10] END max_depth=11, max_features=0.1, n_estimators=1000;, score=0.668 total time=  54.9s\n",
      "[CV 9/10] END max_depth=11, max_features=0.1, n_estimators=1000;, score=0.666 total time=  54.7s\n",
      "[CV 8/10] END max_depth=11, max_features=0.1, n_estimators=1000;, score=0.671 total time=  55.1s\n",
      "[CV 2/10] END max_depth=11, max_features=0.3, n_estimators=500;, score=0.707 total time=  58.8s\n",
      "[CV 1/10] END max_depth=11, max_features=0.3, n_estimators=500;, score=0.689 total time=  59.0s\n",
      "[CV 3/10] END max_depth=11, max_features=0.3, n_estimators=500;, score=0.687 total time=  59.4s\n",
      "[CV 4/10] END max_depth=11, max_features=0.3, n_estimators=500;, score=0.695 total time=  59.5s\n",
      "[CV 6/10] END max_depth=11, max_features=0.3, n_estimators=500;, score=0.702 total time=  58.4s\n",
      "[CV 5/10] END max_depth=11, max_features=0.3, n_estimators=500;, score=0.678 total time= 1.1min\n",
      "[CV 9/10] END max_depth=11, max_features=0.3, n_estimators=500;, score=0.689 total time= 1.0min\n",
      "[CV 7/10] END max_depth=11, max_features=0.3, n_estimators=500;, score=0.691 total time= 1.4min\n",
      "[CV 8/10] END max_depth=11, max_features=0.3, n_estimators=500;, score=0.696 total time= 1.2min\n",
      "[CV 10/10] END max_depth=11, max_features=0.3, n_estimators=500;, score=0.670 total time= 1.4min\n",
      "[CV 2/10] END max_depth=11, max_features=0.3, n_estimators=1000;, score=0.708 total time= 1.9min\n",
      "[CV 1/10] END max_depth=11, max_features=0.3, n_estimators=1000;, score=0.689 total time= 2.0min\n",
      "[CV 3/10] END max_depth=11, max_features=0.3, n_estimators=1000;, score=0.687 total time= 2.0min\n",
      "[CV 5/10] END max_depth=11, max_features=0.3, n_estimators=1000;, score=0.678 total time= 1.9min\n",
      "[CV 4/10] END max_depth=11, max_features=0.3, n_estimators=1000;, score=0.696 total time= 2.3min\n",
      "[CV 7/10] END max_depth=11, max_features=0.3, n_estimators=1000;, score=0.691 total time= 1.9min\n",
      "[CV 6/10] END max_depth=11, max_features=0.3, n_estimators=1000;, score=0.702 total time= 2.3min\n",
      "[CV 9/10] END max_depth=11, max_features=0.3, n_estimators=1000;, score=0.690 total time= 1.9min\n",
      "[CV 8/10] END max_depth=11, max_features=0.3, n_estimators=1000;, score=0.696 total time= 2.4min\n",
      "[CV 10/10] END max_depth=11, max_features=0.3, n_estimators=1000;, score=0.671 total time= 2.5min\n",
      "[CV 1/10] END max_depth=11, max_features=0.8, n_estimators=500;, score=0.694 total time= 2.5min\n",
      "[CV 4/10] END max_depth=11, max_features=0.8, n_estimators=500;, score=0.703 total time= 2.5min\n",
      "[CV 5/10] END max_depth=11, max_features=0.8, n_estimators=500;, score=0.679 total time= 2.5min\n",
      "[CV 8/10] END max_depth=11, max_features=0.8, n_estimators=500;, score=0.700 total time= 2.5min\n",
      "[CV 7/10] END max_depth=11, max_features=0.8, n_estimators=500;, score=0.695 total time= 2.6min\n",
      "[CV 3/10] END max_depth=11, max_features=0.8, n_estimators=500;, score=0.689 total time= 3.5min\n",
      "[CV 2/10] END max_depth=11, max_features=0.8, n_estimators=500;, score=0.709 total time= 3.5min\n",
      "[CV 9/10] END max_depth=11, max_features=0.8, n_estimators=500;, score=0.690 total time= 2.5min\n",
      "[CV 6/10] END max_depth=11, max_features=0.8, n_estimators=500;, score=0.704 total time= 3.3min\n",
      "[CV 10/10] END max_depth=11, max_features=0.8, n_estimators=500;, score=0.675 total time= 3.1min\n",
      "[CV 2/10] END max_depth=11, max_features=0.8, n_estimators=1000;, score=0.709 total time= 5.4min\n",
      "[CV 3/10] END max_depth=11, max_features=0.8, n_estimators=1000;, score=0.690 total time= 5.2min\n",
      "[CV 1/10] END max_depth=12, max_features=0.1, n_estimators=500;, score=0.674 total time=  25.0s\n",
      "[CV 4/10] END max_depth=11, max_features=0.8, n_estimators=1000;, score=0.702 total time= 5.3min\n",
      "[CV 2/10] END max_depth=12, max_features=0.1, n_estimators=500;, score=0.693 total time=  21.9s\n",
      "[CV 1/10] END max_depth=11, max_features=0.8, n_estimators=1000;, score=0.693 total time= 6.2min\n",
      "[CV 3/10] END max_depth=12, max_features=0.1, n_estimators=500;, score=0.674 total time=  20.8s\n",
      "[CV 4/10] END max_depth=12, max_features=0.1, n_estimators=500;, score=0.683 total time=  20.8s\n",
      "[CV 5/10] END max_depth=12, max_features=0.1, n_estimators=500;, score=0.671 total time=  20.8s\n",
      "[CV 9/10] END max_depth=11, max_features=0.8, n_estimators=1000;, score=0.691 total time= 5.2min\n",
      "[CV 6/10] END max_depth=12, max_features=0.1, n_estimators=500;, score=0.690 total time=  20.9s\n",
      "[CV 7/10] END max_depth=12, max_features=0.1, n_estimators=500;, score=0.680 total time=  21.1s\n",
      "[CV 8/10] END max_depth=12, max_features=0.1, n_estimators=500;, score=0.682 total time=  21.1s\n",
      "[CV 9/10] END max_depth=12, max_features=0.1, n_estimators=500;, score=0.677 total time=  20.7s\n",
      "[CV 8/10] END max_depth=11, max_features=0.8, n_estimators=1000;, score=0.701 total time= 5.6min\n",
      "[CV 10/10] END max_depth=12, max_features=0.1, n_estimators=500;, score=0.663 total time=  21.8s\n",
      "[CV 5/10] END max_depth=11, max_features=0.8, n_estimators=1000;, score=0.679 total time= 6.5min\n",
      "[CV 1/10] END max_depth=12, max_features=0.1, n_estimators=1000;, score=0.675 total time=  41.7s\n",
      "[CV 6/10] END max_depth=11, max_features=0.8, n_estimators=1000;, score=0.704 total time= 6.2min\n",
      "[CV 2/10] END max_depth=12, max_features=0.1, n_estimators=1000;, score=0.693 total time=  42.0s\n",
      "[CV 3/10] END max_depth=12, max_features=0.1, n_estimators=1000;, score=0.675 total time=  42.4s\n",
      "[CV 4/10] END max_depth=12, max_features=0.1, n_estimators=1000;, score=0.683 total time=  42.0s\n",
      "[CV 5/10] END max_depth=12, max_features=0.1, n_estimators=1000;, score=0.671 total time=  59.0s\n",
      "[CV 10/10] END max_depth=11, max_features=0.8, n_estimators=1000;, score=0.675 total time= 5.8min\n",
      "[CV 6/10] END max_depth=12, max_features=0.1, n_estimators=1000;, score=0.690 total time=  59.0s\n",
      "[CV 7/10] END max_depth=12, max_features=0.1, n_estimators=1000;, score=0.679 total time=  42.2s\n",
      "[CV 8/10] END max_depth=12, max_features=0.1, n_estimators=1000;, score=0.682 total time=  42.0s\n",
      "[CV 9/10] END max_depth=12, max_features=0.1, n_estimators=1000;, score=0.678 total time=  42.2s\n",
      "[CV 10/10] END max_depth=12, max_features=0.1, n_estimators=1000;, score=0.663 total time=  42.1s\n",
      "[CV 7/10] END max_depth=11, max_features=0.8, n_estimators=1000;, score=0.695 total time= 7.0min\n",
      "[CV 1/10] END max_depth=12, max_features=0.3, n_estimators=500;, score=0.698 total time= 1.0min\n",
      "[CV 2/10] END max_depth=12, max_features=0.3, n_estimators=500;, score=0.717 total time= 1.0min\n",
      "[CV 3/10] END max_depth=12, max_features=0.3, n_estimators=500;, score=0.696 total time= 1.1min\n",
      "[CV 8/10] END max_depth=12, max_features=0.3, n_estimators=500;, score=0.705 total time= 1.0min\n",
      "[CV 7/10] END max_depth=12, max_features=0.3, n_estimators=500;, score=0.700 total time= 1.1min\n",
      "[CV 9/10] END max_depth=12, max_features=0.3, n_estimators=500;, score=0.698 total time= 1.0min\n",
      "[CV 5/10] END max_depth=12, max_features=0.3, n_estimators=500;, score=0.688 total time= 1.3min\n",
      "[CV 4/10] END max_depth=12, max_features=0.3, n_estimators=500;, score=0.706 total time= 1.4min\n",
      "[CV 6/10] END max_depth=12, max_features=0.3, n_estimators=500;, score=0.711 total time= 1.4min\n",
      "[CV 10/10] END max_depth=12, max_features=0.3, n_estimators=500;, score=0.679 total time= 1.4min\n",
      "[CV 2/10] END max_depth=12, max_features=0.3, n_estimators=1000;, score=0.717 total time= 2.1min\n",
      "[CV 1/10] END max_depth=12, max_features=0.3, n_estimators=1000;, score=0.698 total time= 2.1min\n",
      "[CV 4/10] END max_depth=12, max_features=0.3, n_estimators=1000;, score=0.706 total time= 2.1min\n",
      "[CV 5/10] END max_depth=12, max_features=0.3, n_estimators=1000;, score=0.689 total time= 2.2min\n",
      "[CV 8/10] END max_depth=12, max_features=0.3, n_estimators=1000;, score=0.705 total time= 2.1min\n",
      "[CV 3/10] END max_depth=12, max_features=0.3, n_estimators=1000;, score=0.696 total time= 2.6min\n",
      "[CV 10/10] END max_depth=12, max_features=0.3, n_estimators=1000;, score=0.680 total time= 2.1min\n",
      "[CV 6/10] END max_depth=12, max_features=0.3, n_estimators=1000;, score=0.711 total time= 2.7min\n",
      "[CV 7/10] END max_depth=12, max_features=0.3, n_estimators=1000;, score=0.700 total time= 2.8min\n",
      "[CV 9/10] END max_depth=12, max_features=0.3, n_estimators=1000;, score=0.698 total time= 2.8min\n",
      "[CV 1/10] END max_depth=12, max_features=0.8, n_estimators=500;, score=0.702 total time= 2.7min\n",
      "[CV 2/10] END max_depth=12, max_features=0.8, n_estimators=500;, score=0.719 total time= 2.8min\n",
      "[CV 3/10] END max_depth=12, max_features=0.8, n_estimators=500;, score=0.698 total time= 2.7min\n",
      "[CV 4/10] END max_depth=12, max_features=0.8, n_estimators=500;, score=0.711 total time= 2.8min\n",
      "[CV 5/10] END max_depth=12, max_features=0.8, n_estimators=500;, score=0.689 total time= 2.7min\n",
      "[CV 7/10] END max_depth=12, max_features=0.8, n_estimators=500;, score=0.703 total time= 2.7min\n",
      "[CV 9/10] END max_depth=12, max_features=0.8, n_estimators=500;, score=0.698 total time= 3.2min\n",
      "[CV 6/10] END max_depth=12, max_features=0.8, n_estimators=500;, score=0.712 total time= 3.7min\n",
      "[CV 10/10] END max_depth=12, max_features=0.8, n_estimators=500;, score=0.683 total time= 3.2min\n",
      "[CV 8/10] END max_depth=12, max_features=0.8, n_estimators=500;, score=0.710 total time= 3.7min\n",
      "[CV 1/10] END max_depth=12, max_features=0.8, n_estimators=1000;, score=0.702 total time= 5.2min\n",
      "[CV 1/10] END max_depth=13, max_features=0.1, n_estimators=500;, score=0.685 total time=  20.6s\n",
      "[CV 2/10] END max_depth=13, max_features=0.1, n_estimators=500;, score=0.703 total time=  20.8s\n",
      "[CV 5/10] END max_depth=12, max_features=0.8, n_estimators=1000;, score=0.689 total time= 5.1min\n",
      "[CV 6/10] END max_depth=12, max_features=0.8, n_estimators=1000;, score=0.712 total time= 5.1min\n",
      "[CV 3/10] END max_depth=13, max_features=0.1, n_estimators=500;, score=0.683 total time=  20.8s\n",
      "[CV 4/10] END max_depth=12, max_features=0.8, n_estimators=1000;, score=0.711 total time= 5.5min\n",
      "[CV 4/10] END max_depth=13, max_features=0.1, n_estimators=500;, score=0.691 total time=  20.8s\n",
      "[CV 2/10] END max_depth=12, max_features=0.8, n_estimators=1000;, score=0.719 total time= 6.4min\n",
      "[CV 5/10] END max_depth=13, max_features=0.1, n_estimators=500;, score=0.680 total time=  21.0s\n",
      "[CV 6/10] END max_depth=13, max_features=0.1, n_estimators=500;, score=0.698 total time=  21.0s\n",
      "[CV 7/10] END max_depth=13, max_features=0.1, n_estimators=500;, score=0.688 total time=  20.9s\n",
      "[CV 8/10] END max_depth=13, max_features=0.1, n_estimators=500;, score=0.691 total time=  21.0s\n",
      "[CV 10/10] END max_depth=13, max_features=0.1, n_estimators=500;, score=0.672 total time=  20.9s\n",
      "[CV 9/10] END max_depth=13, max_features=0.1, n_estimators=500;, score=0.686 total time=  30.0s\n",
      "[CV 7/10] END max_depth=12, max_features=0.8, n_estimators=1000;, score=0.704 total time= 5.1min\n",
      "[CV 9/10] END max_depth=12, max_features=0.8, n_estimators=1000;, score=0.698 total time= 5.2min\n",
      "[CV 1/10] END max_depth=13, max_features=0.1, n_estimators=1000;, score=0.685 total time=  41.8s\n",
      "[CV 2/10] END max_depth=13, max_features=0.1, n_estimators=1000;, score=0.703 total time=  42.1s\n",
      "[CV 3/10] END max_depth=13, max_features=0.1, n_estimators=1000;, score=0.683 total time=  41.9s\n",
      "[CV 4/10] END max_depth=13, max_features=0.1, n_estimators=1000;, score=0.691 total time=  42.1s\n",
      "[CV 6/10] END max_depth=13, max_features=0.1, n_estimators=1000;, score=0.698 total time=  42.1s\n",
      "[CV 3/10] END max_depth=12, max_features=0.8, n_estimators=1000;, score=0.698 total time= 7.1min\n",
      "[CV 5/10] END max_depth=13, max_features=0.1, n_estimators=1000;, score=0.680 total time= 1.0min\n",
      "[CV 7/10] END max_depth=13, max_features=0.1, n_estimators=1000;, score=0.689 total time=  42.5s\n",
      "[CV 8/10] END max_depth=13, max_features=0.1, n_estimators=1000;, score=0.692 total time=  42.2s\n",
      "[CV 9/10] END max_depth=13, max_features=0.1, n_estimators=1000;, score=0.687 total time=  42.2s\n",
      "[CV 10/10] END max_depth=13, max_features=0.1, n_estimators=1000;, score=0.672 total time=  42.0s\n",
      "[CV 1/10] END max_depth=13, max_features=0.3, n_estimators=500;, score=0.708 total time= 1.3min\n",
      "[CV 2/10] END max_depth=13, max_features=0.3, n_estimators=500;, score=0.725 total time= 1.2min\n",
      "[CV 4/10] END max_depth=13, max_features=0.3, n_estimators=500;, score=0.713 total time= 1.1min\n",
      "[CV 5/10] END max_depth=13, max_features=0.3, n_estimators=500;, score=0.696 total time= 1.0min\n",
      "[CV 3/10] END max_depth=13, max_features=0.3, n_estimators=500;, score=0.702 total time= 1.2min\n",
      "[CV 6/10] END max_depth=13, max_features=0.3, n_estimators=500;, score=0.718 total time= 1.0min\n",
      "[CV 7/10] END max_depth=13, max_features=0.3, n_estimators=500;, score=0.709 total time= 1.0min\n",
      "[CV 8/10] END max_depth=12, max_features=0.8, n_estimators=1000;, score=0.710 total time= 7.1min\n",
      "[CV 8/10] END max_depth=13, max_features=0.3, n_estimators=500;, score=0.713 total time= 1.0min\n",
      "[CV 10/10] END max_depth=12, max_features=0.8, n_estimators=1000;, score=0.684 total time= 7.2min\n",
      "[CV 9/10] END max_depth=13, max_features=0.3, n_estimators=500;, score=0.705 total time= 1.4min\n",
      "[CV 10/10] END max_depth=13, max_features=0.3, n_estimators=500;, score=0.686 total time= 1.4min\n",
      "[CV 2/10] END max_depth=13, max_features=0.3, n_estimators=1000;, score=0.725 total time= 2.1min\n",
      "[CV 1/10] END max_depth=13, max_features=0.3, n_estimators=1000;, score=0.707 total time= 2.1min\n",
      "[CV 3/10] END max_depth=13, max_features=0.3, n_estimators=1000;, score=0.703 total time= 2.1min\n",
      "[CV 4/10] END max_depth=13, max_features=0.3, n_estimators=1000;, score=0.713 total time= 2.1min\n",
      "[CV 5/10] END max_depth=13, max_features=0.3, n_estimators=1000;, score=0.696 total time= 2.1min\n",
      "[CV 7/10] END max_depth=13, max_features=0.3, n_estimators=1000;, score=0.709 total time= 2.1min\n",
      "[CV 6/10] END max_depth=13, max_features=0.3, n_estimators=1000;, score=0.718 total time= 2.9min\n",
      "[CV 8/10] END max_depth=13, max_features=0.3, n_estimators=1000;, score=0.713 total time= 2.9min\n",
      "[CV 10/10] END max_depth=13, max_features=0.3, n_estimators=1000;, score=0.686 total time= 2.8min\n",
      "[CV 9/10] END max_depth=13, max_features=0.3, n_estimators=1000;, score=0.705 total time= 3.0min\n",
      "[CV 4/10] END max_depth=13, max_features=0.8, n_estimators=500;, score=0.718 total time= 3.2min\n",
      "[CV 1/10] END max_depth=13, max_features=0.8, n_estimators=500;, score=0.709 total time= 3.3min\n",
      "[CV 6/10] END max_depth=13, max_features=0.8, n_estimators=500;, score=0.718 total time= 3.3min\n",
      "[CV 5/10] END max_depth=13, max_features=0.8, n_estimators=500;, score=0.696 total time= 3.3min\n",
      "[CV 3/10] END max_depth=13, max_features=0.8, n_estimators=500;, score=0.703 total time= 3.4min\n",
      "[CV 2/10] END max_depth=13, max_features=0.8, n_estimators=500;, score=0.726 total time= 3.6min\n",
      "[CV 7/10] END max_depth=13, max_features=0.8, n_estimators=500;, score=0.711 total time= 4.1min\n",
      "[CV 8/10] END max_depth=13, max_features=0.8, n_estimators=500;, score=0.717 total time= 4.1min\n",
      "[CV 10/10] END max_depth=13, max_features=0.8, n_estimators=500;, score=0.689 total time= 3.2min\n",
      "[CV 9/10] END max_depth=13, max_features=0.8, n_estimators=500;, score=0.706 total time= 3.8min\n",
      "[CV 6/10] END max_depth=13, max_features=0.8, n_estimators=1000;, score=0.718 total time= 6.2min\n",
      "[CV 2/10] END max_depth=13, max_features=0.8, n_estimators=1000;, score=0.726 total time= 6.5min\n",
      "[CV 1/10] END max_depth=13, max_features=0.8, n_estimators=1000;, score=0.709 total time= 6.6min\n",
      "[CV 4/10] END max_depth=13, max_features=0.8, n_estimators=1000;, score=0.718 total time= 6.6min\n",
      "[CV 5/10] END max_depth=13, max_features=0.8, n_estimators=1000;, score=0.696 total time= 7.2min\n",
      "[CV 3/10] END max_depth=13, max_features=0.8, n_estimators=1000;, score=0.703 total time= 7.3min\n",
      "[CV 9/10] END max_depth=13, max_features=0.8, n_estimators=1000;, score=0.705 total time= 5.8min\n",
      "[CV 8/10] END max_depth=13, max_features=0.8, n_estimators=1000;, score=0.717 total time= 6.2min\n",
      "[CV 7/10] END max_depth=13, max_features=0.8, n_estimators=1000;, score=0.711 total time= 6.7min\n",
      "[CV 10/10] END max_depth=13, max_features=0.8, n_estimators=1000;, score=0.690 total time= 6.3min\n"
     ]
    }
   ],
   "source": [
    "pipe_rf = RandomForestRegressor(random_state=42)\n",
    "\n",
    "param_grid = {'n_estimators': [500,1000],\n",
    "              'max_features': [0.1,0.3,0.8],\n",
    "               'max_depth': [11,12,13],\n",
    "              }\n",
    "\n",
    "\n",
    "local_model_path = (\n",
    "    \"../../student_outcome_saved_models/model_minimal_features_rf_gridsearch1.pkl\"\n",
    ")\n",
    "\n",
    "clf = {}\n",
    "if os.path.exists(local_model_path):\n",
    "    clf = joblib.load(local_model_path)\n",
    "else:\n",
    "    clf = GridSearchCV(\n",
    "        pipe_rf,\n",
    "        param_grid,\n",
    "        n_jobs=10,\n",
    "        verbose=3,\n",
    "        cv=10,\n",
    "        scoring=\"r2\",\n",
    "    )\n",
    "    clf.fit(Xtrain, ytrain)\n",
    "    joblib.dump(clf, local_model_path)\n",
    "    append_to_model_params_log(\"Minimal Features - RandomForestRegressor\", clf.best_params_)\n"
   ]
  },
  {
   "cell_type": "code",
   "execution_count": 73,
   "metadata": {},
   "outputs": [
    {
     "name": "stdout",
     "output_type": "stream",
     "text": [
      "Best parameters are: {'max_depth': 13, 'max_features': 0.8, 'n_estimators': 1000}\n",
      "0.67 + or -0.01 for the {'max_depth': 11, 'max_features': 0.1, 'n_estimators': 500}\n",
      "0.67 + or -0.01 for the {'max_depth': 11, 'max_features': 0.1, 'n_estimators': 1000}\n",
      "0.69 + or -0.01 for the {'max_depth': 11, 'max_features': 0.3, 'n_estimators': 500}\n",
      "0.69 + or -0.01 for the {'max_depth': 11, 'max_features': 0.3, 'n_estimators': 1000}\n",
      "0.69 + or -0.01 for the {'max_depth': 11, 'max_features': 0.8, 'n_estimators': 500}\n",
      "0.69 + or -0.01 for the {'max_depth': 11, 'max_features': 0.8, 'n_estimators': 1000}\n",
      "0.68 + or -0.01 for the {'max_depth': 12, 'max_features': 0.1, 'n_estimators': 500}\n",
      "0.68 + or -0.01 for the {'max_depth': 12, 'max_features': 0.1, 'n_estimators': 1000}\n",
      "0.7 + or -0.01 for the {'max_depth': 12, 'max_features': 0.3, 'n_estimators': 500}\n",
      "0.7 + or -0.01 for the {'max_depth': 12, 'max_features': 0.3, 'n_estimators': 1000}\n",
      "0.7 + or -0.01 for the {'max_depth': 12, 'max_features': 0.8, 'n_estimators': 500}\n",
      "0.7 + or -0.01 for the {'max_depth': 12, 'max_features': 0.8, 'n_estimators': 1000}\n",
      "0.69 + or -0.01 for the {'max_depth': 13, 'max_features': 0.1, 'n_estimators': 500}\n",
      "0.69 + or -0.01 for the {'max_depth': 13, 'max_features': 0.1, 'n_estimators': 1000}\n",
      "0.71 + or -0.01 for the {'max_depth': 13, 'max_features': 0.3, 'n_estimators': 500}\n",
      "0.71 + or -0.01 for the {'max_depth': 13, 'max_features': 0.3, 'n_estimators': 1000}\n",
      "0.71 + or -0.01 for the {'max_depth': 13, 'max_features': 0.8, 'n_estimators': 500}\n",
      "0.71 + or -0.01 for the {'max_depth': 13, 'max_features': 0.8, 'n_estimators': 1000}\n"
     ]
    }
   ],
   "source": [
    "display_grid_results(clf)"
   ]
  },
  {
   "cell_type": "code",
   "execution_count": 74,
   "metadata": {},
   "outputs": [
    {
     "name": "stderr",
     "output_type": "stream",
     "text": [
      "/home/bb/miniconda3/envs/my-env/lib/python3.10/site-packages/sklearn/base.py:450: UserWarning: X does not have valid feature names, but RandomForestRegressor was fitted with feature names\n",
      "  warnings.warn(\n"
     ]
    },
    {
     "data": {
      "image/png": "[encoded data removed]",
      "text/plain": [
       "<Figure size 648x432 with 2 Axes>"
      ]
     },
     "metadata": {
      "needs_background": "light"
     },
     "output_type": "display_data"
    },
    {
     "name": "stdout",
     "output_type": "stream",
     "text": [
      "RMSE 10.497287626457625\n"
     ]
    },
    {
     "data": {
      "text/html": [
       "<style>#sk-container-id-12 {color: black;background-color: white;}#sk-container-id-12 pre{padding: 0;}#sk-container-id-12 div.sk-toggleable {background-color: white;}#sk-container-id-12 label.sk-toggleable__label {cursor: pointer;display: block;width: 100%;margin-bottom: 0;padding: 0.3em;box-sizing: border-box;text-align: center;}#sk-container-id-12 label.sk-toggleable__label-arrow:before {content: \"▸\";float: left;margin-right: 0.25em;color: #696969;}#sk-container-id-12 label.sk-toggleable__label-arrow:hover:before {color: black;}#sk-container-id-12 div.sk-estimator:hover label.sk-toggleable__label-arrow:before {color: black;}#sk-container-id-12 div.sk-toggleable__content {max-height: 0;max-width: 0;overflow: hidden;text-align: left;background-color: #f0f8ff;}#sk-container-id-12 div.sk-toggleable__content pre {margin: 0.2em;color: black;border-radius: 0.25em;background-color: #f0f8ff;}#sk-container-id-12 input.sk-toggleable__control:checked~div.sk-toggleable__content {max-height: 200px;max-width: 100%;overflow: auto;}#sk-container-id-12 input.sk-toggleable__control:checked~label.sk-toggleable__label-arrow:before {content: \"▾\";}#sk-container-id-12 div.sk-estimator input.sk-toggleable__control:checked~label.sk-toggleable__label {background-color: #d4ebff;}#sk-container-id-12 div.sk-label input.sk-toggleable__control:checked~label.sk-toggleable__label {background-color: #d4ebff;}#sk-container-id-12 input.sk-hidden--visually {border: 0;clip: rect(1px 1px 1px 1px);clip: rect(1px, 1px, 1px, 1px);height: 1px;margin: -1px;overflow: hidden;padding: 0;position: absolute;width: 1px;}#sk-container-id-12 div.sk-estimator {font-family: monospace;background-color: #f0f8ff;border: 1px dotted black;border-radius: 0.25em;box-sizing: border-box;margin-bottom: 0.5em;}#sk-container-id-12 div.sk-estimator:hover {background-color: #d4ebff;}#sk-container-id-12 div.sk-parallel-item::after {content: \"\";width: 100%;border-bottom: 1px solid gray;flex-grow: 1;}#sk-container-id-12 div.sk-label:hover label.sk-toggleable__label {background-color: #d4ebff;}#sk-container-id-12 div.sk-serial::before {content: \"\";position: absolute;border-left: 1px solid gray;box-sizing: border-box;top: 0;bottom: 0;left: 50%;z-index: 0;}#sk-container-id-12 div.sk-serial {display: flex;flex-direction: column;align-items: center;background-color: white;padding-right: 0.2em;padding-left: 0.2em;position: relative;}#sk-container-id-12 div.sk-item {position: relative;z-index: 1;}#sk-container-id-12 div.sk-parallel {display: flex;align-items: stretch;justify-content: center;background-color: white;position: relative;}#sk-container-id-12 div.sk-item::before, #sk-container-id-12 div.sk-parallel-item::before {content: \"\";position: absolute;border-left: 1px solid gray;box-sizing: border-box;top: 0;bottom: 0;left: 50%;z-index: -1;}#sk-container-id-12 div.sk-parallel-item {display: flex;flex-direction: column;z-index: 1;position: relative;background-color: white;}#sk-container-id-12 div.sk-parallel-item:first-child::after {align-self: flex-end;width: 50%;}#sk-container-id-12 div.sk-parallel-item:last-child::after {align-self: flex-start;width: 50%;}#sk-container-id-12 div.sk-parallel-item:only-child::after {width: 0;}#sk-container-id-12 div.sk-dashed-wrapped {border: 1px dashed gray;margin: 0 0.4em 0.5em 0.4em;box-sizing: border-box;padding-bottom: 0.4em;background-color: white;}#sk-container-id-12 div.sk-label label {font-family: monospace;font-weight: bold;display: inline-block;line-height: 1.2em;}#sk-container-id-12 div.sk-label-container {text-align: center;}#sk-container-id-12 div.sk-container {/* jupyter's `normalize.less` sets `[hidden] { display: none; }` but bootstrap.min.css set `[hidden] { display: none !important; }` so we also need the `!important` here to be able to override the default hidden behavior on the sphinx rendered scikit-learn.org. See: https://github.com/scikit-learn/scikit-learn/issues/21755 */display: inline-block !important;position: relative;}#sk-container-id-12 div.sk-text-repr-fallback {display: none;}</style><div id=\"sk-container-id-12\" class=\"sk-top-container\"><div class=\"sk-text-repr-fallback\"><pre>Pipeline(steps=[(&#x27;rf&#x27;,\n",
       "                 RandomForestRegressor(max_depth=13, max_features=0.8,\n",
       "                                       n_estimators=800))])</pre><b>In a Jupyter environment, please rerun this cell to show the HTML representation or trust the notebook. <br />On GitHub, the HTML representation is unable to render, please try loading this page with nbviewer.org.</b></div><div class=\"sk-container\" hidden><div class=\"sk-item sk-dashed-wrapped\"><div class=\"sk-label-container\"><div class=\"sk-label sk-toggleable\"><input class=\"sk-toggleable__control sk-hidden--visually\" id=\"sk-estimator-id-48\" type=\"checkbox\" ><label for=\"sk-estimator-id-48\" class=\"sk-toggleable__label sk-toggleable__label-arrow\">Pipeline</label><div class=\"sk-toggleable__content\"><pre>Pipeline(steps=[(&#x27;rf&#x27;,\n",
       "                 RandomForestRegressor(max_depth=13, max_features=0.8,\n",
       "                                       n_estimators=800))])</pre></div></div></div><div class=\"sk-serial\"><div class=\"sk-item\"><div class=\"sk-estimator sk-toggleable\"><input class=\"sk-toggleable__control sk-hidden--visually\" id=\"sk-estimator-id-49\" type=\"checkbox\" ><label for=\"sk-estimator-id-49\" class=\"sk-toggleable__label sk-toggleable__label-arrow\">RandomForestRegressor</label><div class=\"sk-toggleable__content\"><pre>RandomForestRegressor(max_depth=13, max_features=0.8, n_estimators=800)</pre></div></div></div></div></div></div></div>"
      ],
      "text/plain": [
       "Pipeline(steps=[('rf',\n",
       "                 RandomForestRegressor(max_depth=13, max_features=0.8,\n",
       "                                       n_estimators=800))])"
      ]
     },
     "execution_count": 74,
     "metadata": {},
     "output_type": "execute_result"
    }
   ],
   "source": [
    "pipe_rf = Pipeline(steps=[(\"rf\", RandomForestRegressor(max_depth=13, max_features=0.8, n_estimators=800))])\n",
    "make_residual_plot_and_print_rmse(Xtrain, ytrain, Xtest, ytest, pipe_rf)"
   ]
  },
  {
   "cell_type": "code",
   "execution_count": null,
   "metadata": {},
   "outputs": [],
   "source": []
  }
 ],
 "metadata": {
  "kernelspec": {
   "display_name": "Python 3.10.5 64-bit ('my-env')",
   "language": "python",
   "name": "python3"
  },
  "language_info": {
   "codemirror_mode": {
    "name": "ipython",
    "version": 3
   },
   "file_extension": ".py",
   "mimetype": "text/x-python",
   "name": "python",
   "nbconvert_exporter": "python",
   "pygments_lexer": "ipython3",
   "version": "3.10.5"
  },
  "orig_nbformat": 4,
  "vscode": {
   "interpreter": {
    "hash": "99d54f2eaddc1d9e974041688193e185cda7240b6008a35a2aa07d456f1ae6ca"
   }
  }
 },
 "nbformat": 4,
 "nbformat_minor": 2
}
