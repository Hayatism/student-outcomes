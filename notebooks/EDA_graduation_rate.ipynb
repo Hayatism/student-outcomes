{
 "cells": [
  {
   "cell_type": "markdown",
   "metadata": {},
   "source": [
    "## What are the features in this data?\n",
    "* Each instance is a school.\n",
    "\n",
    "## Graduation rate is given by two features--Cohort and Rate--for each subpopulation below.\n",
    "* Cohort - Number of students in that subpopulation\n",
    "* Rate - Percentage (or range of percentage) of students in the cohort graduating with a high school diploma within 4 years\n",
    "\n",
    "## School identifiers\n",
    "* STNAM  - State name\n",
    "* FIPST  - 2 digit code for the state\n",
    "* LEANM  - School district name\n",
    "* LEAID  - 7 digit code for school district \n",
    "* SCHNAM - School name\n",
    "* NCESSH - 12 digit school id (only unique identifier for a school)\n",
    "\n",
    "\n",
    "## Subpopulations\n",
    "* ALL \t= All students in the school\n",
    "* MAM \t= American Indian/Alaska   Native students\n",
    "* MAS \t= Asian/Pacific Islander students\n",
    "* MHI \t= Hispanic students\n",
    "* MBL \t= Black students\n",
    "* MWH \t= White students\n",
    "* MTR \t= Two or More Races\n",
    "* CWD \t= Children with Disabilities (IDEA)\n",
    "* ECD \t= Economically Disadvantaged students\n",
    "* LEP \t= Limited English Proficient students\n"
   ]
  },
  {
   "cell_type": "code",
   "execution_count": 1,
   "metadata": {},
   "outputs": [],
   "source": [
    "import pandas as pd\n",
    "import numpy as np\n",
    "import seaborn as sns\n",
    "import matplotlib.pyplot as plt\n",
    "from swampy import structshape as ss\n",
    "import sys\n",
    "sys.path.append(\"..\")\n",
    "from ingest import gr"
   ]
  },
  {
   "cell_type": "code",
   "execution_count": 2,
   "metadata": {},
   "outputs": [],
   "source": [
    "dfs = [gr.make_raw_gr_frame(year=y) for y in range(2010, 2019)]\n",
    "years = [gr.year_string(y) for y in range(2010, 2019)]"
   ]
  },
  {
   "cell_type": "code",
   "execution_count": 3,
   "metadata": {},
   "outputs": [
    {
     "name": "stdout",
     "output_type": "stream",
     "text": [
      "Index(['STNAM', 'FIPST', 'LEAID', 'LEANM', 'NCESSCH', 'SCHNAM',\n",
      "       'ALL_COHORT_1011', 'ALL_RATE_1011', 'MAM_COHORT_1011', 'MAM_RATE_1011',\n",
      "       'MAS_COHORT_1011', 'MAS_RATE_1011', 'MBL_COHORT_1011', 'MBL_RATE_1011',\n",
      "       'MHI_COHORT_1011', 'MHI_RATE_1011', 'MTR_COHORT_1011', 'MTR_RATE_1011',\n",
      "       'MWH_COHORT_1011', 'MWH_RATE_1011', 'CWD_COHORT_1011', 'CWD_RATE_1011',\n",
      "       'ECD_COHORT_1011', 'ECD_RATE_1011', 'LEP_COHORT_1011', 'LEP_RATE_1011',\n",
      "       'DATE_CUR'],\n",
      "      dtype='object')\n"
     ]
    }
   ],
   "source": [
    "# Many of the column names have the school year in them, which presents a challenge for combining all the years \n",
    "# into one large dataframe.\n",
    "print(dfs[0].columns)"
   ]
  },
  {
   "cell_type": "markdown",
   "metadata": {},
   "source": [
    "### Reshaping the data from different years to so that they can be combined into one large dataset. "
   ]
  },
  {
   "cell_type": "code",
   "execution_count": 4,
   "metadata": {},
   "outputs": [
    {
     "data": {
      "text/html": [
       "<div>\n",
       "<style scoped>\n",
       "    .dataframe tbody tr th:only-of-type {\n",
       "        vertical-align: middle;\n",
       "    }\n",
       "\n",
       "    .dataframe tbody tr th {\n",
       "        vertical-align: top;\n",
       "    }\n",
       "\n",
       "    .dataframe thead th {\n",
       "        text-align: right;\n",
       "    }\n",
       "</style>\n",
       "<table border=\"1\" class=\"dataframe\">\n",
       "  <thead>\n",
       "    <tr style=\"text-align: right;\">\n",
       "      <th></th>\n",
       "      <th>school_year</th>\n",
       "      <th>shape</th>\n",
       "    </tr>\n",
       "  </thead>\n",
       "  <tbody>\n",
       "    <tr>\n",
       "      <th>0</th>\n",
       "      <td>1011</td>\n",
       "      <td>(21335, 27)</td>\n",
       "    </tr>\n",
       "    <tr>\n",
       "      <th>1</th>\n",
       "      <td>1112</td>\n",
       "      <td>(21244, 27)</td>\n",
       "    </tr>\n",
       "    <tr>\n",
       "      <th>2</th>\n",
       "      <td>1213</td>\n",
       "      <td>(22077, 27)</td>\n",
       "    </tr>\n",
       "    <tr>\n",
       "      <th>3</th>\n",
       "      <td>1314</td>\n",
       "      <td>(22385, 28)</td>\n",
       "    </tr>\n",
       "    <tr>\n",
       "      <th>4</th>\n",
       "      <td>1415</td>\n",
       "      <td>(22167, 27)</td>\n",
       "    </tr>\n",
       "    <tr>\n",
       "      <th>5</th>\n",
       "      <td>1516</td>\n",
       "      <td>(23090, 27)</td>\n",
       "    </tr>\n",
       "    <tr>\n",
       "      <th>6</th>\n",
       "      <td>1617</td>\n",
       "      <td>(23129, 29)</td>\n",
       "    </tr>\n",
       "    <tr>\n",
       "      <th>7</th>\n",
       "      <td>1718</td>\n",
       "      <td>(23240, 33)</td>\n",
       "    </tr>\n",
       "    <tr>\n",
       "      <th>8</th>\n",
       "      <td>1819</td>\n",
       "      <td>(22900, 33)</td>\n",
       "    </tr>\n",
       "  </tbody>\n",
       "</table>\n",
       "</div>"
      ],
      "text/plain": [
       "  school_year        shape\n",
       "0        1011  (21335, 27)\n",
       "1        1112  (21244, 27)\n",
       "2        1213  (22077, 27)\n",
       "3        1314  (22385, 28)\n",
       "4        1415  (22167, 27)\n",
       "5        1516  (23090, 27)\n",
       "6        1617  (23129, 29)\n",
       "7        1718  (23240, 33)\n",
       "8        1819  (22900, 33)"
      ]
     },
     "execution_count": 4,
     "metadata": {},
     "output_type": "execute_result"
    }
   ],
   "source": [
    "shape_data = [(school_year, df.shape) for school_year, df in zip(years, dfs)]\n",
    "shape = pd.DataFrame(shape_data, columns=('school_year', 'shape'))\n",
    "shape\n"
   ]
  },
  {
   "cell_type": "code",
   "execution_count": 5,
   "metadata": {},
   "outputs": [
    {
     "name": "stdout",
     "output_type": "stream",
     "text": [
      "{'INSERT_DATE'}\n",
      "{'ST_LEAID', 'ST_SCHID'}\n",
      "{'ST_LEAID', 'HOM_COHORT_', 'ST_SCHID', 'FCS_COHORT_', 'HOM_RATE_', 'FCS_RATE_'}\n",
      "{'ST_LEAID', 'HOM_COHORT_', 'ST_SCHID', 'FCS_COHORT_', 'HOM_RATE_', 'FCS_RATE_'}\n"
     ]
    }
   ],
   "source": [
    "# Inspect features that are present in some but not common to all.\n",
    "# Start by removing the years from the column names.\n",
    "# cols_wo_year => Column names without the year\n",
    "cols_wo_year = [list(map(lambda x: x.replace(y, \"\"), df.columns))\n",
    "               for y, df in zip(years, dfs)]\n",
    "print(set(cols_wo_year[3]) - set(cols_wo_year[0]))\n",
    "print(set(cols_wo_year[6]) - set(cols_wo_year[0]))\n",
    "print(set(cols_wo_year[7]) - set(cols_wo_year[0]))\n",
    "print(set(cols_wo_year[8]) - set(cols_wo_year[0]))"
   ]
  },
  {
   "cell_type": "code",
   "execution_count": 6,
   "metadata": {},
   "outputs": [],
   "source": [
    "# INSERT_DATE refers to when the data was inserted and is not relevant for our study.\n",
    "dfs[3].drop(['INSERT_DATE'], axis=1, inplace=True)\n",
    "# ST_SCHID and ST_LEAID are values assigned by the state which are not found in the other years. From the data, it looks like maybe these\n",
    "# started being assigned in 2016. If we need another geographical grouping mechanism in the future we can look into it.\n",
    "dfs[6].drop(['ST_LEAID', 'ST_SCHID'], axis=1, inplace=True)\n",
    "# HOM_COHORT and FCS_COHORT refer to the subpopulation of homeless and foster care students, which was not tracked before school year 2017-2018\n",
    "idx7_sr = shape.school_year[7]\n",
    "idx8_sr = shape.school_year[8]\n",
    "dfs[7].drop(['ST_LEAID', 'ST_SCHID', 'FCS_RATE_'+idx7_sr, 'FCS_COHORT_'+idx7_sr,\n",
    "            'HOM_RATE_'+idx7_sr, 'HOM_COHORT_'+idx7_sr], axis=1, inplace=True)\n",
    "dfs[8].drop(['ST_LEAID', 'ST_SCHID', 'FCS_RATE_'+idx8_sr, 'FCS_COHORT_'+idx8_sr,\n",
    "            'HOM_RATE_'+idx8_sr, 'HOM_COHORT_'+idx8_sr], axis=1, inplace=True)\n"
   ]
  },
  {
   "cell_type": "code",
   "execution_count": 7,
   "metadata": {},
   "outputs": [],
   "source": [
    "# Verify that all dataframes have the same columns (minus the school year) before we combine. \n",
    "cols_wo_school_year = [list(map(lambda x: x.replace(y, \"\"), df.columns))\n",
    "               for y, df in zip(years, dfs)]\n",
    "for num1,num2 in zip(range(0,8),range(1,9)):\n",
    "    assert cols_wo_school_year[num1] == cols_wo_school_year[num2] "
   ]
  },
  {
   "cell_type": "code",
   "execution_count": 8,
   "metadata": {},
   "outputs": [
    {
     "name": "stdout",
     "output_type": "stream",
     "text": [
      "big_df_columns Index([], dtype='object')\n"
     ]
    }
   ],
   "source": [
    "big_df = pd.DataFrame()\n",
    "print(\"big_df_columns\",big_df.columns)\n",
    "for idx, df in enumerate(dfs):\n",
    "    df.columns=cols_wo_school_year[0]\n",
    "    df['Year'] = years[idx] \n",
    "    # reorder columns to be how we want\n",
    "    df = df[['Year']+cols_wo_school_year[0]]\n",
    "    big_df = pd.concat([big_df,df],axis=0)\n"
   ]
  },
  {
   "cell_type": "code",
   "execution_count": 9,
   "metadata": {},
   "outputs": [
    {
     "data": {
      "text/plain": [
       "((201567, 28),\n",
       "    Year    STNAM  FIPST   LEAID             LEANM      NCESSCH  \\\n",
       " 0  1011  ALABAMA      1  100005  Albertville City  10000500871   \n",
       " 1  1011  ALABAMA      1  100006   Marshall County  10000600872   \n",
       " 2  1011  ALABAMA      1  100006   Marshall County  10000600878   \n",
       " \n",
       "                  SCHNAM ALL_COHORT_ ALL_RATE_ MAM_COHORT_  ... MTR_RATE_  \\\n",
       " 0  Albertville High Sch         252        80           .  ...         .   \n",
       " 1            Asbury Sch          57     70-79           .  ...         .   \n",
       " 2      Douglas High Sch         125     65-69           2  ...         .   \n",
       " \n",
       "   MWH_COHORT_ MWH_RATE_ CWD_COHORT_ CWD_RATE_ ECD_COHORT_ ECD_RATE_  \\\n",
       " 0         184     80-84           3        PS         121     65-69   \n",
       " 1          48     70-79           7      GE50          31     60-69   \n",
       " 2         105     70-74          13      GE50          92     60-64   \n",
       " \n",
       "   LEP_COHORT_ LEP_RATE_ DATE_CUR  \n",
       " 0          10      LT50  03OCT15  \n",
       " 1           3        PS  03OCT15  \n",
       " 2           7      LT50  03OCT15  \n",
       " \n",
       " [3 rows x 28 columns])"
      ]
     },
     "execution_count": 9,
     "metadata": {},
     "output_type": "execute_result"
    }
   ],
   "source": [
    "big_df.shape, big_df.head(n=3)"
   ]
  },
  {
   "cell_type": "code",
   "execution_count": 10,
   "metadata": {},
   "outputs": [
    {
     "data": {
      "text/html": [
       "<div>\n",
       "<style scoped>\n",
       "    .dataframe tbody tr th:only-of-type {\n",
       "        vertical-align: middle;\n",
       "    }\n",
       "\n",
       "    .dataframe tbody tr th {\n",
       "        vertical-align: top;\n",
       "    }\n",
       "\n",
       "    .dataframe thead th {\n",
       "        text-align: right;\n",
       "    }\n",
       "</style>\n",
       "<table border=\"1\" class=\"dataframe\">\n",
       "  <thead>\n",
       "    <tr style=\"text-align: right;\">\n",
       "      <th></th>\n",
       "      <th>% Null</th>\n",
       "      <th>% Unique</th>\n",
       "    </tr>\n",
       "  </thead>\n",
       "  <tbody>\n",
       "    <tr>\n",
       "      <th>Year</th>\n",
       "      <td>0.000000</td>\n",
       "      <td>0.004465</td>\n",
       "    </tr>\n",
       "    <tr>\n",
       "      <th>STNAM</th>\n",
       "      <td>0.000000</td>\n",
       "      <td>0.026790</td>\n",
       "    </tr>\n",
       "    <tr>\n",
       "      <th>FIPST</th>\n",
       "      <td>0.000000</td>\n",
       "      <td>0.026294</td>\n",
       "    </tr>\n",
       "    <tr>\n",
       "      <th>LEAID</th>\n",
       "      <td>0.000000</td>\n",
       "      <td>6.747136</td>\n",
       "    </tr>\n",
       "    <tr>\n",
       "      <th>LEANM</th>\n",
       "      <td>0.000000</td>\n",
       "      <td>7.671395</td>\n",
       "    </tr>\n",
       "    <tr>\n",
       "      <th>NCESSCH</th>\n",
       "      <td>0.000000</td>\n",
       "      <td>14.401167</td>\n",
       "    </tr>\n",
       "    <tr>\n",
       "      <th>SCHNAM</th>\n",
       "      <td>0.000000</td>\n",
       "      <td>15.943582</td>\n",
       "    </tr>\n",
       "    <tr>\n",
       "      <th>ALL_COHORT_</th>\n",
       "      <td>0.000000</td>\n",
       "      <td>1.121215</td>\n",
       "    </tr>\n",
       "    <tr>\n",
       "      <th>ALL_RATE_</th>\n",
       "      <td>0.000000</td>\n",
       "      <td>0.067967</td>\n",
       "    </tr>\n",
       "    <tr>\n",
       "      <th>MAM_COHORT_</th>\n",
       "      <td>24.116547</td>\n",
       "      <td>0.157764</td>\n",
       "    </tr>\n",
       "    <tr>\n",
       "      <th>MAM_RATE_</th>\n",
       "      <td>24.116547</td>\n",
       "      <td>0.023317</td>\n",
       "    </tr>\n",
       "    <tr>\n",
       "      <th>MAS_COHORT_</th>\n",
       "      <td>18.837409</td>\n",
       "      <td>0.405820</td>\n",
       "    </tr>\n",
       "    <tr>\n",
       "      <th>MAS_RATE_</th>\n",
       "      <td>18.837409</td>\n",
       "      <td>0.041177</td>\n",
       "    </tr>\n",
       "    <tr>\n",
       "      <th>MBL_COHORT_</th>\n",
       "      <td>10.026443</td>\n",
       "      <td>0.462377</td>\n",
       "    </tr>\n",
       "    <tr>\n",
       "      <th>MBL_RATE_</th>\n",
       "      <td>10.026443</td>\n",
       "      <td>0.066479</td>\n",
       "    </tr>\n",
       "    <tr>\n",
       "      <th>MHI_COHORT_</th>\n",
       "      <td>6.962449</td>\n",
       "      <td>0.711426</td>\n",
       "    </tr>\n",
       "    <tr>\n",
       "      <th>MHI_RATE_</th>\n",
       "      <td>6.962449</td>\n",
       "      <td>0.067967</td>\n",
       "    </tr>\n",
       "    <tr>\n",
       "      <th>MTR_COHORT_</th>\n",
       "      <td>14.414562</td>\n",
       "      <td>0.119563</td>\n",
       "    </tr>\n",
       "    <tr>\n",
       "      <th>MTR_RATE_</th>\n",
       "      <td>14.414562</td>\n",
       "      <td>0.024310</td>\n",
       "    </tr>\n",
       "    <tr>\n",
       "      <th>MWH_COHORT_</th>\n",
       "      <td>2.547044</td>\n",
       "      <td>0.692574</td>\n",
       "    </tr>\n",
       "    <tr>\n",
       "      <th>MWH_RATE_</th>\n",
       "      <td>2.547044</td>\n",
       "      <td>0.066975</td>\n",
       "    </tr>\n",
       "    <tr>\n",
       "      <th>CWD_COHORT_</th>\n",
       "      <td>2.847688</td>\n",
       "      <td>0.201918</td>\n",
       "    </tr>\n",
       "    <tr>\n",
       "      <th>CWD_RATE_</th>\n",
       "      <td>2.847688</td>\n",
       "      <td>0.059037</td>\n",
       "    </tr>\n",
       "    <tr>\n",
       "      <th>ECD_COHORT_</th>\n",
       "      <td>1.050767</td>\n",
       "      <td>0.767983</td>\n",
       "    </tr>\n",
       "    <tr>\n",
       "      <th>ECD_RATE_</th>\n",
       "      <td>1.050767</td>\n",
       "      <td>0.068464</td>\n",
       "    </tr>\n",
       "    <tr>\n",
       "      <th>LEP_COHORT_</th>\n",
       "      <td>15.912327</td>\n",
       "      <td>0.313543</td>\n",
       "    </tr>\n",
       "    <tr>\n",
       "      <th>LEP_RATE_</th>\n",
       "      <td>15.912327</td>\n",
       "      <td>0.061022</td>\n",
       "    </tr>\n",
       "    <tr>\n",
       "      <th>DATE_CUR</th>\n",
       "      <td>0.000000</td>\n",
       "      <td>0.003969</td>\n",
       "    </tr>\n",
       "  </tbody>\n",
       "</table>\n",
       "</div>"
      ],
      "text/plain": [
       "                % Null   % Unique\n",
       "Year          0.000000   0.004465\n",
       "STNAM         0.000000   0.026790\n",
       "FIPST         0.000000   0.026294\n",
       "LEAID         0.000000   6.747136\n",
       "LEANM         0.000000   7.671395\n",
       "NCESSCH       0.000000  14.401167\n",
       "SCHNAM        0.000000  15.943582\n",
       "ALL_COHORT_   0.000000   1.121215\n",
       "ALL_RATE_     0.000000   0.067967\n",
       "MAM_COHORT_  24.116547   0.157764\n",
       "MAM_RATE_    24.116547   0.023317\n",
       "MAS_COHORT_  18.837409   0.405820\n",
       "MAS_RATE_    18.837409   0.041177\n",
       "MBL_COHORT_  10.026443   0.462377\n",
       "MBL_RATE_    10.026443   0.066479\n",
       "MHI_COHORT_   6.962449   0.711426\n",
       "MHI_RATE_     6.962449   0.067967\n",
       "MTR_COHORT_  14.414562   0.119563\n",
       "MTR_RATE_    14.414562   0.024310\n",
       "MWH_COHORT_   2.547044   0.692574\n",
       "MWH_RATE_     2.547044   0.066975\n",
       "CWD_COHORT_   2.847688   0.201918\n",
       "CWD_RATE_     2.847688   0.059037\n",
       "ECD_COHORT_   1.050767   0.767983\n",
       "ECD_RATE_     1.050767   0.068464\n",
       "LEP_COHORT_  15.912327   0.313543\n",
       "LEP_RATE_    15.912327   0.061022\n",
       "DATE_CUR      0.000000   0.003969"
      ]
     },
     "execution_count": 10,
     "metadata": {},
     "output_type": "execute_result"
    }
   ],
   "source": [
    "df_info = pd.DataFrame(columns=['% Null', '% Unique'])\n",
    "df_info['% Null'] = big_df.isnull().sum() / len(big_df) * 100\n",
    "df_info['% Unique'] = big_df.nunique() / len(big_df) * 100\n",
    "df_info"
   ]
  },
  {
   "cell_type": "code",
   "execution_count": 11,
   "metadata": {},
   "outputs": [
    {
     "data": {
      "text/plain": [
       "Text(0, 0.5, '% Null')"
      ]
     },
     "execution_count": 11,
     "metadata": {},
     "output_type": "execute_result"
    },
    {
     "data": {
      "image/png": "[encoded data removed]",
      "text/plain": [
       "<Figure size 640x480 with 1 Axes>"
      ]
     },
     "metadata": {},
     "output_type": "display_data"
    }
   ],
   "source": [
    "plt.plot(range(big_df.columns.size),(big_df.isnull().sum() / len(big_df) * 100).values)\n",
    "plt.xticks(ticks=list(range(big_df.columns.size)),labels=big_df.columns.tolist(),rotation=90)\n",
    "plt.ylabel('% Null')\n",
    "# MAMs, MAS, LEP, and MTR are the subpopulations with the largest number of missing values."
   ]
  },
  {
   "cell_type": "markdown",
   "metadata": {},
   "source": [
    "### The missing data in the subpopulation columns presents a problem for performing machine learning on this data.\n",
    "* The Adjusted Cohort Graduation Rate codebook gives the following Q&A:\n",
    "#### Why doesn’t the summation of the major racial and ethnic groups equal the “ALL” student count?\n",
    "* Due to flexibilities with states’ implementation of the Elementary and Secondary Education Act,\n",
    "  there may be instances where not all possible groupings of racial/ethnic identification are reported\n",
    "  as individual subgroups. Therefore, some information may be missing and these counts by major racial\n",
    "  and ethnic group will not include every student; however any students not included within an individual\n",
    "  major racial and ethnic group would be included in the “ALL” student count.\n",
    "#### Why are the major racial and ethnic groups reported differently by states?\n",
    "* Under the ESEA, a State educational agency (SEA) has the flexibility to determine the major racial/ethnic\n",
    "  groups it will use for reporting on the data included in its assessment and accountability system.  The\n",
    "  subgroups that an SEA uses are approved through its Accountability Workbook (the most recent copy of each\n",
    "  state’s workbook can be found here:  http://www2.ed.gov/admins/lead/account/stateplans03/index.html).\n",
    "  As a result, there is some variation in how SEAs report data by race and ethnicity. \n",
    "### As a first step, we are going to look at prediction models which do not include minority groupings of the students."
   ]
  },
  {
   "cell_type": "code",
   "execution_count": 12,
   "metadata": {},
   "outputs": [],
   "source": [
    "# Drop population subgroup columns\n",
    "cols_to_keep = ['Year','STNAM','FIPST','LEAID','LEANM','NCESSCH','SCHNAM','ALL_COHORT_','ALL_RATE_']\n",
    "big_df = big_df[cols_to_keep]"
   ]
  },
  {
   "cell_type": "markdown",
   "metadata": {},
   "source": [
    "# Feature pre-processing\n",
    "* Year, ALL_COHORT_, and ALL_RATE_ are numeric columns which are strings (objects) in the raw data."
   ]
  },
  {
   "cell_type": "code",
   "execution_count": 13,
   "metadata": {},
   "outputs": [
    {
     "name": "stdout",
     "output_type": "stream",
     "text": [
      "Year           object\n",
      "STNAM          object\n",
      "FIPST           int64\n",
      "LEAID           int64\n",
      "LEANM          object\n",
      "NCESSCH         int64\n",
      "SCHNAM         object\n",
      "ALL_COHORT_    object\n",
      "ALL_RATE_      object\n",
      "dtype: object 6 object columns present\n"
     ]
    }
   ],
   "source": [
    "# Several columns are of object type, which means that either text or Nan values are present.\n",
    "def print_object_column_info(df):\n",
    "    \"\"\"\n",
    "    Print column data types and the number of object columns.\n",
    "    \"\"\"\n",
    "    print(big_df.dtypes, \"{} object columns present\". format(len(big_df.select_dtypes(include=object).count())))\n",
    "\n",
    "print_object_column_info(big_df)"
   ]
  },
  {
   "cell_type": "code",
   "execution_count": 14,
   "metadata": {},
   "outputs": [
    {
     "data": {
      "text/html": [
       "<div>\n",
       "<style scoped>\n",
       "    .dataframe tbody tr th:only-of-type {\n",
       "        vertical-align: middle;\n",
       "    }\n",
       "\n",
       "    .dataframe tbody tr th {\n",
       "        vertical-align: top;\n",
       "    }\n",
       "\n",
       "    .dataframe thead th {\n",
       "        text-align: right;\n",
       "    }\n",
       "</style>\n",
       "<table border=\"1\" class=\"dataframe\">\n",
       "  <thead>\n",
       "    <tr style=\"text-align: right;\">\n",
       "      <th></th>\n",
       "      <th>Year</th>\n",
       "      <th>STNAM</th>\n",
       "      <th>LEANM</th>\n",
       "      <th>SCHNAM</th>\n",
       "      <th>ALL_COHORT_</th>\n",
       "      <th>ALL_RATE_</th>\n",
       "    </tr>\n",
       "  </thead>\n",
       "  <tbody>\n",
       "    <tr>\n",
       "      <th>0</th>\n",
       "      <td>1011</td>\n",
       "      <td>ALABAMA</td>\n",
       "      <td>Albertville City</td>\n",
       "      <td>Albertville High Sch</td>\n",
       "      <td>252</td>\n",
       "      <td>80</td>\n",
       "    </tr>\n",
       "    <tr>\n",
       "      <th>1</th>\n",
       "      <td>1011</td>\n",
       "      <td>ALABAMA</td>\n",
       "      <td>Marshall County</td>\n",
       "      <td>Asbury Sch</td>\n",
       "      <td>57</td>\n",
       "      <td>70-79</td>\n",
       "    </tr>\n",
       "    <tr>\n",
       "      <th>2</th>\n",
       "      <td>1011</td>\n",
       "      <td>ALABAMA</td>\n",
       "      <td>Marshall County</td>\n",
       "      <td>Douglas High Sch</td>\n",
       "      <td>125</td>\n",
       "      <td>65-69</td>\n",
       "    </tr>\n",
       "    <tr>\n",
       "      <th>3</th>\n",
       "      <td>1011</td>\n",
       "      <td>ALABAMA</td>\n",
       "      <td>Marshall County</td>\n",
       "      <td>Kate D Smith DAR High Sch</td>\n",
       "      <td>121</td>\n",
       "      <td>80-84</td>\n",
       "    </tr>\n",
       "    <tr>\n",
       "      <th>4</th>\n",
       "      <td>1011</td>\n",
       "      <td>ALABAMA</td>\n",
       "      <td>Marshall County</td>\n",
       "      <td>Brindlee Mt High Sch</td>\n",
       "      <td>94</td>\n",
       "      <td>75-79</td>\n",
       "    </tr>\n",
       "    <tr>\n",
       "      <th>...</th>\n",
       "      <td>...</td>\n",
       "      <td>...</td>\n",
       "      <td>...</td>\n",
       "      <td>...</td>\n",
       "      <td>...</td>\n",
       "      <td>...</td>\n",
       "    </tr>\n",
       "    <tr>\n",
       "      <th>22895</th>\n",
       "      <td>1819</td>\n",
       "      <td>WYOMING</td>\n",
       "      <td>Washakie County School District #2</td>\n",
       "      <td>Ten Sleep K-12</td>\n",
       "      <td>8</td>\n",
       "      <td>GE50</td>\n",
       "    </tr>\n",
       "    <tr>\n",
       "      <th>22896</th>\n",
       "      <td>1819</td>\n",
       "      <td>WYOMING</td>\n",
       "      <td>Teton County School District #1</td>\n",
       "      <td>Jackson Hole High School</td>\n",
       "      <td>163</td>\n",
       "      <td>GE95</td>\n",
       "    </tr>\n",
       "    <tr>\n",
       "      <th>22897</th>\n",
       "      <td>1819</td>\n",
       "      <td>WYOMING</td>\n",
       "      <td>Teton County School District #1</td>\n",
       "      <td>Summit Innovations School</td>\n",
       "      <td>20</td>\n",
       "      <td>GE80</td>\n",
       "    </tr>\n",
       "    <tr>\n",
       "      <th>22898</th>\n",
       "      <td>1819</td>\n",
       "      <td>WYOMING</td>\n",
       "      <td>Weston County School District #7</td>\n",
       "      <td>Upton High School</td>\n",
       "      <td>25</td>\n",
       "      <td>60-79</td>\n",
       "    </tr>\n",
       "    <tr>\n",
       "      <th>22899</th>\n",
       "      <td>1819</td>\n",
       "      <td>WYOMING</td>\n",
       "      <td>Washakie County School District #1</td>\n",
       "      <td>Worland High School</td>\n",
       "      <td>106</td>\n",
       "      <td>85-89</td>\n",
       "    </tr>\n",
       "  </tbody>\n",
       "</table>\n",
       "<p>201567 rows × 6 columns</p>\n",
       "</div>"
      ],
      "text/plain": [
       "       Year    STNAM                               LEANM  \\\n",
       "0      1011  ALABAMA                    Albertville City   \n",
       "1      1011  ALABAMA                     Marshall County   \n",
       "2      1011  ALABAMA                     Marshall County   \n",
       "3      1011  ALABAMA                     Marshall County   \n",
       "4      1011  ALABAMA                     Marshall County   \n",
       "...     ...      ...                                 ...   \n",
       "22895  1819  WYOMING  Washakie County School District #2   \n",
       "22896  1819  WYOMING     Teton County School District #1   \n",
       "22897  1819  WYOMING     Teton County School District #1   \n",
       "22898  1819  WYOMING    Weston County School District #7   \n",
       "22899  1819  WYOMING  Washakie County School District #1   \n",
       "\n",
       "                          SCHNAM ALL_COHORT_ ALL_RATE_  \n",
       "0           Albertville High Sch         252        80  \n",
       "1                     Asbury Sch          57     70-79  \n",
       "2               Douglas High Sch         125     65-69  \n",
       "3      Kate D Smith DAR High Sch         121     80-84  \n",
       "4           Brindlee Mt High Sch          94     75-79  \n",
       "...                          ...         ...       ...  \n",
       "22895             Ten Sleep K-12           8      GE50  \n",
       "22896   Jackson Hole High School         163      GE95  \n",
       "22897  Summit Innovations School          20      GE80  \n",
       "22898          Upton High School          25     60-79  \n",
       "22899        Worland High School         106     85-89  \n",
       "\n",
       "[201567 rows x 6 columns]"
      ]
     },
     "execution_count": 14,
     "metadata": {},
     "output_type": "execute_result"
    }
   ],
   "source": [
    "big_df.select_dtypes(include=object)"
   ]
  },
  {
   "cell_type": "code",
   "execution_count": 15,
   "metadata": {},
   "outputs": [
    {
     "name": "stdout",
     "output_type": "stream",
     "text": [
      "Year            int64\n",
      "STNAM          object\n",
      "FIPST           int64\n",
      "LEAID           int64\n",
      "LEANM          object\n",
      "NCESSCH         int64\n",
      "SCHNAM         object\n",
      "ALL_COHORT_    object\n",
      "ALL_RATE_      object\n",
      "dtype: object 5 object columns present\n"
     ]
    },
    {
     "name": "stderr",
     "output_type": "stream",
     "text": [
      "/tmp/ipykernel_547225/1914344552.py:2: FutureWarning: In a future version, `df.iloc[:, i] = newvals` will attempt to set the values inplace instead of always setting a new array. To retain the old behavior, use either `df[df.columns[i]] = newvals` or, if columns are non-unique, `df.isetitem(i, newvals)`\n",
      "  big_df.loc[:,'Year'] = np.int64(big_df.Year)\n"
     ]
    }
   ],
   "source": [
    "# Convert year feature to numeric\n",
    "big_df.loc[:,'Year'] = np.int64(big_df.Year)\n",
    "print_object_column_info(big_df)"
   ]
  },
  {
   "cell_type": "code",
   "execution_count": 19,
   "metadata": {},
   "outputs": [
    {
     "data": {
      "text/plain": [
       "(count     201567\n",
       " unique      2260\n",
       " top            .\n",
       " freq        2913\n",
       " Name: ALL_COHORT_, dtype: object,\n",
       " count     201567\n",
       " unique       137\n",
       " top         GE95\n",
       " freq       15889\n",
       " Name: ALL_RATE_, dtype: object)"
      ]
     },
     "execution_count": 19,
     "metadata": {},
     "output_type": "execute_result"
    }
   ],
   "source": [
    "big_df.ALL_COHORT_.describe(), big_df.ALL_RATE_.describe()"
   ]
  },
  {
   "cell_type": "code",
   "execution_count": null,
   "metadata": {},
   "outputs": [],
   "source": []
  }
 ],
 "metadata": {
  "kernelspec": {
   "display_name": "Python 3.8.13 ('venv')",
   "language": "python",
   "name": "python3"
  },
  "language_info": {
   "codemirror_mode": {
    "name": "ipython",
    "version": 3
   },
   "file_extension": ".py",
   "mimetype": "text/x-python",
   "name": "python",
   "nbconvert_exporter": "python",
   "pygments_lexer": "ipython3",
   "version": "3.8.13"
  },
  "orig_nbformat": 4,
  "vscode": {
   "interpreter": {
    "hash": "3c763b49a4e9e1724a59991e53401f9a884eb20b0636088ef4cedf965df153b6"
   }
  }
 },
 "nbformat": 4,
 "nbformat_minor": 2
}
