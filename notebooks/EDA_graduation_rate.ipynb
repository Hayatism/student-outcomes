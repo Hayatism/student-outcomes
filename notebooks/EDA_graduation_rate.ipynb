{
 "cells": [
  {
   "cell_type": "markdown",
   "metadata": {},
   "source": [
    "## What are the features in this data?\n",
    "* Each instance is a school.\n",
    "\n",
    "## Graduation rate is given by two features--Cohort and Rate--for each subpopulation below.\n",
    "* Cohort - Number of students in that subpopulation\n",
    "* Rate - Percentage (or range of percentage) of students in the cohort graduating with a high school diploma within 4 years\n",
    "\n",
    "## School identifiers\n",
    "* STNAM  - State name\n",
    "* FIPST  - 2 digit code for the state\n",
    "* LEANM  - School district name\n",
    "* LEAID  - 7 digit code for school district \n",
    "* SCHNAM - School name\n",
    "* NCESSH - 12 digit school id (only unique identifier for a school)\n",
    "\n",
    "\n",
    "## Subpopulations\n",
    "* ALL \t= All students in the school\n",
    "* MAM \t= American Indian/Alaska   Native students\n",
    "* MAS \t= Asian/Pacific Islander students\n",
    "* MHI \t= Hispanic students\n",
    "* MBL \t= Black students\n",
    "* MWH \t= White students\n",
    "* MTR \t= Two or More Races\n",
    "* CWD \t= Children with Disabilities (IDEA)\n",
    "* ECD \t= Economically Disadvantaged students\n",
    "* LEP \t= Limited English Proficient students\n"
   ]
  },
  {
   "cell_type": "code",
   "execution_count": 178,
   "metadata": {},
   "outputs": [],
   "source": [
    "import pandas as pd\n",
    "import numpy as np\n",
    "import matplotlib.pyplot as plt\n",
    "from swampy import structshape as ss\n",
    "import sys\n",
    "sys.path.append(\"..\")\n",
    "from ingest import gr\n"
   ]
  },
  {
   "cell_type": "code",
   "execution_count": 179,
   "metadata": {},
   "outputs": [],
   "source": [
    "dfs = [gr.make_raw_gr_frame(year=y) for y in range(2010, 2019)]\n",
    "years = [gr.year_string(y) for y in range(2010, 2019)]"
   ]
  },
  {
   "cell_type": "code",
   "execution_count": 180,
   "metadata": {},
   "outputs": [
    {
     "name": "stdout",
     "output_type": "stream",
     "text": [
      "Index(['STNAM', 'FIPST', 'LEAID', 'LEANM', 'NCESSCH', 'SCHNAM',\n",
      "       'ALL_COHORT_1011', 'ALL_RATE_1011', 'MAM_COHORT_1011', 'MAM_RATE_1011',\n",
      "       'MAS_COHORT_1011', 'MAS_RATE_1011', 'MBL_COHORT_1011', 'MBL_RATE_1011',\n",
      "       'MHI_COHORT_1011', 'MHI_RATE_1011', 'MTR_COHORT_1011', 'MTR_RATE_1011',\n",
      "       'MWH_COHORT_1011', 'MWH_RATE_1011', 'CWD_COHORT_1011', 'CWD_RATE_1011',\n",
      "       'ECD_COHORT_1011', 'ECD_RATE_1011', 'LEP_COHORT_1011', 'LEP_RATE_1011',\n",
      "       'DATE_CUR'],\n",
      "      dtype='object')\n"
     ]
    }
   ],
   "source": [
    "# Note that many of the column names have the school year in them\n",
    "print(dfs[0].columns)"
   ]
  },
  {
   "cell_type": "markdown",
   "metadata": {},
   "source": [
    "Check shape of data from different years since we are planning to combine them"
   ]
  },
  {
   "cell_type": "code",
   "execution_count": 181,
   "metadata": {},
   "outputs": [
    {
     "data": {
      "text/html": [
       "<div>\n",
       "<style scoped>\n",
       "    .dataframe tbody tr th:only-of-type {\n",
       "        vertical-align: middle;\n",
       "    }\n",
       "\n",
       "    .dataframe tbody tr th {\n",
       "        vertical-align: top;\n",
       "    }\n",
       "\n",
       "    .dataframe thead th {\n",
       "        text-align: right;\n",
       "    }\n",
       "</style>\n",
       "<table border=\"1\" class=\"dataframe\">\n",
       "  <thead>\n",
       "    <tr style=\"text-align: right;\">\n",
       "      <th></th>\n",
       "      <th>school_year</th>\n",
       "      <th>shape</th>\n",
       "    </tr>\n",
       "  </thead>\n",
       "  <tbody>\n",
       "    <tr>\n",
       "      <th>0</th>\n",
       "      <td>1011</td>\n",
       "      <td>(21335, 27)</td>\n",
       "    </tr>\n",
       "    <tr>\n",
       "      <th>1</th>\n",
       "      <td>1112</td>\n",
       "      <td>(21244, 27)</td>\n",
       "    </tr>\n",
       "    <tr>\n",
       "      <th>2</th>\n",
       "      <td>1213</td>\n",
       "      <td>(22077, 27)</td>\n",
       "    </tr>\n",
       "    <tr>\n",
       "      <th>3</th>\n",
       "      <td>1314</td>\n",
       "      <td>(22385, 28)</td>\n",
       "    </tr>\n",
       "    <tr>\n",
       "      <th>4</th>\n",
       "      <td>1415</td>\n",
       "      <td>(22167, 27)</td>\n",
       "    </tr>\n",
       "    <tr>\n",
       "      <th>5</th>\n",
       "      <td>1516</td>\n",
       "      <td>(23090, 27)</td>\n",
       "    </tr>\n",
       "    <tr>\n",
       "      <th>6</th>\n",
       "      <td>1617</td>\n",
       "      <td>(23129, 29)</td>\n",
       "    </tr>\n",
       "    <tr>\n",
       "      <th>7</th>\n",
       "      <td>1718</td>\n",
       "      <td>(23240, 33)</td>\n",
       "    </tr>\n",
       "    <tr>\n",
       "      <th>8</th>\n",
       "      <td>1819</td>\n",
       "      <td>(22900, 33)</td>\n",
       "    </tr>\n",
       "  </tbody>\n",
       "</table>\n",
       "</div>"
      ],
      "text/plain": [
       "  school_year        shape\n",
       "0        1011  (21335, 27)\n",
       "1        1112  (21244, 27)\n",
       "2        1213  (22077, 27)\n",
       "3        1314  (22385, 28)\n",
       "4        1415  (22167, 27)\n",
       "5        1516  (23090, 27)\n",
       "6        1617  (23129, 29)\n",
       "7        1718  (23240, 33)\n",
       "8        1819  (22900, 33)"
      ]
     },
     "execution_count": 181,
     "metadata": {},
     "output_type": "execute_result"
    }
   ],
   "source": [
    "shape_data = [(school_year, df.shape) for school_year, df in zip(years, dfs)]\n",
    "shape = pd.DataFrame(shape_data, columns=('school_year', 'shape'))\n",
    "shape\n"
   ]
  },
  {
   "cell_type": "code",
   "execution_count": 182,
   "metadata": {},
   "outputs": [
    {
     "name": "stdout",
     "output_type": "stream",
     "text": [
      "{'INSERT_DATE'}\n",
      "{'ST_LEAID', 'ST_SCHID'}\n",
      "{'HOM_COHORT_', 'ST_SCHID', 'FCS_COHORT_', 'HOM_RATE_', 'FCS_RATE_', 'ST_LEAID'}\n",
      "{'HOM_COHORT_', 'ST_SCHID', 'FCS_COHORT_', 'HOM_RATE_', 'FCS_RATE_', 'ST_LEAID'}\n"
     ]
    }
   ],
   "source": [
    "# Inspect features that are present in some but not common to all.\n",
    "# Start by removing the years from the column names.\n",
    "# cols_wo_year => Column names without the year\n",
    "cols_wo_year = [list(map(lambda x: x.replace(y, \"\"), df.columns))\n",
    "               for y, df in zip(years, dfs)]\n",
    "print(set(cols_wo_year[3]) - set(cols_wo_year[0]))\n",
    "print(set(cols_wo_year[6]) - set(cols_wo_year[0]))\n",
    "print(set(cols_wo_year[7]) - set(cols_wo_year[0]))\n",
    "print(set(cols_wo_year[8]) - set(cols_wo_year[0]))"
   ]
  },
  {
   "cell_type": "code",
   "execution_count": 183,
   "metadata": {},
   "outputs": [],
   "source": [
    "# INSERT_DATE refers to when the data was inserted and is not relevant for our study.\n",
    "dfs[3].drop(['INSERT_DATE'], axis=1, inplace=True)\n",
    "# ST_SCHID and ST_LEAID are values assigned by the state which are not found in the other years. From the data, it looks like maybe these\n",
    "# started being assigned in 2016. If we need another geographical grouping mechanism in the future we can look into it.\n",
    "dfs[6].drop(['ST_LEAID', 'ST_SCHID'], axis=1, inplace=True)\n",
    "# HOM_COHORT and FCS_COHORT refer to the subpopulation of homeless and foster care students, which was not tracked before school year 2017-2018\n",
    "idx7_sr = shape.school_year[7]\n",
    "idx8_sr = shape.school_year[8]\n",
    "dfs[7].drop(['ST_LEAID', 'ST_SCHID', 'FCS_RATE_'+idx7_sr, 'FCS_COHORT_'+idx7_sr,\n",
    "            'HOM_RATE_'+idx7_sr, 'HOM_COHORT_'+idx7_sr], axis=1, inplace=True)\n",
    "dfs[8].drop(['ST_LEAID', 'ST_SCHID', 'FCS_RATE_'+idx8_sr, 'FCS_COHORT_'+idx8_sr,\n",
    "            'HOM_RATE_'+idx8_sr, 'HOM_COHORT_'+idx8_sr], axis=1, inplace=True)\n"
   ]
  },
  {
   "cell_type": "code",
   "execution_count": 184,
   "metadata": {},
   "outputs": [],
   "source": [
    "# Verify that all dataframes have the same columns (minus the school year) before we combine. \n",
    "cols_wo_year = [list(map(lambda x: x.replace(y, \"\"), df.columns))\n",
    "               for y, df in zip(years, dfs)]\n",
    "for num1,num2 in zip(range(0,8),range(1,9)):\n",
    "    assert cols_wo_year[num1] == cols_wo_year[num2] "
   ]
  },
  {
   "cell_type": "code",
   "execution_count": 185,
   "metadata": {},
   "outputs": [
    {
     "name": "stdout",
     "output_type": "stream",
     "text": [
      "big_df_columns Index([], dtype='object')\n"
     ]
    }
   ],
   "source": [
    "big_df = pd.DataFrame()\n",
    "print(\"big_df_columns\",big_df.columns)\n",
    "for idx, df in enumerate(dfs):\n",
    "    df.columns=cols_wo_year[0]\n",
    "    df['Year'] = years[idx] \n",
    "    # reorder columns to be how we want\n",
    "    df = df[['Year']+cols_wo_year[0]]\n",
    "    big_df = pd.concat([big_df,df],axis=1)\n"
   ]
  },
  {
   "cell_type": "code",
   "execution_count": 187,
   "metadata": {},
   "outputs": [
    {
     "data": {
      "text/html": [
       "<div>\n",
       "<style scoped>\n",
       "    .dataframe tbody tr th:only-of-type {\n",
       "        vertical-align: middle;\n",
       "    }\n",
       "\n",
       "    .dataframe tbody tr th {\n",
       "        vertical-align: top;\n",
       "    }\n",
       "\n",
       "    .dataframe thead th {\n",
       "        text-align: right;\n",
       "    }\n",
       "</style>\n",
       "<table border=\"1\" class=\"dataframe\">\n",
       "  <thead>\n",
       "    <tr style=\"text-align: right;\">\n",
       "      <th></th>\n",
       "      <th>Year</th>\n",
       "      <th>STNAM</th>\n",
       "      <th>FIPST</th>\n",
       "      <th>LEAID</th>\n",
       "      <th>LEANM</th>\n",
       "      <th>NCESSCH</th>\n",
       "      <th>SCHNAM</th>\n",
       "      <th>ALL_COHORT_</th>\n",
       "      <th>ALL_RATE_</th>\n",
       "      <th>MAM_COHORT_</th>\n",
       "      <th>...</th>\n",
       "      <th>MTR_RATE_</th>\n",
       "      <th>MWH_COHORT_</th>\n",
       "      <th>MWH_RATE_</th>\n",
       "      <th>CWD_COHORT_</th>\n",
       "      <th>CWD_RATE_</th>\n",
       "      <th>ECD_COHORT_</th>\n",
       "      <th>ECD_RATE_</th>\n",
       "      <th>LEP_COHORT_</th>\n",
       "      <th>LEP_RATE_</th>\n",
       "      <th>DATE_CUR</th>\n",
       "    </tr>\n",
       "  </thead>\n",
       "  <tbody>\n",
       "    <tr>\n",
       "      <th>0</th>\n",
       "      <td>1011</td>\n",
       "      <td>ALABAMA</td>\n",
       "      <td>1.0</td>\n",
       "      <td>100005.0</td>\n",
       "      <td>Albertville City</td>\n",
       "      <td>1.000050e+10</td>\n",
       "      <td>Albertville High Sch</td>\n",
       "      <td>252</td>\n",
       "      <td>80</td>\n",
       "      <td>.</td>\n",
       "      <td>...</td>\n",
       "      <td>PS</td>\n",
       "      <td>175.0</td>\n",
       "      <td>GE95</td>\n",
       "      <td>19.0</td>\n",
       "      <td>GE80</td>\n",
       "      <td>114.0</td>\n",
       "      <td>90-94</td>\n",
       "      <td>67.0</td>\n",
       "      <td>75-79</td>\n",
       "      <td>24JUL20</td>\n",
       "    </tr>\n",
       "    <tr>\n",
       "      <th>1</th>\n",
       "      <td>1011</td>\n",
       "      <td>ALABAMA</td>\n",
       "      <td>1.0</td>\n",
       "      <td>100006.0</td>\n",
       "      <td>Marshall County</td>\n",
       "      <td>1.000060e+10</td>\n",
       "      <td>Asbury Sch</td>\n",
       "      <td>57</td>\n",
       "      <td>70-79</td>\n",
       "      <td>.</td>\n",
       "      <td>...</td>\n",
       "      <td>NaN</td>\n",
       "      <td>31.0</td>\n",
       "      <td>GE90</td>\n",
       "      <td>7.0</td>\n",
       "      <td>GE50</td>\n",
       "      <td>15.0</td>\n",
       "      <td>GE50</td>\n",
       "      <td>3.0</td>\n",
       "      <td>PS</td>\n",
       "      <td>24JUL20</td>\n",
       "    </tr>\n",
       "    <tr>\n",
       "      <th>2</th>\n",
       "      <td>1011</td>\n",
       "      <td>ALABAMA</td>\n",
       "      <td>1.0</td>\n",
       "      <td>100006.0</td>\n",
       "      <td>Marshall County</td>\n",
       "      <td>1.000060e+10</td>\n",
       "      <td>Douglas High Sch</td>\n",
       "      <td>125</td>\n",
       "      <td>65-69</td>\n",
       "      <td>2</td>\n",
       "      <td>...</td>\n",
       "      <td>NaN</td>\n",
       "      <td>85.0</td>\n",
       "      <td>90-94</td>\n",
       "      <td>9.0</td>\n",
       "      <td>GE50</td>\n",
       "      <td>99.0</td>\n",
       "      <td>90-94</td>\n",
       "      <td>7.0</td>\n",
       "      <td>GE50</td>\n",
       "      <td>24JUL20</td>\n",
       "    </tr>\n",
       "  </tbody>\n",
       "</table>\n",
       "<p>3 rows × 252 columns</p>\n",
       "</div>"
      ],
      "text/plain": [
       "   Year    STNAM  FIPST     LEAID             LEANM       NCESSCH  \\\n",
       "0  1011  ALABAMA    1.0  100005.0  Albertville City  1.000050e+10   \n",
       "1  1011  ALABAMA    1.0  100006.0   Marshall County  1.000060e+10   \n",
       "2  1011  ALABAMA    1.0  100006.0   Marshall County  1.000060e+10   \n",
       "\n",
       "                 SCHNAM ALL_COHORT_ ALL_RATE_ MAM_COHORT_  ... MTR_RATE_  \\\n",
       "0  Albertville High Sch         252        80           .  ...        PS   \n",
       "1            Asbury Sch          57     70-79           .  ...       NaN   \n",
       "2      Douglas High Sch         125     65-69           2  ...       NaN   \n",
       "\n",
       "  MWH_COHORT_ MWH_RATE_ CWD_COHORT_ CWD_RATE_ ECD_COHORT_ ECD_RATE_  \\\n",
       "0       175.0      GE95        19.0      GE80       114.0     90-94   \n",
       "1        31.0      GE90         7.0      GE50        15.0      GE50   \n",
       "2        85.0     90-94         9.0      GE50        99.0     90-94   \n",
       "\n",
       "  LEP_COHORT_ LEP_RATE_ DATE_CUR  \n",
       "0        67.0     75-79  24JUL20  \n",
       "1         3.0        PS  24JUL20  \n",
       "2         7.0      GE50  24JUL20  \n",
       "\n",
       "[3 rows x 252 columns]"
      ]
     },
     "execution_count": 187,
     "metadata": {},
     "output_type": "execute_result"
    }
   ],
   "source": [
    "big_df.head(n=3)"
   ]
  },
  {
   "cell_type": "code",
   "execution_count": null,
   "metadata": {},
   "outputs": [],
   "source": []
  },
  {
   "cell_type": "code",
   "execution_count": null,
   "metadata": {},
   "outputs": [],
   "source": []
  }
 ],
 "metadata": {
  "kernelspec": {
   "display_name": "Python 3.8.13 ('venv')",
   "language": "python",
   "name": "python3"
  },
  "language_info": {
   "codemirror_mode": {
    "name": "ipython",
    "version": 3
   },
   "file_extension": ".py",
   "mimetype": "text/x-python",
   "name": "python",
   "nbconvert_exporter": "python",
   "pygments_lexer": "ipython3",
   "version": "3.8.13"
  },
  "orig_nbformat": 4,
  "vscode": {
   "interpreter": {
    "hash": "f4a54c6b57f6a2a64261c3012a1140be80fd8a2ef2b7a9a0d1e0cfdc9c2169dd"
   }
  }
 },
 "nbformat": 4,
 "nbformat_minor": 2
}
