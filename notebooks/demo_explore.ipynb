{
 "cells": [
  {
   "cell_type": "markdown",
   "metadata": {},
   "source": [
    "### Ingest EDFacts Graduation Rate Data for 2009\n",
    "\n",
    "Data sources:  \n",
    "https://www2.ed.gov/about/inits/ed/edfacts/data-files/acgr-sch-sy2018-19-wide.csv  \n",
    "https://www2.ed.gov/about/inits/ed/edfacts/data-files/acgr-sch-sy2017-18.csv  \n",
    "https://www2.ed.gov/about/inits/ed/edfacts/data-files/acgr-sch-sy2016-17.csv  \n",
    "https://www2.ed.gov/about/inits/ed/edfacts/data-files/acgr-sch-sy2015-16.csv  \n",
    "https://www2.ed.gov/about/inits/ed/edfacts/data-files/acgr-release2-sch-sy2014-15.csv  \n",
    "https://www2.ed.gov/about/inits/ed/edfacts/data-files/acgr-sch-sy2013-14.csv  \n",
    "https://www2.ed.gov/about/inits/ed/edfacts/data-files/acgr-sch-sy2012-13.csv  \n",
    "https://www2.ed.gov/about/inits/ed/edfacts/data-files/acgr-sch-sy2011-12.csv  \n",
    "https://www2.ed.gov/about/inits/ed/edfacts/data-files/acgr-sch-sy2010-11.csv  "
   ]
  },
  {
   "cell_type": "markdown",
   "metadata": {},
   "source": [
    "## What are the features in this data?\n",
    "* Each instance is a school.\n",
    "\n",
    "## Graduation rate is given by two features--Cohort and Rate--for each subpopulation below.\n",
    "* Cohort - Number of students in that subpopulation\n",
    "* Rate - Percentage (or range of percentage) of students in the cohort graduating with a high school diploma within 4 years\n",
    "\n",
    "## School identifiers\n",
    "* STNAM  - State name\n",
    "* FIPST  - 2 digit code for the state\n",
    "* LEANM  - School district name\n",
    "* LEAID  - 7 digit code for school district \n",
    "* SCHNAM - School name\n",
    "* NCESSH - 12 digit school id (only unique identifier for a school)\n",
    "\n",
    "\n",
    "## Subpopulations\n",
    "* ALL \t= All students in the school\n",
    "* MAM \t= American Indian/Alaska   Native students\n",
    "* MAS \t= Asian/Pacific Islander students\n",
    "* MHI \t= Hispanic students\n",
    "* MBL \t= Black students\n",
    "* MWH \t= White students\n",
    "* MTR \t= Two or More Races\n",
    "* CWD \t= Children with Disabilities (IDEA)\n",
    "* ECD \t= Economically Disadvantaged students\n",
    "* LEP \t= Limited English Proficient students\n"
   ]
  },
  {
   "cell_type": "code",
   "execution_count": 1,
   "metadata": {},
   "outputs": [],
   "source": [
    "import pandas as pd\n",
    "import numpy as np\n",
    "import seaborn as sns\n",
    "import sys\n",
    "sys.path.append(\"..\")\n",
    "from ingest import gr\n",
    "# local_dir = \"~/datasets/grad_rate/\"\n",
    "# !ls $local_dir "
   ]
  },
  {
   "cell_type": "code",
   "execution_count": 1,
   "metadata": {},
   "outputs": [
    {
     "ename": "NameError",
     "evalue": "name 'gr' is not defined",
     "output_type": "error",
     "traceback": [
      "\u001b[0;31m---------------------------------------------------------------------------\u001b[0m",
      "\u001b[0;31mNameError\u001b[0m                                 Traceback (most recent call last)",
      "\u001b[1;32m/home/bb/wrk/student-outcomes/notebooks/demo_explore.ipynb Cell 4\u001b[0m in \u001b[0;36m<cell line: 4>\u001b[0;34m()\u001b[0m\n\u001b[1;32m      <a href='vscode-notebook-cell:/home/bb/wrk/student-outcomes/notebooks/demo_explore.ipynb#W3sZmlsZQ%3D%3D?line=0'>1</a>\u001b[0m \u001b[39m# This takes about 2 minutes the first time it is run. Raw data is downloaded and \u001b[39;00m\n\u001b[1;32m      <a href='vscode-notebook-cell:/home/bb/wrk/student-outcomes/notebooks/demo_explore.ipynb#W3sZmlsZQ%3D%3D?line=1'>2</a>\u001b[0m \u001b[39m# stored in gr_dfs.dat, gr_dfs.bak, and gr_dfs.dir. \u001b[39;00m\n\u001b[1;32m      <a href='vscode-notebook-cell:/home/bb/wrk/student-outcomes/notebooks/demo_explore.ipynb#W3sZmlsZQ%3D%3D?line=2'>3</a>\u001b[0m \u001b[39m# Calling it a second and future times is much faster.\u001b[39;00m\n\u001b[0;32m----> <a href='vscode-notebook-cell:/home/bb/wrk/student-outcomes/notebooks/demo_explore.ipynb#W3sZmlsZQ%3D%3D?line=3'>4</a>\u001b[0m df \u001b[39m=\u001b[39m gr\u001b[39m.\u001b[39mmake_clean_grad_rate_frame(\u001b[39m2013\u001b[39m)\n\u001b[1;32m      <a href='vscode-notebook-cell:/home/bb/wrk/student-outcomes/notebooks/demo_explore.ipynb#W3sZmlsZQ%3D%3D?line=4'>5</a>\u001b[0m \u001b[39m# Set the number formating for the pandas dataframe\u001b[39;00m\n\u001b[1;32m      <a href='vscode-notebook-cell:/home/bb/wrk/student-outcomes/notebooks/demo_explore.ipynb#W3sZmlsZQ%3D%3D?line=5'>6</a>\u001b[0m pd\u001b[39m.\u001b[39mset_option(\u001b[39m'\u001b[39m\u001b[39mdisplay.float_format\u001b[39m\u001b[39m'\u001b[39m, \u001b[39mstr\u001b[39m)\n",
      "\u001b[0;31mNameError\u001b[0m: name 'gr' is not defined"
     ]
    }
   ],
   "source": [
    "# This takes about 2 minutes the first time it is run. Raw data is downloaded and \n",
    "# stored in gr_dfs.dat, gr_dfs.bak, and gr_dfs.dir. \n",
    "# Calling it a second and future times is much faster.\n",
    "df = gr.make_clean_grad_rate_frame(2013)\n",
    "# Set the number formating for the pandas dataframe\n",
    "pd.set_option('display.float_format', str)\n",
    "df.style.format(\"{:.1f}\")\n",
    "df"
   ]
  },
  {
   "cell_type": "code",
   "execution_count": 5,
   "metadata": {},
   "outputs": [
    {
     "name": "stdout",
     "output_type": "stream",
     "text": [
      "count              20365.0\n",
      "mean     173.4590228332924\n",
      "std     181.67867753449033\n",
      "min                    6.0\n",
      "25%                   41.0\n",
      "50%                  102.0\n",
      "75%                  262.0\n",
      "max                 4788.0\n",
      "Name: ALL_COHORT_1314, dtype: float64\n"
     ]
    },
    {
     "data": {
      "text/html": [
       "<div>\n",
       "<style scoped>\n",
       "    .dataframe tbody tr th:only-of-type {\n",
       "        vertical-align: middle;\n",
       "    }\n",
       "\n",
       "    .dataframe tbody tr th {\n",
       "        vertical-align: top;\n",
       "    }\n",
       "\n",
       "    .dataframe thead th {\n",
       "        text-align: right;\n",
       "    }\n",
       "</style>\n",
       "<table border=\"1\" class=\"dataframe\">\n",
       "  <thead>\n",
       "    <tr style=\"text-align: right;\">\n",
       "      <th></th>\n",
       "      <th>NCESSCH</th>\n",
       "      <th>STNAM</th>\n",
       "      <th>LEAID</th>\n",
       "      <th>SCHNAM</th>\n",
       "      <th>ALL_COHORT_1314</th>\n",
       "      <th>ALL_RATE_1314</th>\n",
       "    </tr>\n",
       "  </thead>\n",
       "  <tbody>\n",
       "    <tr>\n",
       "      <th>15484</th>\n",
       "      <td>390007903420.0</td>\n",
       "      <td>OHIO</td>\n",
       "      <td>3900079.0</td>\n",
       "      <td>Electronic Classroom Of Tomorrow</td>\n",
       "      <td>4788.0</td>\n",
       "      <td>39.0</td>\n",
       "    </tr>\n",
       "  </tbody>\n",
       "</table>\n",
       "</div>"
      ],
      "text/plain": [
       "             NCESSCH STNAM     LEAID                            SCHNAM  \\\n",
       "15484 390007903420.0  OHIO 3900079.0  Electronic Classroom Of Tomorrow   \n",
       "\n",
       "       ALL_COHORT_1314  ALL_RATE_1314  \n",
       "15484           4788.0           39.0  "
      ]
     },
     "execution_count": 5,
     "metadata": {},
     "output_type": "execute_result"
    }
   ],
   "source": [
    "print(df.ALL_COHORT_1314.describe())\n",
    "df[df.ALL_COHORT_1314 > 4000]"
   ]
  },
  {
   "cell_type": "code",
   "execution_count": 6,
   "metadata": {},
   "outputs": [
    {
     "name": "stdout",
     "output_type": "stream",
     "text": [
      "count             20365.0\n",
      "mean     77.1880432113921\n",
      "std     21.13660094608904\n",
      "min                   1.0\n",
      "25%                  72.0\n",
      "50%                  85.0\n",
      "75%                  92.0\n",
      "max                  99.0\n",
      "Name: ALL_RATE_1314, dtype: float64\n"
     ]
    }
   ],
   "source": [
    "print(df.ALL_RATE_1314.describe())"
   ]
  },
  {
   "cell_type": "markdown",
   "metadata": {},
   "source": [
    "### Questions:\n",
    "* How many schools are there?  \n",
    "* How many schools per state?  \n",
    "* How many schools in the dataset had 5 or less in the cohort?  \n",
    "* What is the missing value distribution?"
   ]
  },
  {
   "cell_type": "code",
   "execution_count": 7,
   "metadata": {},
   "outputs": [
    {
     "data": {
      "text/plain": [
       "TEXAS                   1612\n",
       "CALIFORNIA              1595\n",
       "NEW YORK                1188\n",
       "MICHIGAN                 998\n",
       "OHIO                     897\n",
       "FLORIDA                  844\n",
       "PENNSYLVANIA             680\n",
       "ILLINOIS                 675\n",
       "MINNESOTA                658\n",
       "NORTH CAROLINA           558\n",
       "WASHINGTON               554\n",
       "MISSOURI                 523\n",
       "WISCONSIN                523\n",
       "ARIZONA                  501\n",
       "OKLAHOMA                 458\n",
       "GEORGIA                  450\n",
       "COLORADO                 430\n",
       "NEW JERSEY               414\n",
       "INDIANA                  401\n",
       "MASSACHUSETTS            371\n",
       "ALABAMA                  371\n",
       "TENNESSEE                365\n",
       "IOWA                     352\n",
       "KANSAS                   349\n",
       "LOUISIANA                347\n",
       "VIRGINIA                 327\n",
       "OREGON                   316\n",
       "KENTUCKY                 310\n",
       "ARKANSAS                 300\n",
       "NEBRASKA                 263\n",
       "MARYLAND                 252\n",
       "MISSISSIPPI              251\n",
       "SOUTH CAROLINA           229\n",
       "IDAHO                    198\n",
       "CONNECTICUT              195\n",
       "UTAH                     170\n",
       "ALASKA                   166\n",
       "SOUTH DAKOTA             163\n",
       "NORTH DAKOTA             152\n",
       "MONTANA                  150\n",
       "NEVADA                   141\n",
       "MAINE                    119\n",
       "WEST VIRGINIA            114\n",
       "NEW HAMPSHIRE             90\n",
       "WYOMING                   82\n",
       "VERMONT                   61\n",
       "RHODE ISLAND              58\n",
       "HAWAII                    58\n",
       "DELAWARE                  48\n",
       "DISTRICT OF COLUMBIA      38\n",
       "Name: STNAM, dtype: int64"
      ]
     },
     "execution_count": 7,
     "metadata": {},
     "output_type": "execute_result"
    }
   ],
   "source": [
    "# Number of schools per state\n",
    "df.STNAM.value_counts()"
   ]
  },
  {
   "cell_type": "code",
   "execution_count": 8,
   "metadata": {},
   "outputs": [],
   "source": [
    "# Number of schools with 5 or fewer students in cohort.\n",
    "\"\"\"\n",
    "1468\n",
    "1293\n",
    "1304\n",
    "1456\n",
    "1265\n",
    "1553\n",
    "1350\n",
    "1353\n",
    "1475\n",
    "\"\"\"\n",
    "# Commented out because takes about a minute\n",
    "if False:\n",
    "    for year in range(2010,2019):\n",
    "        df = gr.make_raw_gr_frame(year)\n",
    "        for col in df.columns:\n",
    "            if col.startswith('ALL_RATE'):\n",
    "                print(sum(df[col] == 'PS'))"
   ]
  },
  {
   "cell_type": "code",
   "execution_count": 9,
   "metadata": {},
   "outputs": [
    {
     "data": {
      "text/plain": [
       "<AxesSubplot: >"
      ]
     },
     "execution_count": 9,
     "metadata": {},
     "output_type": "execute_result"
    },
    {
     "data": {
      "image/png": "[encoded data removed]",
      "text/plain": [
       "<Figure size 640x480 with 2 Axes>"
      ]
     },
     "metadata": {},
     "output_type": "display_data"
    }
   ],
   "source": [
    "# Visualize missing values\n",
    "sns.heatmap(df.isna().transpose(),\n",
    "            cmap=\"YlGnBu\",\n",
    "            cbar_kws={'label': 'Missing Data'})"
   ]
  },
  {
   "cell_type": "code",
   "execution_count": 10,
   "metadata": {},
   "outputs": [
    {
     "name": "stdout",
     "output_type": "stream",
     "text": [
      "20365 19010\n"
     ]
    }
   ],
   "source": [
    "# School names are not unique\n",
    "len(df.SCHNAM) == len(df.SCHNAM.unique())\n",
    "print(len(df.SCHNAM), len(df.SCHNAM.unique()))"
   ]
  },
  {
   "cell_type": "code",
   "execution_count": 11,
   "metadata": {},
   "outputs": [
    {
     "name": "stdout",
     "output_type": "stream",
     "text": [
      "20365 20365\n"
     ]
    }
   ],
   "source": []
  },
  {
   "cell_type": "code",
   "execution_count": 12,
   "metadata": {},
   "outputs": [
    {
     "data": {
      "text/plain": [
       "STNAM       SCHNAM                      \n",
       "WISCONSIN   West High                       8\n",
       "            East High                       7\n",
       "TENNESSEE   Central High School             7\n",
       "CALIFORNIA  Middle College High             6\n",
       "MISSOURI    CENTRAL HIGH                    6\n",
       "                                           ..\n",
       "KANSAS      Rock Creek Jr/Sr High School    1\n",
       "            Riverton High                   1\n",
       "            Riverside High School           1\n",
       "            Riley County High School        1\n",
       "WYOMING     Wyoming Indian High School      1\n",
       "Length: 20011, dtype: int64"
      ]
     },
     "execution_count": 12,
     "metadata": {},
     "output_type": "execute_result"
    }
   ],
   "source": [
    "# Are the state and school name unique?\n",
    "df[['STNAM','SCHNAM']].value_counts()\n",
    "# NCESSCH 12-digit identifier is unique\n",
    "print(len(df.NCESSCH), len(df.NCESSCH.unique()))"
   ]
  },
  {
   "cell_type": "code",
   "execution_count": 13,
   "metadata": {},
   "outputs": [
    {
     "data": {
      "text/plain": [
       "LEAID      SCHNAM                       \n",
       "400273.0   Student Choice High School       2\n",
       "400266.0   PACE Preparatory Academy         2\n",
       "4400024.0  Sheila Skip Nowell Leadership    2\n",
       "3704720.0  William G Enloe High             1\n",
       "3704880.0  Charles B Aycock High            1\n",
       "                                           ..\n",
       "2007620.0  Hutchinson High School           1\n",
       "2007590.0  Humboldt High School             1\n",
       "2007560.0  Hugoton Learning Academy         1\n",
       "           Hugoton High                     1\n",
       "5606240.0  Worland High School              1\n",
       "Length: 20362, dtype: int64"
      ]
     },
     "execution_count": 13,
     "metadata": {},
     "output_type": "execute_result"
    }
   ],
   "source": [
    "# Are the LEAID and school name unique?\n",
    "df[['LEAID','SCHNAM']].value_counts()"
   ]
  },
  {
   "cell_type": "code",
   "execution_count": null,
   "metadata": {},
   "outputs": [],
   "source": []
  },
  {
   "cell_type": "code",
   "execution_count": null,
   "metadata": {},
   "outputs": [],
   "source": []
  }
 ],
 "metadata": {
  "kernelspec": {
   "display_name": "Python 3.10.5 ('my-env')",
   "language": "python",
   "name": "python3"
  },
  "language_info": {
   "codemirror_mode": {
    "name": "ipython",
    "version": 3
   },
   "file_extension": ".py",
   "mimetype": "text/x-python",
   "name": "python",
   "nbconvert_exporter": "python",
   "pygments_lexer": "ipython3",
   "version": "3.10.5"
  },
  "orig_nbformat": 4,
  "vscode": {
   "interpreter": {
    "hash": "d474be476f0a6db94789ad08b16ede00cb8654a4c727ed769fba79dc07ed6ebd"
   }
  }
 },
 "nbformat": 4,
 "nbformat_minor": 2
}
