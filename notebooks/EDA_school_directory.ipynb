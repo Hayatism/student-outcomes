{
 "cells": [
  {
   "cell_type": "code",
   "execution_count": 39,
   "metadata": {},
   "outputs": [],
   "source": [
    "import boto3\n",
    "import sys,os\n",
    "sys.path.append(\"..\")\n",
    "import pandas as pd\n",
    "import numpy as np\n",
    "import seaborn as sns\n",
    "import matplotlib.pyplot as plt\n",
    "from swampy import structshape as ss"
   ]
  },
  {
   "cell_type": "markdown",
   "metadata": {},
   "source": [
    "### Ingest school directory dataset from S3"
   ]
  },
  {
   "cell_type": "code",
   "execution_count": 40,
   "metadata": {},
   "outputs": [],
   "source": [
    "conn = boto3.client('s3')\n",
    "local_dir_filename = 'directory_all.csv.bak'\n",
    "if not os.path.exists('./' + local_dir_filename):\n",
    "    conn.download_file('edu-data-bucket','directory/schools_ccd_directory.csv',local_dir_filename)"
   ]
  },
  {
   "cell_type": "code",
   "execution_count": 41,
   "metadata": {},
   "outputs": [
    {
     "ename": "ParserError",
     "evalue": "Error tokenizing data. C error: Calling read(nbytes) on source failed. Try engine='python'.",
     "output_type": "error",
     "traceback": [
      "\u001b[0;31m---------------------------------------------------------------------------\u001b[0m",
      "\u001b[0;31mParserError\u001b[0m                               Traceback (most recent call last)",
      "Cell \u001b[0;32mIn [41], line 1\u001b[0m\n\u001b[0;32m----> 1\u001b[0m df0 \u001b[39m=\u001b[39m pd\u001b[39m.\u001b[39;49mread_csv(local_dir_filename,low_memory\u001b[39m=\u001b[39;49m\u001b[39mFalse\u001b[39;49;00m)\n",
      "File \u001b[0;32m~/wrk/student-outcomes/venv/lib/python3.9/site-packages/pandas/util/_decorators.py:211\u001b[0m, in \u001b[0;36mdeprecate_kwarg.<locals>._deprecate_kwarg.<locals>.wrapper\u001b[0;34m(*args, **kwargs)\u001b[0m\n\u001b[1;32m    209\u001b[0m     \u001b[39melse\u001b[39;00m:\n\u001b[1;32m    210\u001b[0m         kwargs[new_arg_name] \u001b[39m=\u001b[39m new_arg_value\n\u001b[0;32m--> 211\u001b[0m \u001b[39mreturn\u001b[39;00m func(\u001b[39m*\u001b[39;49margs, \u001b[39m*\u001b[39;49m\u001b[39m*\u001b[39;49mkwargs)\n",
      "File \u001b[0;32m~/wrk/student-outcomes/venv/lib/python3.9/site-packages/pandas/util/_decorators.py:331\u001b[0m, in \u001b[0;36mdeprecate_nonkeyword_arguments.<locals>.decorate.<locals>.wrapper\u001b[0;34m(*args, **kwargs)\u001b[0m\n\u001b[1;32m    325\u001b[0m \u001b[39mif\u001b[39;00m \u001b[39mlen\u001b[39m(args) \u001b[39m>\u001b[39m num_allow_args:\n\u001b[1;32m    326\u001b[0m     warnings\u001b[39m.\u001b[39mwarn(\n\u001b[1;32m    327\u001b[0m         msg\u001b[39m.\u001b[39mformat(arguments\u001b[39m=\u001b[39m_format_argument_list(allow_args)),\n\u001b[1;32m    328\u001b[0m         \u001b[39mFutureWarning\u001b[39;00m,\n\u001b[1;32m    329\u001b[0m         stacklevel\u001b[39m=\u001b[39mfind_stack_level(),\n\u001b[1;32m    330\u001b[0m     )\n\u001b[0;32m--> 331\u001b[0m \u001b[39mreturn\u001b[39;00m func(\u001b[39m*\u001b[39;49margs, \u001b[39m*\u001b[39;49m\u001b[39m*\u001b[39;49mkwargs)\n",
      "File \u001b[0;32m~/wrk/student-outcomes/venv/lib/python3.9/site-packages/pandas/io/parsers/readers.py:950\u001b[0m, in \u001b[0;36mread_csv\u001b[0;34m(filepath_or_buffer, sep, delimiter, header, names, index_col, usecols, squeeze, prefix, mangle_dupe_cols, dtype, engine, converters, true_values, false_values, skipinitialspace, skiprows, skipfooter, nrows, na_values, keep_default_na, na_filter, verbose, skip_blank_lines, parse_dates, infer_datetime_format, keep_date_col, date_parser, dayfirst, cache_dates, iterator, chunksize, compression, thousands, decimal, lineterminator, quotechar, quoting, doublequote, escapechar, comment, encoding, encoding_errors, dialect, error_bad_lines, warn_bad_lines, on_bad_lines, delim_whitespace, low_memory, memory_map, float_precision, storage_options)\u001b[0m\n\u001b[1;32m    935\u001b[0m kwds_defaults \u001b[39m=\u001b[39m _refine_defaults_read(\n\u001b[1;32m    936\u001b[0m     dialect,\n\u001b[1;32m    937\u001b[0m     delimiter,\n\u001b[0;32m   (...)\u001b[0m\n\u001b[1;32m    946\u001b[0m     defaults\u001b[39m=\u001b[39m{\u001b[39m\"\u001b[39m\u001b[39mdelimiter\u001b[39m\u001b[39m\"\u001b[39m: \u001b[39m\"\u001b[39m\u001b[39m,\u001b[39m\u001b[39m\"\u001b[39m},\n\u001b[1;32m    947\u001b[0m )\n\u001b[1;32m    948\u001b[0m kwds\u001b[39m.\u001b[39mupdate(kwds_defaults)\n\u001b[0;32m--> 950\u001b[0m \u001b[39mreturn\u001b[39;00m _read(filepath_or_buffer, kwds)\n",
      "File \u001b[0;32m~/wrk/student-outcomes/venv/lib/python3.9/site-packages/pandas/io/parsers/readers.py:611\u001b[0m, in \u001b[0;36m_read\u001b[0;34m(filepath_or_buffer, kwds)\u001b[0m\n\u001b[1;32m    608\u001b[0m     \u001b[39mreturn\u001b[39;00m parser\n\u001b[1;32m    610\u001b[0m \u001b[39mwith\u001b[39;00m parser:\n\u001b[0;32m--> 611\u001b[0m     \u001b[39mreturn\u001b[39;00m parser\u001b[39m.\u001b[39;49mread(nrows)\n",
      "File \u001b[0;32m~/wrk/student-outcomes/venv/lib/python3.9/site-packages/pandas/io/parsers/readers.py:1778\u001b[0m, in \u001b[0;36mTextFileReader.read\u001b[0;34m(self, nrows)\u001b[0m\n\u001b[1;32m   1771\u001b[0m nrows \u001b[39m=\u001b[39m validate_integer(\u001b[39m\"\u001b[39m\u001b[39mnrows\u001b[39m\u001b[39m\"\u001b[39m, nrows)\n\u001b[1;32m   1772\u001b[0m \u001b[39mtry\u001b[39;00m:\n\u001b[1;32m   1773\u001b[0m     \u001b[39m# error: \"ParserBase\" has no attribute \"read\"\u001b[39;00m\n\u001b[1;32m   1774\u001b[0m     (\n\u001b[1;32m   1775\u001b[0m         index,\n\u001b[1;32m   1776\u001b[0m         columns,\n\u001b[1;32m   1777\u001b[0m         col_dict,\n\u001b[0;32m-> 1778\u001b[0m     ) \u001b[39m=\u001b[39m \u001b[39mself\u001b[39;49m\u001b[39m.\u001b[39;49m_engine\u001b[39m.\u001b[39;49mread(  \u001b[39m# type: ignore[attr-defined]\u001b[39;49;00m\n\u001b[1;32m   1779\u001b[0m         nrows\n\u001b[1;32m   1780\u001b[0m     )\n\u001b[1;32m   1781\u001b[0m \u001b[39mexcept\u001b[39;00m \u001b[39mException\u001b[39;00m:\n\u001b[1;32m   1782\u001b[0m     \u001b[39mself\u001b[39m\u001b[39m.\u001b[39mclose()\n",
      "File \u001b[0;32m~/wrk/student-outcomes/venv/lib/python3.9/site-packages/pandas/io/parsers/c_parser_wrapper.py:235\u001b[0m, in \u001b[0;36mCParserWrapper.read\u001b[0;34m(self, nrows)\u001b[0m\n\u001b[1;32m    232\u001b[0m         data \u001b[39m=\u001b[39m _concatenate_chunks(chunks)\n\u001b[1;32m    234\u001b[0m     \u001b[39melse\u001b[39;00m:\n\u001b[0;32m--> 235\u001b[0m         data \u001b[39m=\u001b[39m \u001b[39mself\u001b[39;49m\u001b[39m.\u001b[39;49m_reader\u001b[39m.\u001b[39;49mread(nrows)\n\u001b[1;32m    236\u001b[0m \u001b[39mexcept\u001b[39;00m \u001b[39mStopIteration\u001b[39;00m:\n\u001b[1;32m    237\u001b[0m     \u001b[39mif\u001b[39;00m \u001b[39mself\u001b[39m\u001b[39m.\u001b[39m_first_chunk:\n",
      "File \u001b[0;32m~/wrk/student-outcomes/venv/lib/python3.9/site-packages/pandas/_libs/parsers.pyx:790\u001b[0m, in \u001b[0;36mpandas._libs.parsers.TextReader.read\u001b[0;34m()\u001b[0m\n",
      "File \u001b[0;32m~/wrk/student-outcomes/venv/lib/python3.9/site-packages/pandas/_libs/parsers.pyx:883\u001b[0m, in \u001b[0;36mpandas._libs.parsers.TextReader._read_rows\u001b[0;34m()\u001b[0m\n",
      "File \u001b[0;32m~/wrk/student-outcomes/venv/lib/python3.9/site-packages/pandas/_libs/parsers.pyx:1973\u001b[0m, in \u001b[0;36mpandas._libs.parsers.raise_parser_error\u001b[0;34m()\u001b[0m\n",
      "\u001b[0;31mParserError\u001b[0m: Error tokenizing data. C error: Calling read(nbytes) on source failed. Try engine='python'."
     ]
    }
   ],
   "source": [
    "df0 = pd.read_csv(local_dir_filename,low_memory=False)"
   ]
  },
  {
   "cell_type": "markdown",
   "metadata": {},
   "source": [
    "### Shape, datatype, gross feature analysis"
   ]
  },
  {
   "cell_type": "code",
   "execution_count": null,
   "metadata": {},
   "outputs": [],
   "source": [
    "df0.shape, df0.dtypes"
   ]
  },
  {
   "cell_type": "code",
   "execution_count": null,
   "metadata": {},
   "outputs": [],
   "source": [
    "df0.head(n=3)"
   ]
  },
  {
   "cell_type": "markdown",
   "metadata": {},
   "source": [
    "Observations\n",
    "* There are many years and schools in this dataset that are not in the graduation rate dataset\n",
    "* Ncessch and ncessch_num appear to be duplicates\n",
    "* Features shared with the Adjusted Cohort dataset are\n",
    "    * ncessch\n",
    "    * school_name\n",
    "    * leaid\n",
    "    * lea_name\n",
    "    * state_location\n",
    "    * fips"
   ]
  },
  {
   "cell_type": "code",
   "execution_count": null,
   "metadata": {},
   "outputs": [],
   "source": [
    "\n",
    "pd.options.display.float_format = '{:.1f}'.format\n",
    "pd.set_option('display.max_columns',99)\n",
    "df0.describe()"
   ]
  },
  {
   "cell_type": "markdown",
   "metadata": {},
   "source": [
    "### Strategy\n",
    "* Subset to our years of interest and potentially interesting columns\n",
    "* Explore missingness, distributions, outliers "
   ]
  },
  {
   "cell_type": "code",
   "execution_count": null,
   "metadata": {},
   "outputs": [],
   "source": [
    "# Subset to our years of interest\n",
    "years = list(range(2010,2019))\n",
    "our_years = df0.query('year in @years')\n",
    "pd.set_option('display.max_columns',99)\n",
    "our_years.head(n=3)"
   ]
  },
  {
   "cell_type": "markdown",
   "metadata": {},
   "source": [
    "### Codebook\n",
    "* variable\tformat\tlabel\n",
    "* year\tnumeric\tAcademic year (fall semester)\n",
    "* ncessch\tstring\tNational Center for Education Statistics (NCES) identification number\n",
    "* ncessch_num\tnumeric\tNational Center for Education Statistics (NCES) identification number (numeric)\n",
    "* school_id\tstring\tSchool identification number (NCES)\n",
    "* school_name\tstring\tSchool name\n",
    "* leaid\tstring\tLocal education agency identification number (NCES)\n",
    "* lea_name\tstring\tLocal education agency name\n",
    "* state_leaid\tstring\tLocal education agency identification number (state)\n",
    "* seasch\tstring\tSchool identification number (state)\n",
    "* street_mailing\tstring\tStreet of mailing address \n",
    "* city_mailing\tstring\tCity of mailing address\n",
    "* state_mailing\tstring\tState of mailing address \n",
    "* zip_mailing\tstring\tZip code of mailing address \n",
    "* street_location\tstring\tStreet of location\n",
    "* city_location\tstring\tCity of location\n",
    "* state_location\tstring\tState of location\n",
    "* zip_location\tstring\tZip code of location\n",
    "* phone\tstring\tTelephone number\n",
    "* fips\tfips\tFederal Information Processing Standards state code\n",
    "* latitude\tnumeric\tLatitude of institution\n",
    "* longitude\tnumeric\tLongitude of institution\n",
    "* csa\tnumeric\tCombined statistical area\n",
    "* cbsa\tnumeric\tCore-based statistical area\n",
    "* urban_centric_locale\turban_centric_locale\tDegree of urbanization (urban-centric locale)\n",
    "* county_code\tnumeric\tCounty code\n",
    "* congress_district_id\tnumeric\tState and 114th congressional district identification number\n",
    "* state_leg_district_lower\tstring\tState legislative district—lower\n",
    "* state_leg_district_upper\tstring\tState legislative district—upper\n",
    "* school_level\tschool_level\tSchool level \n",
    "* school_type\tschool_type\tSchool type \n",
    "* school_status\tschool_status\tStatus at start of school year\n",
    "* lowest_grade_offered\tgrade_offered_ccd\tLowest grade offered\n",
    "* highest_grade_offered\tgrade_offered_ccd\tHighest grade offered \n",
    "* elem_cedp\tyes_no\tElementary school indicator (Center on Education Data and Policy variable)\n",
    "* middle_cedp\tyes_no\tMiddle school indicator (Center on Education Data and Policy variable)\n",
    "* high_cedp\tyes_no\tHigh school indicator (Center on Education Data and Policy variable)\n",
    "* ungrade_cedp\tyes_no\tUngraded school indicator (Center on Education Data and Policy variable)\n",
    "* bureau_indian_education\tyes_no\tBureau of Indian Education school\n",
    "* title_i_status\ttitle_i_status\tTitle I status\n",
    "* title_i_eligible\tyes_no\tTitle I eligibility\n",
    "* title_i_schoolwide\tyes_no\tSchoolwide Title I eligibility\n",
    "* charter\tyes_no\tCharter school\n",
    "* magnet\tyes_no\tMagnet school\n",
    "* shared_time\tyes_no\tShared time\n",
    "* virtual\tvirtual\tVirtual school \n",
    "* teachers_fte\tnumeric\tNumber of full-time equivalent teachers\n",
    "* lunch_program\tlunch_program\tNational School Lunch Program (NSLP) status\n",
    "* free_lunch\tnumeric\tNumber of students eligible for free lunch\n",
    "* reduced_price_lunch\tnumeric\tNumber of students eligible for reduced-price lunch\n",
    "* free_or_reduced_price_lunch\tnumeric\tNumber of students eligible for free or reduced-price lunch\n",
    "* direct_certification\tnumeric\tNumber of students eligible for free lunch by direct certification\n",
    "* enrollment\tnumeric\tStudent enrollment\n"
   ]
  },
  {
   "cell_type": "code",
   "execution_count": null,
   "metadata": {},
   "outputs": [],
   "source": [
    "# Subset to potentially interesting columns\n",
    "\n"
   ]
  },
  {
   "cell_type": "markdown",
   "metadata": {},
   "source": [
    "Verify that ncessch and ncessch_num are duplicates since we plan to merge the graduation dataset with it."
   ]
  },
  {
   "cell_type": "code",
   "execution_count": null,
   "metadata": {},
   "outputs": [],
   "source": [
    "assert all(our_years.ncessch == our_years.ncessch_num)\n",
    "our_years.drop(columns=['ncessch_nums'],axis=1,inplace=True)"
   ]
  },
  {
   "cell_type": "markdown",
   "metadata": {},
   "source": [
    "### Missingness"
   ]
  },
  {
   "cell_type": "code",
   "execution_count": null,
   "metadata": {},
   "outputs": [],
   "source": [
    "our_years.isnull().sum()[our_years.isnull().sum().values > 5000]"
   ]
  },
  {
   "cell_type": "code",
   "execution_count": 42,
   "metadata": {},
   "outputs": [],
   "source": [
    "# Investigate high missingness columns and columns with negatives"
   ]
  },
  {
   "cell_type": "code",
   "execution_count": null,
   "metadata": {},
   "outputs": [],
   "source": []
  }
 ],
 "metadata": {
  "kernelspec": {
   "display_name": "Python 3.9.12 ('venv')",
   "language": "python",
   "name": "python3"
  },
  "language_info": {
   "codemirror_mode": {
    "name": "ipython",
    "version": 3
   },
   "file_extension": ".py",
   "mimetype": "text/x-python",
   "name": "python",
   "nbconvert_exporter": "python",
   "pygments_lexer": "ipython3",
   "version": "3.9.12"
  },
  "orig_nbformat": 4,
  "vscode": {
   "interpreter": {
    "hash": "3c763b49a4e9e1724a59991e53401f9a884eb20b0636088ef4cedf965df153b6"
   }
  }
 },
 "nbformat": 4,
 "nbformat_minor": 2
}
