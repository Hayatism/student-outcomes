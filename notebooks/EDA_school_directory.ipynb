{
 "cells": [
  {
   "cell_type": "code",
   "execution_count": 15,
   "metadata": {},
   "outputs": [],
   "source": [
    "import boto3\n",
    "import sys,os\n",
    "sys.path.append(\"..\")\n",
    "from ingest import gr\n",
    "import pandas as pd\n",
    "import numpy as np\n",
    "import seaborn as sns\n",
    "import matplotlib.pyplot as plt\n",
    "from swampy import structshape as ss"
   ]
  },
  {
   "cell_type": "markdown",
   "metadata": {},
   "source": [
    "### Ingest school directory dataset from S3"
   ]
  },
  {
   "cell_type": "code",
   "execution_count": 16,
   "metadata": {},
   "outputs": [],
   "source": [
    "conn = boto3.client('s3')\n",
    "local_dir_filename = 'directory_all.csv.bak'\n",
    "if not os.path.exists('./' + local_dir_filename):\n",
    "    conn.download_file('edu-data-bucket','directory/schools_ccd_directory.csv',local_dir_filename)"
   ]
  },
  {
   "cell_type": "code",
   "execution_count": 17,
   "metadata": {},
   "outputs": [],
   "source": [
    "df0 = pd.read_csv(local_dir_filename,low_memory=False)"
   ]
  },
  {
   "cell_type": "code",
   "execution_count": 19,
   "metadata": {},
   "outputs": [
    {
     "data": {
      "text/plain": [
       "((3381565, 52),\n",
       "    year      ncessch  ncessch_num  school_id             school_name  \\\n",
       " 0  1986  10000201704  10000201704    1.7E+03       CHALKVILLE CAMPUS   \n",
       " 1  1986  10000201705  10000201705    1.7E+03         MT MEIGS CAMPUS   \n",
       " 2  1986  10000201706  10000201706    1.7E+03            VACCA CAMPUS   \n",
       " 3  1986  10000500870  10000500870  870.0E+00  ALABAMA AVE MIDDLE SCH   \n",
       " 4  1986  10000500871  10000500871  871.0E+00    ALBERTVILLE HIGH SCH   \n",
       " \n",
       "        leaid                      lea_name state_leaid seasch street_mailing  \\\n",
       " 0  100.0E+03  DEPARTMENT OF YOUTH SERVICES         210   0020            NaN   \n",
       " 1  100.0E+03  DEPARTMENT OF YOUTH SERVICES         210   0030            NaN   \n",
       " 2  100.0E+03  DEPARTMENT OF YOUTH SERVICES         210   0040            NaN   \n",
       " 3  100.0E+03        ALBERTVILLE CITY BOARD         101   0010            NaN   \n",
       " 4  100.0E+03        ALBERTVILLE CITY BOARD         101   0020            NaN   \n",
       " \n",
       "    ... direct_certification enrollment ungrade_cedp elem_cedp middle_cedp  \\\n",
       " 0  ...                  NaN  129.0E+00            0         0           1   \n",
       " 1  ...                  NaN  193.0E+00            0         0           1   \n",
       " 2  ...                  NaN  162.0E+00            0         0           1   \n",
       " 3  ...                  NaN  845.0E+00            0         0           1   \n",
       " 4  ...                  NaN    1.0E+03            0         0           0   \n",
       " \n",
       "   high_cedp  lunch_program congress_district_id  state_leg_district_lower  \\\n",
       " 0         1            NaN                  NaN                       NaN   \n",
       " 1         1            NaN                  NaN                       NaN   \n",
       " 2         1            NaN                  NaN                       NaN   \n",
       " 3         0            NaN                  NaN                       NaN   \n",
       " 4         1            NaN                  NaN                       NaN   \n",
       " \n",
       "    state_leg_district_upper  \n",
       " 0                       NaN  \n",
       " 1                       NaN  \n",
       " 2                       NaN  \n",
       " 3                       NaN  \n",
       " 4                       NaN  \n",
       " \n",
       " [5 rows x 52 columns])"
      ]
     },
     "execution_count": 19,
     "metadata": {},
     "output_type": "execute_result"
    }
   ],
   "source": [
    "df0.shape, df0.head()"
   ]
  },
  {
   "cell_type": "code",
   "execution_count": null,
   "metadata": {},
   "outputs": [],
   "source": []
  }
 ],
 "metadata": {
  "kernelspec": {
   "display_name": "Python 3.9.12 ('venv')",
   "language": "python",
   "name": "python3"
  },
  "language_info": {
   "codemirror_mode": {
    "name": "ipython",
    "version": 3
   },
   "file_extension": ".py",
   "mimetype": "text/x-python",
   "name": "python",
   "nbconvert_exporter": "python",
   "pygments_lexer": "ipython3",
   "version": "3.9.12"
  },
  "orig_nbformat": 4,
  "vscode": {
   "interpreter": {
    "hash": "3c763b49a4e9e1724a59991e53401f9a884eb20b0636088ef4cedf965df153b6"
   }
  }
 },
 "nbformat": 4,
 "nbformat_minor": 2
}
