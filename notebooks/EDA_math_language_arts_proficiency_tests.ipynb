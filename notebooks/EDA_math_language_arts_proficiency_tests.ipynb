{
 "cells": [
  {
   "cell_type": "markdown",
   "metadata": {},
   "source": [
    "### Ingest math and language arts proficiency scores"
   ]
  },
  {
   "cell_type": "code",
   "execution_count": 2,
   "metadata": {},
   "outputs": [],
   "source": [
    "# Look at columns in files one at a time before we upload to worm\n",
    "import os,sys,pandas as pd, numpy as np,seaborn as sns"
   ]
  },
  {
   "cell_type": "code",
   "execution_count": 12,
   "metadata": {},
   "outputs": [
    {
     "name": "stdout",
     "output_type": "stream",
     "text": [
      "math-achievement-sch-sy2017-18.csv\n",
      "math-achievement-sch-sy2012-13.csv\n",
      "rla-achievement-sch-sy2018-19-wide.csv\n",
      "rla-achievement-sch-sy2013-14.csv\n",
      "math-achievement-sch-sy2014-15.csv\n",
      "rla-achievement-sch-sy2016-17.csv\n",
      "math-achievement-sch-sy2009-10.csv\n",
      "math-achievement-sch-sy2015-16.csv\n",
      "rla-achievement-sch-sy2015-16.csv\n",
      "math-achievement-sch-sy2018-19-wide.csv\n",
      "rla-achievement-sch-sy-2010-11.csv\n",
      "math-achievement-sch-sy2011-12.csv\n",
      "math-achievement-sch-sy2016-17.csv\n",
      "rla-achievement-sch-sy-2011-12.csv\n",
      "rla-achievement-sch-sy2009-10.csv\n",
      "math-achievement-sch-sy2010-11.csv\n",
      "math-achievement-sch-sy2013-14.csv\n",
      "rla-achievement-sch-sy2017-18.csv\n",
      "rla-achievement-sch-sy2014-15.csv\n",
      "rla-achievement-sch-sy2012-13.csv\n"
     ]
    }
   ],
   "source": [
    "os.chdir(\"/home/bb/datasets/\")\n",
    "for root, dirs, files in os.walk('./state_achievement_math_reading/',topdown=False):\n",
    "    for f in files:\n",
    "        print(f)"
   ]
  },
  {
   "cell_type": "code",
   "execution_count": null,
   "metadata": {},
   "outputs": [],
   "source": []
  }
 ],
 "metadata": {
  "kernelspec": {
   "display_name": "Python 3.9.12 ('venv')",
   "language": "python",
   "name": "python3"
  },
  "language_info": {
   "codemirror_mode": {
    "name": "ipython",
    "version": 3
   },
   "file_extension": ".py",
   "mimetype": "text/x-python",
   "name": "python",
   "nbconvert_exporter": "python",
   "pygments_lexer": "ipython3",
   "version": "3.9.12"
  },
  "orig_nbformat": 4,
  "vscode": {
   "interpreter": {
    "hash": "3c763b49a4e9e1724a59991e53401f9a884eb20b0636088ef4cedf965df153b6"
   }
  }
 },
 "nbformat": 4,
 "nbformat_minor": 2
}
