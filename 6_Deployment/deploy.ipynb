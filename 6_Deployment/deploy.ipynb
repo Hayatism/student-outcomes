{
 "cells": [
  {
   "attachments": {},
   "cell_type": "markdown",
   "metadata": {},
   "source": [
    "Deployment prototype for MLPRegressor model"
   ]
  },
  {
   "cell_type": "code",
   "execution_count": 45,
   "metadata": {},
   "outputs": [],
   "source": [
    "import joblib\n",
    "import pandas as pd\n",
    "import matplotlib.pyplot as plt\n",
    "import json\n",
    "from sklearn.pipeline import Pipeline\n",
    "from sklearn.preprocessing import StandardScaler\n",
    "from feature_engine.wrappers import SklearnTransformerWrapper\n",
    "from sklearn.neural_network import MLPRegressor\n",
    "%matplotlib inline\n"
   ]
  },
  {
   "cell_type": "code",
   "execution_count": 46,
   "metadata": {},
   "outputs": [],
   "source": [
    "# Load model\n",
    "# Load training data to get mean,min,max of the feature\n",
    "# Extract feature names\n",
    "# Ask user to input feature values\n",
    "# Generate model prediction\n",
    "\n",
    "model = joblib.load(\"../model_files/deployment_model_mlpr\")\n",
    "df = pd.read_csv(\"../data/dataset_minimal_features_for_modeling.csv\")\n"
   ]
  },
  {
   "attachments": {},
   "cell_type": "markdown",
   "metadata": {},
   "source": [
    "# Feature Definitions\n",
    "* Features derived from pairs of others are left blank\n",
    "* School_Type_1.0                           - school is a regular school\n",
    "* School_Type_4.0                           - other/alternative school\n",
    "* Enrollment Teacher_Ratio2                 -\n",
    "* Highest_Grade_Offered Rla_Pct_Part        - \n",
    "* Rla_Pct_Part                              - percent who took state reading test\n",
    "* Rla_Pct_Part^2                            - \n",
    "* Reduced_Price_Lunch Teacher_Ratio2        - \n",
    "* Teacher_Ratio2                            - # teachers / number of students who could have graduated \n",
    "* Math_Pct_Part Rla_Pct_Part                - \n",
    "* Teacher_Ratio1                            - # teachers / total enrollment in the school\n",
    "* Free_Lunch                                - number of students receiving a free lunch\n",
    "* Civilian_Labor_Force                      - labor force in the school's county\n",
    "* All_Cohort                                - number of students who could have graduated\n",
    "* Enrollment                                - total enrollment in school\n",
    "* Free_Or_Reduced_Price_Lunch               - kids receiving either free or reduced\n",
    "* Teachers_Fte                              - number of teachers\n",
    "* Reduced_Price_Lunch                       - kids receiving reduced price lunch\n",
    "* Math_Pct_Part                             - percent who took state math test\n",
    "* Unemployment_Rate                         - unemployment rate in school's county\n",
    "* Title_I_Status_5.0                        - school eligible for Title I and provides it \n",
    "* Charter_0.0                               - school is NOT a charter school\n",
    "* Urban_Centric_Locale_11.0                 - school is in a large City \n",
    "* Num_Grades                                - number of grades offered at school\n",
    "* Lowest_Grade_Offered                      - lowest grade offered at the school\n",
    "* Virtual_1.0                               - school is virtual\n",
    "* Metro_Or_Not_0.0                          - school is NOT in a metro area\n",
    "* Rural_Urban_Continuum_Code_1.0            - metro in county of 1 million or more people\n",
    "* Title_I_Eligible_1.0                      - eligible for state Title I program\n",
    "* Title_I_Status_6.0                        - school is not eligible for title I or targeted assistance\n",
    "* Urban_Influence_Code_1.0                  - large in metro area with 1 million or more\n",
    "* School_Level_4.0                          - school level designation \"other\"\n",
    "* Urban_Centric_Locale_12.0                 - city, midsize\n",
    "* School_Level_3.0                          - school level designation \"high\"\n",
    "* Virtual_0.0                               - virtual school\n",
    "* School_Type_3.0                           - school is a vocational school"
   ]
  },
  {
   "attachments": {},
   "cell_type": "markdown",
   "metadata": {},
   "source": [
    "# Input features to generate prediction"
   ]
  },
  {
   "cell_type": "code",
   "execution_count": 54,
   "metadata": {},
   "outputs": [],
   "source": [
    "data = {}\n",
    "for feat in model.feature_names_in_:\n",
    "    min_of_feat = df[feat].min()\n",
    "    max_of_feat = df[feat].max()\n",
    "    mean_of_feat = df[feat].mean()\n",
    "    value = input(\"Enter {name} [mean={mean:.2f} min={min:.2f} max={max:.2f}]:\".format(\n",
    "        name=feat, mean=mean_of_feat, min=min_of_feat, max=max_of_feat))\n",
    "    if float(value) < min_of_feat or float(value) > max_of_feat:\n",
    "        print(\"Invalid number entered\")\n",
    "        break\n",
    "    data[feat] = value\n"
   ]
  },
  {
   "cell_type": "code",
   "execution_count": 55,
   "metadata": {},
   "outputs": [
    {
     "data": {
      "text/plain": [
       "array([37.88990384])"
      ]
     },
     "execution_count": 55,
     "metadata": {},
     "output_type": "execute_result"
    }
   ],
   "source": [
    "model.predict(pd.DataFrame([data]))"
   ]
  }
 ],
 "metadata": {
  "kernelspec": {
   "display_name": "gr",
   "language": "python",
   "name": "python3"
  },
  "language_info": {
   "codemirror_mode": {
    "name": "ipython",
    "version": 3
   },
   "file_extension": ".py",
   "mimetype": "text/x-python",
   "name": "python",
   "nbconvert_exporter": "python",
   "pygments_lexer": "ipython3",
   "version": "3.10.8"
  },
  "orig_nbformat": 4,
  "vscode": {
   "interpreter": {
    "hash": "549c01ef91b0db0493ec04e8c4689cf2194cbcc644a4ac4cc32fc527182066dc"
   }
  }
 },
 "nbformat": 4,
 "nbformat_minor": 2
}
